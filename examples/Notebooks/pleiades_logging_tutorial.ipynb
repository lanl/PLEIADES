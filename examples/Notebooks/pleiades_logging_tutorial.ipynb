{
 "cells": [
  {
   "cell_type": "markdown",
   "metadata": {},
   "source": [
    "# PLEIADES Logging System Tutorial\n",
    "\n",
    "This notebook demonstrates how to effectively use the logging system in PLEIADES, which is built on the [Loguru](https://github.com/Delgan/loguru) package.\n",
    "We'll cover the basics of the logging system and how to customize it to suit your needs."
   ]
  },
  {
   "cell_type": "markdown",
   "metadata": {},
   "source": [
    "## 1. Basic Usage: Default Logging\n",
    "\n",
    "PLEIADES automatically sets up a logging system when you import any of its modules. Let's start by importing PLEIADES and seeing the default logging behavior."
   ]
  },
  {
   "cell_type": "code",
   "execution_count": 1,
   "metadata": {},
   "outputs": [],
   "source": [
    "import pleiades\n",
    "\n",
    "# Let's import a module that uses logging\n",
    "from pleiades.nuclear.manager import NuclearDataManager\n",
    "\n",
    "# Create a nuclear data manager, which will log its initialization\n",
    "manager = NuclearDataManager()"
   ]
  },
  {
   "cell_type": "markdown",
   "metadata": {},
   "source": [
    "When you ran the cell above, you should have seen some log output in the cell output. This is because PLEIADES configures a default logger that writes to both the console (stderr) and a log file.\n",
    "\n",
    "By default:\n",
    "- Console logging level is set to DEBUG\n",
    "- Log files are stored in a `pleiades_logs` directory in your current working directory\n",
    "- Log files are named with a timestamp pattern: `pleiades_YYYYMMDD_HH.log`\n",
    "- Log files are rotated when they reach 10 MB and retained for 30 days"
   ]
  },
  {
   "cell_type": "markdown",
   "metadata": {},
   "source": [
    "Let's see what log files have been created:"
   ]
  },
  {
   "cell_type": "code",
   "execution_count": 2,
   "metadata": {},
   "outputs": [
    {
     "data": {
      "text/plain": [
       "[PosixPath('/Users/8cz/github.com/PLEIADES/examples/Notebooks/pleiades_logs/pleiades_20250428_18.log')]"
      ]
     },
     "execution_count": 2,
     "metadata": {},
     "output_type": "execute_result"
    }
   ],
   "source": [
    "import os\n",
    "from pathlib import Path\n",
    "\n",
    "logs_dir = Path(os.getcwd()) / \"pleiades_logs\"\n",
    "list(logs_dir.glob(\"*.log\"))"
   ]
  },
  {
   "cell_type": "markdown",
   "metadata": {},
   "source": [
    "## 2. Using the Logger Directly\n",
    "\n",
    "PLEIADES provides two main ways to use the logging system:\n",
    "\n",
    "1. Using the `loguru_logger` directly with the `bind` method\n",
    "2. Using the `Logger` class for backward compatibility"
   ]
  },
  {
   "cell_type": "code",
   "execution_count": 3,
   "metadata": {},
   "outputs": [
    {
     "name": "stderr",
     "output_type": "stream",
     "text": [
      "\u001b[32m2025-04-28 18:21:23\u001b[0m | \u001b[34m\u001b[1mDEBUG   \u001b[0m | \u001b[36m__main__\u001b[0m:\u001b[36m<module>\u001b[0m:\u001b[36m8\u001b[0m - \u001b[34m\u001b[1mThis is a debug message\u001b[0m\n",
      "\u001b[32m2025-04-28 18:21:23\u001b[0m | \u001b[1mINFO    \u001b[0m | \u001b[36m__main__\u001b[0m:\u001b[36m<module>\u001b[0m:\u001b[36m9\u001b[0m - \u001b[1mThis is an info message\u001b[0m\n",
      "\u001b[32m2025-04-28 18:21:23\u001b[0m | \u001b[33m\u001b[1mWARNING \u001b[0m | \u001b[36m__main__\u001b[0m:\u001b[36m<module>\u001b[0m:\u001b[36m10\u001b[0m - \u001b[33m\u001b[1mThis is a warning message\u001b[0m\n",
      "\u001b[32m2025-04-28 18:21:23\u001b[0m | \u001b[31m\u001b[1mERROR   \u001b[0m | \u001b[36m__main__\u001b[0m:\u001b[36m<module>\u001b[0m:\u001b[36m11\u001b[0m - \u001b[31m\u001b[1mThis is an error message\u001b[0m\n",
      "\u001b[32m2025-04-28 18:21:23\u001b[0m | \u001b[41m\u001b[1mCRITICAL\u001b[0m | \u001b[36m__main__\u001b[0m:\u001b[36m<module>\u001b[0m:\u001b[36m12\u001b[0m - \u001b[41m\u001b[1mThis is a critical message\u001b[0m\n"
     ]
    }
   ],
   "source": [
    "# Method 1: Using loguru_logger directly\n",
    "from pleiades.utils.logger import loguru_logger\n",
    "\n",
    "# Bind a name to the logger - typically the module name\n",
    "logger = loguru_logger.bind(name=\"my_notebook\")\n",
    "\n",
    "# Now we can log messages at different levels\n",
    "logger.debug(\"This is a debug message\")\n",
    "logger.info(\"This is an info message\")\n",
    "logger.warning(\"This is a warning message\")\n",
    "logger.error(\"This is an error message\")\n",
    "logger.critical(\"This is a critical message\")"
   ]
  },
  {
   "cell_type": "code",
   "execution_count": 4,
   "metadata": {},
   "outputs": [
    {
     "name": "stderr",
     "output_type": "stream",
     "text": [
      "\u001b[32m2025-04-28 18:21:23\u001b[0m | \u001b[1mINFO    \u001b[0m | \u001b[36mpleiades.utils.logger\u001b[0m:\u001b[36m__init__\u001b[0m:\u001b[36m145\u001b[0m - \u001b[1mlogging initialized...\u001b[0m\n",
      "\u001b[32m2025-04-28 18:21:23\u001b[0m | \u001b[34m\u001b[1mDEBUG   \u001b[0m | \u001b[36mpleiades.utils.logger\u001b[0m:\u001b[36mdebug\u001b[0m:\u001b[36m154\u001b[0m - \u001b[34m\u001b[1mThis is a debug message from the legacy logger\u001b[0m\n",
      "\u001b[32m2025-04-28 18:21:23\u001b[0m | \u001b[1mINFO    \u001b[0m | \u001b[36mpleiades.utils.logger\u001b[0m:\u001b[36minfo\u001b[0m:\u001b[36m163\u001b[0m - \u001b[1mThis is an info message from the legacy logger\u001b[0m\n",
      "\u001b[32m2025-04-28 18:21:23\u001b[0m | \u001b[33m\u001b[1mWARNING \u001b[0m | \u001b[36mpleiades.utils.logger\u001b[0m:\u001b[36mwarning\u001b[0m:\u001b[36m172\u001b[0m - \u001b[33m\u001b[1mThis is a warning message from the legacy logger\u001b[0m\n",
      "\u001b[32m2025-04-28 18:21:23\u001b[0m | \u001b[31m\u001b[1mERROR   \u001b[0m | \u001b[36mpleiades.utils.logger\u001b[0m:\u001b[36merror\u001b[0m:\u001b[36m181\u001b[0m - \u001b[31m\u001b[1mThis is an error message from the legacy logger\u001b[0m\n",
      "\u001b[32m2025-04-28 18:21:23\u001b[0m | \u001b[41m\u001b[1mCRITICAL\u001b[0m | \u001b[36mpleiades.utils.logger\u001b[0m:\u001b[36mcritical\u001b[0m:\u001b[36m190\u001b[0m - \u001b[41m\u001b[1mThis is a critical message from the legacy logger\u001b[0m\n"
     ]
    }
   ],
   "source": [
    "# Method 2: Using the Logger class (backward-compatible wrapper)\n",
    "from pleiades.utils.logger import Logger\n",
    "\n",
    "# Create a logger with a specific name\n",
    "legacy_logger = Logger(\"legacy_logger\")\n",
    "\n",
    "# Use the same familiar methods\n",
    "legacy_logger.debug(\"This is a debug message from the legacy logger\")\n",
    "legacy_logger.info(\"This is an info message from the legacy logger\")\n",
    "legacy_logger.warning(\"This is a warning message from the legacy logger\")\n",
    "legacy_logger.error(\"This is an error message from the legacy logger\")\n",
    "legacy_logger.critical(\"This is a critical message from the legacy logger\")"
   ]
  },
  {
   "cell_type": "markdown",
   "metadata": {},
   "source": [
    "## 3. Configuring the Logging System\n",
    "\n",
    "PLEIADES provides a `configure_logger` function that allows you to customize the logging behavior. Let's see how to use it."
   ]
  },
  {
   "cell_type": "code",
   "execution_count": 5,
   "metadata": {},
   "outputs": [
    {
     "name": "stderr",
     "output_type": "stream",
     "text": [
      "\u001b[32m2025-04-28 18:21:23\u001b[0m | \u001b[1mINFO    \u001b[0m | \u001b[36mpleiades.utils.logger\u001b[0m:\u001b[36mconfigure_logger\u001b[0m:\u001b[36m103\u001b[0m - \u001b[1mLogging configured. Log file: /Users/8cz/github.com/PLEIADES/examples/Notebooks/pleiades_logs/my_custom_log.log\u001b[0m\n"
     ]
    }
   ],
   "source": [
    "from pleiades.utils.logger import configure_logger\n",
    "\n",
    "# Configure the logger to show only INFO and above messages to the console\n",
    "# and add a custom log file\n",
    "configure_logger(\n",
    "    console_level=\"INFO\",  # Show only INFO and above to console\n",
    "    file_level=\"DEBUG\",    # Still log all DEBUG and above to file\n",
    "    log_file=\"my_custom_log.log\"  # Use a custom log file\n",
    ")"
   ]
  },
  {
   "cell_type": "code",
   "execution_count": 6,
   "metadata": {},
   "outputs": [
    {
     "name": "stderr",
     "output_type": "stream",
     "text": [
      "\u001b[32m2025-04-28 18:21:23\u001b[0m | \u001b[1mINFO    \u001b[0m | \u001b[36m__main__\u001b[0m:\u001b[36m<module>\u001b[0m:\u001b[36m4\u001b[0m - \u001b[1mThis info message will show both in the console and the log file\u001b[0m\n",
      "\u001b[32m2025-04-28 18:21:23\u001b[0m | \u001b[33m\u001b[1mWARNING \u001b[0m | \u001b[36m__main__\u001b[0m:\u001b[36m<module>\u001b[0m:\u001b[36m5\u001b[0m - \u001b[33m\u001b[1mThis warning message will show in both places too\u001b[0m\n"
     ]
    }
   ],
   "source": [
    "# Now let's log some messages to see the effect\n",
    "logger = loguru_logger.bind(name=\"config_test\")\n",
    "logger.debug(\"This debug message won't show in the console, but will be in the log file\")\n",
    "logger.info(\"This info message will show both in the console and the log file\")\n",
    "logger.warning(\"This warning message will show in both places too\")"
   ]
  },
  {
   "cell_type": "markdown",
   "metadata": {},
   "source": [
    "Let's check the content of our custom log file:"
   ]
  },
  {
   "cell_type": "code",
   "execution_count": 7,
   "metadata": {},
   "outputs": [
    {
     "name": "stdout",
     "output_type": "stream",
     "text": [
      "Custom log exists: True\n",
      "Last 10 log entries:\n",
      "2025-04-28 18:21:23 | INFO     | pleiades.utils.logger:configure_logger:103 - Logging configured. Log file: /Users/8cz/github.com/PLEIADES/examples/Notebooks/pleiades_logs/my_custom_log.log\n",
      "2025-04-28 18:21:23 | DEBUG    | __main__:<module>:3 - This debug message won't show in the console, but will be in the log file\n",
      "2025-04-28 18:21:23 | INFO     | __main__:<module>:4 - This info message will show both in the console and the log file\n",
      "2025-04-28 18:21:23 | WARNING  | __main__:<module>:5 - This warning message will show in both places too\n"
     ]
    }
   ],
   "source": [
    "# Check if our custom log file was created in the logs directory\n",
    "custom_log_path = logs_dir / \"my_custom_log.log\"\n",
    "print(f\"Custom log exists: {custom_log_path.exists()}\")\n",
    "\n",
    "# View the last few lines of the log file\n",
    "if custom_log_path.exists():\n",
    "    # Read and print the last 10 lines\n",
    "    with open(custom_log_path, 'r') as f:\n",
    "        lines = f.readlines()\n",
    "        print(\"Last 10 log entries:\")\n",
    "        for line in lines[-10:]:\n",
    "            print(line.strip())"
   ]
  },
  {
   "cell_type": "markdown",
   "metadata": {},
   "source": [
    "## 4. Advanced Configuration\n",
    "\n",
    "Let's explore more advanced configuration options."
   ]
  },
  {
   "cell_type": "code",
   "execution_count": 8,
   "metadata": {},
   "outputs": [
    {
     "name": "stderr",
     "output_type": "stream",
     "text": [
      "2025-04-28 18:21:23 | INFO | pleiades.utils.logger - Logging configured. Log file: /Users/8cz/github.com/PLEIADES/examples/Notebooks/pleiades_logs/advanced_log.log\n"
     ]
    }
   ],
   "source": [
    "# Configure with custom rotation and retention policies\n",
    "configure_logger(\n",
    "    console_level=\"INFO\",\n",
    "    file_level=\"DEBUG\",\n",
    "    log_file=\"advanced_log.log\",\n",
    "    rotation=\"1 day\",     # Rotate log files daily\n",
    "    retention=\"1 week\",   # Keep logs for one week\n",
    "    format_string=\"{time:YYYY-MM-DD HH:mm:ss} | {level} | {name} - {message}\"  # Custom format\n",
    ")"
   ]
  },
  {
   "cell_type": "code",
   "execution_count": 9,
   "metadata": {},
   "outputs": [
    {
     "name": "stderr",
     "output_type": "stream",
     "text": [
      "2025-04-28 18:21:23 | INFO | __main__ - This message uses the custom format\n",
      "2025-04-28 18:21:23 | WARNING | __main__ - Another message with custom format\n"
     ]
    }
   ],
   "source": [
    "# Let's log some messages with our new configuration\n",
    "logger = loguru_logger.bind(name=\"advanced_config\")\n",
    "logger.info(\"This message uses the custom format\")\n",
    "logger.warning(\"Another message with custom format\")"
   ]
  },
  {
   "cell_type": "markdown",
   "metadata": {},
   "source": [
    "## 5. Creating Module-Specific Loggers\n",
    "\n",
    "In larger applications or scripts, it's a good practice to create dedicated loggers for different modules. This helps with organization and filtering."
   ]
  },
  {
   "cell_type": "code",
   "execution_count": 10,
   "metadata": {},
   "outputs": [
    {
     "name": "stderr",
     "output_type": "stream",
     "text": [
      "2025-04-28 18:21:23 | INFO | __main__ - Loading data files...\n",
      "2025-04-28 18:21:23 | INFO | __main__ - Performing analysis on loaded data\n",
      "2025-04-28 18:21:23 | INFO | __main__ - Displaying results to user\n",
      "2025-04-28 18:21:23 | ERROR | __main__ - Failed to load data file: file_xyz.dat\n"
     ]
    }
   ],
   "source": [
    "# Let's create loggers for different components of our application\n",
    "data_logger = loguru_logger.bind(name=\"data_processing\")\n",
    "analysis_logger = loguru_logger.bind(name=\"data_analysis\")\n",
    "ui_logger = loguru_logger.bind(name=\"user_interface\")\n",
    "\n",
    "# Now we can log from different components\n",
    "data_logger.info(\"Loading data files...\")\n",
    "analysis_logger.info(\"Performing analysis on loaded data\")\n",
    "ui_logger.info(\"Displaying results to user\")\n",
    "\n",
    "# If an error occurs in a specific component\n",
    "data_logger.error(\"Failed to load data file: file_xyz.dat\")\n",
    "\n",
    "# The errors are clearly associated with the specific component"
   ]
  },
  {
   "cell_type": "markdown",
   "metadata": {},
   "source": [
    "## 6. Creating Class-Based Loggers\n",
    "\n",
    "For object-oriented code, you might want to have a logger per class instance. Let's see how to do that."
   ]
  },
  {
   "cell_type": "code",
   "execution_count": 11,
   "metadata": {},
   "outputs": [
    {
     "name": "stderr",
     "output_type": "stream",
     "text": [
      "2025-04-28 18:21:23 | INFO | __main__ - Processing 5 data points\n",
      "2025-04-28 18:21:23 | INFO | __main__ - Finished processing\n",
      "2025-04-28 18:21:23 | INFO | __main__ - Processing 3 data points\n",
      "2025-04-28 18:21:23 | INFO | __main__ - Finished processing\n"
     ]
    },
    {
     "data": {
      "text/plain": [
       "[10, 20, 30]"
      ]
     },
     "execution_count": 11,
     "metadata": {},
     "output_type": "execute_result"
    }
   ],
   "source": [
    "class DataProcessor:\n",
    "    def __init__(self, name):\n",
    "        self.name = name\n",
    "        # Create a logger with both the class name and instance name\n",
    "        self.logger = loguru_logger.bind(name=f\"{self.__class__.__name__}.{name}\")\n",
    "    \n",
    "    def process(self, data):\n",
    "        self.logger.info(f\"Processing {len(data)} data points\")\n",
    "        # Process data...\n",
    "        self.logger.info(f\"Finished processing\")\n",
    "        return data\n",
    "\n",
    "# Create multiple instances, each with their own logger name\n",
    "processor1 = DataProcessor(\"neutron_data\")\n",
    "processor2 = DataProcessor(\"gamma_data\")\n",
    "\n",
    "# Now when they log, we can distinguish between them\n",
    "processor1.process([1, 2, 3, 4, 5])\n",
    "processor2.process([10, 20, 30])"
   ]
  },
  {
   "cell_type": "markdown",
   "metadata": {},
   "source": [
    "## 7. Practical Example: Tracking Operations in a PLEIADES Workflow\n",
    "\n",
    "Let's put everything together in a practical example that demonstrates how logging can help track operations in a PLEIADES workflow."
   ]
  },
  {
   "cell_type": "code",
   "execution_count": 12,
   "metadata": {},
   "outputs": [
    {
     "name": "stderr",
     "output_type": "stream",
     "text": [
      "\u001b[32m2025-04-28 18:21:23\u001b[0m | \u001b[1mINFO    \u001b[0m | \u001b[36mpleiades.utils.logger\u001b[0m:\u001b[36mconfigure_logger\u001b[0m:\u001b[36m103\u001b[0m - \u001b[1mLogging configured. Log file: /Users/8cz/github.com/PLEIADES/examples/Notebooks/pleiades_logs/workflow_example.log\u001b[0m\n",
      "\u001b[32m2025-04-28 18:21:23\u001b[0m | \u001b[1mINFO    \u001b[0m | \u001b[36m__main__\u001b[0m:\u001b[36m<module>\u001b[0m:\u001b[36m9\u001b[0m - \u001b[1mStarting example workflow\u001b[0m\n"
     ]
    }
   ],
   "source": [
    "# Configure logging for our workflow\n",
    "configure_logger(\n",
    "    console_level=\"INFO\",\n",
    "    file_level=\"DEBUG\",\n",
    "    log_file=\"workflow_example.log\"\n",
    ")\n",
    "\n",
    "workflow_logger = loguru_logger.bind(name=\"workflow.example\")\n",
    "workflow_logger.info(\"Starting example workflow\")"
   ]
  },
  {
   "cell_type": "code",
   "execution_count": 13,
   "metadata": {},
   "outputs": [
    {
     "name": "stderr",
     "output_type": "stream",
     "text": [
      "\u001b[32m2025-04-28 18:21:23\u001b[0m | \u001b[1mINFO    \u001b[0m | \u001b[36m__main__\u001b[0m:\u001b[36m<module>\u001b[0m:\u001b[36m6\u001b[0m - \u001b[1mInitializing managers...\u001b[0m\n",
      "\u001b[32m2025-04-28 18:21:23\u001b[0m | \u001b[1mINFO    \u001b[0m | \u001b[36m__main__\u001b[0m:\u001b[36m<module>\u001b[0m:\u001b[36m12\u001b[0m - \u001b[1mLooking up isotope: Si-28\u001b[0m\n",
      "\u001b[32m2025-04-28 18:21:23\u001b[0m | \u001b[1mINFO    \u001b[0m | \u001b[36m__main__\u001b[0m:\u001b[36m<module>\u001b[0m:\u001b[36m14\u001b[0m - \u001b[1mFound isotope: IsotopeInfo class for: Si-28\u001b[0m\n",
      "\u001b[32m2025-04-28 18:21:23\u001b[0m | \u001b[1mINFO    \u001b[0m | \u001b[36m__main__\u001b[0m:\u001b[36m<module>\u001b[0m:\u001b[36m17\u001b[0m - \u001b[1mCreating isotope parameters\u001b[0m\n",
      "\u001b[32m2025-04-28 18:21:23\u001b[0m | \u001b[1mINFO    \u001b[0m | \u001b[36m__main__\u001b[0m:\u001b[36m<module>\u001b[0m:\u001b[36m19\u001b[0m - \u001b[1mCreated parameters with library: EndfLibrary.ENDF_B_VIII_0\u001b[0m\n",
      "\u001b[32m2025-04-28 18:21:23\u001b[0m | \u001b[1mINFO    \u001b[0m | \u001b[36m__main__\u001b[0m:\u001b[36m<module>\u001b[0m:\u001b[36m23\u001b[0m - \u001b[1mWould download ENDF data here...\u001b[0m\n",
      "\u001b[32m2025-04-28 18:21:23\u001b[0m | \u001b[1mINFO    \u001b[0m | \u001b[36m__main__\u001b[0m:\u001b[36m<module>\u001b[0m:\u001b[36m31\u001b[0m - \u001b[1mWorkflow completed successfully\u001b[0m\n"
     ]
    },
    {
     "name": "stdout",
     "output_type": "stream",
     "text": [
      "Searching for mass.mas20 in cached files for FileCategory.ISOTOPES: {PosixPath('/Users/8cz/github.com/PLEIADES/src/pleiades/nuclear/isotopes/files/neutrons.list'), PosixPath('/Users/8cz/github.com/PLEIADES/src/pleiades/nuclear/isotopes/files/isotopes.info'), PosixPath('/Users/8cz/github.com/PLEIADES/src/pleiades/nuclear/isotopes/files/mass.mas20')}\n",
      "Checking file: neutrons.list\n",
      "Checking file: isotopes.info\n",
      "Checking file: mass.mas20\n",
      "Found file: /Users/8cz/github.com/PLEIADES/src/pleiades/nuclear/isotopes/files/mass.mas20\n",
      "Searching for isotopes.info in cached files for FileCategory.ISOTOPES: {PosixPath('/Users/8cz/github.com/PLEIADES/src/pleiades/nuclear/isotopes/files/neutrons.list'), PosixPath('/Users/8cz/github.com/PLEIADES/src/pleiades/nuclear/isotopes/files/isotopes.info'), PosixPath('/Users/8cz/github.com/PLEIADES/src/pleiades/nuclear/isotopes/files/mass.mas20')}\n",
      "Checking file: neutrons.list\n",
      "Checking file: isotopes.info\n",
      "Found file: /Users/8cz/github.com/PLEIADES/src/pleiades/nuclear/isotopes/files/isotopes.info\n",
      "Searching for neutrons.list in cached files for FileCategory.ISOTOPES: {PosixPath('/Users/8cz/github.com/PLEIADES/src/pleiades/nuclear/isotopes/files/neutrons.list'), PosixPath('/Users/8cz/github.com/PLEIADES/src/pleiades/nuclear/isotopes/files/isotopes.info'), PosixPath('/Users/8cz/github.com/PLEIADES/src/pleiades/nuclear/isotopes/files/mass.mas20')}\n",
      "Checking file: neutrons.list\n",
      "Found file: /Users/8cz/github.com/PLEIADES/src/pleiades/nuclear/isotopes/files/neutrons.list\n"
     ]
    }
   ],
   "source": [
    "# Import required modules\n",
    "from pleiades.nuclear.manager import NuclearDataManager\n",
    "from pleiades.nuclear.isotopes.manager import IsotopeManager\n",
    "\n",
    "# Initialize managers\n",
    "workflow_logger.info(\"Initializing managers...\")\n",
    "isotope_manager = IsotopeManager()\n",
    "nuclear_manager = NuclearDataManager(isotope_manager=isotope_manager)\n",
    "\n",
    "# Get information about an isotope\n",
    "try:\n",
    "    workflow_logger.info(\"Looking up isotope: Si-28\")\n",
    "    isotope_info = isotope_manager.get_isotope_info(\"Si-28\")\n",
    "    workflow_logger.info(f\"Found isotope: {isotope_info}\")\n",
    "    \n",
    "    # Create isotope parameters\n",
    "    workflow_logger.info(\"Creating isotope parameters\")\n",
    "    isotope_params = nuclear_manager.create_isotope_parameters_from_string(\"Si-28\")\n",
    "    workflow_logger.info(f\"Created parameters with library: {isotope_params.endf_library}\")\n",
    "    \n",
    "    # This would download data in a real application\n",
    "    # We'll just simulate it here to avoid making actual downloads\n",
    "    workflow_logger.info(\"Would download ENDF data here...\")\n",
    "    \n",
    "except Exception as e:\n",
    "    workflow_logger.error(f\"Workflow failed: {str(e)}\")\n",
    "    # In a real application, you might want to log the full traceback\n",
    "    import traceback\n",
    "    workflow_logger.error(f\"Traceback: {traceback.format_exc()}\")\n",
    "else:\n",
    "    workflow_logger.info(\"Workflow completed successfully\")"
   ]
  },
  {
   "cell_type": "markdown",
   "metadata": {},
   "source": [
    "## 8. Summary\n",
    "\n",
    "In this tutorial, we've covered:\n",
    "\n",
    "1. **Basic logging** with PLEIADES' default configuration\n",
    "2. **Different ways to use the logger**:\n",
    "   - Using `loguru_logger` directly with the `bind` method\n",
    "   - Using the backwards-compatible `Logger` class\n",
    "3. **Custom configuration** with `configure_logger`\n",
    "4. **Advanced configuration** options like custom formats and rotation policies\n",
    "5. **Module-specific loggers** for better organization\n",
    "6. **Class-based loggers** for object-oriented code\n",
    "7. **A practical workflow example**\n",
    "\n",
    "The PLEIADES logging system, built on Loguru, provides a flexible and powerful way to track operations, debug issues, and maintain a record of your application's behavior. By properly utilizing the logging system, you can make your code more maintainable and easier to troubleshoot."
   ]
  },
  {
   "cell_type": "markdown",
   "metadata": {},
   "source": []
  }
 ],
 "metadata": {
  "kernelspec": {
   "display_name": "default",
   "language": "python",
   "name": "python3"
  },
  "language_info": {
   "codemirror_mode": {
    "name": "ipython",
    "version": 3
   },
   "file_extension": ".py",
   "mimetype": "text/x-python",
   "name": "python",
   "nbconvert_exporter": "python",
   "pygments_lexer": "ipython3",
   "version": "3.11.12"
  }
 },
 "nbformat": 4,
 "nbformat_minor": 4
}
