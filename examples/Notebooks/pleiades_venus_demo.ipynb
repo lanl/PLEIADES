{
 "cells": [
  {
   "cell_type": "code",
   "execution_count": 1,
   "id": "ce9b367c",
   "metadata": {},
   "outputs": [],
   "source": [
    "import os\n",
    "import numpy as np\n",
    "import matplotlib.pyplot as plt\n",
    "from pathlib import Path"
   ]
  },
  {
   "cell_type": "markdown",
   "id": "8fd9a91c",
   "metadata": {},
   "source": [
    "## Pre-process Raw Data into Transmission Spectra"
   ]
  },
  {
   "cell_type": "code",
   "execution_count": 2,
   "id": "9e8d58c6",
   "metadata": {},
   "outputs": [],
   "source": [
    "# VENUS IPTS-35945 paths\n",
    "ipts_path = \"/SNS/VENUS/IPTS-35945\"\n",
    "nexus_path = f\"{ipts_path}/nexus\"\n",
    "autoreduce_base = f\"{ipts_path}/shared/autoreduce/mcp/images\"\n",
    "\n",
    "# Working directory for output\n",
    "working_dir = \"./ipts_35945\"\n",
    "os.makedirs(working_dir, exist_ok=True)\n",
    "spectra_dir = f\"{working_dir}/spectra\"\n",
    "os.makedirs(spectra_dir, exist_ok=True)\n",
    "twenty_dir = f\"{working_dir}/twenty\"\n",
    "os.makedirs(twenty_dir, exist_ok=True)"
   ]
  },
  {
   "cell_type": "code",
   "execution_count": 3,
   "id": "0ce164f3",
   "metadata": {},
   "outputs": [
    {
     "name": "stderr",
     "output_type": "stream",
     "text": [
      "olefile module not found\n",
      "/SNS/users/8cz/github.com/PLEIADES/.pixi/envs/default/lib/python3.11/site-packages/dxchange/__init__.py:63: UserWarning: pkg_resources is deprecated as an API. See https://setuptools.pypa.io/en/latest/pkg_resources.html. The pkg_resources package is slated for removal as early as 2025-11-30. Refrain from using this package or pin to Setuptools<81.\n",
      "  import pkg_resources\n",
      "\u001b[32m2025-09-11 12:52:56\u001b[0m | \u001b[1mINFO    \u001b[0m | \u001b[36mpleiades.processing.normalization\u001b[0m:\u001b[36mnormalization\u001b[0m:\u001b[36m270\u001b[0m - \u001b[1mStarting normalization process...\u001b[0m\n",
      "\u001b[32m2025-09-11 12:52:56\u001b[0m | \u001b[1mINFO    \u001b[0m | \u001b[36mpleiades.processing.normalization\u001b[0m:\u001b[36mnormalization\u001b[0m:\u001b[36m271\u001b[0m - \u001b[1m##############################\u001b[0m\n",
      "\u001b[32m2025-09-11 12:52:56\u001b[0m | \u001b[1mINFO    \u001b[0m | \u001b[36mpleiades.processing.normalization\u001b[0m:\u001b[36mnormalization\u001b[0m:\u001b[36m272\u001b[0m - \u001b[1m\tSample folders: ['/SNS/VENUS/IPTS-35945/shared/autoreduce/mcp/images/Run_8022', '/SNS/VENUS/IPTS-35945/shared/autoreduce/mcp/images/Run_8023', '/SNS/VENUS/IPTS-35945/shared/autoreduce/mcp/images/Run_8024', '/SNS/VENUS/IPTS-35945/shared/autoreduce/mcp/images/Run_8025', '/SNS/VENUS/IPTS-35945/shared/autoreduce/mcp/images/Run_8026', '/SNS/VENUS/IPTS-35945/shared/autoreduce/mcp/images/Run_8027']\u001b[0m\n",
      "\u001b[32m2025-09-11 12:52:56\u001b[0m | \u001b[1mINFO    \u001b[0m | \u001b[36mpleiades.processing.normalization\u001b[0m:\u001b[36mnormalization\u001b[0m:\u001b[36m273\u001b[0m - \u001b[1m\tOpen beam folders: ['/SNS/VENUS/IPTS-35945/shared/autoreduce/mcp/images/Run_8021']\u001b[0m\n",
      "\u001b[32m2025-09-11 12:52:56\u001b[0m | \u001b[1mINFO    \u001b[0m | \u001b[36mpleiades.processing.normalization\u001b[0m:\u001b[36mnormalization\u001b[0m:\u001b[36m274\u001b[0m - \u001b[1m\tnexus path: /SNS/VENUS/IPTS-35945/nexus\u001b[0m\n",
      "\u001b[32m2025-09-11 12:52:56\u001b[0m | \u001b[1mINFO    \u001b[0m | \u001b[36mpleiades.processing.normalization\u001b[0m:\u001b[36mnormalization\u001b[0m:\u001b[36m275\u001b[0m - \u001b[1m\tBackground ROI: None\u001b[0m\n",
      "\u001b[32m2025-09-11 12:52:56\u001b[0m | \u001b[1mINFO    \u001b[0m | \u001b[36mpleiades.processing.normalization\u001b[0m:\u001b[36mnormalization\u001b[0m:\u001b[36m276\u001b[0m - \u001b[1m\tCrop ROI: None\u001b[0m\n",
      "\u001b[32m2025-09-11 12:52:56\u001b[0m | \u001b[1mINFO    \u001b[0m | \u001b[36mpleiades.processing.normalization\u001b[0m:\u001b[36mnormalization\u001b[0m:\u001b[36m277\u001b[0m - \u001b[1m\tTimepix: True\u001b[0m\n",
      "\u001b[32m2025-09-11 12:52:56\u001b[0m | \u001b[1mINFO    \u001b[0m | \u001b[36mpleiades.processing.normalization\u001b[0m:\u001b[36mnormalization\u001b[0m:\u001b[36m278\u001b[0m - \u001b[1m\tPixel binning: 1\u001b[0m\n",
      "\u001b[32m2025-09-11 12:52:56\u001b[0m | \u001b[1mINFO    \u001b[0m | \u001b[36mpleiades.processing.normalization\u001b[0m:\u001b[36mnormalization\u001b[0m:\u001b[36m279\u001b[0m - \u001b[1m\tRemove outliers flag: False\u001b[0m\n",
      "\u001b[32m2025-09-11 12:52:56\u001b[0m | \u001b[1mINFO    \u001b[0m | \u001b[36mpleiades.processing.normalization\u001b[0m:\u001b[36mnormalization\u001b[0m:\u001b[36m280\u001b[0m - \u001b[1m\tRolling average: False\u001b[0m\n",
      "\u001b[32m2025-09-11 12:52:56\u001b[0m | \u001b[1mINFO    \u001b[0m | \u001b[36mpleiades.processing.normalization\u001b[0m:\u001b[36mnormalization\u001b[0m:\u001b[36m281\u001b[0m - \u001b[1m\tDistance source to detector (m): 25\u001b[0m\n",
      "\u001b[32m2025-09-11 12:52:56\u001b[0m | \u001b[1mINFO    \u001b[0m | \u001b[36mpleiades.processing.normalization\u001b[0m:\u001b[36mnormalization\u001b[0m:\u001b[36m282\u001b[0m - \u001b[1m\tDetector offset (micros): 0\u001b[0m\n",
      "\u001b[32m2025-09-11 12:52:56\u001b[0m | \u001b[1mINFO    \u001b[0m | \u001b[36mpleiades.processing.normalization\u001b[0m:\u001b[36mnormalization\u001b[0m:\u001b[36m283\u001b[0m - \u001b[1m\tOutput folder: ./ipts_35945/spectra\u001b[0m\n",
      "\u001b[32m2025-09-11 12:52:56\u001b[0m | \u001b[1mINFO    \u001b[0m | \u001b[36mpleiades.processing.normalization\u001b[0m:\u001b[36mnormalization\u001b[0m:\u001b[36m284\u001b[0m - \u001b[1m\tOutput numpy: True\u001b[0m\n",
      "\u001b[32m2025-09-11 12:52:56\u001b[0m | \u001b[1mINFO    \u001b[0m | \u001b[36mpleiades.processing.normalization\u001b[0m:\u001b[36mnormalization\u001b[0m:\u001b[36m285\u001b[0m - \u001b[1m\tNumber of threads: 16\u001b[0m\n",
      "\u001b[32m2025-09-11 12:52:56\u001b[0m | \u001b[1mINFO    \u001b[0m | \u001b[36mpleiades.processing.normalization\u001b[0m:\u001b[36mnormalization\u001b[0m:\u001b[36m286\u001b[0m - \u001b[1m\tFacility: ornl\u001b[0m\n",
      "\u001b[32m2025-09-11 12:52:56\u001b[0m | \u001b[1mINFO    \u001b[0m | \u001b[36mpleiades.processing.normalization\u001b[0m:\u001b[36mnormalization\u001b[0m:\u001b[36m287\u001b[0m - \u001b[1m##############################\u001b[0m\n",
      "\u001b[32m2025-09-11 12:52:56\u001b[0m | \u001b[1mINFO    \u001b[0m | \u001b[36mpleiades.utils.timepix\u001b[0m:\u001b[36mupdate_with_nexus_files\u001b[0m:\u001b[36m167\u001b[0m - \u001b[1mUpdating sample master dictionary with nexus files\u001b[0m\n",
      "\u001b[32m2025-09-11 12:52:56\u001b[0m | \u001b[1mINFO    \u001b[0m | \u001b[36mpleiades.utils.timepix\u001b[0m:\u001b[36mupdate_with_nexus_files\u001b[0m:\u001b[36m167\u001b[0m - \u001b[1mUpdating ob master dictionary with nexus files\u001b[0m\n",
      "\u001b[32m2025-09-11 12:52:56\u001b[0m | \u001b[1mINFO    \u001b[0m | \u001b[36mpleiades.processing.normalization_handler\u001b[0m:\u001b[36mupdate_with_list_of_files\u001b[0m:\u001b[36m73\u001b[0m - \u001b[1mUpdating sample master dictionary with list of files\u001b[0m\n",
      "\u001b[32m2025-09-11 12:52:56\u001b[0m | \u001b[1mINFO    \u001b[0m | \u001b[36mpleiades.processing.normalization_handler\u001b[0m:\u001b[36mupdate_with_list_of_files\u001b[0m:\u001b[36m78\u001b[0m - \u001b[1mFound 4367 files in /SNS/VENUS/IPTS-35945/shared/autoreduce/mcp/images/Run_8022 with extension .tif\u001b[0m\n",
      "\u001b[32m2025-09-11 12:52:56\u001b[0m | \u001b[1mINFO    \u001b[0m | \u001b[36mpleiades.processing.normalization_handler\u001b[0m:\u001b[36mupdate_with_list_of_files\u001b[0m:\u001b[36m78\u001b[0m - \u001b[1mFound 4367 files in /SNS/VENUS/IPTS-35945/shared/autoreduce/mcp/images/Run_8023 with extension .tif\u001b[0m\n",
      "\u001b[32m2025-09-11 12:52:56\u001b[0m | \u001b[1mINFO    \u001b[0m | \u001b[36mpleiades.processing.normalization_handler\u001b[0m:\u001b[36mupdate_with_list_of_files\u001b[0m:\u001b[36m78\u001b[0m - \u001b[1mFound 4367 files in /SNS/VENUS/IPTS-35945/shared/autoreduce/mcp/images/Run_8024 with extension .tif\u001b[0m\n",
      "\u001b[32m2025-09-11 12:52:56\u001b[0m | \u001b[1mINFO    \u001b[0m | \u001b[36mpleiades.processing.normalization_handler\u001b[0m:\u001b[36mupdate_with_list_of_files\u001b[0m:\u001b[36m78\u001b[0m - \u001b[1mFound 4367 files in /SNS/VENUS/IPTS-35945/shared/autoreduce/mcp/images/Run_8025 with extension .tif\u001b[0m\n",
      "\u001b[32m2025-09-11 12:52:56\u001b[0m | \u001b[1mINFO    \u001b[0m | \u001b[36mpleiades.processing.normalization_handler\u001b[0m:\u001b[36mupdate_with_list_of_files\u001b[0m:\u001b[36m78\u001b[0m - \u001b[1mFound 4367 files in /SNS/VENUS/IPTS-35945/shared/autoreduce/mcp/images/Run_8026 with extension .tif\u001b[0m\n",
      "\u001b[32m2025-09-11 12:52:56\u001b[0m | \u001b[1mINFO    \u001b[0m | \u001b[36mpleiades.processing.normalization_handler\u001b[0m:\u001b[36mupdate_with_list_of_files\u001b[0m:\u001b[36m78\u001b[0m - \u001b[1mFound 4367 files in /SNS/VENUS/IPTS-35945/shared/autoreduce/mcp/images/Run_8027 with extension .tif\u001b[0m\n",
      "\u001b[32m2025-09-11 12:52:56\u001b[0m | \u001b[1mINFO    \u001b[0m | \u001b[36mpleiades.processing.normalization_handler\u001b[0m:\u001b[36mupdate_with_list_of_files\u001b[0m:\u001b[36m73\u001b[0m - \u001b[1mUpdating ob master dictionary with list of files\u001b[0m\n",
      "\u001b[32m2025-09-11 12:52:56\u001b[0m | \u001b[1mINFO    \u001b[0m | \u001b[36mpleiades.processing.normalization_handler\u001b[0m:\u001b[36mupdate_with_list_of_files\u001b[0m:\u001b[36m78\u001b[0m - \u001b[1mFound 4367 files in /SNS/VENUS/IPTS-35945/shared/autoreduce/mcp/images/Run_8021 with extension .tif\u001b[0m\n",
      "\u001b[32m2025-09-11 12:52:56\u001b[0m | \u001b[1mINFO    \u001b[0m | \u001b[36mpleiades.utils.timepix\u001b[0m:\u001b[36mupdate_with_proton_charge\u001b[0m:\u001b[36m253\u001b[0m - \u001b[1mUpdating sample master dictionary with proton charge values\u001b[0m\n",
      "\u001b[32m2025-09-11 12:52:57\u001b[0m | \u001b[1mINFO    \u001b[0m | \u001b[36mpleiades.utils.timepix\u001b[0m:\u001b[36mupdate_with_proton_charge\u001b[0m:\u001b[36m253\u001b[0m - \u001b[1mUpdating ob master dictionary with proton charge values\u001b[0m\n",
      "\u001b[32m2025-09-11 12:52:57\u001b[0m | \u001b[1mINFO    \u001b[0m | \u001b[36mpleiades.utils.timepix\u001b[0m:\u001b[36mupdate_with_shutter_counts_at_ornl\u001b[0m:\u001b[36m367\u001b[0m - \u001b[1mUpdating sample master dictionary with shutter counts\u001b[0m\n",
      "\u001b[32m2025-09-11 12:52:57\u001b[0m | \u001b[1mINFO    \u001b[0m | \u001b[36mpleiades.utils.timepix\u001b[0m:\u001b[36mupdate_with_shutter_counts_at_ornl\u001b[0m:\u001b[36m370\u001b[0m - \u001b[1m\tUpdating shutter counts for /SNS/VENUS/IPTS-35945/shared/autoreduce/mcp/images/Run_8022\u001b[0m\n",
      "\u001b[32m2025-09-11 12:52:57\u001b[0m | \u001b[1mINFO    \u001b[0m | \u001b[36mpleiades.utils.timepix\u001b[0m:\u001b[36mupdate_with_shutter_counts_at_ornl\u001b[0m:\u001b[36m386\u001b[0m - \u001b[1m\tShutter counts: [69360.0]\u001b[0m\n",
      "\u001b[32m2025-09-11 12:52:57\u001b[0m | \u001b[1mINFO    \u001b[0m | \u001b[36mpleiades.utils.timepix\u001b[0m:\u001b[36mupdate_with_shutter_counts_at_ornl\u001b[0m:\u001b[36m370\u001b[0m - \u001b[1m\tUpdating shutter counts for /SNS/VENUS/IPTS-35945/shared/autoreduce/mcp/images/Run_8023\u001b[0m\n",
      "\u001b[32m2025-09-11 12:52:57\u001b[0m | \u001b[1mINFO    \u001b[0m | \u001b[36mpleiades.utils.timepix\u001b[0m:\u001b[36mupdate_with_shutter_counts_at_ornl\u001b[0m:\u001b[36m386\u001b[0m - \u001b[1m\tShutter counts: [69480.0]\u001b[0m\n",
      "\u001b[32m2025-09-11 12:52:57\u001b[0m | \u001b[1mINFO    \u001b[0m | \u001b[36mpleiades.utils.timepix\u001b[0m:\u001b[36mupdate_with_shutter_counts_at_ornl\u001b[0m:\u001b[36m370\u001b[0m - \u001b[1m\tUpdating shutter counts for /SNS/VENUS/IPTS-35945/shared/autoreduce/mcp/images/Run_8024\u001b[0m\n",
      "\u001b[32m2025-09-11 12:52:57\u001b[0m | \u001b[1mINFO    \u001b[0m | \u001b[36mpleiades.utils.timepix\u001b[0m:\u001b[36mupdate_with_shutter_counts_at_ornl\u001b[0m:\u001b[36m386\u001b[0m - \u001b[1m\tShutter counts: [69300.0]\u001b[0m\n",
      "\u001b[32m2025-09-11 12:52:57\u001b[0m | \u001b[1mINFO    \u001b[0m | \u001b[36mpleiades.utils.timepix\u001b[0m:\u001b[36mupdate_with_shutter_counts_at_ornl\u001b[0m:\u001b[36m370\u001b[0m - \u001b[1m\tUpdating shutter counts for /SNS/VENUS/IPTS-35945/shared/autoreduce/mcp/images/Run_8025\u001b[0m\n",
      "\u001b[32m2025-09-11 12:52:57\u001b[0m | \u001b[1mINFO    \u001b[0m | \u001b[36mpleiades.utils.timepix\u001b[0m:\u001b[36mupdate_with_shutter_counts_at_ornl\u001b[0m:\u001b[36m386\u001b[0m - \u001b[1m\tShutter counts: [69180.0]\u001b[0m\n",
      "\u001b[32m2025-09-11 12:52:57\u001b[0m | \u001b[1mINFO    \u001b[0m | \u001b[36mpleiades.utils.timepix\u001b[0m:\u001b[36mupdate_with_shutter_counts_at_ornl\u001b[0m:\u001b[36m370\u001b[0m - \u001b[1m\tUpdating shutter counts for /SNS/VENUS/IPTS-35945/shared/autoreduce/mcp/images/Run_8026\u001b[0m\n",
      "\u001b[32m2025-09-11 12:52:57\u001b[0m | \u001b[1mINFO    \u001b[0m | \u001b[36mpleiades.utils.timepix\u001b[0m:\u001b[36mupdate_with_shutter_counts_at_ornl\u001b[0m:\u001b[36m386\u001b[0m - \u001b[1m\tShutter counts: [69420.0]\u001b[0m\n",
      "\u001b[32m2025-09-11 12:52:57\u001b[0m | \u001b[1mINFO    \u001b[0m | \u001b[36mpleiades.utils.timepix\u001b[0m:\u001b[36mupdate_with_shutter_counts_at_ornl\u001b[0m:\u001b[36m370\u001b[0m - \u001b[1m\tUpdating shutter counts for /SNS/VENUS/IPTS-35945/shared/autoreduce/mcp/images/Run_8027\u001b[0m\n",
      "\u001b[32m2025-09-11 12:52:57\u001b[0m | \u001b[1mINFO    \u001b[0m | \u001b[36mpleiades.utils.timepix\u001b[0m:\u001b[36mupdate_with_shutter_counts_at_ornl\u001b[0m:\u001b[36m386\u001b[0m - \u001b[1m\tShutter counts: [69480.0]\u001b[0m\n",
      "\u001b[32m2025-09-11 12:52:57\u001b[0m | \u001b[1mINFO    \u001b[0m | \u001b[36mpleiades.utils.timepix\u001b[0m:\u001b[36mupdate_with_shutter_counts_at_ornl\u001b[0m:\u001b[36m367\u001b[0m - \u001b[1mUpdating ob master dictionary with shutter counts\u001b[0m\n",
      "\u001b[32m2025-09-11 12:52:57\u001b[0m | \u001b[1mINFO    \u001b[0m | \u001b[36mpleiades.utils.timepix\u001b[0m:\u001b[36mupdate_with_shutter_counts_at_ornl\u001b[0m:\u001b[36m370\u001b[0m - \u001b[1m\tUpdating shutter counts for /SNS/VENUS/IPTS-35945/shared/autoreduce/mcp/images/Run_8021\u001b[0m\n",
      "\u001b[32m2025-09-11 12:52:57\u001b[0m | \u001b[1mINFO    \u001b[0m | \u001b[36mpleiades.utils.timepix\u001b[0m:\u001b[36mupdate_with_shutter_counts_at_ornl\u001b[0m:\u001b[36m386\u001b[0m - \u001b[1m\tShutter counts: [69360.0]\u001b[0m\n",
      "\u001b[32m2025-09-11 12:52:57\u001b[0m | \u001b[1mINFO    \u001b[0m | \u001b[36mpleiades.utils.timepix\u001b[0m:\u001b[36mupdate_with_spectra_files\u001b[0m:\u001b[36m421\u001b[0m - \u001b[1mUpdating sample master dictionary with spectra files\u001b[0m\n",
      "\u001b[32m2025-09-11 12:52:57\u001b[0m | \u001b[1mINFO    \u001b[0m | \u001b[36mpleiades.utils.timepix\u001b[0m:\u001b[36mupdate_with_spectra_files\u001b[0m:\u001b[36m421\u001b[0m - \u001b[1mUpdating ob master dictionary with spectra files\u001b[0m\n",
      "\u001b[32m2025-09-11 12:52:57\u001b[0m | \u001b[1mINFO    \u001b[0m | \u001b[36mpleiades.utils.timepix\u001b[0m:\u001b[36mupdate_with_shutter_values\u001b[0m:\u001b[36m558\u001b[0m - \u001b[1mUpdating sample master dictionary with shutter values\u001b[0m\n",
      "\u001b[32m2025-09-11 12:52:57\u001b[0m | \u001b[1mINFO    \u001b[0m | \u001b[36mpleiades.utils.timepix\u001b[0m:\u001b[36mupdate_with_shutter_values\u001b[0m:\u001b[36m558\u001b[0m - \u001b[1mUpdating ob master dictionary with shutter values\u001b[0m\n",
      "\u001b[32m2025-09-11 12:52:57\u001b[0m | \u001b[1mINFO    \u001b[0m | \u001b[36mpleiades.processing.normalization_handler\u001b[0m:\u001b[36mupdate_with_data\u001b[0m:\u001b[36m112\u001b[0m - \u001b[1mUpdating sample master dictionary with data\u001b[0m\n",
      "\u001b[32m2025-09-11 12:52:57\u001b[0m | \u001b[1mINFO    \u001b[0m | \u001b[36mpleiades.utils.load\u001b[0m:\u001b[36mload\u001b[0m:\u001b[36m21\u001b[0m - \u001b[1mloading 4367 files with extension .tif\u001b[0m\n",
      "\u001b[32m2025-09-11 12:53:44\u001b[0m | \u001b[1mINFO    \u001b[0m | \u001b[36mpleiades.utils.load\u001b[0m:\u001b[36mload\u001b[0m:\u001b[36m21\u001b[0m - \u001b[1mloading 4367 files with extension .tif\u001b[0m\n",
      "\u001b[32m2025-09-11 12:54:31\u001b[0m | \u001b[1mINFO    \u001b[0m | \u001b[36mpleiades.utils.load\u001b[0m:\u001b[36mload\u001b[0m:\u001b[36m21\u001b[0m - \u001b[1mloading 4367 files with extension .tif\u001b[0m\n",
      "\u001b[32m2025-09-11 12:55:18\u001b[0m | \u001b[1mINFO    \u001b[0m | \u001b[36mpleiades.utils.load\u001b[0m:\u001b[36mload\u001b[0m:\u001b[36m21\u001b[0m - \u001b[1mloading 4367 files with extension .tif\u001b[0m\n",
      "\u001b[32m2025-09-11 12:56:05\u001b[0m | \u001b[1mINFO    \u001b[0m | \u001b[36mpleiades.utils.load\u001b[0m:\u001b[36mload\u001b[0m:\u001b[36m21\u001b[0m - \u001b[1mloading 4367 files with extension .tif\u001b[0m\n",
      "\u001b[32m2025-09-11 12:56:52\u001b[0m | \u001b[1mINFO    \u001b[0m | \u001b[36mpleiades.utils.load\u001b[0m:\u001b[36mload\u001b[0m:\u001b[36m21\u001b[0m - \u001b[1mloading 4367 files with extension .tif\u001b[0m\n",
      "\u001b[32m2025-09-11 12:57:39\u001b[0m | \u001b[1mINFO    \u001b[0m | \u001b[36mpleiades.processing.normalization_handler\u001b[0m:\u001b[36mupdate_with_data\u001b[0m:\u001b[36m112\u001b[0m - \u001b[1mUpdating ob master dictionary with data\u001b[0m\n",
      "\u001b[32m2025-09-11 12:57:39\u001b[0m | \u001b[1mINFO    \u001b[0m | \u001b[36mpleiades.utils.load\u001b[0m:\u001b[36mload\u001b[0m:\u001b[36m21\u001b[0m - \u001b[1mloading 4367 files with extension .tif\u001b[0m\n",
      "\u001b[32m2025-09-11 12:58:26\u001b[0m | \u001b[1mINFO    \u001b[0m | \u001b[36mpleiades.processing.normalization_handler\u001b[0m:\u001b[36mupdate_with_rebin\u001b[0m:\u001b[36m188\u001b[0m - \u001b[1mUpdating sample master dictionary with rebin values 1\u001b[0m\n",
      "\u001b[32m2025-09-11 12:58:26\u001b[0m | \u001b[1mINFO    \u001b[0m | \u001b[36mpleiades.processing.normalization_handler\u001b[0m:\u001b[36mupdate_with_rebin\u001b[0m:\u001b[36m193\u001b[0m - \u001b[1mBinning factor is 1, skipping rebin update\u001b[0m\n",
      "\u001b[32m2025-09-11 12:58:26\u001b[0m | \u001b[1mINFO    \u001b[0m | \u001b[36mpleiades.processing.normalization_handler\u001b[0m:\u001b[36mupdate_with_rebin\u001b[0m:\u001b[36m188\u001b[0m - \u001b[1mUpdating ob master dictionary with rebin values 1\u001b[0m\n",
      "\u001b[32m2025-09-11 12:58:26\u001b[0m | \u001b[1mINFO    \u001b[0m | \u001b[36mpleiades.processing.normalization_handler\u001b[0m:\u001b[36mupdate_with_rebin\u001b[0m:\u001b[36m193\u001b[0m - \u001b[1mBinning factor is 1, skipping rebin update\u001b[0m\n",
      "\u001b[32m2025-09-11 12:58:26\u001b[0m | \u001b[1mINFO    \u001b[0m | \u001b[36mpleiades.processing.normalization_handler\u001b[0m:\u001b[36mremove_outliers\u001b[0m:\u001b[36m237\u001b[0m - \u001b[1mRemoving outliers from sample master dictionary with threshold 20\u001b[0m\n",
      "\u001b[32m2025-09-11 12:58:26\u001b[0m | \u001b[1mINFO    \u001b[0m | \u001b[36mpleiades.utils.image_processing\u001b[0m:\u001b[36mremove_outliers\u001b[0m:\u001b[36m52\u001b[0m - \u001b[1mRemoving outliers from data with shape (4367, 512, 512) using threshold: 20\u001b[0m\n",
      "\u001b[32m2025-09-11 12:58:33\u001b[0m | \u001b[1mINFO    \u001b[0m | \u001b[36mpleiades.utils.image_processing\u001b[0m:\u001b[36mremove_outliers\u001b[0m:\u001b[36m60\u001b[0m - \u001b[1mOutliers removed. Data shape: (4367, 512, 512) and data type: float32\u001b[0m\n",
      "\u001b[32m2025-09-11 12:58:33\u001b[0m | \u001b[1mINFO    \u001b[0m | \u001b[36mpleiades.utils.image_processing\u001b[0m:\u001b[36mremove_outliers\u001b[0m:\u001b[36m52\u001b[0m - \u001b[1mRemoving outliers from data with shape (4367, 512, 512) using threshold: 20\u001b[0m\n",
      "\u001b[32m2025-09-11 12:58:40\u001b[0m | \u001b[1mINFO    \u001b[0m | \u001b[36mpleiades.utils.image_processing\u001b[0m:\u001b[36mremove_outliers\u001b[0m:\u001b[36m60\u001b[0m - \u001b[1mOutliers removed. Data shape: (4367, 512, 512) and data type: float32\u001b[0m\n",
      "\u001b[32m2025-09-11 12:58:40\u001b[0m | \u001b[1mINFO    \u001b[0m | \u001b[36mpleiades.utils.image_processing\u001b[0m:\u001b[36mremove_outliers\u001b[0m:\u001b[36m52\u001b[0m - \u001b[1mRemoving outliers from data with shape (4367, 512, 512) using threshold: 20\u001b[0m\n",
      "\u001b[32m2025-09-11 12:58:47\u001b[0m | \u001b[1mINFO    \u001b[0m | \u001b[36mpleiades.utils.image_processing\u001b[0m:\u001b[36mremove_outliers\u001b[0m:\u001b[36m60\u001b[0m - \u001b[1mOutliers removed. Data shape: (4367, 512, 512) and data type: float32\u001b[0m\n",
      "\u001b[32m2025-09-11 12:58:47\u001b[0m | \u001b[1mINFO    \u001b[0m | \u001b[36mpleiades.utils.image_processing\u001b[0m:\u001b[36mremove_outliers\u001b[0m:\u001b[36m52\u001b[0m - \u001b[1mRemoving outliers from data with shape (4367, 512, 512) using threshold: 20\u001b[0m\n",
      "\u001b[32m2025-09-11 12:58:54\u001b[0m | \u001b[1mINFO    \u001b[0m | \u001b[36mpleiades.utils.image_processing\u001b[0m:\u001b[36mremove_outliers\u001b[0m:\u001b[36m60\u001b[0m - \u001b[1mOutliers removed. Data shape: (4367, 512, 512) and data type: float32\u001b[0m\n",
      "\u001b[32m2025-09-11 12:58:54\u001b[0m | \u001b[1mINFO    \u001b[0m | \u001b[36mpleiades.utils.image_processing\u001b[0m:\u001b[36mremove_outliers\u001b[0m:\u001b[36m52\u001b[0m - \u001b[1mRemoving outliers from data with shape (4367, 512, 512) using threshold: 20\u001b[0m\n",
      "\u001b[32m2025-09-11 12:59:01\u001b[0m | \u001b[1mINFO    \u001b[0m | \u001b[36mpleiades.utils.image_processing\u001b[0m:\u001b[36mremove_outliers\u001b[0m:\u001b[36m60\u001b[0m - \u001b[1mOutliers removed. Data shape: (4367, 512, 512) and data type: float32\u001b[0m\n",
      "\u001b[32m2025-09-11 12:59:01\u001b[0m | \u001b[1mINFO    \u001b[0m | \u001b[36mpleiades.utils.image_processing\u001b[0m:\u001b[36mremove_outliers\u001b[0m:\u001b[36m52\u001b[0m - \u001b[1mRemoving outliers from data with shape (4367, 512, 512) using threshold: 20\u001b[0m\n",
      "\u001b[32m2025-09-11 12:59:08\u001b[0m | \u001b[1mINFO    \u001b[0m | \u001b[36mpleiades.utils.image_processing\u001b[0m:\u001b[36mremove_outliers\u001b[0m:\u001b[36m60\u001b[0m - \u001b[1mOutliers removed. Data shape: (4367, 512, 512) and data type: float32\u001b[0m\n",
      "\u001b[32m2025-09-11 12:59:08\u001b[0m | \u001b[1mINFO    \u001b[0m | \u001b[36mpleiades.processing.normalization_handler\u001b[0m:\u001b[36mremove_outliers\u001b[0m:\u001b[36m237\u001b[0m - \u001b[1mRemoving outliers from ob master dictionary with threshold 20\u001b[0m\n",
      "\u001b[32m2025-09-11 12:59:08\u001b[0m | \u001b[1mINFO    \u001b[0m | \u001b[36mpleiades.utils.image_processing\u001b[0m:\u001b[36mremove_outliers\u001b[0m:\u001b[36m52\u001b[0m - \u001b[1mRemoving outliers from data with shape (4367, 512, 512) using threshold: 20\u001b[0m\n",
      "\u001b[32m2025-09-11 12:59:15\u001b[0m | \u001b[1mINFO    \u001b[0m | \u001b[36mpleiades.utils.image_processing\u001b[0m:\u001b[36mremove_outliers\u001b[0m:\u001b[36m60\u001b[0m - \u001b[1mOutliers removed. Data shape: (4367, 512, 512) and data type: float32\u001b[0m\n",
      "\u001b[32m2025-09-11 12:59:15\u001b[0m | \u001b[1mINFO    \u001b[0m | \u001b[36mpleiades.processing.normalization_handler\u001b[0m:\u001b[36mcombine_data\u001b[0m:\u001b[36m285\u001b[0m - \u001b[1mCombining ob master dictionary!\u001b[0m\n",
      "\u001b[32m2025-09-11 12:59:15\u001b[0m | \u001b[1mINFO    \u001b[0m | \u001b[36mpleiades.processing.normalization_handler\u001b[0m:\u001b[36mcombine_data\u001b[0m:\u001b[36m286\u001b[0m - \u001b[1m\tis_normalization_by_proton_charge: True\u001b[0m\n",
      "\u001b[32m2025-09-11 12:59:15\u001b[0m | \u001b[1mINFO    \u001b[0m | \u001b[36mpleiades.processing.normalization_handler\u001b[0m:\u001b[36mcombine_data\u001b[0m:\u001b[36m287\u001b[0m - \u001b[1m\tis_normalization_by_shutter_counts: True\u001b[0m\n",
      "\u001b[32m2025-09-11 12:59:15\u001b[0m | \u001b[34m\u001b[1mDEBUG   \u001b[0m | \u001b[36mpleiades.processing.normalization_handler\u001b[0m:\u001b[36mcombine_data\u001b[0m:\u001b[36m300\u001b[0m - \u001b[34m\u001b[1m1. np.shape(_uncertainty) = (4367, 512, 512)\u001b[0m\n",
      "\u001b[32m2025-09-11 12:59:16\u001b[0m | \u001b[34m\u001b[1mDEBUG   \u001b[0m | \u001b[36mpleiades.processing.normalization_handler\u001b[0m:\u001b[36mcombine_data\u001b[0m:\u001b[36m313\u001b[0m - \u001b[34m\u001b[1m2. np.shape(_uncertainty) = (4367, 512, 512)\u001b[0m\n",
      "\u001b[32m2025-09-11 12:59:22\u001b[0m | \u001b[1mINFO    \u001b[0m | \u001b[36mpleiades.processing.normalization_handler\u001b[0m:\u001b[36mcorrect_data_for_proton_charge\u001b[0m:\u001b[36m361\u001b[0m - \u001b[1mCorrecting sample master dictionary for proton charge\u001b[0m\n",
      "\u001b[32m2025-09-11 12:59:23\u001b[0m | \u001b[1mINFO    \u001b[0m | \u001b[36mpleiades.processing.normalization_handler\u001b[0m:\u001b[36mcorrect_data_for_shutter_counts\u001b[0m:\u001b[36m402\u001b[0m - \u001b[1mCorrecting sample master dictionary for shutter counts\u001b[0m\n",
      "\u001b[32m2025-09-11 12:59:24\u001b[0m | \u001b[1mINFO    \u001b[0m | \u001b[36mpleiades.processing.normalization_handler\u001b[0m:\u001b[36mperforming_normalization\u001b[0m:\u001b[36m459\u001b[0m - \u001b[1mPerforming normalization:\u001b[0m\n",
      "\u001b[32m2025-09-11 12:59:24\u001b[0m | \u001b[1mINFO    \u001b[0m | \u001b[36mpleiades.processing.normalization_handler\u001b[0m:\u001b[36mperforming_normalization\u001b[0m:\u001b[36m463\u001b[0m - \u001b[1mNormalizing sample folder: /SNS/VENUS/IPTS-35945/shared/autoreduce/mcp/images/Run_8022\u001b[0m\n",
      "\u001b[32m2025-09-11 12:59:25\u001b[0m | \u001b[1mINFO    \u001b[0m | \u001b[36mpleiades.processing.normalization_handler\u001b[0m:\u001b[36mperforming_normalization\u001b[0m:\u001b[36m463\u001b[0m - \u001b[1mNormalizing sample folder: /SNS/VENUS/IPTS-35945/shared/autoreduce/mcp/images/Run_8023\u001b[0m\n",
      "\u001b[32m2025-09-11 12:59:27\u001b[0m | \u001b[1mINFO    \u001b[0m | \u001b[36mpleiades.processing.normalization_handler\u001b[0m:\u001b[36mperforming_normalization\u001b[0m:\u001b[36m463\u001b[0m - \u001b[1mNormalizing sample folder: /SNS/VENUS/IPTS-35945/shared/autoreduce/mcp/images/Run_8024\u001b[0m\n",
      "\u001b[32m2025-09-11 12:59:28\u001b[0m | \u001b[1mINFO    \u001b[0m | \u001b[36mpleiades.processing.normalization_handler\u001b[0m:\u001b[36mperforming_normalization\u001b[0m:\u001b[36m463\u001b[0m - \u001b[1mNormalizing sample folder: /SNS/VENUS/IPTS-35945/shared/autoreduce/mcp/images/Run_8025\u001b[0m\n",
      "\u001b[32m2025-09-11 12:59:30\u001b[0m | \u001b[1mINFO    \u001b[0m | \u001b[36mpleiades.processing.normalization_handler\u001b[0m:\u001b[36mperforming_normalization\u001b[0m:\u001b[36m463\u001b[0m - \u001b[1mNormalizing sample folder: /SNS/VENUS/IPTS-35945/shared/autoreduce/mcp/images/Run_8026\u001b[0m\n",
      "\u001b[32m2025-09-11 12:59:31\u001b[0m | \u001b[1mINFO    \u001b[0m | \u001b[36mpleiades.processing.normalization_handler\u001b[0m:\u001b[36mperforming_normalization\u001b[0m:\u001b[36m463\u001b[0m - \u001b[1mNormalizing sample folder: /SNS/VENUS/IPTS-35945/shared/autoreduce/mcp/images/Run_8027\u001b[0m\n",
      "\u001b[32m2025-09-11 12:59:33\u001b[0m | \u001b[1mINFO    \u001b[0m | \u001b[36mpleiades.processing.normalization\u001b[0m:\u001b[36mnormalization\u001b[0m:\u001b[36m373\u001b[0m - \u001b[1mNormalization completed successfully!\u001b[0m\n",
      "\u001b[32m2025-09-11 12:59:33\u001b[0m | \u001b[1mINFO    \u001b[0m | \u001b[36mpleiades.processing.normalization_handler\u001b[0m:\u001b[36mupdate_with_crop\u001b[0m:\u001b[36m146\u001b[0m - \u001b[1mUpdating master normalization dictionary with crop values None\u001b[0m\n",
      "\u001b[32m2025-09-11 12:59:33\u001b[0m | \u001b[1mINFO    \u001b[0m | \u001b[36mpleiades.processing.normalization_handler\u001b[0m:\u001b[36mupdate_with_crop\u001b[0m:\u001b[36m149\u001b[0m - \u001b[1mCrop values are None, skipping crop update\u001b[0m\n",
      "\u001b[32m2025-09-11 12:59:33\u001b[0m | \u001b[1mINFO    \u001b[0m | \u001b[36mpleiades.processing.normalization\u001b[0m:\u001b[36mnormalization\u001b[0m:\u001b[36m419\u001b[0m - \u001b[1mProcessing 6 sample runs individually and combining\u001b[0m\n",
      "\u001b[32m2025-09-11 12:59:33\u001b[0m | \u001b[1mINFO    \u001b[0m | \u001b[36mpleiades.processing.normalization\u001b[0m:\u001b[36mnormalization\u001b[0m:\u001b[36m441\u001b[0m - \u001b[1mProcessing and exporting individual run: Run_8022\u001b[0m\n",
      "\u001b[32m2025-09-11 12:59:39\u001b[0m | \u001b[33m\u001b[1mWARNING \u001b[0m | \u001b[36mpleiades.processing.normalization_handler\u001b[0m:\u001b[36mget_counts_from_normalized_data\u001b[0m:\u001b[36m555\u001b[0m - \u001b[33m\u001b[1mFound 239129520 pixels with transmission > 2.0 (potential outliers)\u001b[0m\n",
      "\u001b[32m2025-09-11 12:59:39\u001b[0m | \u001b[1mINFO    \u001b[0m | \u001b[36mpleiades.utils.files\u001b[0m:\u001b[36mexport_ascii\u001b[0m:\u001b[36m284\u001b[0m - \u001b[1mData exported to ipts_35945/spectra/Run_8022_transmission.txt\u001b[0m\n",
      "\u001b[32m2025-09-11 12:59:39\u001b[0m | \u001b[1mINFO    \u001b[0m | \u001b[36mpleiades.processing.normalization\u001b[0m:\u001b[36mnormalization\u001b[0m:\u001b[36m457\u001b[0m - \u001b[1m  Individual run exported to: ipts_35945/spectra/Run_8022_transmission.txt\u001b[0m\n",
      "\u001b[32m2025-09-11 12:59:39\u001b[0m | \u001b[1mINFO    \u001b[0m | \u001b[36mpleiades.processing.normalization\u001b[0m:\u001b[36mnormalization\u001b[0m:\u001b[36m441\u001b[0m - \u001b[1mProcessing and exporting individual run: Run_8023\u001b[0m\n"
     ]
    },
    {
     "name": "stdout",
     "output_type": "stream",
     "text": [
      "Data exported to ipts_35945/spectra/Run_8022_transmission.txt\n"
     ]
    },
    {
     "name": "stderr",
     "output_type": "stream",
     "text": [
      "\u001b[32m2025-09-11 12:59:46\u001b[0m | \u001b[33m\u001b[1mWARNING \u001b[0m | \u001b[36mpleiades.processing.normalization_handler\u001b[0m:\u001b[36mget_counts_from_normalized_data\u001b[0m:\u001b[36m555\u001b[0m - \u001b[33m\u001b[1mFound 238254286 pixels with transmission > 2.0 (potential outliers)\u001b[0m\n",
      "\u001b[32m2025-09-11 12:59:46\u001b[0m | \u001b[1mINFO    \u001b[0m | \u001b[36mpleiades.utils.files\u001b[0m:\u001b[36mexport_ascii\u001b[0m:\u001b[36m284\u001b[0m - \u001b[1mData exported to ipts_35945/spectra/Run_8023_transmission.txt\u001b[0m\n",
      "\u001b[32m2025-09-11 12:59:46\u001b[0m | \u001b[1mINFO    \u001b[0m | \u001b[36mpleiades.processing.normalization\u001b[0m:\u001b[36mnormalization\u001b[0m:\u001b[36m457\u001b[0m - \u001b[1m  Individual run exported to: ipts_35945/spectra/Run_8023_transmission.txt\u001b[0m\n",
      "\u001b[32m2025-09-11 12:59:46\u001b[0m | \u001b[1mINFO    \u001b[0m | \u001b[36mpleiades.processing.normalization\u001b[0m:\u001b[36mnormalization\u001b[0m:\u001b[36m441\u001b[0m - \u001b[1mProcessing and exporting individual run: Run_8024\u001b[0m\n"
     ]
    },
    {
     "name": "stdout",
     "output_type": "stream",
     "text": [
      "Data exported to ipts_35945/spectra/Run_8023_transmission.txt\n"
     ]
    },
    {
     "name": "stderr",
     "output_type": "stream",
     "text": [
      "\u001b[32m2025-09-11 12:59:53\u001b[0m | \u001b[33m\u001b[1mWARNING \u001b[0m | \u001b[36mpleiades.processing.normalization_handler\u001b[0m:\u001b[36mget_counts_from_normalized_data\u001b[0m:\u001b[36m555\u001b[0m - \u001b[33m\u001b[1mFound 238671792 pixels with transmission > 2.0 (potential outliers)\u001b[0m\n",
      "\u001b[32m2025-09-11 12:59:53\u001b[0m | \u001b[1mINFO    \u001b[0m | \u001b[36mpleiades.utils.files\u001b[0m:\u001b[36mexport_ascii\u001b[0m:\u001b[36m284\u001b[0m - \u001b[1mData exported to ipts_35945/spectra/Run_8024_transmission.txt\u001b[0m\n",
      "\u001b[32m2025-09-11 12:59:53\u001b[0m | \u001b[1mINFO    \u001b[0m | \u001b[36mpleiades.processing.normalization\u001b[0m:\u001b[36mnormalization\u001b[0m:\u001b[36m457\u001b[0m - \u001b[1m  Individual run exported to: ipts_35945/spectra/Run_8024_transmission.txt\u001b[0m\n",
      "\u001b[32m2025-09-11 12:59:53\u001b[0m | \u001b[1mINFO    \u001b[0m | \u001b[36mpleiades.processing.normalization\u001b[0m:\u001b[36mnormalization\u001b[0m:\u001b[36m441\u001b[0m - \u001b[1mProcessing and exporting individual run: Run_8025\u001b[0m\n"
     ]
    },
    {
     "name": "stdout",
     "output_type": "stream",
     "text": [
      "Data exported to ipts_35945/spectra/Run_8024_transmission.txt\n"
     ]
    },
    {
     "name": "stderr",
     "output_type": "stream",
     "text": [
      "\u001b[32m2025-09-11 12:59:59\u001b[0m | \u001b[33m\u001b[1mWARNING \u001b[0m | \u001b[36mpleiades.processing.normalization_handler\u001b[0m:\u001b[36mget_counts_from_normalized_data\u001b[0m:\u001b[36m555\u001b[0m - \u001b[33m\u001b[1mFound 237513695 pixels with transmission > 2.0 (potential outliers)\u001b[0m\n",
      "\u001b[32m2025-09-11 12:59:59\u001b[0m | \u001b[1mINFO    \u001b[0m | \u001b[36mpleiades.utils.files\u001b[0m:\u001b[36mexport_ascii\u001b[0m:\u001b[36m284\u001b[0m - \u001b[1mData exported to ipts_35945/spectra/Run_8025_transmission.txt\u001b[0m\n",
      "\u001b[32m2025-09-11 12:59:59\u001b[0m | \u001b[1mINFO    \u001b[0m | \u001b[36mpleiades.processing.normalization\u001b[0m:\u001b[36mnormalization\u001b[0m:\u001b[36m457\u001b[0m - \u001b[1m  Individual run exported to: ipts_35945/spectra/Run_8025_transmission.txt\u001b[0m\n",
      "\u001b[32m2025-09-11 12:59:59\u001b[0m | \u001b[1mINFO    \u001b[0m | \u001b[36mpleiades.processing.normalization\u001b[0m:\u001b[36mnormalization\u001b[0m:\u001b[36m441\u001b[0m - \u001b[1mProcessing and exporting individual run: Run_8026\u001b[0m\n"
     ]
    },
    {
     "name": "stdout",
     "output_type": "stream",
     "text": [
      "Data exported to ipts_35945/spectra/Run_8025_transmission.txt\n"
     ]
    },
    {
     "name": "stderr",
     "output_type": "stream",
     "text": [
      "\u001b[32m2025-09-11 13:00:06\u001b[0m | \u001b[33m\u001b[1mWARNING \u001b[0m | \u001b[36mpleiades.processing.normalization_handler\u001b[0m:\u001b[36mget_counts_from_normalized_data\u001b[0m:\u001b[36m555\u001b[0m - \u001b[33m\u001b[1mFound 238307697 pixels with transmission > 2.0 (potential outliers)\u001b[0m\n",
      "\u001b[32m2025-09-11 13:00:06\u001b[0m | \u001b[1mINFO    \u001b[0m | \u001b[36mpleiades.utils.files\u001b[0m:\u001b[36mexport_ascii\u001b[0m:\u001b[36m284\u001b[0m - \u001b[1mData exported to ipts_35945/spectra/Run_8026_transmission.txt\u001b[0m\n",
      "\u001b[32m2025-09-11 13:00:06\u001b[0m | \u001b[1mINFO    \u001b[0m | \u001b[36mpleiades.processing.normalization\u001b[0m:\u001b[36mnormalization\u001b[0m:\u001b[36m457\u001b[0m - \u001b[1m  Individual run exported to: ipts_35945/spectra/Run_8026_transmission.txt\u001b[0m\n",
      "\u001b[32m2025-09-11 13:00:06\u001b[0m | \u001b[1mINFO    \u001b[0m | \u001b[36mpleiades.processing.normalization\u001b[0m:\u001b[36mnormalization\u001b[0m:\u001b[36m441\u001b[0m - \u001b[1mProcessing and exporting individual run: Run_8027\u001b[0m\n"
     ]
    },
    {
     "name": "stdout",
     "output_type": "stream",
     "text": [
      "Data exported to ipts_35945/spectra/Run_8026_transmission.txt\n"
     ]
    },
    {
     "name": "stderr",
     "output_type": "stream",
     "text": [
      "\u001b[32m2025-09-11 13:00:12\u001b[0m | \u001b[33m\u001b[1mWARNING \u001b[0m | \u001b[36mpleiades.processing.normalization_handler\u001b[0m:\u001b[36mget_counts_from_normalized_data\u001b[0m:\u001b[36m555\u001b[0m - \u001b[33m\u001b[1mFound 238352993 pixels with transmission > 2.0 (potential outliers)\u001b[0m\n",
      "\u001b[32m2025-09-11 13:00:12\u001b[0m | \u001b[1mINFO    \u001b[0m | \u001b[36mpleiades.utils.files\u001b[0m:\u001b[36mexport_ascii\u001b[0m:\u001b[36m284\u001b[0m - \u001b[1mData exported to ipts_35945/spectra/Run_8027_transmission.txt\u001b[0m\n",
      "\u001b[32m2025-09-11 13:00:12\u001b[0m | \u001b[1mINFO    \u001b[0m | \u001b[36mpleiades.processing.normalization\u001b[0m:\u001b[36mnormalization\u001b[0m:\u001b[36m457\u001b[0m - \u001b[1m  Individual run exported to: ipts_35945/spectra/Run_8027_transmission.txt\u001b[0m\n",
      "\u001b[32m2025-09-11 13:00:12\u001b[0m | \u001b[1mINFO    \u001b[0m | \u001b[36mpleiades.processing.normalization\u001b[0m:\u001b[36mnormalization\u001b[0m:\u001b[36m464\u001b[0m - \u001b[1mCreating weighted combination of all runs...\u001b[0m\n",
      "\u001b[32m2025-09-11 13:00:12\u001b[0m | \u001b[1mINFO    \u001b[0m | \u001b[36mpleiades.processing.normalization\u001b[0m:\u001b[36mnormalization\u001b[0m:\u001b[36m489\u001b[0m - \u001b[1mCombined transmission range: 0.446 to 1.464\u001b[0m\n",
      "\u001b[32m2025-09-11 13:00:12\u001b[0m | \u001b[1mINFO    \u001b[0m | \u001b[36mpleiades.processing.normalization\u001b[0m:\u001b[36mnormalization\u001b[0m:\u001b[36m492\u001b[0m - \u001b[1mExpected uncertainty improvement: 2.45x\u001b[0m\n",
      "\u001b[32m2025-09-11 13:00:12\u001b[0m | \u001b[1mINFO    \u001b[0m | \u001b[36mpleiades.processing.normalization\u001b[0m:\u001b[36mnormalization\u001b[0m:\u001b[36m493\u001b[0m - \u001b[1mActual uncertainty improvement: 2.45x\u001b[0m\n",
      "\u001b[32m2025-09-11 13:00:12\u001b[0m | \u001b[1mINFO    \u001b[0m | \u001b[36mpleiades.utils.files\u001b[0m:\u001b[36mexport_ascii\u001b[0m:\u001b[36m284\u001b[0m - \u001b[1mData exported to ipts_35945/spectra/Combined_Runs_8022_8023_8024_8025_8026_8027_transmission.txt\u001b[0m\n",
      "\u001b[32m2025-09-11 13:00:12\u001b[0m | \u001b[1mINFO    \u001b[0m | \u001b[36mpleiades.processing.normalization\u001b[0m:\u001b[36mnormalization\u001b[0m:\u001b[36m507\u001b[0m - \u001b[1mCombined transmission data exported to: ipts_35945/spectra/Combined_Runs_8022_8023_8024_8025_8026_8027_transmission.txt\u001b[0m\n",
      "\u001b[32m2025-09-11 13:00:12\u001b[0m | \u001b[1mINFO    \u001b[0m | \u001b[36mpleiades.processing.normalization\u001b[0m:\u001b[36mnormalization\u001b[0m:\u001b[36m508\u001b[0m - \u001b[1mSummary: 6 individual files + 1 combined file exported\u001b[0m\n"
     ]
    },
    {
     "name": "stdout",
     "output_type": "stream",
     "text": [
      "Data exported to ipts_35945/spectra/Run_8027_transmission.txt\n",
      "Data exported to ipts_35945/spectra/Combined_Runs_8022_8023_8024_8025_8026_8027_transmission.txt\n",
      "Check output: 6 individual files + 1 combined file\n"
     ]
    }
   ],
   "source": [
    "# Test the dual-export (individual + combined) implementation\n",
    "from pleiades.processing.normalization import normalization\n",
    "from pleiades.processing import Roi, Facility\n",
    "\n",
    "# All sample runs\n",
    "open_beam_folder = f\"{autoreduce_base}/Run_8021\"\n",
    "sample_folders = [\n",
    "    f\"{autoreduce_base}/Run_8022\",\n",
    "    f\"{autoreduce_base}/Run_8023\",\n",
    "    f\"{autoreduce_base}/Run_8024\",\n",
    "    f\"{autoreduce_base}/Run_8025\",\n",
    "    f\"{autoreduce_base}/Run_8026\",\n",
    "    f\"{autoreduce_base}/Run_8027\"\n",
    "]\n",
    "\n",
    "normalization(\n",
    "    list_sample_folders=sample_folders,\n",
    "    list_obs_folders=[open_beam_folder],\n",
    "    nexus_path=nexus_path,\n",
    "    facility=Facility.ornl,\n",
    "    output_folder=os.path.join(working_dir, \"spectra\"),\n",
    "    timepix=True,\n",
    "    num_threads=16,\n",
    ")\n",
    "\n",
    "print(\"Check output: 6 individual files + 1 combined file\")"
   ]
  },
  {
   "cell_type": "code",
   "execution_count": 4,
   "id": "fdd97981",
   "metadata": {},
   "outputs": [
    {
     "data": {
      "image/png": "[encoded data removed]",
      "text/plain": [
       "<Figure size 1000x600 with 1 Axes>"
      ]
     },
     "metadata": {},
     "output_type": "display_data"
    }
   ],
   "source": [
    "plt.figure(figsize=(10, 6))\n",
    "\n",
    "# Plot individual runs (light lines)\n",
    "for run_num in ['8022', '8023', '8024', '8025', '8026', '8027']:\n",
    "    data = np.loadtxt(f\"{spectra_dir}/Run_{run_num}_transmission.txt\", skiprows=1)\n",
    "    plt.plot(data[:,0], data[:,1], linewidth=0.3, linestyle=':', label=f'Run {run_num}')\n",
    "\n",
    "# Plot combined result (bold line)\n",
    "combined = np.loadtxt(\n",
    "    f\"{spectra_dir}/Combined_Runs_8022_8023_8024_8025_8026_8027_transmission.txt\",\n",
    "    skiprows=1\n",
    ")\n",
    "plt.plot(combined[:,0], combined[:,1], \"k-\",linewidth=0.3, label='Combined')\n",
    "\n",
    "plt.xlabel(\"Energy (eV)\")\n",
    "plt.ylabel(\"Transmission\")\n",
    "plt.xscale(\"log\")\n",
    "plt.title(\"Transmission Spectrum: Individual Runs vs Combined\")\n",
    "plt.legend()\n",
    "plt.grid()\n",
    "plt.show()"
   ]
  },
  {
   "cell_type": "markdown",
   "id": "1fa3ea77",
   "metadata": {},
   "source": [
    "convert to sammy twenty format"
   ]
  },
  {
   "cell_type": "code",
   "execution_count": 5,
   "id": "4766fcfb",
   "metadata": {},
   "outputs": [
    {
     "name": "stderr",
     "output_type": "stream",
     "text": [
      "\u001b[32m2025-09-11 13:00:13\u001b[0m | \u001b[1mINFO    \u001b[0m | \u001b[36mpleiades.sammy.io.data_manager\u001b[0m:\u001b[36mconvert_csv_to_sammy_twenty\u001b[0m:\u001b[36m40\u001b[0m - \u001b[1mConverting ipts_35945/spectra/Combined_Runs_8022_8023_8024_8025_8026_8027_transmission.txt to SAMMY twenty format: ipts_35945/twenty/Combined_Runs_8022_8023_8024_8025_8026_8027_transmission.twenty\u001b[0m\n",
      "\u001b[32m2025-09-11 13:00:13\u001b[0m | \u001b[1mINFO    \u001b[0m | \u001b[36mpleiades.sammy.io.data_manager\u001b[0m:\u001b[36mconvert_csv_to_sammy_twenty\u001b[0m:\u001b[36m56\u001b[0m - \u001b[1mConverted 4367 data points to twenty format\u001b[0m\n",
      "\u001b[32m2025-09-11 13:00:13\u001b[0m | \u001b[1mINFO    \u001b[0m | \u001b[36mpleiades.sammy.io.data_manager\u001b[0m:\u001b[36mvalidate_sammy_twenty_format\u001b[0m:\u001b[36m96\u001b[0m - \u001b[1mFile ipts_35945/twenty/Combined_Runs_8022_8023_8024_8025_8026_8027_transmission.twenty is valid SAMMY twenty format\u001b[0m\n",
      "\u001b[32m2025-09-11 13:00:13\u001b[0m | \u001b[1mINFO    \u001b[0m | \u001b[36mpleiades.sammy.io.data_manager\u001b[0m:\u001b[36mconvert_csv_to_sammy_twenty\u001b[0m:\u001b[36m40\u001b[0m - \u001b[1mConverting ipts_35945/spectra/Run_8025_transmission.txt to SAMMY twenty format: ipts_35945/twenty/Run_8025_transmission.twenty\u001b[0m\n",
      "\u001b[32m2025-09-11 13:00:13\u001b[0m | \u001b[1mINFO    \u001b[0m | \u001b[36mpleiades.sammy.io.data_manager\u001b[0m:\u001b[36mconvert_csv_to_sammy_twenty\u001b[0m:\u001b[36m56\u001b[0m - \u001b[1mConverted 4367 data points to twenty format\u001b[0m\n",
      "\u001b[32m2025-09-11 13:00:13\u001b[0m | \u001b[1mINFO    \u001b[0m | \u001b[36mpleiades.sammy.io.data_manager\u001b[0m:\u001b[36mvalidate_sammy_twenty_format\u001b[0m:\u001b[36m96\u001b[0m - \u001b[1mFile ipts_35945/twenty/Run_8025_transmission.twenty is valid SAMMY twenty format\u001b[0m\n",
      "\u001b[32m2025-09-11 13:00:13\u001b[0m | \u001b[1mINFO    \u001b[0m | \u001b[36mpleiades.sammy.io.data_manager\u001b[0m:\u001b[36mconvert_csv_to_sammy_twenty\u001b[0m:\u001b[36m40\u001b[0m - \u001b[1mConverting ipts_35945/spectra/Run_8022_transmission.txt to SAMMY twenty format: ipts_35945/twenty/Run_8022_transmission.twenty\u001b[0m\n",
      "\u001b[32m2025-09-11 13:00:13\u001b[0m | \u001b[1mINFO    \u001b[0m | \u001b[36mpleiades.sammy.io.data_manager\u001b[0m:\u001b[36mconvert_csv_to_sammy_twenty\u001b[0m:\u001b[36m56\u001b[0m - \u001b[1mConverted 4367 data points to twenty format\u001b[0m\n",
      "\u001b[32m2025-09-11 13:00:13\u001b[0m | \u001b[1mINFO    \u001b[0m | \u001b[36mpleiades.sammy.io.data_manager\u001b[0m:\u001b[36mvalidate_sammy_twenty_format\u001b[0m:\u001b[36m96\u001b[0m - \u001b[1mFile ipts_35945/twenty/Run_8022_transmission.twenty is valid SAMMY twenty format\u001b[0m\n",
      "\u001b[32m2025-09-11 13:00:13\u001b[0m | \u001b[1mINFO    \u001b[0m | \u001b[36mpleiades.sammy.io.data_manager\u001b[0m:\u001b[36mconvert_csv_to_sammy_twenty\u001b[0m:\u001b[36m40\u001b[0m - \u001b[1mConverting ipts_35945/spectra/Run_8023_transmission.txt to SAMMY twenty format: ipts_35945/twenty/Run_8023_transmission.twenty\u001b[0m\n",
      "\u001b[32m2025-09-11 13:00:13\u001b[0m | \u001b[1mINFO    \u001b[0m | \u001b[36mpleiades.sammy.io.data_manager\u001b[0m:\u001b[36mconvert_csv_to_sammy_twenty\u001b[0m:\u001b[36m56\u001b[0m - \u001b[1mConverted 4367 data points to twenty format\u001b[0m\n",
      "\u001b[32m2025-09-11 13:00:13\u001b[0m | \u001b[1mINFO    \u001b[0m | \u001b[36mpleiades.sammy.io.data_manager\u001b[0m:\u001b[36mvalidate_sammy_twenty_format\u001b[0m:\u001b[36m96\u001b[0m - \u001b[1mFile ipts_35945/twenty/Run_8023_transmission.twenty is valid SAMMY twenty format\u001b[0m\n",
      "\u001b[32m2025-09-11 13:00:13\u001b[0m | \u001b[1mINFO    \u001b[0m | \u001b[36mpleiades.sammy.io.data_manager\u001b[0m:\u001b[36mconvert_csv_to_sammy_twenty\u001b[0m:\u001b[36m40\u001b[0m - \u001b[1mConverting ipts_35945/spectra/Run_8027_transmission.txt to SAMMY twenty format: ipts_35945/twenty/Run_8027_transmission.twenty\u001b[0m\n",
      "\u001b[32m2025-09-11 13:00:13\u001b[0m | \u001b[1mINFO    \u001b[0m | \u001b[36mpleiades.sammy.io.data_manager\u001b[0m:\u001b[36mconvert_csv_to_sammy_twenty\u001b[0m:\u001b[36m56\u001b[0m - \u001b[1mConverted 4367 data points to twenty format\u001b[0m\n",
      "\u001b[32m2025-09-11 13:00:13\u001b[0m | \u001b[1mINFO    \u001b[0m | \u001b[36mpleiades.sammy.io.data_manager\u001b[0m:\u001b[36mvalidate_sammy_twenty_format\u001b[0m:\u001b[36m96\u001b[0m - \u001b[1mFile ipts_35945/twenty/Run_8027_transmission.twenty is valid SAMMY twenty format\u001b[0m\n",
      "\u001b[32m2025-09-11 13:00:13\u001b[0m | \u001b[1mINFO    \u001b[0m | \u001b[36mpleiades.sammy.io.data_manager\u001b[0m:\u001b[36mconvert_csv_to_sammy_twenty\u001b[0m:\u001b[36m40\u001b[0m - \u001b[1mConverting ipts_35945/spectra/Run_8024_transmission.txt to SAMMY twenty format: ipts_35945/twenty/Run_8024_transmission.twenty\u001b[0m\n",
      "\u001b[32m2025-09-11 13:00:13\u001b[0m | \u001b[1mINFO    \u001b[0m | \u001b[36mpleiades.sammy.io.data_manager\u001b[0m:\u001b[36mconvert_csv_to_sammy_twenty\u001b[0m:\u001b[36m56\u001b[0m - \u001b[1mConverted 4367 data points to twenty format\u001b[0m\n",
      "\u001b[32m2025-09-11 13:00:13\u001b[0m | \u001b[1mINFO    \u001b[0m | \u001b[36mpleiades.sammy.io.data_manager\u001b[0m:\u001b[36mvalidate_sammy_twenty_format\u001b[0m:\u001b[36m96\u001b[0m - \u001b[1mFile ipts_35945/twenty/Run_8024_transmission.twenty is valid SAMMY twenty format\u001b[0m\n",
      "\u001b[32m2025-09-11 13:00:13\u001b[0m | \u001b[1mINFO    \u001b[0m | \u001b[36mpleiades.sammy.io.data_manager\u001b[0m:\u001b[36mconvert_csv_to_sammy_twenty\u001b[0m:\u001b[36m40\u001b[0m - \u001b[1mConverting ipts_35945/spectra/Run_8026_transmission.txt to SAMMY twenty format: ipts_35945/twenty/Run_8026_transmission.twenty\u001b[0m\n",
      "\u001b[32m2025-09-11 13:00:13\u001b[0m | \u001b[1mINFO    \u001b[0m | \u001b[36mpleiades.sammy.io.data_manager\u001b[0m:\u001b[36mconvert_csv_to_sammy_twenty\u001b[0m:\u001b[36m56\u001b[0m - \u001b[1mConverted 4367 data points to twenty format\u001b[0m\n",
      "\u001b[32m2025-09-11 13:00:13\u001b[0m | \u001b[1mINFO    \u001b[0m | \u001b[36mpleiades.sammy.io.data_manager\u001b[0m:\u001b[36mvalidate_sammy_twenty_format\u001b[0m:\u001b[36m96\u001b[0m - \u001b[1mFile ipts_35945/twenty/Run_8026_transmission.twenty is valid SAMMY twenty format\u001b[0m\n"
     ]
    },
    {
     "name": "stdout",
     "output_type": "stream",
     "text": [
      "Input directory: ipts_35945/spectra\n",
      "Input directory exists: True\n",
      "Found 7 CSV files to convert:\n",
      "  - Combined_Runs_8022_8023_8024_8025_8026_8027_transmission.txt\n",
      "  - Run_8025_transmission.txt\n",
      "  - Run_8022_transmission.txt\n",
      "  - Run_8023_transmission.txt\n",
      "  - Run_8027_transmission.txt\n",
      "  - Run_8024_transmission.txt\n",
      "  - Run_8026_transmission.txt\n",
      "\n",
      "Converting to twenty format...\n",
      "✅ Combined_Runs_8022_8023_8024_8025_8026_8027_transmission.txt -> Combined_Runs_8022_8023_8024_8025_8026_8027_transmission.twenty\n",
      "✅ Run_8025_transmission.txt -> Run_8025_transmission.twenty\n",
      "✅ Run_8022_transmission.txt -> Run_8022_transmission.twenty\n",
      "✅ Run_8023_transmission.txt -> Run_8023_transmission.twenty\n",
      "✅ Run_8027_transmission.txt -> Run_8027_transmission.twenty\n",
      "✅ Run_8024_transmission.txt -> Run_8024_transmission.twenty\n",
      "✅ Run_8026_transmission.txt -> Run_8026_transmission.twenty\n",
      "\n",
      "Conversion complete! Output files in: ipts_35945/twenty\n"
     ]
    }
   ],
   "source": [
    "from pleiades.sammy.io.data_manager import convert_csv_to_sammy_twenty, validate_sammy_twenty_format\n",
    "\n",
    "# Define paths - use absolute path to be safe\n",
    "input_dir = Path(spectra_dir)\n",
    "output_dir = Path(twenty_dir)\n",
    "\n",
    "# Debug: Check if input directory exists\n",
    "print(f\"Input directory: {input_dir}\")\n",
    "print(f\"Input directory exists: {input_dir.exists()}\")\n",
    "\n",
    "# Convert all transmission CSV files to twenty format\n",
    "csv_files = list(input_dir.glob(\"*_transmission.txt\"))\n",
    "\n",
    "print(f\"Found {len(csv_files)} CSV files to convert:\")\n",
    "for csv_file in csv_files:\n",
    "    print(f\"  - {csv_file.name}\")\n",
    "\n",
    "if len(csv_files) == 0:\n",
    "    print(\"No files found! Check the input directory path.\")\n",
    "    # List all files in the directory for debugging\n",
    "    all_files = list(input_dir.glob(\"*\"))\n",
    "    print(f\"All files in directory: {[f.name for f in all_files]}\")\n",
    "else:\n",
    "    print(\"\\nConverting to twenty format...\")\n",
    "    for csv_file in csv_files:\n",
    "        # Create output filename: Run_8022_transmission.txt -> Run_8022_transmission.twenty\n",
    "        twenty_file = output_dir / csv_file.name.replace(\".txt\", \".twenty\")\n",
    "\n",
    "        try:\n",
    "            # Convert using existing function\n",
    "            convert_csv_to_sammy_twenty(csv_file, twenty_file)\n",
    "\n",
    "            # Validate the output\n",
    "            if validate_sammy_twenty_format(twenty_file):\n",
    "                print(f\"✅ {csv_file.name} -> {twenty_file.name}\")\n",
    "            else:\n",
    "                print(f\"❌ {csv_file.name} -> validation failed\")\n",
    "\n",
    "        except Exception as e:\n",
    "            print(f\"❌ {csv_file.name} -> conversion failed: {e}\")\n",
    "\n",
    "    print(f\"\\nConversion complete! Output files in: {output_dir}\")"
   ]
  },
  {
   "cell_type": "markdown",
   "id": "ca30a51f",
   "metadata": {},
   "source": [
    "## Configure Sammy Runner"
   ]
  },
  {
   "cell_type": "code",
   "execution_count": 6,
   "id": "7659fd06",
   "metadata": {},
   "outputs": [
    {
     "name": "stderr",
     "output_type": "stream",
     "text": [
      "\u001b[32m2025-09-11 13:00:13\u001b[0m | \u001b[1mINFO    \u001b[0m | \u001b[36mpleiades.sammy.io.json_manager\u001b[0m:\u001b[36m__init__\u001b[0m:\u001b[36m165\u001b[0m - \u001b[1mJsonManager initialized with Pydantic v2 models\u001b[0m\n",
      "\u001b[32m2025-09-11 13:00:13\u001b[0m | \u001b[1mINFO    \u001b[0m | \u001b[36mpleiades.sammy.io.json_manager\u001b[0m:\u001b[36mcreate_json_config\u001b[0m:\u001b[36m214\u001b[0m - \u001b[1mCreating SAMMY workspace for 1 isotopes: ['Au-197']\u001b[0m\n",
      "\u001b[32m2025-09-11 13:00:13\u001b[0m | \u001b[1mINFO    \u001b[0m | \u001b[36mpleiades.sammy.io.json_manager\u001b[0m:\u001b[36mcreate_json_config\u001b[0m:\u001b[36m215\u001b[0m - \u001b[1mWorking directory: ipts_35945\u001b[0m\n",
      "\u001b[32m2025-09-11 13:00:13\u001b[0m | \u001b[1mINFO    \u001b[0m | \u001b[36mpleiades.sammy.io.json_manager\u001b[0m:\u001b[36mcreate_json_config\u001b[0m:\u001b[36m218\u001b[0m - \u001b[1mStep 1: Staging ENDF files...\u001b[0m\n",
      "\u001b[32m2025-09-11 13:00:13\u001b[0m | \u001b[1mINFO    \u001b[0m | \u001b[36mpleiades.nuclear.isotopes.manager\u001b[0m:\u001b[36mget_isotope_info\u001b[0m:\u001b[36m167\u001b[0m - \u001b[1mGetting isotope parameters for Au-197\u001b[0m\n",
      "\u001b[32m2025-09-11 13:00:13\u001b[0m | \u001b[1mINFO    \u001b[0m | \u001b[36mpleiades.nuclear.isotopes.manager\u001b[0m:\u001b[36mget_file_path\u001b[0m:\u001b[36m75\u001b[0m - \u001b[1mSearching for mass.mas20 in cached files for FileCategory.ISOTOPES: {PosixPath('/SNS/users/8cz/github.com/PLEIADES/src/pleiades/nuclear/isotopes/files/mass.mas20'), PosixPath('/SNS/users/8cz/github.com/PLEIADES/src/pleiades/nuclear/isotopes/files/isotopes.info'), PosixPath('/SNS/users/8cz/github.com/PLEIADES/src/pleiades/nuclear/isotopes/files/neutrons.list')}\u001b[0m\n",
      "\u001b[32m2025-09-11 13:00:13\u001b[0m | \u001b[1mINFO    \u001b[0m | \u001b[36mpleiades.nuclear.isotopes.manager\u001b[0m:\u001b[36mget_file_path\u001b[0m:\u001b[36m77\u001b[0m - \u001b[1mChecking file: mass.mas20\u001b[0m\n",
      "\u001b[32m2025-09-11 13:00:13\u001b[0m | \u001b[1mINFO    \u001b[0m | \u001b[36mpleiades.nuclear.isotopes.manager\u001b[0m:\u001b[36mget_file_path\u001b[0m:\u001b[36m79\u001b[0m - \u001b[1mFound file: /SNS/users/8cz/github.com/PLEIADES/src/pleiades/nuclear/isotopes/files/mass.mas20\u001b[0m\n",
      "\u001b[32m2025-09-11 13:00:13\u001b[0m | \u001b[1mINFO    \u001b[0m | \u001b[36mpleiades.nuclear.isotopes.manager\u001b[0m:\u001b[36mget_file_path\u001b[0m:\u001b[36m75\u001b[0m - \u001b[1mSearching for isotopes.info in cached files for FileCategory.ISOTOPES: {PosixPath('/SNS/users/8cz/github.com/PLEIADES/src/pleiades/nuclear/isotopes/files/mass.mas20'), PosixPath('/SNS/users/8cz/github.com/PLEIADES/src/pleiades/nuclear/isotopes/files/isotopes.info'), PosixPath('/SNS/users/8cz/github.com/PLEIADES/src/pleiades/nuclear/isotopes/files/neutrons.list')}\u001b[0m\n",
      "\u001b[32m2025-09-11 13:00:13\u001b[0m | \u001b[1mINFO    \u001b[0m | \u001b[36mpleiades.nuclear.isotopes.manager\u001b[0m:\u001b[36mget_file_path\u001b[0m:\u001b[36m77\u001b[0m - \u001b[1mChecking file: mass.mas20\u001b[0m\n",
      "\u001b[32m2025-09-11 13:00:13\u001b[0m | \u001b[1mINFO    \u001b[0m | \u001b[36mpleiades.nuclear.isotopes.manager\u001b[0m:\u001b[36mget_file_path\u001b[0m:\u001b[36m77\u001b[0m - \u001b[1mChecking file: isotopes.info\u001b[0m\n",
      "\u001b[32m2025-09-11 13:00:13\u001b[0m | \u001b[1mINFO    \u001b[0m | \u001b[36mpleiades.nuclear.isotopes.manager\u001b[0m:\u001b[36mget_file_path\u001b[0m:\u001b[36m79\u001b[0m - \u001b[1mFound file: /SNS/users/8cz/github.com/PLEIADES/src/pleiades/nuclear/isotopes/files/isotopes.info\u001b[0m\n",
      "\u001b[32m2025-09-11 13:00:13\u001b[0m | \u001b[1mINFO    \u001b[0m | \u001b[36mpleiades.nuclear.isotopes.manager\u001b[0m:\u001b[36mget_file_path\u001b[0m:\u001b[36m75\u001b[0m - \u001b[1mSearching for neutrons.list in cached files for FileCategory.ISOTOPES: {PosixPath('/SNS/users/8cz/github.com/PLEIADES/src/pleiades/nuclear/isotopes/files/mass.mas20'), PosixPath('/SNS/users/8cz/github.com/PLEIADES/src/pleiades/nuclear/isotopes/files/isotopes.info'), PosixPath('/SNS/users/8cz/github.com/PLEIADES/src/pleiades/nuclear/isotopes/files/neutrons.list')}\u001b[0m\n",
      "\u001b[32m2025-09-11 13:00:13\u001b[0m | \u001b[1mINFO    \u001b[0m | \u001b[36mpleiades.nuclear.isotopes.manager\u001b[0m:\u001b[36mget_file_path\u001b[0m:\u001b[36m77\u001b[0m - \u001b[1mChecking file: mass.mas20\u001b[0m\n",
      "\u001b[32m2025-09-11 13:00:13\u001b[0m | \u001b[1mINFO    \u001b[0m | \u001b[36mpleiades.nuclear.isotopes.manager\u001b[0m:\u001b[36mget_file_path\u001b[0m:\u001b[36m77\u001b[0m - \u001b[1mChecking file: isotopes.info\u001b[0m\n",
      "\u001b[32m2025-09-11 13:00:13\u001b[0m | \u001b[1mINFO    \u001b[0m | \u001b[36mpleiades.nuclear.isotopes.manager\u001b[0m:\u001b[36mget_file_path\u001b[0m:\u001b[36m77\u001b[0m - \u001b[1mChecking file: neutrons.list\u001b[0m\n",
      "\u001b[32m2025-09-11 13:00:13\u001b[0m | \u001b[1mINFO    \u001b[0m | \u001b[36mpleiades.nuclear.isotopes.manager\u001b[0m:\u001b[36mget_file_path\u001b[0m:\u001b[36m79\u001b[0m - \u001b[1mFound file: /SNS/users/8cz/github.com/PLEIADES/src/pleiades/nuclear/isotopes/files/neutrons.list\u001b[0m\n",
      "\u001b[32m2025-09-11 13:00:13\u001b[0m | \u001b[1mINFO    \u001b[0m | \u001b[36mpleiades.nuclear.manager\u001b[0m:\u001b[36mdownload_endf_resonance_file\u001b[0m:\u001b[36m361\u001b[0m - \u001b[1mUsing cached ENDF data from /SNS/users/8cz/.pleiades/nuclear_data/DataRetrievalMethod.API/EndfLibrary.ENDF_B_VIII_0/n_079-Au-197_7925_resonance.dat\u001b[0m\n",
      "\u001b[32m2025-09-11 13:00:13\u001b[0m | \u001b[1mINFO    \u001b[0m | \u001b[36mpleiades.nuclear.manager\u001b[0m:\u001b[36mdownload_endf_resonance_file\u001b[0m:\u001b[36m390\u001b[0m - \u001b[1mAPI method returned resonance data directly, no extraction needed\u001b[0m\n",
      "\u001b[32m2025-09-11 13:00:13\u001b[0m | \u001b[1mINFO    \u001b[0m | \u001b[36mpleiades.nuclear.manager\u001b[0m:\u001b[36mdownload_endf_resonance_file\u001b[0m:\u001b[36m392\u001b[0m - \u001b[1mResonance parameters written to ipts_35945/079-Au-197.B-VIII.0.par\u001b[0m\n",
      "\u001b[32m2025-09-11 13:00:13\u001b[0m | \u001b[1mINFO    \u001b[0m | \u001b[36mpleiades.nuclear.manager\u001b[0m:\u001b[36mdownload_endf_resonance_file\u001b[0m:\u001b[36m396\u001b[0m - \u001b[1mNote: Only resonance data was downloaded (API method)\u001b[0m\n",
      "\u001b[32m2025-09-11 13:00:13\u001b[0m | \u001b[34m\u001b[1mDEBUG   \u001b[0m | \u001b[36mpleiades.sammy.io.json_manager\u001b[0m:\u001b[36mcreate_json_config\u001b[0m:\u001b[36m235\u001b[0m - \u001b[34m\u001b[1mStaged Au-197: 079-Au-197.B-VIII.0.par\u001b[0m\n",
      "\u001b[32m2025-09-11 13:00:13\u001b[0m | \u001b[1mINFO    \u001b[0m | \u001b[36mpleiades.sammy.io.json_manager\u001b[0m:\u001b[36mcreate_json_config\u001b[0m:\u001b[36m244\u001b[0m - \u001b[1mStep 2: Creating JSON configuration with actual ENDF filenames...\u001b[0m\n",
      "\u001b[32m2025-09-11 13:00:13\u001b[0m | \u001b[1mINFO    \u001b[0m | \u001b[36mpleiades.nuclear.isotopes.manager\u001b[0m:\u001b[36mget_isotope_info\u001b[0m:\u001b[36m167\u001b[0m - \u001b[1mGetting isotope parameters for Au-197\u001b[0m\n",
      "\u001b[32m2025-09-11 13:00:13\u001b[0m | \u001b[34m\u001b[1mDEBUG   \u001b[0m | \u001b[36mpleiades.sammy.io.json_manager\u001b[0m:\u001b[36madd_isotope_entry\u001b[0m:\u001b[36m95\u001b[0m - \u001b[34m\u001b[1mAdded isotope entry: 079-Au-197.B-VIII.0.par\u001b[0m\n",
      "\u001b[32m2025-09-11 13:00:13\u001b[0m | \u001b[34m\u001b[1mDEBUG   \u001b[0m | \u001b[36mpleiades.sammy.io.json_manager\u001b[0m:\u001b[36mcreate_json_config\u001b[0m:\u001b[36m272\u001b[0m - \u001b[34m\u001b[1mAdded Au-197 (MAT=7925) as 079-Au-197.B-VIII.0.par\u001b[0m\n",
      "\u001b[32m2025-09-11 13:00:13\u001b[0m | \u001b[1mINFO    \u001b[0m | \u001b[36mpleiades.sammy.io.json_manager\u001b[0m:\u001b[36mcreate_json_config\u001b[0m:\u001b[36m285\u001b[0m - \u001b[1mJSON configuration written to: ipts_35945/config.json\u001b[0m\n",
      "\u001b[32m2025-09-11 13:00:13\u001b[0m | \u001b[1mINFO    \u001b[0m | \u001b[36mpleiades.sammy.io.json_manager\u001b[0m:\u001b[36mcreate_json_config\u001b[0m:\u001b[36m286\u001b[0m - \u001b[1mConfiguration contains 1 isotope entries\u001b[0m\n",
      "\u001b[32m2025-09-11 13:00:13\u001b[0m | \u001b[1mINFO    \u001b[0m | \u001b[36mpleiades.sammy.io.json_manager\u001b[0m:\u001b[36mcreate_json_config\u001b[0m:\u001b[36m287\u001b[0m - \u001b[1mSAMMY workspace complete: 1 ENDF files + 1 JSON file\u001b[0m\n"
     ]
    },
    {
     "name": "stdout",
     "output_type": "stream",
     "text": [
      "🔧 Step 1: Creating JSON configuration and ENDF files for Au-197...\n",
      "✅ JSON config created: ipts_35945/config.json\n",
      "✅ ENDF files staged in: ./ipts_35945\n",
      "📄 Found 1 ENDF files: ['079-Au-197.B-VIII.0.par']\n"
     ]
    }
   ],
   "source": [
    "# Step 1: Create JSON configuration and ENDF files using JsonManager\n",
    "from pleiades.sammy.io.json_manager import JsonManager\n",
    "\n",
    "print(\"🔧 Step 1: Creating JSON configuration and ENDF files for Au-197...\")\n",
    "\n",
    "json_manager = JsonManager()\n",
    "json_path = json_manager.create_json_config(\n",
    "    isotopes=[\"Au-197\"],\n",
    "    abundances=[1.0],  # 100% abundance for single isotope\n",
    "    working_dir=working_dir,\n",
    "    custom_global_settings={\n",
    "        \"forceRMoore\": \"yes\",\n",
    "        \"purgeSpinGroups\": \"yes\", \n",
    "        \"fudge\": \"0.7\"\n",
    "    }\n",
    ")\n",
    "\n",
    "print(f\"✅ JSON config created: {json_path}\")\n",
    "print(f\"✅ ENDF files staged in: {working_dir}\")\n",
    "\n",
    "# List the files that were created\n",
    "import os\n",
    "endf_files = [f for f in os.listdir(working_dir) if f.endswith('.par')]\n",
    "print(f\"📄 Found {len(endf_files)} ENDF files: {endf_files}\")"
   ]
  },
  {
   "cell_type": "code",
   "execution_count": 7,
   "id": "d8f9e8e3",
   "metadata": {},
   "outputs": [
    {
     "name": "stderr",
     "output_type": "stream",
     "text": [
      "\u001b[32m2025-09-11 13:00:14\u001b[0m | \u001b[1mINFO    \u001b[0m | \u001b[36mpleiades.utils.logger\u001b[0m:\u001b[36m__init__\u001b[0m:\u001b[36m145\u001b[0m - \u001b[1mlogging initialized...\u001b[0m\n",
      "\u001b[32m2025-09-11 13:00:14\u001b[0m | \u001b[1mINFO    \u001b[0m | \u001b[36mpleiades.sammy.io.inp_manager\u001b[0m:\u001b[36mcreate_multi_isotope_inp\u001b[0m:\u001b[36m482\u001b[0m - \u001b[1mSuccessfully wrote multi-isotope SAMMY input file to ipts_35945/au_fitting.inp\u001b[0m\n"
     ]
    },
    {
     "name": "stdout",
     "output_type": "stream",
     "text": [
      "🔧 Step 2: Generating INP file using PLEIADES...\n",
      "📊 Material properties: {'element': 'Au', 'mass_number': 197, 'density_g_cm3': 19.32, 'thickness_mm': 0.025, 'atomic_mass_amu': 196.966569, 'abundance': 1.0, 'max_energy_eV': 1000.0, 'temperature_K': 293.6}\n",
      "📄 Resolution file path: ipts_35945/venus_resolution.dat\n",
      "📄 Resolution file exists: True\n",
      "✅ Generated INP file: ipts_35945/au_fitting.inp\n",
      "\n",
      "📝 Sample INP content:\n",
      "   PLEIADES-generated Au-197 fitting for VENUS IPTS-35945\n",
      "    196.96657   1.00000   0.00002 1\n",
      "   REICH-MOORE FORMALISM IS WANTED\n",
      "   USE NEW SPIN GROUP Format\n",
      "   USE TWENTY SIGNIFICANT DIGITS\n",
      "   DO NOT DIVIDE DATA INTO REGIONS\n",
      "   BROADENING IS WANTED\n",
      "   INPUT IS ENDF/B FILE 2\n",
      "   USE ENERGY RANGE FROM ENDF/B FILE 2\n",
      "   SOLVE BAYES EQUATIONS\n"
     ]
    }
   ],
   "source": [
    "# Step 2: Generate INP file using PLEIADES multi-isotope generator\n",
    "from pleiades.sammy.io.inp_manager import InpManager\n",
    "\n",
    "print(\"🔧 Step 2: Generating INP file using PLEIADES...\")\n",
    "\n",
    "# Define Gold material properties (from IPTS-35945 sample characteristics)\n",
    "au_material_props = {\n",
    "    'element': 'Au',               # Element symbol\n",
    "    'mass_number': 197,            # Mass number for Au-197\n",
    "    'density_g_cm3': 19.32,        # Gold density (g/cm³)\n",
    "    'thickness_mm': 0.025,         # Sample thickness: 0.025 mm (0.001 in)\n",
    "    'atomic_mass_amu': 196.966569, # Au-197 atomic mass (AMU)\n",
    "    'abundance': 1.0,              # 100% abundance for single isotope mode\n",
    "    'max_energy_eV': 1000.0,       # Maximum energy in eV (based on transmission data range)\n",
    "    'temperature_K': 293.6         # Room temperature (K)\n",
    "}\n",
    "\n",
    "print(f\"📊 Material properties: {au_material_props}\")\n",
    "\n",
    "# Define resolution file with absolute path for security/control\n",
    "resolution_file_path = Path(working_dir) / \"venus_resolution.dat\"\n",
    "print(f\"📄 Resolution file path: {resolution_file_path}\")\n",
    "print(f\"📄 Resolution file exists: {resolution_file_path.exists()}\")\n",
    "\n",
    "# Generate INP file using PLEIADES with absolute resolution path\n",
    "inp_file = Path(working_dir) / \"au_fitting.inp\"\n",
    "InpManager.create_multi_isotope_inp(\n",
    "    inp_file,\n",
    "    title=\"PLEIADES-generated Au-197 fitting for VENUS IPTS-35945\",\n",
    "    material_properties=au_material_props,\n",
    "    resolution_file_path=resolution_file_path  # Use absolute path\n",
    ")\n",
    "\n",
    "print(f\"✅ Generated INP file: {inp_file}\")\n",
    "\n",
    "# Show a sample of the generated INP content\n",
    "print(\"\\n📝 Sample INP content:\")\n",
    "with open(inp_file, 'r') as f:\n",
    "    for i, line in enumerate(f):\n",
    "        if i >= 10:  # Show first 10 lines\n",
    "            break\n",
    "        print(f\"   {line.rstrip()}\")"
   ]
  },
  {
   "cell_type": "code",
   "execution_count": 8,
   "id": "2d09b54c",
   "metadata": {},
   "outputs": [
    {
     "name": "stdout",
     "output_type": "stream",
     "text": [
      "🔧 Step 3: Setting up SAMMY execution...\n",
      "📄 Using combined data file: ipts_35945/twenty/Combined_Runs_8022_8023_8024_8025_8026_8027_transmission.twenty\n",
      "📄 Data file exists: True\n",
      "📁 SAMMY working directory: ipts_35945/sammy_working\n",
      "📁 SAMMY output directory: ipts_35945/sammy_output\n",
      "✅ LocalSammyRunner configured and ready\n"
     ]
    }
   ],
   "source": [
    "# Step 3: Set up SAMMY execution using LocalSammyRunner\n",
    "from pleiades.sammy.backends.local import LocalSammyRunner\n",
    "from pleiades.sammy.config import LocalSammyConfig\n",
    "from pleiades.sammy.interface import SammyFilesMultiMode\n",
    "\n",
    "print(\"🔧 Step 3: Setting up SAMMY execution...\")\n",
    "\n",
    "# Use the combined transmission data file\n",
    "combined_data_file = Path(twenty_dir) / \"Combined_Runs_8022_8023_8024_8025_8026_8027_transmission.twenty\"\n",
    "\n",
    "print(f\"📄 Using combined data file: {combined_data_file}\")\n",
    "print(f\"📄 Data file exists: {combined_data_file.exists()}\")\n",
    "\n",
    "# Create SammyFilesMultiMode container\n",
    "files = SammyFilesMultiMode(\n",
    "    input_file=inp_file,\n",
    "    json_config_file=Path(json_path),\n",
    "    data_file=combined_data_file,\n",
    "    endf_directory=Path(working_dir)\n",
    ")\n",
    "\n",
    "# Create SAMMY working and output directories\n",
    "sammy_working = Path(working_dir) / \"sammy_working\"\n",
    "sammy_output = Path(working_dir) / \"sammy_output\"\n",
    "sammy_working.mkdir(exist_ok=True)\n",
    "sammy_output.mkdir(exist_ok=True)\n",
    "\n",
    "print(f\"📁 SAMMY working directory: {sammy_working}\")\n",
    "print(f\"📁 SAMMY output directory: {sammy_output}\")\n",
    "\n",
    "# Create LocalSammyRunner configuration\n",
    "config = LocalSammyConfig(\n",
    "    sammy_executable=Path(\"/SNS/software/sammy/bin/sammy\"),\n",
    "    working_dir=sammy_working,\n",
    "    output_dir=sammy_output\n",
    ")\n",
    "\n",
    "runner = LocalSammyRunner(config)\n",
    "print(\"✅ LocalSammyRunner configured and ready\")"
   ]
  },
  {
   "cell_type": "markdown",
   "id": "56d1a7d4",
   "metadata": {},
   "source": [
    "## Fit for Number Densities"
   ]
  },
  {
   "cell_type": "code",
   "execution_count": 9,
   "id": "0be35b2e",
   "metadata": {},
   "outputs": [
    {
     "name": "stderr",
     "output_type": "stream",
     "text": [
      "\u001b[32m2025-09-11 13:00:14\u001b[0m | \u001b[34m\u001b[1mDEBUG   \u001b[0m | \u001b[36mpleiades.sammy.backends.local\u001b[0m:\u001b[36mprepare_environment\u001b[0m:\u001b[36m45\u001b[0m - \u001b[34m\u001b[1mValidating input files\u001b[0m\n",
      "\u001b[32m2025-09-11 13:00:14\u001b[0m | \u001b[34m\u001b[1mDEBUG   \u001b[0m | \u001b[36mpleiades.sammy.backends.local\u001b[0m:\u001b[36mprepare_environment\u001b[0m:\u001b[36m50\u001b[0m - \u001b[34m\u001b[1mPerforming JSON-ENDF mapping validation\u001b[0m\n",
      "\u001b[32m2025-09-11 13:00:14\u001b[0m | \u001b[34m\u001b[1mDEBUG   \u001b[0m | \u001b[36mpleiades.sammy.backends.local\u001b[0m:\u001b[36m_validate_json_endf_mapping\u001b[0m:\u001b[36m100\u001b[0m - \u001b[34m\u001b[1mJSON-ENDF validation passed: 1 ENDF files verified\u001b[0m\n",
      "\u001b[32m2025-09-11 13:00:14\u001b[0m | \u001b[34m\u001b[1mDEBUG   \u001b[0m | \u001b[36mpleiades.sammy.backends.local\u001b[0m:\u001b[36mprepare_environment\u001b[0m:\u001b[36m54\u001b[0m - \u001b[34m\u001b[1mMoving files to working directory\u001b[0m\n",
      "\u001b[32m2025-09-11 13:00:14\u001b[0m | \u001b[34m\u001b[1mDEBUG   \u001b[0m | \u001b[36mpleiades.sammy.interface\u001b[0m:\u001b[36mmove_to_working_dir\u001b[0m:\u001b[36m213\u001b[0m - \u001b[34m\u001b[1mMoving JSON mode files to working directory: ipts_35945/sammy_working\u001b[0m\n"
     ]
    },
    {
     "name": "stdout",
     "output_type": "stream",
     "text": [
      "🚀 Step 4: Executing SAMMY JSON mode fitting...\n",
      "🔄 Preparing SAMMY environment...\n"
     ]
    },
    {
     "name": "stderr",
     "output_type": "stream",
     "text": [
      "\u001b[32m2025-09-11 13:00:14\u001b[0m | \u001b[34m\u001b[1mDEBUG   \u001b[0m | \u001b[36mpleiades.sammy.interface\u001b[0m:\u001b[36mmove_to_working_dir\u001b[0m:\u001b[36m252\u001b[0m - \u001b[34m\u001b[1mSymlinked ENDF file: 079-Au-197.B-VIII.0.par\u001b[0m\n",
      "\u001b[32m2025-09-11 13:00:14\u001b[0m | \u001b[34m\u001b[1mDEBUG   \u001b[0m | \u001b[36mpleiades.sammy.backends.local\u001b[0m:\u001b[36mprepare_environment\u001b[0m:\u001b[36m58\u001b[0m - \u001b[34m\u001b[1mEnvironment preparation complete\u001b[0m\n",
      "\u001b[32m2025-09-11 13:00:14\u001b[0m | \u001b[1mINFO    \u001b[0m | \u001b[36mpleiades.sammy.backends.local\u001b[0m:\u001b[36mexecute_sammy\u001b[0m:\u001b[36m110\u001b[0m - \u001b[1mStarting SAMMY execution 7067a622-7fc7-4da3-891b-ca32e35fa55b\u001b[0m\n",
      "\u001b[32m2025-09-11 13:00:14\u001b[0m | \u001b[34m\u001b[1mDEBUG   \u001b[0m | \u001b[36mpleiades.sammy.backends.local\u001b[0m:\u001b[36mexecute_sammy\u001b[0m:\u001b[36m111\u001b[0m - \u001b[34m\u001b[1mWorking directory: ipts_35945/sammy_working\u001b[0m\n",
      "\u001b[32m2025-09-11 13:00:14\u001b[0m | \u001b[34m\u001b[1mDEBUG   \u001b[0m | \u001b[36mpleiades.sammy.backends.local\u001b[0m:\u001b[36mexecute_sammy\u001b[0m:\u001b[36m123\u001b[0m - \u001b[34m\u001b[1mUsing JSON mode command format\u001b[0m\n"
     ]
    },
    {
     "name": "stdout",
     "output_type": "stream",
     "text": [
      "⚡ Running SAMMY...\n"
     ]
    },
    {
     "name": "stderr",
     "output_type": "stream",
     "text": [
      "\u001b[32m2025-09-11 13:00:16\u001b[0m | \u001b[1mINFO    \u001b[0m | \u001b[36mpleiades.sammy.backends.local\u001b[0m:\u001b[36mexecute_sammy\u001b[0m:\u001b[36m156\u001b[0m - \u001b[1mSAMMY execution completed successfully for 7067a622-7fc7-4da3-891b-ca32e35fa55b\u001b[0m\n",
      "\u001b[32m2025-09-11 13:00:16\u001b[0m | \u001b[1mINFO    \u001b[0m | \u001b[36mpleiades.sammy.interface\u001b[0m:\u001b[36mcollect_outputs\u001b[0m:\u001b[36m431\u001b[0m - \u001b[1mCollecting outputs for execution 7067a622-7fc7-4da3-891b-ca32e35fa55b\u001b[0m\n",
      "\u001b[32m2025-09-11 13:00:16\u001b[0m | \u001b[34m\u001b[1mDEBUG   \u001b[0m | \u001b[36mpleiades.sammy.interface\u001b[0m:\u001b[36mcollect_outputs\u001b[0m:\u001b[36m442\u001b[0m - \u001b[34m\u001b[1mFound known output file: SAMMY.IO\u001b[0m\n",
      "\u001b[32m2025-09-11 13:00:16\u001b[0m | \u001b[34m\u001b[1mDEBUG   \u001b[0m | \u001b[36mpleiades.sammy.interface\u001b[0m:\u001b[36mcollect_outputs\u001b[0m:\u001b[36m442\u001b[0m - \u001b[34m\u001b[1mFound known output file: SAMMY.LST\u001b[0m\n",
      "\u001b[32m2025-09-11 13:00:16\u001b[0m | \u001b[34m\u001b[1mDEBUG   \u001b[0m | \u001b[36mpleiades.sammy.interface\u001b[0m:\u001b[36mcollect_outputs\u001b[0m:\u001b[36m442\u001b[0m - \u001b[34m\u001b[1mFound known output file: SAMMY.LPT\u001b[0m\n",
      "\u001b[32m2025-09-11 13:00:16\u001b[0m | \u001b[34m\u001b[1mDEBUG   \u001b[0m | \u001b[36mpleiades.sammy.interface\u001b[0m:\u001b[36mcollect_outputs\u001b[0m:\u001b[36m442\u001b[0m - \u001b[34m\u001b[1mFound known output file: SAMNDF.PAR\u001b[0m\n",
      "\u001b[32m2025-09-11 13:00:16\u001b[0m | \u001b[34m\u001b[1mDEBUG   \u001b[0m | \u001b[36mpleiades.sammy.interface\u001b[0m:\u001b[36mcollect_outputs\u001b[0m:\u001b[36m442\u001b[0m - \u001b[34m\u001b[1mFound known output file: SAMNDF.INP\u001b[0m\n",
      "\u001b[32m2025-09-11 13:00:16\u001b[0m | \u001b[34m\u001b[1mDEBUG   \u001b[0m | \u001b[36mpleiades.sammy.interface\u001b[0m:\u001b[36mcollect_outputs\u001b[0m:\u001b[36m448\u001b[0m - \u001b[34m\u001b[1mFound additional output file: SAMQUA.RED\u001b[0m\n",
      "\u001b[32m2025-09-11 13:00:16\u001b[0m | \u001b[34m\u001b[1mDEBUG   \u001b[0m | \u001b[36mpleiades.sammy.interface\u001b[0m:\u001b[36mcollect_outputs\u001b[0m:\u001b[36m448\u001b[0m - \u001b[34m\u001b[1mFound additional output file: SAMMY.ODF\u001b[0m\n",
      "\u001b[32m2025-09-11 13:00:16\u001b[0m | \u001b[34m\u001b[1mDEBUG   \u001b[0m | \u001b[36mpleiades.sammy.interface\u001b[0m:\u001b[36mcollect_outputs\u001b[0m:\u001b[36m448\u001b[0m - \u001b[34m\u001b[1mFound additional output file: SAMMY.PLT\u001b[0m\n",
      "\u001b[32m2025-09-11 13:00:16\u001b[0m | \u001b[34m\u001b[1mDEBUG   \u001b[0m | \u001b[36mpleiades.sammy.interface\u001b[0m:\u001b[36mcollect_outputs\u001b[0m:\u001b[36m448\u001b[0m - \u001b[34m\u001b[1mFound additional output file: SAMQUA.PAR\u001b[0m\n",
      "\u001b[32m2025-09-11 13:00:16\u001b[0m | \u001b[34m\u001b[1mDEBUG   \u001b[0m | \u001b[36mpleiades.sammy.interface\u001b[0m:\u001b[36mcollect_outputs\u001b[0m:\u001b[36m448\u001b[0m - \u001b[34m\u001b[1mFound additional output file: SAMMY.PAR\u001b[0m\n",
      "\u001b[32m2025-09-11 13:00:16\u001b[0m | \u001b[34m\u001b[1mDEBUG   \u001b[0m | \u001b[36mpleiades.sammy.interface\u001b[0m:\u001b[36mcollect_outputs\u001b[0m:\u001b[36m448\u001b[0m - \u001b[34m\u001b[1mFound additional output file: SAM46.DAT\u001b[0m\n",
      "\u001b[32m2025-09-11 13:00:16\u001b[0m | \u001b[34m\u001b[1mDEBUG   \u001b[0m | \u001b[36mpleiades.sammy.interface\u001b[0m:\u001b[36mcollect_outputs\u001b[0m:\u001b[36m448\u001b[0m - \u001b[34m\u001b[1mFound additional output file: SAM41.DAT\u001b[0m\n",
      "\u001b[32m2025-09-11 13:00:16\u001b[0m | \u001b[34m\u001b[1mDEBUG   \u001b[0m | \u001b[36mpleiades.sammy.interface\u001b[0m:\u001b[36mcollect_outputs\u001b[0m:\u001b[36m448\u001b[0m - \u001b[34m\u001b[1mFound additional output file: SAMMY.RED\u001b[0m\n",
      "\u001b[32m2025-09-11 13:00:16\u001b[0m | \u001b[34m\u001b[1mDEBUG   \u001b[0m | \u001b[36mpleiades.sammy.interface\u001b[0m:\u001b[36mcollect_outputs\u001b[0m:\u001b[36m448\u001b[0m - \u001b[34m\u001b[1mFound additional output file: SAMMY.COV\u001b[0m\n",
      "\u001b[32m2025-09-11 13:00:16\u001b[0m | \u001b[34m\u001b[1mDEBUG   \u001b[0m | \u001b[36mpleiades.sammy.interface\u001b[0m:\u001b[36mcollect_outputs\u001b[0m:\u001b[36m465\u001b[0m - \u001b[34m\u001b[1mMoved ipts_35945/sammy_working/SAMMY.IO to ipts_35945/sammy_output/SAMMY.IO\u001b[0m\n",
      "\u001b[32m2025-09-11 13:00:16\u001b[0m | \u001b[34m\u001b[1mDEBUG   \u001b[0m | \u001b[36mpleiades.sammy.interface\u001b[0m:\u001b[36mcollect_outputs\u001b[0m:\u001b[36m465\u001b[0m - \u001b[34m\u001b[1mMoved ipts_35945/sammy_working/SAMNDF.INP to ipts_35945/sammy_output/SAMNDF.INP\u001b[0m\n",
      "\u001b[32m2025-09-11 13:00:16\u001b[0m | \u001b[34m\u001b[1mDEBUG   \u001b[0m | \u001b[36mpleiades.sammy.interface\u001b[0m:\u001b[36mcollect_outputs\u001b[0m:\u001b[36m465\u001b[0m - \u001b[34m\u001b[1mMoved ipts_35945/sammy_working/SAMQUA.PAR to ipts_35945/sammy_output/SAMQUA.PAR\u001b[0m\n",
      "\u001b[32m2025-09-11 13:00:16\u001b[0m | \u001b[34m\u001b[1mDEBUG   \u001b[0m | \u001b[36mpleiades.sammy.interface\u001b[0m:\u001b[36mcollect_outputs\u001b[0m:\u001b[36m465\u001b[0m - \u001b[34m\u001b[1mMoved ipts_35945/sammy_working/SAM46.DAT to ipts_35945/sammy_output/SAM46.DAT\u001b[0m\n",
      "\u001b[32m2025-09-11 13:00:16\u001b[0m | \u001b[34m\u001b[1mDEBUG   \u001b[0m | \u001b[36mpleiades.sammy.interface\u001b[0m:\u001b[36mcollect_outputs\u001b[0m:\u001b[36m465\u001b[0m - \u001b[34m\u001b[1mMoved ipts_35945/sammy_working/SAMMY.LST to ipts_35945/sammy_output/SAMMY.LST\u001b[0m\n",
      "\u001b[32m2025-09-11 13:00:16\u001b[0m | \u001b[34m\u001b[1mDEBUG   \u001b[0m | \u001b[36mpleiades.sammy.interface\u001b[0m:\u001b[36mcollect_outputs\u001b[0m:\u001b[36m465\u001b[0m - \u001b[34m\u001b[1mMoved ipts_35945/sammy_working/SAMNDF.PAR to ipts_35945/sammy_output/SAMNDF.PAR\u001b[0m\n",
      "\u001b[32m2025-09-11 13:00:16\u001b[0m | \u001b[34m\u001b[1mDEBUG   \u001b[0m | \u001b[36mpleiades.sammy.interface\u001b[0m:\u001b[36mcollect_outputs\u001b[0m:\u001b[36m465\u001b[0m - \u001b[34m\u001b[1mMoved ipts_35945/sammy_working/SAMQUA.RED to ipts_35945/sammy_output/SAMQUA.RED\u001b[0m\n",
      "\u001b[32m2025-09-11 13:00:16\u001b[0m | \u001b[34m\u001b[1mDEBUG   \u001b[0m | \u001b[36mpleiades.sammy.interface\u001b[0m:\u001b[36mcollect_outputs\u001b[0m:\u001b[36m465\u001b[0m - \u001b[34m\u001b[1mMoved ipts_35945/sammy_working/SAMMY.PLT to ipts_35945/sammy_output/SAMMY.PLT\u001b[0m\n",
      "\u001b[32m2025-09-11 13:00:16\u001b[0m | \u001b[34m\u001b[1mDEBUG   \u001b[0m | \u001b[36mpleiades.sammy.interface\u001b[0m:\u001b[36mcollect_outputs\u001b[0m:\u001b[36m465\u001b[0m - \u001b[34m\u001b[1mMoved ipts_35945/sammy_working/SAM41.DAT to ipts_35945/sammy_output/SAM41.DAT\u001b[0m\n",
      "\u001b[32m2025-09-11 13:00:16\u001b[0m | \u001b[34m\u001b[1mDEBUG   \u001b[0m | \u001b[36mpleiades.sammy.interface\u001b[0m:\u001b[36mcollect_outputs\u001b[0m:\u001b[36m465\u001b[0m - \u001b[34m\u001b[1mMoved ipts_35945/sammy_working/SAMMY.COV to ipts_35945/sammy_output/SAMMY.COV\u001b[0m\n",
      "\u001b[32m2025-09-11 13:00:16\u001b[0m | \u001b[34m\u001b[1mDEBUG   \u001b[0m | \u001b[36mpleiades.sammy.interface\u001b[0m:\u001b[36mcollect_outputs\u001b[0m:\u001b[36m465\u001b[0m - \u001b[34m\u001b[1mMoved ipts_35945/sammy_working/SAMMY.PAR to ipts_35945/sammy_output/SAMMY.PAR\u001b[0m\n",
      "\u001b[32m2025-09-11 13:00:16\u001b[0m | \u001b[34m\u001b[1mDEBUG   \u001b[0m | \u001b[36mpleiades.sammy.interface\u001b[0m:\u001b[36mcollect_outputs\u001b[0m:\u001b[36m465\u001b[0m - \u001b[34m\u001b[1mMoved ipts_35945/sammy_working/SAMMY.ODF to ipts_35945/sammy_output/SAMMY.ODF\u001b[0m\n",
      "\u001b[32m2025-09-11 13:00:16\u001b[0m | \u001b[34m\u001b[1mDEBUG   \u001b[0m | \u001b[36mpleiades.sammy.interface\u001b[0m:\u001b[36mcollect_outputs\u001b[0m:\u001b[36m465\u001b[0m - \u001b[34m\u001b[1mMoved ipts_35945/sammy_working/SAMMY.LPT to ipts_35945/sammy_output/SAMMY.LPT\u001b[0m\n",
      "\u001b[32m2025-09-11 13:00:16\u001b[0m | \u001b[34m\u001b[1mDEBUG   \u001b[0m | \u001b[36mpleiades.sammy.interface\u001b[0m:\u001b[36mcollect_outputs\u001b[0m:\u001b[36m465\u001b[0m - \u001b[34m\u001b[1mMoved ipts_35945/sammy_working/SAMMY.RED to ipts_35945/sammy_output/SAMMY.RED\u001b[0m\n",
      "\u001b[32m2025-09-11 13:00:16\u001b[0m | \u001b[1mINFO    \u001b[0m | \u001b[36mpleiades.sammy.interface\u001b[0m:\u001b[36mcollect_outputs\u001b[0m:\u001b[36m470\u001b[0m - \u001b[1mSuccessfully collected 14 output files in 0.04 seconds\u001b[0m\n",
      "\u001b[32m2025-09-11 13:00:16\u001b[0m | \u001b[34m\u001b[1mDEBUG   \u001b[0m | \u001b[36mpleiades.sammy.backends.local\u001b[0m:\u001b[36mcleanup\u001b[0m:\u001b[36m174\u001b[0m - \u001b[34m\u001b[1mPerforming cleanup for local backend\u001b[0m\n"
     ]
    },
    {
     "name": "stdout",
     "output_type": "stream",
     "text": [
      "\n",
      "📊 SAMMY Execution Results:\n",
      "   Success: True\n",
      "   Execution time: 2.18s\n",
      "   Console output length: 5585 chars\n",
      "   ✅ SAMMY completed normally\n",
      "\n",
      "📥 Step 5: Collecting SAMMY output files...\n",
      "\n",
      "📂 SAMMY Output Files in ipts_35945/sammy_output:\n",
      "   ✅ SAMMY.LPT (14.5 KB)\n",
      "   ✅ SAMMY.LST (1050.4 KB)\n",
      "   ✅ SAMMY.ODF (217.0 KB)\n",
      "   ✅ SAMMY.PAR (19.1 KB)\n",
      "   ✅ SAMNDF.PAR (23.5 KB)\n",
      "   ✅ SAMNDF.INP (3.2 KB)\n",
      "\n",
      "✅ Generated 6/6 expected files\n",
      "🧹 Cleaning up working directory...\n"
     ]
    }
   ],
   "source": [
    "# Step 4: Execute SAMMY fitting\n",
    "print(\"🚀 Step 4: Executing SAMMY JSON mode fitting...\")\n",
    "\n",
    "# Prepare the environment (copy/symlink files to working directory)\n",
    "print(\"🔄 Preparing SAMMY environment...\")\n",
    "runner.prepare_environment(files)\n",
    "\n",
    "# Execute SAMMY\n",
    "print(\"⚡ Running SAMMY...\")\n",
    "result = runner.execute_sammy(files)\n",
    "\n",
    "# Display execution results\n",
    "print(f\"\\n📊 SAMMY Execution Results:\")\n",
    "print(f\"   Success: {result.success}\")\n",
    "print(f\"   Execution time: {result.runtime_seconds:.2f}s\")\n",
    "print(f\"   Console output length: {len(result.console_output)} chars\")\n",
    "\n",
    "if result.error_message:\n",
    "    print(f\"   ⚠️  Error: {result.error_message[:200]}...\")\n",
    "    \n",
    "if result.console_output and \"Normal finish to SAMMY\" in result.console_output:\n",
    "    print(f\"   ✅ SAMMY completed normally\")\n",
    "elif result.console_output:\n",
    "    print(f\"   ⚠️  Console output (last 300 chars): {result.console_output[-300:]}\")\n",
    "\n",
    "# Step 5: Collect outputs (copy results from working_dir to output_dir)\n",
    "print(f\"\\n📥 Step 5: Collecting SAMMY output files...\")\n",
    "runner.collect_outputs(result=result)\n",
    "\n",
    "# Check generated output files in the output directory\n",
    "print(f\"\\n📂 SAMMY Output Files in {sammy_output}:\")\n",
    "expected_outputs = [\"SAMMY.LPT\", \"SAMMY.LST\", \"SAMMY.ODF\", \"SAMMY.PAR\", \"SAMNDF.PAR\", \"SAMNDF.INP\"]\n",
    "\n",
    "found_outputs = []\n",
    "for output_file in expected_outputs:\n",
    "    output_path = sammy_output / output_file\n",
    "    if output_path.exists():\n",
    "        found_outputs.append(output_file)\n",
    "        size_kb = output_path.stat().st_size / 1024\n",
    "        print(f\"   ✅ {output_file} ({size_kb:.1f} KB)\")\n",
    "    else:\n",
    "        print(f\"   ❌ {output_file} (missing)\")\n",
    "\n",
    "print(f\"\\n✅ Generated {len(found_outputs)}/{len(expected_outputs)} expected files\")\n",
    "\n",
    "# Cleanup\n",
    "print(\"🧹 Cleaning up working directory...\")\n",
    "runner.cleanup()"
   ]
  },
  {
   "cell_type": "markdown",
   "id": "f1c1d220",
   "metadata": {},
   "source": [
    "## Analyze Results"
   ]
  },
  {
   "cell_type": "code",
   "execution_count": null,
   "id": "2e8d8351",
   "metadata": {},
   "outputs": [],
   "source": []
  },
  {
   "cell_type": "markdown",
   "id": "4126a28e",
   "metadata": {},
   "source": [
    "## Summary"
   ]
  },
  {
   "cell_type": "code",
   "execution_count": null,
   "id": "a3d30eba",
   "metadata": {},
   "outputs": [],
   "source": []
  }
 ],
 "metadata": {
  "kernelspec": {
   "display_name": "default",
   "language": "python",
   "name": "python3"
  },
  "language_info": {
   "codemirror_mode": {
    "name": "ipython",
    "version": 3
   },
   "file_extension": ".py",
   "mimetype": "text/x-python",
   "name": "python",
   "nbconvert_exporter": "python",
   "pygments_lexer": "ipython3",
   "version": "3.11.13"
  }
 },
 "nbformat": 4,
 "nbformat_minor": 5
}
