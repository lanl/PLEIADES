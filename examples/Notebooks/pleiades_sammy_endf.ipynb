{
 "cells": [
  {
   "cell_type": "markdown",
   "id": "2e9d2498",
   "metadata": {},
   "source": [
    "# PLEIADES Tutorial - SAMMY Exercise EX027: Generating Parameter Files Based on ENDF Files\n",
    "\n",
    "This exercise demonstrates how to use SAMMY to generate parameter files starting from ENDF files.\n",
    "The goal is to familiarize analysts with the process of running SAMMY directly from ENDF data and modifying the output for further analysis."
   ]
  },
  {
   "cell_type": "markdown",
   "id": "56c4bf60",
   "metadata": {},
   "source": [
    "## Purpose\n",
    "The purpose of this exercise is to learn how to:\n",
    "1. Run SAMMY using ENDF files as input.\n",
    "2. Generate SAMMY-style INPut and PARameter files for subsequent runs.\n",
    "3. Modify and refine the generated files to fit experimental data."
   ]
  },
  {
   "cell_type": "markdown",
   "id": "9dba7ae9",
   "metadata": {},
   "source": [
    "## Description\n",
    "SAMMY can read **File 2** of an **ENDF** file and perform a run as specified in the INPut file.\n",
    "The output includes SAMMY-style INPut and PARameter files, which can be used for further analysis.\n",
    "However, since ENDF files lack some information required by SAMMY, only simple no-Bayes runs can be performed directly from ENDF files."
   ]
  },
  {
   "cell_type": "markdown",
   "id": "e75e460f",
   "metadata": {},
   "source": [
    "## Instructions\n",
    "1. **Initial Run**:\n",
    "    - Use the command file `ex027a` to set up a no-Bayes run starting from the ENDF file.\n",
    "    - The INPut file `ex027a.inp` does not include spin group information, which will be extracted from the ENDF file.\n",
    "    - The experimental data file `ex027a.dat` assumes a 10% uncertainty due to the lack of provided uncertainties in the original data.\n",
    "    - Run this setup to generate SAMMY-style INPut and PARameter files.\n",
    "\n",
    "2. **Refining the Output**:\n",
    "    - Modify the generated INPut and PARameter files for further analysis:\n",
    "      - Update the thickness to `0.002800 atoms/barn`.\n",
    "      - Enable single-scattering corrections and normalize as cross sections.\n",
    "    - For Bayesian analysis, flag at least one parameter in the PARameter file.\n",
    "    - Adjust the uncertainty settings in the INPut file by setting the `VMIN` parameter in Card Set 7 to account for unrealistic weights on background points.\n",
    "\n",
    "3. **Fitting the Data**:\n",
    "    - Start with small energy ranges for better fits, as the data set contains many points and gaps.\n",
    "    - Normalize the data appropriately. For example, in the energy range from 6 to 100 eV, a normalization factor of nearly 10 is required.\n",
    "    - Experiment with fitting strategies to improve the fit quality.\n",
    "\n",
    "This exercise provides a hands-on approach to understanding the workflow of using SAMMY with ENDF files and refining the results for meaningful analysis.\n"
   ]
  },
  {
   "cell_type": "markdown",
   "id": "1110862b",
   "metadata": {},
   "source": [
    "## Step 1: Initial Run\n",
    "\n",
    "Let's create a workspace directory to host all the runtime files for this exercise."
   ]
  },
  {
   "cell_type": "code",
   "execution_count": 1,
   "id": "e15942e4",
   "metadata": {},
   "outputs": [],
   "source": [
    "from pathlib import Path\n",
    "\n",
    "# Get current working directory (notebook location)\n",
    "current_dir = Path.cwd()\n",
    "\n",
    "# Create a dedicated sammy_workspaces folder for all runs\n",
    "sammy_base_dir = current_dir / \"workspaces\"\n",
    "sammy_base_dir.mkdir(exist_ok=True)\n",
    "\n",
    "# Create a working directory within our persistent folder\n",
    "base_dir_name = f\"sammy_endf_example\"\n",
    "working_dir = sammy_base_dir / base_dir_name  # This is for this tutorial\n",
    "# -- fine grained sub-directories for different output\n",
    "output_dir = working_dir / \"results\"\n",
    "endf_dir = working_dir / \"endf\"\n",
    "endf_output_dir = endf_dir / \"results\"\n",
    "# -- create the directories\n",
    "working_dir.mkdir(exist_ok=True)\n",
    "output_dir.mkdir(exist_ok=True)\n",
    "endf_dir.mkdir(exist_ok=True)\n",
    "endf_output_dir.mkdir(exist_ok=True)"
   ]
  },
  {
   "cell_type": "markdown",
   "id": "1f8b05ff",
   "metadata": {},
   "source": [
    "The example input, parameter and data files are located in `../samexm/ex027/`, so we will need to specify the source directory for easy access."
   ]
  },
  {
   "cell_type": "code",
   "execution_count": 2,
   "id": "b06b18d9",
   "metadata": {},
   "outputs": [
    {
     "name": "stdout",
     "output_type": "stream",
     "text": [
      "Source directory tree:\n",
      "├── endf\n",
      "│   ├── results\n",
      "│   │   ├── SAM46.DAT\n",
      "│   │   ├── SAMMY.IO\n",
      "│   │   ├── SAMMY.LPT\n",
      "│   │   ├── SAMMY.LST\n",
      "│   │   ├── SAMMY.ODF\n",
      "│   │   ├── SAMMY.PLT\n",
      "│   │   ├── SAMNDF.INP\n",
      "│   │   ├── SAMNDF.PAR\n",
      "│   │   ├── SAMQUA.PAR\n",
      "│   │   └── SAMQUA.RED\n",
      "│   ├── endf_dummy.dat\n",
      "│   ├── ex027a\n",
      "│   ├── ex027a.endf\n",
      "│   └── ex027a.inp\n",
      "├── ex027.dat\n",
      "├── ex027b\n",
      "├── ex027b.inp\n",
      "├── ex027b.par\n",
      "└── README.FIRST\n"
     ]
    }
   ],
   "source": [
    "source_dir = current_dir / \"../samexm/ex027\"\n",
    "\n",
    "# let's list the tree of the source directory\n",
    "def list_tree(startpath: Path, prefix: str = \"\"):\n",
    "    \"\"\"Recursively print a tree structure of the directory like `tree` command.\"\"\"\n",
    "    entries = sorted(startpath.iterdir(), key=lambda x: (not x.is_dir(), x.name.lower()))\n",
    "    entries_count = len(entries)\n",
    "\n",
    "    for index, path in enumerate(entries):\n",
    "        connector = \"└── \" if index == entries_count - 1 else \"├── \"\n",
    "        print(prefix + connector + path.name)\n",
    "\n",
    "        if path.is_dir():\n",
    "            extension = \"    \" if index == entries_count - 1 else \"│   \"\n",
    "            list_tree(path, prefix + extension)\n",
    "\n",
    "print(\"Source directory tree:\")\n",
    "list_tree(source_dir)"
   ]
  },
  {
   "cell_type": "markdown",
   "id": "ec2aa415",
   "metadata": {},
   "source": [
    "Next step, we need to make sure that the `sammy` executable is available.\n",
    "\n",
    "> Technically, PLEIADES SAMMY runner will perform the check to ensure that the executable is available, but it is a good practice to check it manually."
   ]
  },
  {
   "cell_type": "code",
   "execution_count": 3,
   "id": "7f4aa6aa",
   "metadata": {},
   "outputs": [],
   "source": [
    "import subprocess\n",
    "\n",
    "# Grab the SAMMY executable \n",
    "sammy_executable = subprocess.run([\"which\", \"sammy\"], capture_output=True, text=True).stdout.strip()\n",
    "\n",
    "if not sammy_executable:\n",
    "    raise RuntimeError(\"SAMMY executable not found. Please ensure SAMMY is installed and in your PATH.\")"
   ]
  },
  {
   "cell_type": "markdown",
   "id": "f8afb233",
   "metadata": {},
   "source": [
    "Assuming we found `sammy` in the `PATH` (i.e. no error in the cell above), we can configure a local SAMMY runner from PLEIADES."
   ]
  },
  {
   "cell_type": "code",
   "execution_count": 4,
   "id": "ff2e716e",
   "metadata": {},
   "outputs": [
    {
     "name": "stderr",
     "output_type": "stream",
     "text": [
      "\u001b[32m2025-05-05 14:15:25\u001b[0m | \u001b[34m\u001b[1mDEBUG   \u001b[0m | \u001b[36mpleiades.sammy.factory\u001b[0m:\u001b[36mlist_available_backends\u001b[0m:\u001b[36m76\u001b[0m - \u001b[34m\u001b[1mLocal SAMMY found at: /Users/8cz/code.ornl.gov/SAMMY/build/bin/sammy\u001b[0m\n",
      "\u001b[32m2025-05-05 14:15:26\u001b[0m | \u001b[34m\u001b[1mDEBUG   \u001b[0m | \u001b[36mpleiades.sammy.factory\u001b[0m:\u001b[36mlist_available_backends\u001b[0m:\u001b[36m90\u001b[0m - \u001b[34m\u001b[1mDocker backend available\u001b[0m\n",
      "\u001b[32m2025-05-05 14:15:26\u001b[0m | \u001b[34m\u001b[1mDEBUG   \u001b[0m | \u001b[36mpleiades.sammy.factory\u001b[0m:\u001b[36mlist_available_backends\u001b[0m:\u001b[36m100\u001b[0m - \u001b[34m\u001b[1mNOVA credentials found\u001b[0m\n"
     ]
    },
    {
     "data": {
      "text/plain": [
       "<pleiades.sammy.backends.local.LocalSammyRunner at 0x108c08b90>"
      ]
     },
     "execution_count": 4,
     "metadata": {},
     "output_type": "execute_result"
    }
   ],
   "source": [
    "from pleiades.sammy.factory import SammyFactory\n",
    "\n",
    "runner = SammyFactory.create_runner(\n",
    "    backend_type=\"local\",\n",
    "    working_dir=endf_dir,\n",
    "    output_dir=endf_output_dir,\n",
    ")\n",
    "\n",
    "runner"
   ]
  },
  {
   "cell_type": "markdown",
   "id": "0276d31b",
   "metadata": {},
   "source": [
    "Now it's time to specify the input files for the run."
   ]
  },
  {
   "cell_type": "code",
   "execution_count": 5,
   "id": "96b701ab",
   "metadata": {},
   "outputs": [],
   "source": [
    "from pleiades.sammy.interface import SammyFiles\n",
    "\n",
    "files_endf_step_0 = SammyFiles(\n",
    "    input_file=source_dir / \"endf/ex027a.inp\",\n",
    "    parameter_file=source_dir / \"endf/ex027a.endf\",\n",
    "    data_file=source_dir / \"endf/endf_dummy.dat\",\n",
    ")"
   ]
  },
  {
   "cell_type": "markdown",
   "id": "de2e7fd7",
   "metadata": {},
   "source": [
    "Before we kick off the run, we need to allow sammy runner to check the file validity and move things into the working directory (if needed)."
   ]
  },
  {
   "cell_type": "code",
   "execution_count": 6,
   "id": "2f35b181",
   "metadata": {},
   "outputs": [
    {
     "name": "stderr",
     "output_type": "stream",
     "text": [
      "\u001b[32m2025-05-05 14:15:48\u001b[0m | \u001b[34m\u001b[1mDEBUG   \u001b[0m | \u001b[36mpleiades.sammy.backends.local\u001b[0m:\u001b[36mprepare_environment\u001b[0m:\u001b[36m44\u001b[0m - \u001b[34m\u001b[1mValidating input files\u001b[0m\n",
      "\u001b[32m2025-05-05 14:15:48\u001b[0m | \u001b[34m\u001b[1mDEBUG   \u001b[0m | \u001b[36mpleiades.sammy.backends.local\u001b[0m:\u001b[36mprepare_environment\u001b[0m:\u001b[36m48\u001b[0m - \u001b[34m\u001b[1mMoving files to working directory\u001b[0m\n",
      "\u001b[32m2025-05-05 14:15:48\u001b[0m | \u001b[34m\u001b[1mDEBUG   \u001b[0m | \u001b[36mpleiades.sammy.interface\u001b[0m:\u001b[36mmove_to_working_dir\u001b[0m:\u001b[36m84\u001b[0m - \u001b[34m\u001b[1mMoving files to working directory: /Users/8cz/github.com/PLEIADES/examples/Notebooks/workspaces/sammy_endf_example/endf\u001b[0m\n",
      "\u001b[32m2025-05-05 14:15:48\u001b[0m | \u001b[34m\u001b[1mDEBUG   \u001b[0m | \u001b[36mpleiades.sammy.interface\u001b[0m:\u001b[36mmove_to_working_dir\u001b[0m:\u001b[36m100\u001b[0m - \u001b[34m\u001b[1mCopying input file: /Users/8cz/github.com/PLEIADES/examples/Notebooks/../samexm/ex027/endf/ex027a.inp -> /Users/8cz/github.com/PLEIADES/examples/Notebooks/workspaces/sammy_endf_example/endf/ex027a.inp\u001b[0m\n",
      "\u001b[32m2025-05-05 14:15:48\u001b[0m | \u001b[34m\u001b[1mDEBUG   \u001b[0m | \u001b[36mpleiades.sammy.interface\u001b[0m:\u001b[36mmove_to_working_dir\u001b[0m:\u001b[36m109\u001b[0m - \u001b[34m\u001b[1mCopying parameter file: /Users/8cz/github.com/PLEIADES/examples/Notebooks/../samexm/ex027/endf/ex027a.endf -> /Users/8cz/github.com/PLEIADES/examples/Notebooks/workspaces/sammy_endf_example/endf/ex027a.endf\u001b[0m\n",
      "\u001b[32m2025-05-05 14:15:48\u001b[0m | \u001b[34m\u001b[1mDEBUG   \u001b[0m | \u001b[36mpleiades.sammy.interface\u001b[0m:\u001b[36mmove_to_working_dir\u001b[0m:\u001b[36m118\u001b[0m - \u001b[34m\u001b[1mCreating symlink for data file: /Users/8cz/github.com/PLEIADES/examples/Notebooks/../samexm/ex027/endf/endf_dummy.dat -> /Users/8cz/github.com/PLEIADES/examples/Notebooks/workspaces/sammy_endf_example/endf/endf_dummy.dat\u001b[0m\n",
      "\u001b[32m2025-05-05 14:15:48\u001b[0m | \u001b[34m\u001b[1mDEBUG   \u001b[0m | \u001b[36mpleiades.sammy.backends.local\u001b[0m:\u001b[36mprepare_environment\u001b[0m:\u001b[36m52\u001b[0m - \u001b[34m\u001b[1mEnvironment preparation complete\u001b[0m\n"
     ]
    },
    {
     "name": "stdout",
     "output_type": "stream",
     "text": [
      "Runner configuration:\n",
      "Working directory: /Users/8cz/github.com/PLEIADES/examples/Notebooks/workspaces/sammy_endf_example/endf\n",
      "Output directory: /Users/8cz/github.com/PLEIADES/examples/Notebooks/workspaces/sammy_endf_example/endf/results\n",
      "SAMMY executable: /Users/8cz/code.ornl.gov/SAMMY/build/bin/sammy\n"
     ]
    }
   ],
   "source": [
    "runner.prepare_environment(files=files_endf_step_0)\n",
    "\n",
    "# Print the configuration to verify\n",
    "print(\"Runner configuration:\")\n",
    "print(f\"Working directory: {runner.config.working_dir}\")\n",
    "print(f\"Output directory: {runner.config.output_dir}\")\n",
    "print(f\"SAMMY executable: {runner.config.sammy_executable}\")"
   ]
  },
  {
   "cell_type": "markdown",
   "id": "cc5b6adf",
   "metadata": {},
   "source": [
    "Now that everything is set up, we can run the SAMMY job."
   ]
  },
  {
   "cell_type": "code",
   "execution_count": 7,
   "id": "7b91efcd",
   "metadata": {},
   "outputs": [
    {
     "name": "stderr",
     "output_type": "stream",
     "text": [
      "\u001b[32m2025-05-05 14:15:52\u001b[0m | \u001b[1mINFO    \u001b[0m | \u001b[36mpleiades.sammy.backends.local\u001b[0m:\u001b[36mexecute_sammy\u001b[0m:\u001b[36m62\u001b[0m - \u001b[1mStarting SAMMY execution 16fa7ea3-b2dc-48c3-88ea-0ad642e03ed6\u001b[0m\n",
      "\u001b[32m2025-05-05 14:15:52\u001b[0m | \u001b[34m\u001b[1mDEBUG   \u001b[0m | \u001b[36mpleiades.sammy.backends.local\u001b[0m:\u001b[36mexecute_sammy\u001b[0m:\u001b[36m63\u001b[0m - \u001b[34m\u001b[1mWorking directory: /Users/8cz/github.com/PLEIADES/examples/Notebooks/workspaces/sammy_endf_example/endf\u001b[0m\n",
      "\u001b[32m2025-05-05 14:16:02\u001b[0m | \u001b[1mINFO    \u001b[0m | \u001b[36mpleiades.sammy.backends.local\u001b[0m:\u001b[36mexecute_sammy\u001b[0m:\u001b[36m93\u001b[0m - \u001b[1mSAMMY execution completed successfully for 16fa7ea3-b2dc-48c3-88ea-0ad642e03ed6\u001b[0m\n"
     ]
    },
    {
     "name": "stdout",
     "output_type": "stream",
     "text": [
      "\n",
      " **********************************************************\n",
      " ***                                                    ***\n",
      " ***    SAMMY Version 8.1.pre-b1 - 57c3b4aa             ***                      \n",
      " ***                                                    ***\n",
      " **********************************************************\n",
      "\n",
      " *** SAMMAS       3 Jan 08 ***\n",
      "                                         CPU for this section is      0.00 sec\n",
      " What is the name of the INPut file? \n",
      " >>> ex027a.inp                                                             <<<\n",
      " What is the name of the PARameter file? \n",
      " >>> ex027a.endf                                                            <<<\n",
      " What is the DATa file name? EMIN? EMAX? \n",
      " >>> endf_dummy.dat                                                         <<<\n",
      " Emin and Emax =   1.000000E-05   10000.0    \n",
      " Skipping over unresolved range if reading ENDF data                  \n",
      "ENDF file has Lrf=  3\n",
      " What is new EMIN? EMAX? DATa file name? \n",
      " \n",
      "                                         CPU for this section is      0.01 sec\n",
      " *** SAMMY-INPUT 14 Aug 08 ***\n",
      "                                         CPU for this section is      0.00 sec\n",
      " *** SAMMY-PAR   11 Aug 08 ***\n",
      "                                         CPU for this section is      0.00 sec\n",
      " *** SAMMY-NEW   18 Jul 08 ***\n",
      "                                         CPU for this section is      0.04 sec\n",
      " *** SAMMY-DATA  28 Dec 07 *** 1.0000E-05 to 1.0000E+04\n",
      "                                         CPU for this section is      0.16 sec\n",
      "  *** SAMMY-THEOR 15 Nov 07 ***\n",
      "                                         CPU for this section is      0.00 sec\n",
      "  *** SAMMY-XCT   13 Aug 08 ***\n",
      "                                         CPU for this section is     10.14 sec\n",
      "  *** SAMMY-FGM    3 Oct 08 ***\n",
      "Kcmin & calc%Ipnts in Modsmp=    1    3\n",
      "                                         CPU for this section is      0.00 sec\n",
      "  *** SAMMY-INTRP  2 Jan 08 ***\n",
      "                                         CPU for this section is      0.00 sec\n",
      "  *** SAMMY-SQUAR 20 Dec 07 ***\n",
      "                                         CPU for this section is      0.00 sec\n",
      " *** SAMMY-NPV   31 Dec 07 ***\n",
      "                                         CPU for this section is      0.00 sec\n",
      "  *** SAMMY-END    3 Jan 08 ***\n",
      "                               Total time =    10.34 seconds\n",
      "                               Total time =    10.34 seconds\n",
      " Normal finish to SAMMY\n",
      "Note: The following floating-point exceptions are signalling: IEEE_INVALID_FLAG IEEE_DIVIDE_BY_ZERO\n",
      "\n"
     ]
    }
   ],
   "source": [
    "# execute\n",
    "result = runner.execute_sammy(files_endf_step_0)\n",
    "\n",
    "# Print the results of the SAMMY run\n",
    "if result.success:\n",
    "    print(result.console_output)\n"
   ]
  },
  {
   "cell_type": "markdown",
   "id": "c1dd189a",
   "metadata": {},
   "source": [
    "Notice that we have a lot of results file sitting in the working directory"
   ]
  },
  {
   "cell_type": "code",
   "execution_count": 8,
   "id": "f730e8d6",
   "metadata": {},
   "outputs": [
    {
     "name": "stdout",
     "output_type": "stream",
     "text": [
      "├── results\n",
      "├── endf_dummy.dat\n",
      "├── ex027a.endf\n",
      "├── ex027a.inp\n",
      "├── SAM46.DAT\n",
      "├── SAMMY.IO\n",
      "├── SAMMY.LPT\n",
      "├── SAMNDF.INP\n",
      "├── SAMNDF.PAR\n",
      "├── SAMQUA.PAR\n",
      "└── SAMQUA.RED\n"
     ]
    }
   ],
   "source": [
    "list_tree(endf_dir)"
   ]
  },
  {
   "cell_type": "markdown",
   "id": "3d0d1440",
   "metadata": {},
   "source": [
    "Let's collect the SAMMY outputs and move them to the `output` directory, i.e. `results`"
   ]
  },
  {
   "cell_type": "code",
   "execution_count": 9,
   "id": "91ac350e",
   "metadata": {},
   "outputs": [
    {
     "name": "stderr",
     "output_type": "stream",
     "text": [
      "\u001b[32m2025-05-05 14:16:18\u001b[0m | \u001b[1mINFO    \u001b[0m | \u001b[36mpleiades.sammy.interface\u001b[0m:\u001b[36mcollect_outputs\u001b[0m:\u001b[36m306\u001b[0m - \u001b[1mCollecting outputs for execution 16fa7ea3-b2dc-48c3-88ea-0ad642e03ed6\u001b[0m\n",
      "\u001b[32m2025-05-05 14:16:18\u001b[0m | \u001b[34m\u001b[1mDEBUG   \u001b[0m | \u001b[36mpleiades.sammy.interface\u001b[0m:\u001b[36mcollect_outputs\u001b[0m:\u001b[36m317\u001b[0m - \u001b[34m\u001b[1mFound known output file: SAMNDF.INP\u001b[0m\n",
      "\u001b[32m2025-05-05 14:16:18\u001b[0m | \u001b[34m\u001b[1mDEBUG   \u001b[0m | \u001b[36mpleiades.sammy.interface\u001b[0m:\u001b[36mcollect_outputs\u001b[0m:\u001b[36m317\u001b[0m - \u001b[34m\u001b[1mFound known output file: SAMNDF.PAR\u001b[0m\n",
      "\u001b[32m2025-05-05 14:16:18\u001b[0m | \u001b[34m\u001b[1mDEBUG   \u001b[0m | \u001b[36mpleiades.sammy.interface\u001b[0m:\u001b[36mcollect_outputs\u001b[0m:\u001b[36m317\u001b[0m - \u001b[34m\u001b[1mFound known output file: SAMMY.LPT\u001b[0m\n",
      "\u001b[32m2025-05-05 14:16:18\u001b[0m | \u001b[34m\u001b[1mDEBUG   \u001b[0m | \u001b[36mpleiades.sammy.interface\u001b[0m:\u001b[36mcollect_outputs\u001b[0m:\u001b[36m317\u001b[0m - \u001b[34m\u001b[1mFound known output file: SAMMY.IO\u001b[0m\n",
      "\u001b[32m2025-05-05 14:16:18\u001b[0m | \u001b[34m\u001b[1mDEBUG   \u001b[0m | \u001b[36mpleiades.sammy.interface\u001b[0m:\u001b[36mcollect_outputs\u001b[0m:\u001b[36m323\u001b[0m - \u001b[34m\u001b[1mFound additional output file: SAM46.DAT\u001b[0m\n",
      "\u001b[32m2025-05-05 14:16:18\u001b[0m | \u001b[34m\u001b[1mDEBUG   \u001b[0m | \u001b[36mpleiades.sammy.interface\u001b[0m:\u001b[36mcollect_outputs\u001b[0m:\u001b[36m323\u001b[0m - \u001b[34m\u001b[1mFound additional output file: SAMQUA.RED\u001b[0m\n",
      "\u001b[32m2025-05-05 14:16:18\u001b[0m | \u001b[34m\u001b[1mDEBUG   \u001b[0m | \u001b[36mpleiades.sammy.interface\u001b[0m:\u001b[36mcollect_outputs\u001b[0m:\u001b[36m323\u001b[0m - \u001b[34m\u001b[1mFound additional output file: SAMQUA.PAR\u001b[0m\n",
      "\u001b[32m2025-05-05 14:16:18\u001b[0m | \u001b[34m\u001b[1mDEBUG   \u001b[0m | \u001b[36mpleiades.sammy.interface\u001b[0m:\u001b[36mcollect_outputs\u001b[0m:\u001b[36m340\u001b[0m - \u001b[34m\u001b[1mMoved /Users/8cz/github.com/PLEIADES/examples/Notebooks/workspaces/sammy_endf_example/endf/SAMMY.IO to /Users/8cz/github.com/PLEIADES/examples/Notebooks/workspaces/sammy_endf_example/endf/results/SAMMY.IO\u001b[0m\n",
      "\u001b[32m2025-05-05 14:16:18\u001b[0m | \u001b[34m\u001b[1mDEBUG   \u001b[0m | \u001b[36mpleiades.sammy.interface\u001b[0m:\u001b[36mcollect_outputs\u001b[0m:\u001b[36m340\u001b[0m - \u001b[34m\u001b[1mMoved /Users/8cz/github.com/PLEIADES/examples/Notebooks/workspaces/sammy_endf_example/endf/SAMQUA.RED to /Users/8cz/github.com/PLEIADES/examples/Notebooks/workspaces/sammy_endf_example/endf/results/SAMQUA.RED\u001b[0m\n",
      "\u001b[32m2025-05-05 14:16:18\u001b[0m | \u001b[34m\u001b[1mDEBUG   \u001b[0m | \u001b[36mpleiades.sammy.interface\u001b[0m:\u001b[36mcollect_outputs\u001b[0m:\u001b[36m340\u001b[0m - \u001b[34m\u001b[1mMoved /Users/8cz/github.com/PLEIADES/examples/Notebooks/workspaces/sammy_endf_example/endf/SAMQUA.PAR to /Users/8cz/github.com/PLEIADES/examples/Notebooks/workspaces/sammy_endf_example/endf/results/SAMQUA.PAR\u001b[0m\n",
      "\u001b[32m2025-05-05 14:16:18\u001b[0m | \u001b[34m\u001b[1mDEBUG   \u001b[0m | \u001b[36mpleiades.sammy.interface\u001b[0m:\u001b[36mcollect_outputs\u001b[0m:\u001b[36m340\u001b[0m - \u001b[34m\u001b[1mMoved /Users/8cz/github.com/PLEIADES/examples/Notebooks/workspaces/sammy_endf_example/endf/SAMNDF.INP to /Users/8cz/github.com/PLEIADES/examples/Notebooks/workspaces/sammy_endf_example/endf/results/SAMNDF.INP\u001b[0m\n",
      "\u001b[32m2025-05-05 14:16:18\u001b[0m | \u001b[34m\u001b[1mDEBUG   \u001b[0m | \u001b[36mpleiades.sammy.interface\u001b[0m:\u001b[36mcollect_outputs\u001b[0m:\u001b[36m340\u001b[0m - \u001b[34m\u001b[1mMoved /Users/8cz/github.com/PLEIADES/examples/Notebooks/workspaces/sammy_endf_example/endf/SAMNDF.PAR to /Users/8cz/github.com/PLEIADES/examples/Notebooks/workspaces/sammy_endf_example/endf/results/SAMNDF.PAR\u001b[0m\n",
      "\u001b[32m2025-05-05 14:16:18\u001b[0m | \u001b[34m\u001b[1mDEBUG   \u001b[0m | \u001b[36mpleiades.sammy.interface\u001b[0m:\u001b[36mcollect_outputs\u001b[0m:\u001b[36m340\u001b[0m - \u001b[34m\u001b[1mMoved /Users/8cz/github.com/PLEIADES/examples/Notebooks/workspaces/sammy_endf_example/endf/SAM46.DAT to /Users/8cz/github.com/PLEIADES/examples/Notebooks/workspaces/sammy_endf_example/endf/results/SAM46.DAT\u001b[0m\n",
      "\u001b[32m2025-05-05 14:16:18\u001b[0m | \u001b[34m\u001b[1mDEBUG   \u001b[0m | \u001b[36mpleiades.sammy.interface\u001b[0m:\u001b[36mcollect_outputs\u001b[0m:\u001b[36m340\u001b[0m - \u001b[34m\u001b[1mMoved /Users/8cz/github.com/PLEIADES/examples/Notebooks/workspaces/sammy_endf_example/endf/SAMMY.LPT to /Users/8cz/github.com/PLEIADES/examples/Notebooks/workspaces/sammy_endf_example/endf/results/SAMMY.LPT\u001b[0m\n",
      "\u001b[32m2025-05-05 14:16:18\u001b[0m | \u001b[1mINFO    \u001b[0m | \u001b[36mpleiades.sammy.interface\u001b[0m:\u001b[36mcollect_outputs\u001b[0m:\u001b[36m345\u001b[0m - \u001b[1mSuccessfully collected 7 output files in 0.01 seconds\u001b[0m\n"
     ]
    }
   ],
   "source": [
    "runner.collect_outputs(result=result)"
   ]
  },
  {
   "cell_type": "code",
   "execution_count": 10,
   "id": "5b68fbd5",
   "metadata": {},
   "outputs": [
    {
     "name": "stdout",
     "output_type": "stream",
     "text": [
      "├── results\n",
      "│   ├── SAM46.DAT\n",
      "│   ├── SAMMY.IO\n",
      "│   ├── SAMMY.LPT\n",
      "│   ├── SAMNDF.INP\n",
      "│   ├── SAMNDF.PAR\n",
      "│   ├── SAMQUA.PAR\n",
      "│   └── SAMQUA.RED\n",
      "├── endf_dummy.dat\n",
      "├── ex027a.endf\n",
      "└── ex027a.inp\n"
     ]
    }
   ],
   "source": [
    "list_tree(endf_dir)"
   ]
  },
  {
   "cell_type": "markdown",
   "id": "54775f42",
   "metadata": {},
   "source": [
    "#### <span style=\"color:red;\">The rest of the example will be made once the relevant classes for results and plotting are implemented in PLEIADES.</span>"
   ]
  },
  {
   "cell_type": "code",
   "execution_count": null,
   "id": "61e4d41f",
   "metadata": {},
   "outputs": [],
   "source": []
  }
 ],
 "metadata": {
  "kernelspec": {
   "display_name": "default",
   "language": "python",
   "name": "python3"
  },
  "language_info": {
   "codemirror_mode": {
    "name": "ipython",
    "version": 3
   },
   "file_extension": ".py",
   "mimetype": "text/x-python",
   "name": "python",
   "nbconvert_exporter": "python",
   "pygments_lexer": "ipython3",
   "version": "3.11.12"
  }
 },
 "nbformat": 4,
 "nbformat_minor": 5
}
