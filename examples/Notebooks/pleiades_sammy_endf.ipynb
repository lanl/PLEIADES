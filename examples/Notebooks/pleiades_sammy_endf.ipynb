{
 "cells": [
  {
   "cell_type": "markdown",
   "id": "e75e460f",
   "metadata": {},
   "source": [
    "### PLEIADES Tutorial - SAMMY Exercise EX027: Generating Parameter Files Based on ENDF Files\n",
    "\n",
    "This exercise demonstrates how to use SAMMY to generate parameter files starting from ENDF files. The goal is to familiarize analysts with the process of running SAMMY directly from ENDF data and modifying the output for further analysis.\n",
    "\n",
    "#### Purpose\n",
    "The purpose of this exercise is to learn how to:\n",
    "1. Run SAMMY using ENDF files as input.\n",
    "2. Generate SAMMY-style INPut and PARameter files for subsequent runs.\n",
    "3. Modify and refine the generated files to fit experimental data.\n",
    "\n",
    "#### Description\n",
    "SAMMY can read File 2 of an ENDF file and perform a run as specified in the INPut file. The output includes SAMMY-style INPut and PARameter files, which can be used for further analysis. However, since ENDF files lack some information required by SAMMY, only simple no-Bayes runs can be performed directly from ENDF files.\n",
    "\n",
    "#### Instructions\n",
    "1. **Initial Run**:\n",
    "    - Use the command file `ex027a` to set up a no-Bayes run starting from the ENDF file.\n",
    "    - The INPut file `ex027a.inp` does not include spin group information, which will be extracted from the ENDF file.\n",
    "    - The experimental data file `ex027a.dat` assumes a 10% uncertainty due to the lack of provided uncertainties in the original data.\n",
    "    - Run this setup to generate SAMMY-style INPut and PARameter files.\n",
    "\n",
    "2. **Refining the Output**:\n",
    "    - Modify the generated INPut and PARameter files for further analysis:\n",
    "      - Update the thickness to `0.002800 atoms/barn`.\n",
    "      - Enable single-scattering corrections and normalize as cross sections.\n",
    "    - For Bayesian analysis, flag at least one parameter in the PARameter file.\n",
    "    - Adjust the uncertainty settings in the INPut file by setting the `VMIN` parameter in Card Set 7 to account for unrealistic weights on background points.\n",
    "\n",
    "3. **Fitting the Data**:\n",
    "    - Start with small energy ranges for better fits, as the data set contains many points and gaps.\n",
    "    - Normalize the data appropriately. For example, in the energy range from 6 to 100 eV, a normalization factor of nearly 10 is required.\n",
    "    - Experiment with fitting strategies to improve the fit quality.\n",
    "\n",
    "This exercise provides a hands-on approach to understanding the workflow of using SAMMY with ENDF files and refining the results for meaningful analysis.\n"
   ]
  },
  {
   "cell_type": "markdown",
   "id": "e7c6b74c",
   "metadata": {},
   "source": [
    "### PRE-SETUP: Initializing Directories and Files for the Example\n",
    "\n",
    "To begin, we need to set up a temporary directory and link all the required SAMMY files to it. This ensures that the necessary files are organized and accessible for running the SAMMY exercise.\n",
    "\n",
    "In this step, we will create symbolic links for the required files from the `ex027` example into the designated `working_dir`. These files are essential for configuring and executing the SAMMY run.\n",
    "\n",
    "The directories are configured as follows:\n",
    "- **Working Directory**: `/tmp/sammy_run`\n",
    "- **Output Directory**: `/tmp/sammy_run/sammy_output`\n",
    "\n",
    "The following files should be available in the `working_dir`:\n",
    "- `ex027a.inp`: Input file defining the initial setup for the SAMMY run.\n",
    "- `ex027a.par`: Parameter file generated from the ENDF data.\n",
    "- `ex027a.dat`: Data file with experimental data assuming a 10% uncertainty.\n",
    "\n",
    "Ensure that these files are correctly linked to the `working_dir` before proceeding with the analysis."
   ]
  },
  {
   "cell_type": "code",
   "execution_count": null,
   "id": "abc57154",
   "metadata": {},
   "outputs": [],
   "source": [
    "from pathlib import Path\n",
    "import datetime\n",
    "\n",
    "# Get current working directory (notebook location)\n",
    "current_dir = Path.cwd()\n",
    "\n",
    "# Create a dedicated sammy_workspaces folder for all runs\n",
    "sammy_base_dir = current_dir / \"workspaces\"\n",
    "sammy_base_dir.mkdir(exist_ok=True)\n",
    "\n",
    "# Create a timestamped working directory within our persistent folder\n",
    "base_dir_name = f\"sammy_endf_example\"\n",
    "working_dir = sammy_base_dir / base_dir_name\n",
    "output_dir = working_dir / \"results\"\n",
    "\n",
    "endf_dir = working_dir / \"endf\"\n",
    "endf_output_dir = endf_dir / \"results\"\n",
    "\n",
    "# Create the working directory and subdirectories\n",
    "working_dir.mkdir(exist_ok=True)\n",
    "output_dir.mkdir(exist_ok=True)\n",
    "\n",
    "# Create the ENDF directory within the working directory and the endf subdirectory\n",
    "endf_dir.mkdir(exist_ok=True)\n",
    "endf_output_dir.mkdir(exist_ok=True)\n",
    "\n",
    "# Copy the ex012a.inp, ex012a.par, and ex012a.dat files from \"../samexm/ex012/\" to the working directory\n",
    "# Define the source directory and the files to copy\n",
    "source_dir = Path(\"../samexm/ex027/\").resolve()\n",
    "files_to_link = [\"ex027.dat\"]\n",
    "\n",
    "source_endf_dir = source_dir / \"endf\"\n",
    "endf_files_to_link = [\"ex027a.endf\", \"ex027a.inp\", \"ex027a.dat\"]\n",
    "\n",
    "# Create symbolic links for each file in the working directory\n",
    "for file_name in files_to_link:\n",
    "    source_file = source_dir / file_name\n",
    "    destination_file = working_dir / file_name\n",
    "    if destination_file.exists():\n",
    "        if destination_file.is_symlink():\n",
    "            destination_file.unlink()  # Remove the existing symbolic link\n",
    "            print(f\"Removed existing symbolic link: {destination_file}\")\n",
    "        else:\n",
    "            print(f\"File already exists and is not a symbolic link: {destination_file}\")\n",
    "            continue  # Skip creating the link if it's not a symbolic link\n",
    "    try:\n",
    "        # Create the symbolic link\n",
    "        destination_file.symlink_to(source_file)\n",
    "    except FileNotFoundError as e:\n",
    "        print(f\"Error: Source file does not exist: {source_file}\")\n",
    "    except PermissionError as e:\n",
    "        print(f\"Error: Permission denied while creating symlink: {destination_file}\")\n",
    "    except Exception as e:\n",
    "        print(f\"Unexpected error while creating symlink: {e}\")\n",
    "\n",
    "# Create symbolic links for the ENDF files\n",
    "for file_name in endf_files_to_link:\n",
    "    source_file = source_endf_dir / file_name\n",
    "    destination_file = endf_dir / file_name\n",
    "    if destination_file.exists():\n",
    "        if destination_file.is_symlink():\n",
    "            destination_file.unlink()  # Remove the existing symbolic link\n",
    "            print(f\"Removed existing symbolic link: {destination_file}\")\n",
    "        else:\n",
    "            print(f\"File already exists and is not a symbolic link: {destination_file}\")\n",
    "            continue  # Skip creating the link if it's not a symbolic link\n",
    "    try:\n",
    "        # Create the symbolic link\n",
    "        destination_file.symlink_to(source_file)\n",
    "    except FileNotFoundError as e:\n",
    "        print(f\"Error: Source file does not exist: {source_file}\")\n",
    "    except PermissionError as e:\n",
    "        print(f\"Error: Permission denied while creating symlink: {destination_file}\")\n",
    "    except Exception as e:\n",
    "        print(f\"Unexpected error while creating symlink: {e}\")\n",
    "\n",
    "\n",
    "# Verify the files are in the working directory\n",
    "print(\"Files in working directory:\", list(working_dir.iterdir()))\n",
    "print(\"ENDF files in ENDF directory:\", list(endf_dir.iterdir()))"
   ]
  },
  {
   "cell_type": "markdown",
   "id": "ddf973e9",
   "metadata": {},
   "source": [
    "### Loading Relevant Modules\n",
    "\n",
    "This section focuses on importing the necessary modules from PLEIADES and other libraries to configure and execute the SAMMY exercise. These modules are essential for managing SAMMY input/output files, setting up the working environment, and running SAMMY locally."
   ]
  },
  {
   "cell_type": "code",
   "execution_count": null,
   "id": "905bbec7",
   "metadata": {},
   "outputs": [],
   "source": [
    "import subprocess\n",
    "\n",
    "from pleiades.sammy.config import LocalSammyConfig              # Needed for configuring the SAMMY run directory \n",
    "from pleiades.sammy.backends.local import LocalSammyRunner      # Needed for running SAMMY locally\n",
    "from pleiades.sammy.interface import SammyFiles                 # Needed for managing SAMMY input and output files "
   ]
  },
  {
   "cell_type": "markdown",
   "id": "b5facbd9",
   "metadata": {},
   "source": [
    "### Configuring the SAMMY environment to run in ENDF directory with PLEIADES\n",
    "\n",
    "In this step, we set up the SAMMY environment by specifying the executable path, working directory, and output directory. The `LocalSammyConfig` class is used to create a configuration object that holds these details. This configuration will be used to manage the SAMMY runs effectively."
   ]
  },
  {
   "cell_type": "code",
   "execution_count": null,
   "id": "e1187d68",
   "metadata": {},
   "outputs": [],
   "source": [
    "# Grab the SAMMY executable \n",
    "sammy_executable = subprocess.run([\"which\", \"sammy\"], capture_output=True, text=True).stdout.strip()\n",
    "\n",
    "# Create SAMMY configuration class\n",
    "config = LocalSammyConfig(\n",
    "    sammy_executable=sammy_executable,\n",
    "    working_dir=endf_dir,\n",
    "    output_dir=endf_output_dir\n",
    ")\n",
    "\n",
    "print(f\"Using SAMMY executable: {config.sammy_executable}\")\n",
    "print(f\"Using working directory: {config.working_dir}\")\n",
    "print(f\"Using output directory: {config.output_dir}\")\n",
    "\n",
    "# Double check the success of configuration through PLEIADES validation\n",
    "if config.validate():\n",
    "    print(\"Configuration validated successfully.\")\n",
    "else:\n",
    "    print(\"Configuration validation failed.\")"
   ]
  },
  {
   "cell_type": "markdown",
   "id": "9f76228f",
   "metadata": {},
   "source": [
    "The next step involves initiating a `LocalSammyRunner` using the configuration created earlier. This runner is responsible for executing SAMMY locally within the specified working directory and managing the input/output files.\n",
    "\n",
    "We will also prepare the necessary SAMMY files (`input_file`, `parameter_file`, and `data_file`) and ensure that all required files are present in the environment before running SAMMY. This setup ensures a smooth execution of the SAMMY process and proper handling of the results."
   ]
  },
  {
   "cell_type": "code",
   "execution_count": null,
   "id": "875b6037",
   "metadata": {},
   "outputs": [],
   "source": [
    "# instantiate the wrapper with the config created\n",
    "runner = LocalSammyRunner(config)\n",
    "\n",
    "# prepare sammy files object\n",
    "files = SammyFiles(\n",
    "    input_file = endf_dir / \"ex027a.inp\",\n",
    "    parameter_file= endf_dir / \"ex027a.endf\",\n",
    "    data_file= endf_dir / \"endf_dummy.dat\",\n",
    ")\n",
    "\n",
    "# ensure that all files exist before running sammy\n",
    "runner.prepare_environment(files=files)\n",
    "\n",
    "# Print the configuration to verify\n",
    "print(\"Runner configuration:\")\n",
    "print(f\"Working directory: {runner.config.working_dir}\")\n",
    "print(f\"Output directory: {runner.config.output_dir}\")\n",
    "print(f\"SAMMY executable: {runner.config.sammy_executable}\")\n"
   ]
  },
  {
   "cell_type": "markdown",
   "id": "83983610",
   "metadata": {},
   "source": [
    "### Execute SAMMY and Print the Console Output\n",
    "\n",
    "In this step, we will execute SAMMY using the `LocalSammyRunner` instance created earlier. The `execute_sammy` method will run SAMMY with the specified input, parameter, and data files. If the fit was successful (saved in `result.success`), then print the console output."
   ]
  },
  {
   "cell_type": "code",
   "execution_count": null,
   "id": "afe213a3",
   "metadata": {},
   "outputs": [],
   "source": [
    "# execute\n",
    "result = runner.execute_sammy(files)\n",
    "\n",
    "# Print the results of the SAMMY run\n",
    "if result.success:\n",
    "    print(result.console_output)\n"
   ]
  },
  {
   "cell_type": "markdown",
   "id": "3489b229",
   "metadata": {},
   "source": [
    "### Collect Results\n",
    "\n",
    "Once completed collect results in the config.output_dir. "
   ]
  },
  {
   "cell_type": "code",
   "execution_count": null,
   "id": "c45883dc",
   "metadata": {},
   "outputs": [],
   "source": [
    "runner.collect_outputs(result=result)"
   ]
  },
  {
   "cell_type": "markdown",
   "id": "54775f42",
   "metadata": {},
   "source": [
    "#### <span style=\"color:red;\">The rest of the example will be made once the relevant classes for results and plotting are implemented in PLEIADES.</span>"
   ]
  }
 ],
 "metadata": {
  "kernelspec": {
   "display_name": "pleiades",
   "language": "python",
   "name": "python3"
  },
  "language_info": {
   "codemirror_mode": {
    "name": "ipython",
    "version": 3
   },
   "file_extension": ".py",
   "mimetype": "text/x-python",
   "name": "python",
   "nbconvert_exporter": "python",
   "pygments_lexer": "ipython3",
   "version": "3.10.16"
  }
 },
 "nbformat": 4,
 "nbformat_minor": 5
}
