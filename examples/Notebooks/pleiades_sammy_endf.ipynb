{
 "cells": [
  {
   "cell_type": "markdown",
   "id": "e75e460f",
   "metadata": {},
   "source": [
    "### PLEIADES Tutorial - SAMMY Exercise EX027: Generating Parameter Files Based on ENDF Files\n",
    "\n",
    "This exercise demonstrates how to use SAMMY to generate parameter files starting from ENDF files. The goal is to familiarize analysts with the process of running SAMMY directly from ENDF data and modifying the output for further analysis.\n",
    "\n",
    "#### Purpose\n",
    "The purpose of this exercise is to learn how to:\n",
    "1. Run SAMMY using ENDF files as input.\n",
    "2. Generate SAMMY-style INPut and PARameter files for subsequent runs.\n",
    "3. Modify and refine the generated files to fit experimental data.\n",
    "\n",
    "#### Description\n",
    "SAMMY can read File 2 of an ENDF file and perform a run as specified in the INPut file. The output includes SAMMY-style INPut and PARameter files, which can be used for further analysis. However, since ENDF files lack some information required by SAMMY, only simple no-Bayes runs can be performed directly from ENDF files.\n",
    "\n",
    "#### Instructions\n",
    "1. **Initial Run**:\n",
    "    - Use the command file `ex027a` to set up a no-Bayes run starting from the ENDF file.\n",
    "    - The INPut file `ex027a.inp` does not include spin group information, which will be extracted from the ENDF file.\n",
    "    - The experimental data file `ex027a.dat` assumes a 10% uncertainty due to the lack of provided uncertainties in the original data.\n",
    "    - Run this setup to generate SAMMY-style INPut and PARameter files.\n",
    "\n",
    "2. **Refining the Output**:\n",
    "    - Modify the generated INPut and PARameter files for further analysis:\n",
    "      - Update the thickness to `0.002800 atoms/barn`.\n",
    "      - Enable single-scattering corrections and normalize as cross sections.\n",
    "    - For Bayesian analysis, flag at least one parameter in the PARameter file.\n",
    "    - Adjust the uncertainty settings in the INPut file by setting the `VMIN` parameter in Card Set 7 to account for unrealistic weights on background points.\n",
    "\n",
    "3. **Fitting the Data**:\n",
    "    - Start with small energy ranges for better fits, as the data set contains many points and gaps.\n",
    "    - Normalize the data appropriately. For example, in the energy range from 6 to 100 eV, a normalization factor of nearly 10 is required.\n",
    "    - Experiment with fitting strategies to improve the fit quality.\n",
    "\n",
    "This exercise provides a hands-on approach to understanding the workflow of using SAMMY with ENDF files and refining the results for meaningful analysis.\n"
   ]
  },
  {
   "cell_type": "markdown",
   "id": "e7c6b74c",
   "metadata": {},
   "source": [
    "### PRE-SETUP: Initializing Directories and Files for the Example\n",
    "\n",
    "To begin, we need to set up a temporary directory and link all the required SAMMY files to it. This ensures that the necessary files are organized and accessible for running the SAMMY exercise.\n",
    "\n",
    "In this step, we will create symbolic links for the required files from the `ex027` example into the designated `working_dir`. These files are essential for configuring and executing the SAMMY run.\n",
    "\n",
    "The directories are configured as follows:\n",
    "- **Working Directory**: `/tmp/sammy_run`\n",
    "- **Output Directory**: `/tmp/sammy_run/sammy_output`\n",
    "\n",
    "The following files should be available in the `working_dir`:\n",
    "- `ex027a.inp`: Input file defining the initial setup for the SAMMY run.\n",
    "- `ex027a.par`: Parameter file generated from the ENDF data.\n",
    "- `ex027a.dat`: Data file with experimental data assuming a 10% uncertainty.\n",
    "\n",
    "Ensure that these files are correctly linked to the `working_dir` before proceeding with the analysis."
   ]
  },
  {
   "cell_type": "code",
   "execution_count": 1,
   "id": "abc57154",
   "metadata": {},
   "outputs": [
    {
     "name": "stdout",
     "output_type": "stream",
     "text": [
      "Removed existing symbolic link: /home/l280162/Programs/PLEIADES/examples/Notebooks/workspaces/sammy_endf_example/ex027.dat\n",
      "Removed existing symbolic link: /home/l280162/Programs/PLEIADES/examples/Notebooks/workspaces/sammy_endf_example/endf/ex027a.endf\n",
      "Removed existing symbolic link: /home/l280162/Programs/PLEIADES/examples/Notebooks/workspaces/sammy_endf_example/endf/ex027a.inp\n",
      "Removed existing symbolic link: /home/l280162/Programs/PLEIADES/examples/Notebooks/workspaces/sammy_endf_example/endf/ex027a.dat\n",
      "Files in working directory: [PosixPath('/home/l280162/Programs/PLEIADES/examples/Notebooks/workspaces/sammy_endf_example/results'), PosixPath('/home/l280162/Programs/PLEIADES/examples/Notebooks/workspaces/sammy_endf_example/endf'), PosixPath('/home/l280162/Programs/PLEIADES/examples/Notebooks/workspaces/sammy_endf_example/ex027.dat')]\n",
      "ENDF files in ENDF directory: [PosixPath('/home/l280162/Programs/PLEIADES/examples/Notebooks/workspaces/sammy_endf_example/endf/results'), PosixPath('/home/l280162/Programs/PLEIADES/examples/Notebooks/workspaces/sammy_endf_example/endf/ex027a.dat'), PosixPath('/home/l280162/Programs/PLEIADES/examples/Notebooks/workspaces/sammy_endf_example/endf/SAMNDF.INP'), PosixPath('/home/l280162/Programs/PLEIADES/examples/Notebooks/workspaces/sammy_endf_example/endf/ex027a.endf'), PosixPath('/home/l280162/Programs/PLEIADES/examples/Notebooks/workspaces/sammy_endf_example/endf/SAMQUA.PAR'), PosixPath('/home/l280162/Programs/PLEIADES/examples/Notebooks/workspaces/sammy_endf_example/endf/SAMNDF.PAR'), PosixPath('/home/l280162/Programs/PLEIADES/examples/Notebooks/workspaces/sammy_endf_example/endf/ex027a.inp'), PosixPath('/home/l280162/Programs/PLEIADES/examples/Notebooks/workspaces/sammy_endf_example/endf/SAMMY.IO'), PosixPath('/home/l280162/Programs/PLEIADES/examples/Notebooks/workspaces/sammy_endf_example/endf/SAMQUA.RED'), PosixPath('/home/l280162/Programs/PLEIADES/examples/Notebooks/workspaces/sammy_endf_example/endf/SAM46.DAT'), PosixPath('/home/l280162/Programs/PLEIADES/examples/Notebooks/workspaces/sammy_endf_example/endf/SAMMY.LPT'), PosixPath('/home/l280162/Programs/PLEIADES/examples/Notebooks/workspaces/sammy_endf_example/endf/SAM38.DAT')]\n"
     ]
    }
   ],
   "source": [
    "from pathlib import Path\n",
    "import datetime\n",
    "\n",
    "# Create a timestamp string for unique directory naming\n",
    "timestamp = datetime.datetime.now().strftime(\"%Y%m%d_%H%M%S\")\n",
    "\n",
    "# Get current working directory (notebook location)\n",
    "current_dir = Path.cwd()\n",
    "\n",
    "# Create a dedicated sammy_workspaces folder for all runs\n",
    "sammy_base_dir = current_dir / \"workspaces\"\n",
    "sammy_base_dir.mkdir(exist_ok=True)\n",
    "\n",
    "# Create a timestamped working directory within our persistent folder\n",
    "base_dir_name = f\"sammy_endf_example\"\n",
    "working_dir = sammy_base_dir / base_dir_name\n",
    "output_dir = working_dir / \"results\"\n",
    "\n",
    "endf_dir = working_dir / \"endf\"\n",
    "endf_output_dir = endf_dir / \"results\"\n",
    "\n",
    "# Create the working directory and subdirectories\n",
    "working_dir.mkdir(exist_ok=True)\n",
    "output_dir.mkdir(exist_ok=True)\n",
    "\n",
    "# Create the ENDF directory within the working directory and the endf subdirectory\n",
    "endf_dir.mkdir(exist_ok=True)\n",
    "endf_output_dir.mkdir(exist_ok=True)\n",
    "\n",
    "# Copy the ex012a.inp, ex012a.par, and ex012a.dat files from \"../samexm/ex012/\" to the working directory\n",
    "# Define the source directory and the files to copy\n",
    "source_dir = Path(\"../samexm/ex027/\").resolve()\n",
    "files_to_link = [\"ex027.dat\"]\n",
    "\n",
    "source_endf_dir = source_dir / \"endf\"\n",
    "endf_files_to_link = [\"ex027a.endf\", \"ex027a.inp\", \"ex027a.dat\"]\n",
    "\n",
    "# Create symbolic links for each file in the working directory\n",
    "for file_name in files_to_link:\n",
    "    source_file = source_dir / file_name\n",
    "    destination_file = working_dir / file_name\n",
    "    if destination_file.exists():\n",
    "        if destination_file.is_symlink():\n",
    "            destination_file.unlink()  # Remove the existing symbolic link\n",
    "            print(f\"Removed existing symbolic link: {destination_file}\")\n",
    "        else:\n",
    "            print(f\"File already exists and is not a symbolic link: {destination_file}\")\n",
    "            continue  # Skip creating the link if it's not a symbolic link\n",
    "    try:\n",
    "        # Create the symbolic link\n",
    "        destination_file.symlink_to(source_file)\n",
    "    except FileNotFoundError as e:\n",
    "        print(f\"Error: Source file does not exist: {source_file}\")\n",
    "    except PermissionError as e:\n",
    "        print(f\"Error: Permission denied while creating symlink: {destination_file}\")\n",
    "    except Exception as e:\n",
    "        print(f\"Unexpected error while creating symlink: {e}\")\n",
    "\n",
    "# Create symbolic links for the ENDF files\n",
    "for file_name in endf_files_to_link:\n",
    "    source_file = source_endf_dir / file_name\n",
    "    destination_file = endf_dir / file_name\n",
    "    if destination_file.exists():\n",
    "        if destination_file.is_symlink():\n",
    "            destination_file.unlink()  # Remove the existing symbolic link\n",
    "            print(f\"Removed existing symbolic link: {destination_file}\")\n",
    "        else:\n",
    "            print(f\"File already exists and is not a symbolic link: {destination_file}\")\n",
    "            continue  # Skip creating the link if it's not a symbolic link\n",
    "    try:\n",
    "        # Create the symbolic link\n",
    "        destination_file.symlink_to(source_file)\n",
    "    except FileNotFoundError as e:\n",
    "        print(f\"Error: Source file does not exist: {source_file}\")\n",
    "    except PermissionError as e:\n",
    "        print(f\"Error: Permission denied while creating symlink: {destination_file}\")\n",
    "    except Exception as e:\n",
    "        print(f\"Unexpected error while creating symlink: {e}\")\n",
    "\n",
    "\n",
    "# Verify the files are in the working directory\n",
    "print(\"Files in working directory:\", list(working_dir.iterdir()))\n",
    "print(\"ENDF files in ENDF directory:\", list(endf_dir.iterdir()))"
   ]
  },
  {
   "cell_type": "markdown",
   "id": "ddf973e9",
   "metadata": {},
   "source": [
    "### Loading Relevant Modules\n",
    "\n",
    "This section focuses on importing the necessary modules from PLEIADES and other libraries to configure and execute the SAMMY exercise. These modules are essential for managing SAMMY input/output files, setting up the working environment, and running SAMMY locally."
   ]
  },
  {
   "cell_type": "code",
   "execution_count": 2,
   "id": "905bbec7",
   "metadata": {},
   "outputs": [],
   "source": [
    "import subprocess\n",
    "\n",
    "from pleiades.sammy.config import LocalSammyConfig              # Needed for configuring the SAMMY run directory \n",
    "from pleiades.sammy.backends.local import LocalSammyRunner      # Needed for running SAMMY locally\n",
    "from pleiades.sammy.interface import SammyFiles                 # Needed for managing SAMMY input and output files "
   ]
  },
  {
   "cell_type": "markdown",
   "id": "b5facbd9",
   "metadata": {},
   "source": [
    "### Configuring the SAMMY environment to run in ENDF directory with PLEIADES\n",
    "\n",
    "In this step, we set up the SAMMY environment by specifying the executable path, working directory, and output directory. The `LocalSammyConfig` class is used to create a configuration object that holds these details. This configuration will be used to manage the SAMMY runs effectively."
   ]
  },
  {
   "cell_type": "code",
   "execution_count": null,
   "id": "e1187d68",
   "metadata": {},
   "outputs": [
    {
     "name": "stdout",
     "output_type": "stream",
     "text": [
      "Using SAMMY executable: /home/l280162/Programs/SAMMY/sammy/build/bin/sammy\n",
      "Using working directory: /home/l280162/Programs/PLEIADES/examples/Notebooks/workspaces/sammy_endf_example/endf\n",
      "Using output directory: /home/l280162/Programs/PLEIADES/examples/Notebooks/workspaces/sammy_endf_example/endf\n",
      "Configuration validated successfully.\n"
     ]
    }
   ],
   "source": [
    "# Grab the SAMMY executable \n",
    "sammy_executable = subprocess.run([\"which\", \"sammy\"], capture_output=True, text=True).stdout.strip()\n",
    "\n",
    "# Create SAMMY configuration class\n",
    "config = LocalSammyConfig(\n",
    "    sammy_executable=sammy_executable,\n",
    "    working_dir=endf_dir,\n",
    "    output_dir=endf_output_dir\n",
    ")\n",
    "\n",
    "print(f\"Using SAMMY executable: {config.sammy_executable}\")\n",
    "print(f\"Using working directory: {config.working_dir}\")\n",
    "print(f\"Using output directory: {config.output_dir}\")\n",
    "\n",
    "# Double check the success of configuration through PLEIADES validation\n",
    "if config.validate():\n",
    "    print(\"Configuration validated successfully.\")\n",
    "else:\n",
    "    print(\"Configuration validation failed.\")"
   ]
  },
  {
   "cell_type": "code",
   "execution_count": 4,
   "id": "875b6037",
   "metadata": {},
   "outputs": [
    {
     "name": "stdout",
     "output_type": "stream",
     "text": [
      "Runner configuration:\n",
      "Working directory: /home/l280162/Programs/PLEIADES/examples/Notebooks/workspaces/sammy_endf_example/endf\n",
      "Output directory: /home/l280162/Programs/PLEIADES/examples/Notebooks/workspaces/sammy_endf_example/endf\n",
      "SAMMY executable: /home/l280162/Programs/SAMMY/sammy/build/bin/sammy\n"
     ]
    }
   ],
   "source": [
    "# instantiate the wrapper with the config created\n",
    "runner = LocalSammyRunner(config)\n",
    "\n",
    "# prepare sammy files object\n",
    "files = SammyFiles(\n",
    "    input_file = endf_dir / \"ex027a.inp\",\n",
    "    parameter_file= endf_dir / \"ex027a.endf\",\n",
    "    data_file= endf_dir / \"ex027a.dat\",\n",
    ")\n",
    "\n",
    "# ensure that all files exist before running sammy\n",
    "runner.prepare_environment(files=files)\n",
    "\n",
    "# Print the configuration to verify\n",
    "print(\"Runner configuration:\")\n",
    "print(f\"Working directory: {runner.config.working_dir}\")\n",
    "print(f\"Output directory: {runner.config.output_dir}\")\n",
    "print(f\"SAMMY executable: {runner.config.sammy_executable}\")\n"
   ]
  },
  {
   "cell_type": "code",
   "execution_count": 5,
   "id": "afe213a3",
   "metadata": {},
   "outputs": [],
   "source": [
    "# execute\n",
    "result = runner.execute_sammy(files)\n"
   ]
  },
  {
   "cell_type": "code",
   "execution_count": 6,
   "id": "5de87195",
   "metadata": {},
   "outputs": [
    {
     "name": "stdout",
     "output_type": "stream",
     "text": [
      "/home/l280162/Programs/PLEIADES/examples/Notebooks/workspaces/sammy_endf_example/endf\n",
      "/home/l280162/Programs/PLEIADES/examples/Notebooks/workspaces/sammy_endf_example/endf\n"
     ]
    }
   ],
   "source": [
    "print(runner.config.working_dir)\n",
    "print(runner.config.output_dir)"
   ]
  },
  {
   "cell_type": "code",
   "execution_count": 7,
   "id": "c45883dc",
   "metadata": {},
   "outputs": [
    {
     "name": "stdout",
     "output_type": "stream",
     "text": [
      "Files in working directory:\n",
      " - results\n",
      " - ex027a.dat\n",
      " - SAMNDF.INP\n",
      " - ex027a.endf\n",
      " - SAMQUA.PAR\n",
      " - SAMNDF.PAR\n",
      " - ex027a.inp\n",
      " - SAMMY.IO\n",
      " - SAMQUA.RED\n",
      " - SAM46.DAT\n",
      " - SAMMY.LPT\n",
      " - SAM38.DAT\n",
      " - SAM36.DAT\n",
      "Found known output file: SAMMY.LPT\n",
      "Found known output file: SAMMY.IO\n",
      "Found known output file: SAMNDF.PAR\n",
      "Found known output file: SAMNDF.INP\n",
      "Found additional output file: SAMQUA.PAR\n",
      "Found additional output file: SAMQUA.RED\n",
      "Found additional output file: SAM46.DAT\n",
      "Found additional output file: SAM38.DAT\n",
      "Found additional output file: SAM36.DAT\n",
      "Moving SAMQUA.PAR to SAMQUA.PAR\n"
     ]
    },
    {
     "ename": "OutputCollectionError",
     "evalue": "Output collection failed: Failed to move output file /home/l280162/Programs/PLEIADES/examples/Notebooks/workspaces/sammy_endf_example/endf/SAMQUA.PAR: [Errno 2] No such file or directory: '/home/l280162/Programs/PLEIADES/examples/Notebooks/workspaces/sammy_endf_example/endf/SAMQUA.PAR' -> '/home/l280162/Programs/PLEIADES/examples/Notebooks/workspaces/sammy_endf_example/endf/SAMQUA.PAR'",
     "output_type": "error",
     "traceback": [
      "\u001b[0;31m---------------------------------------------------------------------------\u001b[0m",
      "\u001b[0;31mFileNotFoundError\u001b[0m                         Traceback (most recent call last)",
      "File \u001b[0;32m~/Programs/PLEIADES/src/pleiades/sammy/interface.py:246\u001b[0m, in \u001b[0;36mSammyRunner.collect_outputs\u001b[0;34m(self, result)\u001b[0m\n\u001b[1;32m    245\u001b[0m     dest\u001b[38;5;241m.\u001b[39munlink()\n\u001b[0;32m--> 246\u001b[0m \u001b[43moutput_file\u001b[49m\u001b[38;5;241;43m.\u001b[39;49m\u001b[43mrename\u001b[49m\u001b[43m(\u001b[49m\u001b[43mdest\u001b[49m\u001b[43m)\u001b[49m\n\u001b[1;32m    247\u001b[0m \u001b[38;5;28mself\u001b[39m\u001b[38;5;241m.\u001b[39m_moved_files\u001b[38;5;241m.\u001b[39mappend(dest)\n",
      "File \u001b[0;32m~/Programs/anaconda3/envs/pleiades/lib/python3.10/pathlib.py:1234\u001b[0m, in \u001b[0;36mPath.rename\u001b[0;34m(self, target)\u001b[0m\n\u001b[1;32m   1225\u001b[0m \u001b[38;5;250m\u001b[39m\u001b[38;5;124;03m\"\"\"\u001b[39;00m\n\u001b[1;32m   1226\u001b[0m \u001b[38;5;124;03mRename this path to the target path.\u001b[39;00m\n\u001b[1;32m   1227\u001b[0m \n\u001b[0;32m   (...)\u001b[0m\n\u001b[1;32m   1232\u001b[0m \u001b[38;5;124;03mReturns the new Path instance pointing to the target path.\u001b[39;00m\n\u001b[1;32m   1233\u001b[0m \u001b[38;5;124;03m\"\"\"\u001b[39;00m\n\u001b[0;32m-> 1234\u001b[0m \u001b[38;5;28;43mself\u001b[39;49m\u001b[38;5;241;43m.\u001b[39;49m\u001b[43m_accessor\u001b[49m\u001b[38;5;241;43m.\u001b[39;49m\u001b[43mrename\u001b[49m\u001b[43m(\u001b[49m\u001b[38;5;28;43mself\u001b[39;49m\u001b[43m,\u001b[49m\u001b[43m \u001b[49m\u001b[43mtarget\u001b[49m\u001b[43m)\u001b[49m\n\u001b[1;32m   1235\u001b[0m \u001b[38;5;28;01mreturn\u001b[39;00m \u001b[38;5;28mself\u001b[39m\u001b[38;5;241m.\u001b[39m\u001b[38;5;18m__class__\u001b[39m(target)\n",
      "\u001b[0;31mFileNotFoundError\u001b[0m: [Errno 2] No such file or directory: '/home/l280162/Programs/PLEIADES/examples/Notebooks/workspaces/sammy_endf_example/endf/SAMQUA.PAR' -> '/home/l280162/Programs/PLEIADES/examples/Notebooks/workspaces/sammy_endf_example/endf/SAMQUA.PAR'",
      "\nDuring handling of the above exception, another exception occurred:\n",
      "\u001b[0;31mOutputCollectionError\u001b[0m                     Traceback (most recent call last)",
      "File \u001b[0;32m~/Programs/PLEIADES/src/pleiades/sammy/interface.py:251\u001b[0m, in \u001b[0;36mSammyRunner.collect_outputs\u001b[0;34m(self, result)\u001b[0m\n\u001b[1;32m    250\u001b[0m         \u001b[38;5;28mself\u001b[39m\u001b[38;5;241m.\u001b[39m_rollback_moves()\n\u001b[0;32m--> 251\u001b[0m         \u001b[38;5;28;01mraise\u001b[39;00m OutputCollectionError(\u001b[38;5;124mf\u001b[39m\u001b[38;5;124m\"\u001b[39m\u001b[38;5;124mFailed to move output file \u001b[39m\u001b[38;5;132;01m{\u001b[39;00moutput_file\u001b[38;5;132;01m}\u001b[39;00m\u001b[38;5;124m: \u001b[39m\u001b[38;5;132;01m{\u001b[39;00m\u001b[38;5;28mstr\u001b[39m(e)\u001b[38;5;132;01m}\u001b[39;00m\u001b[38;5;124m\"\u001b[39m)\n\u001b[1;32m    253\u001b[0m logger\u001b[38;5;241m.\u001b[39minfo(\n\u001b[1;32m    254\u001b[0m     \u001b[38;5;124mf\u001b[39m\u001b[38;5;124m\"\u001b[39m\u001b[38;5;124mSuccessfully collected \u001b[39m\u001b[38;5;132;01m{\u001b[39;00m\u001b[38;5;28mlen\u001b[39m(\u001b[38;5;28mself\u001b[39m\u001b[38;5;241m.\u001b[39m_moved_files)\u001b[38;5;132;01m}\u001b[39;00m\u001b[38;5;124m output files in \u001b[39m\u001b[38;5;124m\"\u001b[39m\n\u001b[1;32m    255\u001b[0m     \u001b[38;5;124mf\u001b[39m\u001b[38;5;124m\"\u001b[39m\u001b[38;5;132;01m{\u001b[39;00m(datetime\u001b[38;5;241m.\u001b[39mnow()\u001b[38;5;250m \u001b[39m\u001b[38;5;241m-\u001b[39m\u001b[38;5;250m \u001b[39mcollection_start)\u001b[38;5;241m.\u001b[39mtotal_seconds()\u001b[38;5;132;01m:\u001b[39;00m\u001b[38;5;124m.2f\u001b[39m\u001b[38;5;132;01m}\u001b[39;00m\u001b[38;5;124m seconds\u001b[39m\u001b[38;5;124m\"\u001b[39m\n\u001b[1;32m    256\u001b[0m )\n",
      "\u001b[0;31mOutputCollectionError\u001b[0m: Failed to move output file /home/l280162/Programs/PLEIADES/examples/Notebooks/workspaces/sammy_endf_example/endf/SAMQUA.PAR: [Errno 2] No such file or directory: '/home/l280162/Programs/PLEIADES/examples/Notebooks/workspaces/sammy_endf_example/endf/SAMQUA.PAR' -> '/home/l280162/Programs/PLEIADES/examples/Notebooks/workspaces/sammy_endf_example/endf/SAMQUA.PAR'",
      "\nDuring handling of the above exception, another exception occurred:\n",
      "\u001b[0;31mOutputCollectionError\u001b[0m                     Traceback (most recent call last)",
      "Cell \u001b[0;32mIn[7], line 1\u001b[0m\n\u001b[0;32m----> 1\u001b[0m \u001b[43mrunner\u001b[49m\u001b[38;5;241;43m.\u001b[39;49m\u001b[43mcollect_outputs\u001b[49m\u001b[43m(\u001b[49m\u001b[43mresult\u001b[49m\u001b[38;5;241;43m=\u001b[39;49m\u001b[43mresult\u001b[49m\u001b[43m)\u001b[49m\n",
      "File \u001b[0;32m~/Programs/PLEIADES/src/pleiades/sammy/interface.py:260\u001b[0m, in \u001b[0;36mSammyRunner.collect_outputs\u001b[0;34m(self, result)\u001b[0m\n\u001b[1;32m    258\u001b[0m \u001b[38;5;28;01mexcept\u001b[39;00m \u001b[38;5;167;01mException\u001b[39;00m \u001b[38;5;28;01mas\u001b[39;00m e:\n\u001b[1;32m    259\u001b[0m     \u001b[38;5;28mself\u001b[39m\u001b[38;5;241m.\u001b[39m_rollback_moves()\n\u001b[0;32m--> 260\u001b[0m     \u001b[38;5;28;01mraise\u001b[39;00m OutputCollectionError(\u001b[38;5;124mf\u001b[39m\u001b[38;5;124m\"\u001b[39m\u001b[38;5;124mOutput collection failed: \u001b[39m\u001b[38;5;132;01m{\u001b[39;00m\u001b[38;5;28mstr\u001b[39m(e)\u001b[38;5;132;01m}\u001b[39;00m\u001b[38;5;124m\"\u001b[39m)\n",
      "\u001b[0;31mOutputCollectionError\u001b[0m: Output collection failed: Failed to move output file /home/l280162/Programs/PLEIADES/examples/Notebooks/workspaces/sammy_endf_example/endf/SAMQUA.PAR: [Errno 2] No such file or directory: '/home/l280162/Programs/PLEIADES/examples/Notebooks/workspaces/sammy_endf_example/endf/SAMQUA.PAR' -> '/home/l280162/Programs/PLEIADES/examples/Notebooks/workspaces/sammy_endf_example/endf/SAMQUA.PAR'"
     ]
    }
   ],
   "source": [
    "runner.collect_outputs(result=result)\n"
   ]
  },
  {
   "cell_type": "code",
   "execution_count": null,
   "id": "6ec68318",
   "metadata": {},
   "outputs": [],
   "source": []
  }
 ],
 "metadata": {
  "kernelspec": {
   "display_name": "pleiades",
   "language": "python",
   "name": "python3"
  },
  "language_info": {
   "codemirror_mode": {
    "name": "ipython",
    "version": 3
   },
   "file_extension": ".py",
   "mimetype": "text/x-python",
   "name": "python",
   "nbconvert_exporter": "python",
   "pygments_lexer": "ipython3",
   "version": "3.10.16"
  }
 },
 "nbformat": 4,
 "nbformat_minor": 5
}
