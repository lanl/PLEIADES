{
 "cells": [
  {
   "cell_type": "markdown",
   "metadata": {},
   "source": [
    "# ENDF Data Retrieval and Caching in PLEIADES\n",
    "\n",
    "This notebook demonstrates how to use the PLEIADES nuclear data management system to efficiently retrieve and cache ENDF (Evaluated Nuclear Data File) resonance data for nuclear calculations.\n",
    "\n",
    "## What You'll Learn\n",
    "\n",
    "1. How to configure the PLEIADES nuclear data cache\n",
    "2. Two different methods for retrieving ENDF data:\n",
    "   - **DIRECT Method**: Downloads complete ENDF files and extracts resonance data\n",
    "   - **API Method**: Uses the IAEA EXFOR API to download only the resonance section\n",
    "\n",
    "## Benefits of Each Approach\n",
    "\n",
    "- **DIRECT Method**: \n",
    "  - Gets the complete ENDF file (all sections)\n",
    "  - Useful when you need the entire dataset\n",
    "  - Higher storage requirements\n",
    "\n",
    "- **API Method**:\n",
    "  - Downloads only the resonance data section\n",
    "  - Faster and more efficient\n",
    "  - Lower storage requirements\n",
    "  - Ideal when you only need resonance parameters"
   ]
  },
  {
   "cell_type": "code",
   "execution_count": 1,
   "metadata": {},
   "outputs": [
    {
     "name": "stderr",
     "output_type": "stream",
     "text": [
      "\u001b[32m2025-04-28 16:56:56\u001b[0m | \u001b[1mINFO    \u001b[0m | \u001b[36mpleiades.utils.logger\u001b[0m:\u001b[36mconfigure_logger\u001b[0m:\u001b[36m95\u001b[0m - \u001b[1mLogging configured. Log file: /Users/8cz/github.com/PLEIADES/examples/Notebooks/pleiades_20250428_165656.log\u001b[0m\n"
     ]
    }
   ],
   "source": [
    "import time\n",
    "import shutil\n",
    "from pathlib import Path\n",
    "from pleiades.nuclear.manager import NuclearDataManager, EndfLibrary\n",
    "from pleiades.nuclear.models import DataRetrievalMethod\n",
    "from pleiades.utils.config import get_config\n",
    "from pleiades.utils.logger import configure_logger, loguru_logger\n",
    "\n",
    "# Configure logging to see debug information\n",
    "configure_logger(console_level=\"INFO\")\n",
    "\n",
    "# Set up logger for this notebook\n",
    "logger = loguru_logger.bind(name=\"endf_retrieval_notebook\")"
   ]
  },
  {
   "cell_type": "code",
   "execution_count": 2,
   "metadata": {},
   "outputs": [
    {
     "name": "stderr",
     "output_type": "stream",
     "text": [
      "\u001b[32m2025-04-28 16:56:58\u001b[0m | \u001b[1mINFO    \u001b[0m | \u001b[36m__main__\u001b[0m:\u001b[36m<module>\u001b[0m:\u001b[36m3\u001b[0m - \u001b[1mCache directory: /Users/8cz/.pleiades/nuclear_data\u001b[0m\n",
      "\u001b[32m2025-04-28 16:56:58\u001b[0m | \u001b[1mINFO    \u001b[0m | \u001b[36m__main__\u001b[0m:\u001b[36m<module>\u001b[0m:\u001b[36m4\u001b[0m - \u001b[1mAvailable data sources: {'DIRECT': 'https://www-nds.iaea.org/public/download-endf', 'API': 'https://www-nds.iaea.org/exfor/servlet'}\u001b[0m\n",
      "\u001b[32m2025-04-28 16:56:58\u001b[0m | \u001b[1mINFO    \u001b[0m | \u001b[36m__main__\u001b[0m:\u001b[36m<module>\u001b[0m:\u001b[36m9\u001b[0m - \u001b[1mOutput directory: /Users/8cz/github.com/PLEIADES/examples/Notebooks/endf_test\u001b[0m\n",
      "\u001b[32m2025-04-28 16:56:58\u001b[0m | \u001b[1mINFO    \u001b[0m | \u001b[36m__main__\u001b[0m:\u001b[36m<module>\u001b[0m:\u001b[36m4\u001b[0m - \u001b[1mAvailable data sources: {'DIRECT': 'https://www-nds.iaea.org/public/download-endf', 'API': 'https://www-nds.iaea.org/exfor/servlet'}\u001b[0m\n",
      "\u001b[32m2025-04-28 16:56:58\u001b[0m | \u001b[1mINFO    \u001b[0m | \u001b[36m__main__\u001b[0m:\u001b[36m<module>\u001b[0m:\u001b[36m9\u001b[0m - \u001b[1mOutput directory: /Users/8cz/github.com/PLEIADES/examples/Notebooks/endf_test\u001b[0m\n",
      "\u001b[32m2025-04-28 16:57:10\u001b[0m | \u001b[33m\u001b[1mWARNING \u001b[0m | \u001b[36m__main__\u001b[0m:\u001b[36m<module>\u001b[0m:\u001b[36m20\u001b[0m - \u001b[33m\u001b[1mCache directory cleared.\u001b[0m\n",
      "\u001b[32m2025-04-28 16:57:10\u001b[0m | \u001b[33m\u001b[1mWARNING \u001b[0m | \u001b[36m__main__\u001b[0m:\u001b[36m<module>\u001b[0m:\u001b[36m20\u001b[0m - \u001b[33m\u001b[1mCache directory cleared.\u001b[0m\n"
     ]
    }
   ],
   "source": [
    "# Get configuration and show available settings\n",
    "config = get_config()\n",
    "logger.info(f\"Cache directory: {config.nuclear_data_cache_dir}\")\n",
    "logger.info(f\"Available data sources: {config.nuclear_data_sources}\")\n",
    "\n",
    "# Create output directory for parameter files\n",
    "output_dir = Path(\"./endf_test\")\n",
    "output_dir.mkdir(exist_ok=True)\n",
    "logger.info(f\"Output directory: {output_dir.absolute()}\")\n",
    "\n",
    "# Option to clear the cache (set to True to clear)\n",
    "CLEAR_CACHE = True  # Change to True if you want to clear the cache\n",
    "\n",
    "if CLEAR_CACHE:\n",
    "    user_input = input(\"This will delete all cached ENDF files. Are you sure? (yes/no): \")\n",
    "    if user_input.lower() == \"yes\":\n",
    "        # Remove all files in the cache directory\n",
    "        if config.nuclear_data_cache_dir.exists():\n",
    "            shutil.rmtree(config.nuclear_data_cache_dir)\n",
    "            logger.warning(\"Cache directory cleared.\")\n",
    "            # Recreate the empty directory\n",
    "            config.nuclear_data_cache_dir.mkdir(parents=True, exist_ok=True)\n",
    "    else:\n",
    "        logger.info(\"Cache clearing skipped. Note that notebook outputs may differ from descriptions due to existing cached files.\")"
   ]
  },
  {
   "cell_type": "code",
   "execution_count": 3,
   "metadata": {},
   "outputs": [
    {
     "name": "stderr",
     "output_type": "stream",
     "text": [
      "\u001b[32m2025-04-28 16:57:11\u001b[0m | \u001b[1mINFO    \u001b[0m | \u001b[36m__main__\u001b[0m:\u001b[36m<module>\u001b[0m:\u001b[36m3\u001b[0m - \u001b[1mDefault ENDF library: EndfLibrary.ENDF_B_VIII_0\u001b[0m\n",
      "\u001b[32m2025-04-28 16:57:11\u001b[0m | \u001b[1mINFO    \u001b[0m | \u001b[36m__main__\u001b[0m:\u001b[36m<module>\u001b[0m:\u001b[36m7\u001b[0m - \u001b[1mCache structure:\u001b[0m\n",
      "\u001b[32m2025-04-28 16:57:11\u001b[0m | \u001b[1mINFO    \u001b[0m | \u001b[36m__main__\u001b[0m:\u001b[36m<module>\u001b[0m:\u001b[36m11\u001b[0m - \u001b[1m  Method: DataRetrievalMethod.DIRECT\u001b[0m\n",
      "\u001b[32m2025-04-28 16:57:11\u001b[0m | \u001b[1mINFO    \u001b[0m | \u001b[36m__main__\u001b[0m:\u001b[36m<module>\u001b[0m:\u001b[36m15\u001b[0m - \u001b[1m    Library: EndfLibrary.JENDL_5 (0 files)\u001b[0m\n",
      "\u001b[32m2025-04-28 16:57:11\u001b[0m | \u001b[1mINFO    \u001b[0m | \u001b[36m__main__\u001b[0m:\u001b[36m<module>\u001b[0m:\u001b[36m15\u001b[0m - \u001b[1m    Library: EndfLibrary.TENDL_2021 (0 files)\u001b[0m\n",
      "\u001b[32m2025-04-28 16:57:11\u001b[0m | \u001b[1mINFO    \u001b[0m | \u001b[36m__main__\u001b[0m:\u001b[36m<module>\u001b[0m:\u001b[36m15\u001b[0m - \u001b[1m    Library: EndfLibrary.JEFF_3_3 (0 files)\u001b[0m\n",
      "\u001b[32m2025-04-28 16:57:11\u001b[0m | \u001b[1mINFO    \u001b[0m | \u001b[36m__main__\u001b[0m:\u001b[36m<module>\u001b[0m:\u001b[36m15\u001b[0m - \u001b[1m    Library: EndfLibrary.ENDF_B_VIII_1 (0 files)\u001b[0m\n",
      "\u001b[32m2025-04-28 16:57:11\u001b[0m | \u001b[1mINFO    \u001b[0m | \u001b[36m__main__\u001b[0m:\u001b[36m<module>\u001b[0m:\u001b[36m15\u001b[0m - \u001b[1m    Library: EndfLibrary.ENDF_B_VIII_0 (0 files)\u001b[0m\n",
      "\u001b[32m2025-04-28 16:57:11\u001b[0m | \u001b[1mINFO    \u001b[0m | \u001b[36m__main__\u001b[0m:\u001b[36m<module>\u001b[0m:\u001b[36m15\u001b[0m - \u001b[1m    Library: EndfLibrary.CENDL_3_2 (0 files)\u001b[0m\n",
      "\u001b[32m2025-04-28 16:57:11\u001b[0m | \u001b[1mINFO    \u001b[0m | \u001b[36m__main__\u001b[0m:\u001b[36m<module>\u001b[0m:\u001b[36m11\u001b[0m - \u001b[1m  Method: DataRetrievalMethod.API\u001b[0m\n",
      "\u001b[32m2025-04-28 16:57:11\u001b[0m | \u001b[1mINFO    \u001b[0m | \u001b[36m__main__\u001b[0m:\u001b[36m<module>\u001b[0m:\u001b[36m15\u001b[0m - \u001b[1m    Library: EndfLibrary.JENDL_5 (0 files)\u001b[0m\n",
      "\u001b[32m2025-04-28 16:57:11\u001b[0m | \u001b[1mINFO    \u001b[0m | \u001b[36m__main__\u001b[0m:\u001b[36m<module>\u001b[0m:\u001b[36m15\u001b[0m - \u001b[1m    Library: EndfLibrary.TENDL_2021 (0 files)\u001b[0m\n",
      "\u001b[32m2025-04-28 16:57:11\u001b[0m | \u001b[1mINFO    \u001b[0m | \u001b[36m__main__\u001b[0m:\u001b[36m<module>\u001b[0m:\u001b[36m15\u001b[0m - \u001b[1m    Library: EndfLibrary.JEFF_3_3 (0 files)\u001b[0m\n",
      "\u001b[32m2025-04-28 16:57:11\u001b[0m | \u001b[1mINFO    \u001b[0m | \u001b[36m__main__\u001b[0m:\u001b[36m<module>\u001b[0m:\u001b[36m15\u001b[0m - \u001b[1m    Library: EndfLibrary.ENDF_B_VIII_1 (0 files)\u001b[0m\n",
      "\u001b[32m2025-04-28 16:57:11\u001b[0m | \u001b[1mINFO    \u001b[0m | \u001b[36m__main__\u001b[0m:\u001b[36m<module>\u001b[0m:\u001b[36m15\u001b[0m - \u001b[1m    Library: EndfLibrary.ENDF_B_VIII_0 (0 files)\u001b[0m\n",
      "\u001b[32m2025-04-28 16:57:11\u001b[0m | \u001b[1mINFO    \u001b[0m | \u001b[36m__main__\u001b[0m:\u001b[36m<module>\u001b[0m:\u001b[36m7\u001b[0m - \u001b[1mCache structure:\u001b[0m\n",
      "\u001b[32m2025-04-28 16:57:11\u001b[0m | \u001b[1mINFO    \u001b[0m | \u001b[36m__main__\u001b[0m:\u001b[36m<module>\u001b[0m:\u001b[36m11\u001b[0m - \u001b[1m  Method: DataRetrievalMethod.DIRECT\u001b[0m\n",
      "\u001b[32m2025-04-28 16:57:11\u001b[0m | \u001b[1mINFO    \u001b[0m | \u001b[36m__main__\u001b[0m:\u001b[36m<module>\u001b[0m:\u001b[36m15\u001b[0m - \u001b[1m    Library: EndfLibrary.JENDL_5 (0 files)\u001b[0m\n",
      "\u001b[32m2025-04-28 16:57:11\u001b[0m | \u001b[1mINFO    \u001b[0m | \u001b[36m__main__\u001b[0m:\u001b[36m<module>\u001b[0m:\u001b[36m15\u001b[0m - \u001b[1m    Library: EndfLibrary.TENDL_2021 (0 files)\u001b[0m\n",
      "\u001b[32m2025-04-28 16:57:11\u001b[0m | \u001b[1mINFO    \u001b[0m | \u001b[36m__main__\u001b[0m:\u001b[36m<module>\u001b[0m:\u001b[36m15\u001b[0m - \u001b[1m    Library: EndfLibrary.JEFF_3_3 (0 files)\u001b[0m\n",
      "\u001b[32m2025-04-28 16:57:11\u001b[0m | \u001b[1mINFO    \u001b[0m | \u001b[36m__main__\u001b[0m:\u001b[36m<module>\u001b[0m:\u001b[36m15\u001b[0m - \u001b[1m    Library: EndfLibrary.ENDF_B_VIII_1 (0 files)\u001b[0m\n",
      "\u001b[32m2025-04-28 16:57:11\u001b[0m | \u001b[1mINFO    \u001b[0m | \u001b[36m__main__\u001b[0m:\u001b[36m<module>\u001b[0m:\u001b[36m15\u001b[0m - \u001b[1m    Library: EndfLibrary.ENDF_B_VIII_0 (0 files)\u001b[0m\n",
      "\u001b[32m2025-04-28 16:57:11\u001b[0m | \u001b[1mINFO    \u001b[0m | \u001b[36m__main__\u001b[0m:\u001b[36m<module>\u001b[0m:\u001b[36m15\u001b[0m - \u001b[1m    Library: EndfLibrary.CENDL_3_2 (0 files)\u001b[0m\n",
      "\u001b[32m2025-04-28 16:57:11\u001b[0m | \u001b[1mINFO    \u001b[0m | \u001b[36m__main__\u001b[0m:\u001b[36m<module>\u001b[0m:\u001b[36m11\u001b[0m - \u001b[1m  Method: DataRetrievalMethod.API\u001b[0m\n",
      "\u001b[32m2025-04-28 16:57:11\u001b[0m | \u001b[1mINFO    \u001b[0m | \u001b[36m__main__\u001b[0m:\u001b[36m<module>\u001b[0m:\u001b[36m15\u001b[0m - \u001b[1m    Library: EndfLibrary.JENDL_5 (0 files)\u001b[0m\n",
      "\u001b[32m2025-04-28 16:57:11\u001b[0m | \u001b[1mINFO    \u001b[0m | \u001b[36m__main__\u001b[0m:\u001b[36m<module>\u001b[0m:\u001b[36m15\u001b[0m - \u001b[1m    Library: EndfLibrary.TENDL_2021 (0 files)\u001b[0m\n",
      "\u001b[32m2025-04-28 16:57:11\u001b[0m | \u001b[1mINFO    \u001b[0m | \u001b[36m__main__\u001b[0m:\u001b[36m<module>\u001b[0m:\u001b[36m15\u001b[0m - \u001b[1m    Library: EndfLibrary.JEFF_3_3 (0 files)\u001b[0m\n",
      "\u001b[32m2025-04-28 16:57:11\u001b[0m | \u001b[1mINFO    \u001b[0m | \u001b[36m__main__\u001b[0m:\u001b[36m<module>\u001b[0m:\u001b[36m15\u001b[0m - \u001b[1m    Library: EndfLibrary.ENDF_B_VIII_1 (0 files)\u001b[0m\n",
      "\u001b[32m2025-04-28 16:57:11\u001b[0m | \u001b[1mINFO    \u001b[0m | \u001b[36m__main__\u001b[0m:\u001b[36m<module>\u001b[0m:\u001b[36m15\u001b[0m - \u001b[1m    Library: EndfLibrary.ENDF_B_VIII_0 (0 files)\u001b[0m\n",
      "\u001b[32m2025-04-28 16:57:11\u001b[0m | \u001b[1mINFO    \u001b[0m | \u001b[36m__main__\u001b[0m:\u001b[36m<module>\u001b[0m:\u001b[36m15\u001b[0m - \u001b[1m    Library: EndfLibrary.CENDL_3_2 (0 files)\u001b[0m\n",
      "\u001b[32m2025-04-28 16:57:11\u001b[0m | \u001b[1mINFO    \u001b[0m | \u001b[36m__main__\u001b[0m:\u001b[36m<module>\u001b[0m:\u001b[36m15\u001b[0m - \u001b[1m    Library: EndfLibrary.CENDL_3_2 (0 files)\u001b[0m\n"
     ]
    }
   ],
   "source": [
    "# Initialize NuclearDataManager\n",
    "nuclear_manager = NuclearDataManager()\n",
    "logger.info(f\"Default ENDF library: {nuclear_manager.default_library}\")\n",
    "\n",
    "# List cache directories\n",
    "cache_root = config.nuclear_data_cache_dir\n",
    "logger.info(\"Cache structure:\")\n",
    "if cache_root.exists():\n",
    "    for method_dir in cache_root.iterdir():\n",
    "        if method_dir.is_dir():\n",
    "            logger.info(f\"  Method: {method_dir.name}\")\n",
    "            for library_dir in method_dir.iterdir():\n",
    "                if library_dir.is_dir():\n",
    "                    file_count = len(list(library_dir.glob(\"*.dat\")))\n",
    "                    logger.info(f\"    Library: {library_dir.name} ({file_count} files)\")"
   ]
  },
  {
   "cell_type": "markdown",
   "metadata": {},
   "source": [
    "## Isotope Setup\n",
    "\n",
    "First, we'll load information about the U-238 isotope which will be used throughout this tutorial."
   ]
  },
  {
   "cell_type": "code",
   "execution_count": 4,
   "metadata": {},
   "outputs": [
    {
     "name": "stderr",
     "output_type": "stream",
     "text": [
      "\u001b[32m2025-04-28 16:57:20\u001b[0m | \u001b[1mINFO    \u001b[0m | \u001b[36m__main__\u001b[0m:\u001b[36m<module>\u001b[0m:\u001b[36m2\u001b[0m - \u001b[1mTesting with isotope: U-238\u001b[0m\n",
      "\u001b[32m2025-04-28 16:57:20\u001b[0m | \u001b[1mINFO    \u001b[0m | \u001b[36m__main__\u001b[0m:\u001b[36m<module>\u001b[0m:\u001b[36m6\u001b[0m - \u001b[1mIsotope details: IsotopeInfo class for: U-238\u001b[0m\n",
      "\u001b[32m2025-04-28 16:57:20\u001b[0m | \u001b[1mINFO    \u001b[0m | \u001b[36m__main__\u001b[0m:\u001b[36m<module>\u001b[0m:\u001b[36m6\u001b[0m - \u001b[1mIsotope details: IsotopeInfo class for: U-238\u001b[0m\n"
     ]
    },
    {
     "name": "stdout",
     "output_type": "stream",
     "text": [
      "Searching for mass.mas20 in cached files for FileCategory.ISOTOPES: {PosixPath('/Users/8cz/github.com/PLEIADES/src/pleiades/nuclear/isotopes/files/isotopes.info'), PosixPath('/Users/8cz/github.com/PLEIADES/src/pleiades/nuclear/isotopes/files/neutrons.list'), PosixPath('/Users/8cz/github.com/PLEIADES/src/pleiades/nuclear/isotopes/files/mass.mas20')}\n",
      "Checking file: isotopes.info\n",
      "Checking file: neutrons.list\n",
      "Checking file: mass.mas20\n",
      "Found file: /Users/8cz/github.com/PLEIADES/src/pleiades/nuclear/isotopes/files/mass.mas20\n",
      "Searching for isotopes.info in cached files for FileCategory.ISOTOPES: {PosixPath('/Users/8cz/github.com/PLEIADES/src/pleiades/nuclear/isotopes/files/isotopes.info'), PosixPath('/Users/8cz/github.com/PLEIADES/src/pleiades/nuclear/isotopes/files/neutrons.list'), PosixPath('/Users/8cz/github.com/PLEIADES/src/pleiades/nuclear/isotopes/files/mass.mas20')}\n",
      "Checking file: isotopes.info\n",
      "Found file: /Users/8cz/github.com/PLEIADES/src/pleiades/nuclear/isotopes/files/isotopes.info\n",
      "Searching for neutrons.list in cached files for FileCategory.ISOTOPES: {PosixPath('/Users/8cz/github.com/PLEIADES/src/pleiades/nuclear/isotopes/files/isotopes.info'), PosixPath('/Users/8cz/github.com/PLEIADES/src/pleiades/nuclear/isotopes/files/neutrons.list'), PosixPath('/Users/8cz/github.com/PLEIADES/src/pleiades/nuclear/isotopes/files/mass.mas20')}\n",
      "Checking file: isotopes.info\n",
      "Checking file: neutrons.list\n",
      "Found file: /Users/8cz/github.com/PLEIADES/src/pleiades/nuclear/isotopes/files/neutrons.list\n"
     ]
    }
   ],
   "source": [
    "isotope_str = \"U-238\"  # Test with U-238\n",
    "logger.info(f\"Testing with isotope: {isotope_str}\")\n",
    "\n",
    "# Get isotope info\n",
    "isotope_info = nuclear_manager.isotope_manager.get_isotope_info(isotope_str)\n",
    "logger.info(f\"Isotope details: {isotope_info}\")"
   ]
  },
  {
   "cell_type": "markdown",
   "metadata": {},
   "source": [
    "## Method 1: DIRECT Download\n",
    "\n",
    "This method downloads the complete ENDF file and extracts only the resonance parameters.\n",
    "- Downloads entire ENDF file (all sections)\n",
    "- Extracts only the resonance parameter lines\n",
    "- Stores the complete file in cache for future use"
   ]
  },
  {
   "cell_type": "code",
   "execution_count": 5,
   "metadata": {},
   "outputs": [
    {
     "name": "stderr",
     "output_type": "stream",
     "text": [
      "\u001b[32m2025-04-28 16:57:22\u001b[0m | \u001b[1mINFO    \u001b[0m | \u001b[36m__main__\u001b[0m:\u001b[36m<module>\u001b[0m:\u001b[36m2\u001b[0m - \u001b[1m\n",
      "DIRECT Method - First download (should fetch from remote):\u001b[0m\n",
      "\u001b[32m2025-04-28 16:57:22\u001b[0m | \u001b[1mINFO    \u001b[0m | \u001b[36mpleiades.nuclear.manager\u001b[0m:\u001b[36m_get_data_from_direct\u001b[0m:\u001b[36m196\u001b[0m - \u001b[1mDownloading complete ENDF data from https://www-nds.iaea.org/public/download-endf/ENDF-B-VIII.0/n/n_9237_92-U-238.zip\u001b[0m\n",
      "\u001b[32m2025-04-28 16:57:22\u001b[0m | \u001b[1mINFO    \u001b[0m | \u001b[36mpleiades.nuclear.manager\u001b[0m:\u001b[36m_get_data_from_direct\u001b[0m:\u001b[36m197\u001b[0m - \u001b[1mThis will download and cache the entire ENDF file (all sections)\u001b[0m\n",
      "\u001b[32m2025-04-28 16:57:22\u001b[0m | \u001b[1mINFO    \u001b[0m | \u001b[36mpleiades.nuclear.manager\u001b[0m:\u001b[36m_get_data_from_direct\u001b[0m:\u001b[36m196\u001b[0m - \u001b[1mDownloading complete ENDF data from https://www-nds.iaea.org/public/download-endf/ENDF-B-VIII.0/n/n_9237_92-U-238.zip\u001b[0m\n",
      "\u001b[32m2025-04-28 16:57:22\u001b[0m | \u001b[1mINFO    \u001b[0m | \u001b[36mpleiades.nuclear.manager\u001b[0m:\u001b[36m_get_data_from_direct\u001b[0m:\u001b[36m197\u001b[0m - \u001b[1mThis will download and cache the entire ENDF file (all sections)\u001b[0m\n",
      "\u001b[32m2025-04-28 16:57:24\u001b[0m | \u001b[1mINFO    \u001b[0m | \u001b[36mpleiades.nuclear.manager\u001b[0m:\u001b[36mdownload_endf_resonance_file\u001b[0m:\u001b[36m376\u001b[0m - \u001b[1mExtracting resonance parameters from complete ENDF file\u001b[0m\n",
      "\u001b[32m2025-04-28 16:57:24\u001b[0m | \u001b[1mINFO    \u001b[0m | \u001b[36mpleiades.nuclear.manager\u001b[0m:\u001b[36mdownload_endf_resonance_file\u001b[0m:\u001b[36m385\u001b[0m - \u001b[1mResonance parameters extracted and written to endf_test/092-U-238.B-VIII.0.par\u001b[0m\n",
      "\u001b[32m2025-04-28 16:57:24\u001b[0m | \u001b[1mINFO    \u001b[0m | \u001b[36mpleiades.nuclear.manager\u001b[0m:\u001b[36mdownload_endf_resonance_file\u001b[0m:\u001b[36m398\u001b[0m - \u001b[1mNote: Complete ENDF file was downloaded and resonance data was extracted (DIRECT method)\u001b[0m\n",
      "\u001b[32m2025-04-28 16:57:24\u001b[0m | \u001b[1mINFO    \u001b[0m | \u001b[36m__main__\u001b[0m:\u001b[36m<module>\u001b[0m:\u001b[36m10\u001b[0m - \u001b[1mOutput file: endf_test/092-U-238.B-VIII.0.par\u001b[0m\n",
      "\u001b[32m2025-04-28 16:57:24\u001b[0m | \u001b[1mINFO    \u001b[0m | \u001b[36mpleiades.nuclear.manager\u001b[0m:\u001b[36mdownload_endf_resonance_file\u001b[0m:\u001b[36m376\u001b[0m - \u001b[1mExtracting resonance parameters from complete ENDF file\u001b[0m\n",
      "\u001b[32m2025-04-28 16:57:24\u001b[0m | \u001b[1mINFO    \u001b[0m | \u001b[36mpleiades.nuclear.manager\u001b[0m:\u001b[36mdownload_endf_resonance_file\u001b[0m:\u001b[36m385\u001b[0m - \u001b[1mResonance parameters extracted and written to endf_test/092-U-238.B-VIII.0.par\u001b[0m\n",
      "\u001b[32m2025-04-28 16:57:24\u001b[0m | \u001b[1mINFO    \u001b[0m | \u001b[36mpleiades.nuclear.manager\u001b[0m:\u001b[36mdownload_endf_resonance_file\u001b[0m:\u001b[36m398\u001b[0m - \u001b[1mNote: Complete ENDF file was downloaded and resonance data was extracted (DIRECT method)\u001b[0m\n",
      "\u001b[32m2025-04-28 16:57:24\u001b[0m | \u001b[1mINFO    \u001b[0m | \u001b[36m__main__\u001b[0m:\u001b[36m<module>\u001b[0m:\u001b[36m10\u001b[0m - \u001b[1mOutput file: endf_test/092-U-238.B-VIII.0.par\u001b[0m\n"
     ]
    },
    {
     "name": "stdout",
     "output_type": "stream",
     "text": [
      "CPU times: user 82.5 ms, sys: 48.7 ms, total: 131 ms\n",
      "Wall time: 1.43 s\n"
     ]
    }
   ],
   "source": [
    "%%time\n",
    "# Download and extract resonance file (first time should download)\n",
    "logger.info(\"\\nDIRECT Method - First download (should fetch from remote):\")\n",
    "output_path = nuclear_manager.download_endf_resonance_file(\n",
    "    isotope=isotope_info,\n",
    "    library=EndfLibrary.ENDF_B_VIII_0,\n",
    "    output_dir=str(output_dir),\n",
    "    method=DataRetrievalMethod.DIRECT,\n",
    "    use_cache=True\n",
    ")\n",
    "logger.info(f\"Output file: {output_path}\")"
   ]
  },
  {
   "cell_type": "code",
   "execution_count": 6,
   "metadata": {},
   "outputs": [
    {
     "name": "stderr",
     "output_type": "stream",
     "text": [
      "\u001b[32m2025-04-28 16:57:25\u001b[0m | \u001b[1mINFO    \u001b[0m | \u001b[36m__main__\u001b[0m:\u001b[36m<module>\u001b[0m:\u001b[36m8\u001b[0m - \u001b[1mCache file path: /Users/8cz/.pleiades/nuclear_data/DataRetrievalMethod.DIRECT/EndfLibrary.ENDF_B_VIII_0/n_9237_92-U-238.dat\u001b[0m\n",
      "\u001b[32m2025-04-28 16:57:25\u001b[0m | \u001b[1mINFO    \u001b[0m | \u001b[36m__main__\u001b[0m:\u001b[36m<module>\u001b[0m:\u001b[36m9\u001b[0m - \u001b[1mExists in cache: True\u001b[0m\n",
      "\u001b[32m2025-04-28 16:57:25\u001b[0m | \u001b[1mINFO    \u001b[0m | \u001b[36m__main__\u001b[0m:\u001b[36m<module>\u001b[0m:\u001b[36m14\u001b[0m - \u001b[1mCache file size: 15741.04 KB\u001b[0m\n",
      "\u001b[32m2025-04-28 16:57:25\u001b[0m | \u001b[1mINFO    \u001b[0m | \u001b[36m__main__\u001b[0m:\u001b[36m<module>\u001b[0m:\u001b[36m17\u001b[0m - \u001b[1m\n",
      "First 5 lines of cached file:\u001b[0m\n",
      "\u001b[32m2025-04-28 16:57:25\u001b[0m | \u001b[1mINFO    \u001b[0m | \u001b[36m__main__\u001b[0m:\u001b[36m<module>\u001b[0m:\u001b[36m22\u001b[0m - \u001b[1mRetrieved by E4-util: 2018/02/07,18:09:12                            1 0  0    0\u001b[0m\n",
      "\u001b[32m2025-04-28 16:57:25\u001b[0m | \u001b[1mINFO    \u001b[0m | \u001b[36m__main__\u001b[0m:\u001b[36m<module>\u001b[0m:\u001b[36m22\u001b[0m - \u001b[1m9.223800+4 2.360058+2          1          1          0          19237 1451    1\u001b[0m\n",
      "\u001b[32m2025-04-28 16:57:25\u001b[0m | \u001b[1mINFO    \u001b[0m | \u001b[36m__main__\u001b[0m:\u001b[36m<module>\u001b[0m:\u001b[36m22\u001b[0m - \u001b[1m0.000000+0 0.000000+0          0          0          0          69237 1451    2\u001b[0m\n",
      "\u001b[32m2025-04-28 16:57:25\u001b[0m | \u001b[1mINFO    \u001b[0m | \u001b[36m__main__\u001b[0m:\u001b[36m<module>\u001b[0m:\u001b[36m22\u001b[0m - \u001b[1m1.000000+0 3.000000+7          0          0         10          89237 1451    3\u001b[0m\n",
      "\u001b[32m2025-04-28 16:57:25\u001b[0m | \u001b[1mINFO    \u001b[0m | \u001b[36m__main__\u001b[0m:\u001b[36m<module>\u001b[0m:\u001b[36m22\u001b[0m - \u001b[1m0.000000+0 0.000000+0          0          0        566        2469237 1451    4\u001b[0m\n",
      "\u001b[32m2025-04-28 16:57:25\u001b[0m | \u001b[1mINFO    \u001b[0m | \u001b[36m__main__\u001b[0m:\u001b[36m<module>\u001b[0m:\u001b[36m9\u001b[0m - \u001b[1mExists in cache: True\u001b[0m\n",
      "\u001b[32m2025-04-28 16:57:25\u001b[0m | \u001b[1mINFO    \u001b[0m | \u001b[36m__main__\u001b[0m:\u001b[36m<module>\u001b[0m:\u001b[36m14\u001b[0m - \u001b[1mCache file size: 15741.04 KB\u001b[0m\n",
      "\u001b[32m2025-04-28 16:57:25\u001b[0m | \u001b[1mINFO    \u001b[0m | \u001b[36m__main__\u001b[0m:\u001b[36m<module>\u001b[0m:\u001b[36m17\u001b[0m - \u001b[1m\n",
      "First 5 lines of cached file:\u001b[0m\n",
      "\u001b[32m2025-04-28 16:57:25\u001b[0m | \u001b[1mINFO    \u001b[0m | \u001b[36m__main__\u001b[0m:\u001b[36m<module>\u001b[0m:\u001b[36m22\u001b[0m - \u001b[1mRetrieved by E4-util: 2018/02/07,18:09:12                            1 0  0    0\u001b[0m\n",
      "\u001b[32m2025-04-28 16:57:25\u001b[0m | \u001b[1mINFO    \u001b[0m | \u001b[36m__main__\u001b[0m:\u001b[36m<module>\u001b[0m:\u001b[36m22\u001b[0m - \u001b[1m9.223800+4 2.360058+2          1          1          0          19237 1451    1\u001b[0m\n",
      "\u001b[32m2025-04-28 16:57:25\u001b[0m | \u001b[1mINFO    \u001b[0m | \u001b[36m__main__\u001b[0m:\u001b[36m<module>\u001b[0m:\u001b[36m22\u001b[0m - \u001b[1m0.000000+0 0.000000+0          0          0          0          69237 1451    2\u001b[0m\n",
      "\u001b[32m2025-04-28 16:57:25\u001b[0m | \u001b[1mINFO    \u001b[0m | \u001b[36m__main__\u001b[0m:\u001b[36m<module>\u001b[0m:\u001b[36m22\u001b[0m - \u001b[1m1.000000+0 3.000000+7          0          0         10          89237 1451    3\u001b[0m\n",
      "\u001b[32m2025-04-28 16:57:25\u001b[0m | \u001b[1mINFO    \u001b[0m | \u001b[36m__main__\u001b[0m:\u001b[36m<module>\u001b[0m:\u001b[36m22\u001b[0m - \u001b[1m0.000000+0 0.000000+0          0          0        566        2469237 1451    4\u001b[0m\n"
     ]
    }
   ],
   "source": [
    "# Examine the cached file\n",
    "cache_file_path = nuclear_manager._get_cache_file_path(\n",
    "      method=DataRetrievalMethod.DIRECT,\n",
    "      library=EndfLibrary.ENDF_B_VIII_0,\n",
    "      isotope=isotope_info,\n",
    "      mat=isotope_info.material_number\n",
    "  )\n",
    "logger.info(f\"Cache file path: {cache_file_path}\")\n",
    "logger.info(f\"Exists in cache: {cache_file_path.exists()}\")\n",
    "\n",
    "if cache_file_path.exists():\n",
    "    # Get file size\n",
    "    file_size = cache_file_path.stat().st_size\n",
    "    logger.info(f\"Cache file size: {file_size / 1024:.2f} KB\")\n",
    "\n",
    "    # Preview first few lines\n",
    "    logger.info(\"\\nFirst 5 lines of cached file:\")\n",
    "    with open(cache_file_path, 'r') as f:\n",
    "        for i, line in enumerate(f):\n",
    "            if i >= 5:\n",
    "                break\n",
    "            logger.info(line.strip())"
   ]
  },
  {
   "cell_type": "code",
   "execution_count": 7,
   "metadata": {},
   "outputs": [
    {
     "name": "stderr",
     "output_type": "stream",
     "text": [
      "\u001b[32m2025-04-28 16:57:33\u001b[0m | \u001b[1mINFO    \u001b[0m | \u001b[36m__main__\u001b[0m:\u001b[36m<module>\u001b[0m:\u001b[36m1\u001b[0m - \u001b[1m\n",
      "DIRECT Method - Second download (should use cache):\u001b[0m\n",
      "\u001b[32m2025-04-28 16:57:33\u001b[0m | \u001b[1mINFO    \u001b[0m | \u001b[36mpleiades.nuclear.manager\u001b[0m:\u001b[36mdownload_endf_resonance_file\u001b[0m:\u001b[36m361\u001b[0m - \u001b[1mUsing cached ENDF data from /Users/8cz/.pleiades/nuclear_data/DataRetrievalMethod.DIRECT/EndfLibrary.ENDF_B_VIII_0/n_9237_92-U-238.dat\u001b[0m\n",
      "\u001b[32m2025-04-28 16:57:33\u001b[0m | \u001b[1mINFO    \u001b[0m | \u001b[36mpleiades.nuclear.manager\u001b[0m:\u001b[36mdownload_endf_resonance_file\u001b[0m:\u001b[36m376\u001b[0m - \u001b[1mExtracting resonance parameters from complete ENDF file\u001b[0m\n",
      "\u001b[32m2025-04-28 16:57:33\u001b[0m | \u001b[1mINFO    \u001b[0m | \u001b[36mpleiades.nuclear.manager\u001b[0m:\u001b[36mdownload_endf_resonance_file\u001b[0m:\u001b[36m361\u001b[0m - \u001b[1mUsing cached ENDF data from /Users/8cz/.pleiades/nuclear_data/DataRetrievalMethod.DIRECT/EndfLibrary.ENDF_B_VIII_0/n_9237_92-U-238.dat\u001b[0m\n",
      "\u001b[32m2025-04-28 16:57:33\u001b[0m | \u001b[1mINFO    \u001b[0m | \u001b[36mpleiades.nuclear.manager\u001b[0m:\u001b[36mdownload_endf_resonance_file\u001b[0m:\u001b[36m376\u001b[0m - \u001b[1mExtracting resonance parameters from complete ENDF file\u001b[0m\n",
      "\u001b[32m2025-04-28 16:57:33\u001b[0m | \u001b[1mINFO    \u001b[0m | \u001b[36mpleiades.nuclear.manager\u001b[0m:\u001b[36mdownload_endf_resonance_file\u001b[0m:\u001b[36m385\u001b[0m - \u001b[1mResonance parameters extracted and written to endf_test/092-U-238.B-VIII.0.par\u001b[0m\n",
      "\u001b[32m2025-04-28 16:57:33\u001b[0m | \u001b[1mINFO    \u001b[0m | \u001b[36mpleiades.nuclear.manager\u001b[0m:\u001b[36mdownload_endf_resonance_file\u001b[0m:\u001b[36m398\u001b[0m - \u001b[1mNote: Complete ENDF file was downloaded and resonance data was extracted (DIRECT method)\u001b[0m\n",
      "\u001b[32m2025-04-28 16:57:33\u001b[0m | \u001b[1mINFO    \u001b[0m | \u001b[36m__main__\u001b[0m:\u001b[36m<module>\u001b[0m:\u001b[36m9\u001b[0m - \u001b[1mOutput file: endf_test/092-U-238.B-VIII.0.par\u001b[0m\n",
      "\u001b[32m2025-04-28 16:57:33\u001b[0m | \u001b[1mINFO    \u001b[0m | \u001b[36m__main__\u001b[0m:\u001b[36m<module>\u001b[0m:\u001b[36m13\u001b[0m - \u001b[1mOutput file size: 655.75 KB (only resonance parameters)\u001b[0m\n",
      "\u001b[32m2025-04-28 16:57:33\u001b[0m | \u001b[1mINFO    \u001b[0m | \u001b[36m__main__\u001b[0m:\u001b[36m<module>\u001b[0m:\u001b[36m18\u001b[0m - \u001b[1mSize difference: The resonance-only file is 4.17% of the full ENDF file size\u001b[0m\n",
      "\u001b[32m2025-04-28 16:57:33\u001b[0m | \u001b[1mINFO    \u001b[0m | \u001b[36mpleiades.nuclear.manager\u001b[0m:\u001b[36mdownload_endf_resonance_file\u001b[0m:\u001b[36m385\u001b[0m - \u001b[1mResonance parameters extracted and written to endf_test/092-U-238.B-VIII.0.par\u001b[0m\n",
      "\u001b[32m2025-04-28 16:57:33\u001b[0m | \u001b[1mINFO    \u001b[0m | \u001b[36mpleiades.nuclear.manager\u001b[0m:\u001b[36mdownload_endf_resonance_file\u001b[0m:\u001b[36m398\u001b[0m - \u001b[1mNote: Complete ENDF file was downloaded and resonance data was extracted (DIRECT method)\u001b[0m\n",
      "\u001b[32m2025-04-28 16:57:33\u001b[0m | \u001b[1mINFO    \u001b[0m | \u001b[36m__main__\u001b[0m:\u001b[36m<module>\u001b[0m:\u001b[36m9\u001b[0m - \u001b[1mOutput file: endf_test/092-U-238.B-VIII.0.par\u001b[0m\n",
      "\u001b[32m2025-04-28 16:57:33\u001b[0m | \u001b[1mINFO    \u001b[0m | \u001b[36m__main__\u001b[0m:\u001b[36m<module>\u001b[0m:\u001b[36m13\u001b[0m - \u001b[1mOutput file size: 655.75 KB (only resonance parameters)\u001b[0m\n",
      "\u001b[32m2025-04-28 16:57:33\u001b[0m | \u001b[1mINFO    \u001b[0m | \u001b[36m__main__\u001b[0m:\u001b[36m<module>\u001b[0m:\u001b[36m18\u001b[0m - \u001b[1mSize difference: The resonance-only file is 4.17% of the full ENDF file size\u001b[0m\n"
     ]
    },
    {
     "name": "stdout",
     "output_type": "stream",
     "text": [
      "CPU times: user 34.2 ms, sys: 11.1 ms, total: 45.3 ms\n",
      "Wall time: 44.1 ms\n"
     ]
    }
   ],
   "source": [
    "%%time\n",
    "\n",
    "logger.info(\"\\nDIRECT Method - Second download (should use cache):\")\n",
    "output_path2 = nuclear_manager.download_endf_resonance_file(\n",
    "    isotope=isotope_info,\n",
    "    library=EndfLibrary.ENDF_B_VIII_0,\n",
    "    output_dir=str(output_dir),\n",
    "    method=DataRetrievalMethod.DIRECT,\n",
    "    use_cache=True\n",
    ")\n",
    "logger.info(f\"Output file: {output_path2}\")\n",
    "\n",
    "# Check output file size\n",
    "output_size = output_path2.stat().st_size\n",
    "logger.info(f\"Output file size: {output_size / 1024:.2f} KB (only resonance parameters)\")\n",
    "\n",
    "# Compare with full ENDF file\n",
    "full_file_size = cache_file_path.stat().st_size if cache_file_path.exists() else 0\n",
    "if full_file_size > 0:\n",
    "    logger.info(f\"Size difference: The resonance-only file is {output_size/full_file_size*100:.2f}% of the full ENDF file size\")"
   ]
  },
  {
   "cell_type": "markdown",
   "metadata": {},
   "source": [
    "## Method 2: API-Based Retrieval\n",
    "\n",
    "This method uses the IAEA EXFOR API to directly download only the resonance section of the ENDF file.\n",
    "- Only downloads the neutron resonance section (much smaller file)\n",
    "- More efficient when you only need resonance parameters\n",
    "- Still supports caching for improved performance on repeated use"
   ]
  },
  {
   "cell_type": "code",
   "execution_count": 8,
   "metadata": {},
   "outputs": [
    {
     "name": "stderr",
     "output_type": "stream",
     "text": [
      "\u001b[32m2025-04-28 16:57:35\u001b[0m | \u001b[1mINFO    \u001b[0m | \u001b[36m__main__\u001b[0m:\u001b[36m<module>\u001b[0m:\u001b[36m8\u001b[0m - \u001b[1mAPI cache file path: /Users/8cz/.pleiades/nuclear_data/DataRetrievalMethod.API/EndfLibrary.ENDF_B_VIII_0/n_092-U-238_9237_resonance.dat\u001b[0m\n",
      "\u001b[32m2025-04-28 16:57:35\u001b[0m | \u001b[1mINFO    \u001b[0m | \u001b[36m__main__\u001b[0m:\u001b[36m<module>\u001b[0m:\u001b[36m9\u001b[0m - \u001b[1mExists in cache: False\u001b[0m\n",
      "\u001b[32m2025-04-28 16:57:35\u001b[0m | \u001b[1mINFO    \u001b[0m | \u001b[36m__main__\u001b[0m:\u001b[36m<module>\u001b[0m:\u001b[36m9\u001b[0m - \u001b[1mExists in cache: False\u001b[0m\n"
     ]
    }
   ],
   "source": [
    "# Examine the API cached file\n",
    "api_cache_file_path = nuclear_manager._get_cache_file_path(\n",
    "      method=DataRetrievalMethod.API,\n",
    "      library=EndfLibrary.ENDF_B_VIII_0,\n",
    "      isotope=isotope_info,\n",
    "      mat=isotope_info.material_number\n",
    "  )\n",
    "logger.info(f\"API cache file path: {api_cache_file_path}\")\n",
    "logger.info(f\"Exists in cache: {api_cache_file_path.exists()}\")\n",
    "\n",
    "if api_cache_file_path.exists():\n",
    "    # Get file size\n",
    "    file_size = api_cache_file_path.stat().st_size\n",
    "    logger.info(f\"API cache file size: {file_size / 1024:.2f} KB\")\n",
    "\n",
    "    # Compare with DIRECT method cache size\n",
    "    if cache_file_path.exists():\n",
    "        direct_size = cache_file_path.stat().st_size\n",
    "        logger.info(f\"Size comparison: API cache is {file_size/direct_size*100:.2f}% the size of DIRECT cache\")\n",
    "\n",
    "    # Preview first few lines\n",
    "    logger.info(\"\\nFirst 5 lines of API cached file:\")\n",
    "    with open(api_cache_file_path, 'r') as f:\n",
    "        for i, line in enumerate(f):\n",
    "            if i >= 5:\n",
    "                break\n",
    "            logger.info(line.strip())"
   ]
  },
  {
   "cell_type": "code",
   "execution_count": 9,
   "metadata": {},
   "outputs": [
    {
     "name": "stderr",
     "output_type": "stream",
     "text": [
      "\u001b[32m2025-04-28 16:57:36\u001b[0m | \u001b[1mINFO    \u001b[0m | \u001b[36m__main__\u001b[0m:\u001b[36m<module>\u001b[0m:\u001b[36m2\u001b[0m - \u001b[1m\n",
      "API Method - Second download (should use cache):\u001b[0m\n",
      "\u001b[32m2025-04-28 16:57:36\u001b[0m | \u001b[1mINFO    \u001b[0m | \u001b[36mpleiades.nuclear.manager\u001b[0m:\u001b[36m_get_data_from_api\u001b[0m:\u001b[36m251\u001b[0m - \u001b[1mSearching for neutron resonance data for U-238 in ENDF/B-VIII.0 via IAEA EXFOR API\u001b[0m\n",
      "\u001b[32m2025-04-28 16:57:36\u001b[0m | \u001b[1mINFO    \u001b[0m | \u001b[36mpleiades.nuclear.manager\u001b[0m:\u001b[36m_get_data_from_api\u001b[0m:\u001b[36m252\u001b[0m - \u001b[1mNote: This will download ONLY the resonance section, not the complete ENDF file\u001b[0m\n",
      "\u001b[32m2025-04-28 16:57:36\u001b[0m | \u001b[1mINFO    \u001b[0m | \u001b[36mpleiades.nuclear.manager\u001b[0m:\u001b[36m_get_data_from_api\u001b[0m:\u001b[36m251\u001b[0m - \u001b[1mSearching for neutron resonance data for U-238 in ENDF/B-VIII.0 via IAEA EXFOR API\u001b[0m\n",
      "\u001b[32m2025-04-28 16:57:36\u001b[0m | \u001b[1mINFO    \u001b[0m | \u001b[36mpleiades.nuclear.manager\u001b[0m:\u001b[36m_get_data_from_api\u001b[0m:\u001b[36m252\u001b[0m - \u001b[1mNote: This will download ONLY the resonance section, not the complete ENDF file\u001b[0m\n",
      "\u001b[32m2025-04-28 16:57:37\u001b[0m | \u001b[1mINFO    \u001b[0m | \u001b[36mpleiades.nuclear.manager\u001b[0m:\u001b[36m_get_data_from_api\u001b[0m:\u001b[36m282\u001b[0m - \u001b[1mFound neutron resonance data (SectID: 19173028) for U-238 in INDEN-Aug2023\u001b[0m\n",
      "\u001b[32m2025-04-28 16:57:37\u001b[0m | \u001b[1mINFO    \u001b[0m | \u001b[36mpleiades.nuclear.manager\u001b[0m:\u001b[36m_get_data_from_api\u001b[0m:\u001b[36m282\u001b[0m - \u001b[1mFound neutron resonance data (SectID: 19173028) for U-238 in INDEN-Aug2023\u001b[0m\n",
      "\u001b[32m2025-04-28 16:57:37\u001b[0m | \u001b[1mINFO    \u001b[0m | \u001b[36mpleiades.nuclear.manager\u001b[0m:\u001b[36m_get_data_from_api\u001b[0m:\u001b[36m298\u001b[0m - \u001b[1mDownloaded neutron resonance data section for U-238\u001b[0m\n",
      "\u001b[32m2025-04-28 16:57:37\u001b[0m | \u001b[1mINFO    \u001b[0m | \u001b[36mpleiades.nuclear.manager\u001b[0m:\u001b[36m_get_data_from_api\u001b[0m:\u001b[36m299\u001b[0m - \u001b[1mCached as: /Users/8cz/.pleiades/nuclear_data/DataRetrievalMethod.API/EndfLibrary.ENDF_B_VIII_0/n_092-U-238_9237_resonance.dat\u001b[0m\n",
      "\u001b[32m2025-04-28 16:57:37\u001b[0m | \u001b[1mINFO    \u001b[0m | \u001b[36mpleiades.nuclear.manager\u001b[0m:\u001b[36mdownload_endf_resonance_file\u001b[0m:\u001b[36m390\u001b[0m - \u001b[1mAPI method returned resonance data directly, no extraction needed\u001b[0m\n",
      "\u001b[32m2025-04-28 16:57:37\u001b[0m | \u001b[1mINFO    \u001b[0m | \u001b[36mpleiades.nuclear.manager\u001b[0m:\u001b[36mdownload_endf_resonance_file\u001b[0m:\u001b[36m392\u001b[0m - \u001b[1mResonance parameters written to endf_test/092-U-238.B-VIII.0.par\u001b[0m\n",
      "\u001b[32m2025-04-28 16:57:37\u001b[0m | \u001b[1mINFO    \u001b[0m | \u001b[36mpleiades.nuclear.manager\u001b[0m:\u001b[36mdownload_endf_resonance_file\u001b[0m:\u001b[36m396\u001b[0m - \u001b[1mNote: Only resonance data was downloaded (API method)\u001b[0m\n",
      "\u001b[32m2025-04-28 16:57:37\u001b[0m | \u001b[1mINFO    \u001b[0m | \u001b[36m__main__\u001b[0m:\u001b[36m<module>\u001b[0m:\u001b[36m10\u001b[0m - \u001b[1mOutput file: endf_test/092-U-238.B-VIII.0.par\u001b[0m\n",
      "\u001b[32m2025-04-28 16:57:37\u001b[0m | \u001b[1mINFO    \u001b[0m | \u001b[36m__main__\u001b[0m:\u001b[36m<module>\u001b[0m:\u001b[36m15\u001b[0m - \u001b[1mOutput file comparison: Both API and DIRECT methods produce the same resonance-only output files\u001b[0m\n",
      "\u001b[32m2025-04-28 16:57:37\u001b[0m | \u001b[1mINFO    \u001b[0m | \u001b[36m__main__\u001b[0m:\u001b[36m<module>\u001b[0m:\u001b[36m16\u001b[0m - \u001b[1mAPI output size: 278.60 KB\u001b[0m\n",
      "\u001b[32m2025-04-28 16:57:37\u001b[0m | \u001b[1mINFO    \u001b[0m | \u001b[36m__main__\u001b[0m:\u001b[36m<module>\u001b[0m:\u001b[36m17\u001b[0m - \u001b[1mDIRECT output size: 655.75 KB\u001b[0m\n",
      "\u001b[32m2025-04-28 16:57:37\u001b[0m | \u001b[1mINFO    \u001b[0m | \u001b[36mpleiades.nuclear.manager\u001b[0m:\u001b[36m_get_data_from_api\u001b[0m:\u001b[36m298\u001b[0m - \u001b[1mDownloaded neutron resonance data section for U-238\u001b[0m\n",
      "\u001b[32m2025-04-28 16:57:37\u001b[0m | \u001b[1mINFO    \u001b[0m | \u001b[36mpleiades.nuclear.manager\u001b[0m:\u001b[36m_get_data_from_api\u001b[0m:\u001b[36m299\u001b[0m - \u001b[1mCached as: /Users/8cz/.pleiades/nuclear_data/DataRetrievalMethod.API/EndfLibrary.ENDF_B_VIII_0/n_092-U-238_9237_resonance.dat\u001b[0m\n",
      "\u001b[32m2025-04-28 16:57:37\u001b[0m | \u001b[1mINFO    \u001b[0m | \u001b[36mpleiades.nuclear.manager\u001b[0m:\u001b[36mdownload_endf_resonance_file\u001b[0m:\u001b[36m390\u001b[0m - \u001b[1mAPI method returned resonance data directly, no extraction needed\u001b[0m\n",
      "\u001b[32m2025-04-28 16:57:37\u001b[0m | \u001b[1mINFO    \u001b[0m | \u001b[36mpleiades.nuclear.manager\u001b[0m:\u001b[36mdownload_endf_resonance_file\u001b[0m:\u001b[36m392\u001b[0m - \u001b[1mResonance parameters written to endf_test/092-U-238.B-VIII.0.par\u001b[0m\n",
      "\u001b[32m2025-04-28 16:57:37\u001b[0m | \u001b[1mINFO    \u001b[0m | \u001b[36mpleiades.nuclear.manager\u001b[0m:\u001b[36mdownload_endf_resonance_file\u001b[0m:\u001b[36m396\u001b[0m - \u001b[1mNote: Only resonance data was downloaded (API method)\u001b[0m\n",
      "\u001b[32m2025-04-28 16:57:37\u001b[0m | \u001b[1mINFO    \u001b[0m | \u001b[36m__main__\u001b[0m:\u001b[36m<module>\u001b[0m:\u001b[36m10\u001b[0m - \u001b[1mOutput file: endf_test/092-U-238.B-VIII.0.par\u001b[0m\n",
      "\u001b[32m2025-04-28 16:57:37\u001b[0m | \u001b[1mINFO    \u001b[0m | \u001b[36m__main__\u001b[0m:\u001b[36m<module>\u001b[0m:\u001b[36m15\u001b[0m - \u001b[1mOutput file comparison: Both API and DIRECT methods produce the same resonance-only output files\u001b[0m\n",
      "\u001b[32m2025-04-28 16:57:37\u001b[0m | \u001b[1mINFO    \u001b[0m | \u001b[36m__main__\u001b[0m:\u001b[36m<module>\u001b[0m:\u001b[36m16\u001b[0m - \u001b[1mAPI output size: 278.60 KB\u001b[0m\n",
      "\u001b[32m2025-04-28 16:57:37\u001b[0m | \u001b[1mINFO    \u001b[0m | \u001b[36m__main__\u001b[0m:\u001b[36m<module>\u001b[0m:\u001b[36m17\u001b[0m - \u001b[1mDIRECT output size: 655.75 KB\u001b[0m\n"
     ]
    },
    {
     "name": "stdout",
     "output_type": "stream",
     "text": [
      "CPU times: user 27.5 ms, sys: 12.5 ms, total: 40 ms\n",
      "Wall time: 1.47 s\n"
     ]
    }
   ],
   "source": [
    "%%time\n",
    "# Second download using API method (should use cache)\n",
    "logger.info(\"\\nAPI Method - Second download (should use cache):\")\n",
    "output_path_api2 = nuclear_manager.download_endf_resonance_file(\n",
    "    isotope=isotope_info,\n",
    "    library=EndfLibrary.ENDF_B_VIII_0,\n",
    "    output_dir=str(output_dir),\n",
    "    method=DataRetrievalMethod.API,\n",
    "    use_cache=True\n",
    ")\n",
    "logger.info(f\"Output file: {output_path_api2}\")\n",
    "\n",
    "# Check output file size\n",
    "api_output_size = output_path_api2.stat().st_size if output_path_api2.exists() else 0\n",
    "if api_output_size > 0 and output_size > 0:\n",
    "    logger.info(f\"Output file comparison: Both API and DIRECT methods produce the same resonance-only output files\")\n",
    "    logger.info(f\"API output size: {api_output_size / 1024:.2f} KB\")\n",
    "    logger.info(f\"DIRECT output size: {output_size / 1024:.2f} KB\")"
   ]
  },
  {
   "cell_type": "markdown",
   "metadata": {},
   "source": [
    "## Performance Comparison\n",
    "\n",
    "Let's compare the performance of both methods by downloading data for another isotope (U-235).\n",
    "We'll measure the time taken for each method and examine the cache sizes."
   ]
  },
  {
   "cell_type": "code",
   "execution_count": 10,
   "metadata": {},
   "outputs": [
    {
     "name": "stderr",
     "output_type": "stream",
     "text": [
      "\u001b[32m2025-04-28 16:57:39\u001b[0m | \u001b[1mINFO    \u001b[0m | \u001b[36m__main__\u001b[0m:\u001b[36m<module>\u001b[0m:\u001b[36m2\u001b[0m - \u001b[1m\n",
      "Testing with another isotope: U-235\u001b[0m\n",
      "\u001b[32m2025-04-28 16:57:39\u001b[0m | \u001b[1mINFO    \u001b[0m | \u001b[36m__main__\u001b[0m:\u001b[36m<module>\u001b[0m:\u001b[36m5\u001b[0m - \u001b[1mIsotope details: IsotopeInfo class for: U-235\u001b[0m\n",
      "\u001b[32m2025-04-28 16:57:39\u001b[0m | \u001b[1mINFO    \u001b[0m | \u001b[36m__main__\u001b[0m:\u001b[36m<module>\u001b[0m:\u001b[36m5\u001b[0m - \u001b[1mIsotope details: IsotopeInfo class for: U-235\u001b[0m\n"
     ]
    }
   ],
   "source": [
    "isotope_str2 = \"U-235\"\n",
    "logger.info(f\"\\nTesting with another isotope: {isotope_str2}\")\n",
    "\n",
    "isotope_info2 = nuclear_manager.isotope_manager.get_isotope_info(isotope_str2)\n",
    "logger.info(f\"Isotope details: {isotope_info2}\")"
   ]
  },
  {
   "cell_type": "code",
   "execution_count": 11,
   "metadata": {},
   "outputs": [
    {
     "name": "stderr",
     "output_type": "stream",
     "text": [
      "\u001b[32m2025-04-28 16:57:40\u001b[0m | \u001b[1mINFO    \u001b[0m | \u001b[36m__main__\u001b[0m:\u001b[36m<module>\u001b[0m:\u001b[36m2\u001b[0m - \u001b[1mDownloading U-235 data using DIRECT method...\u001b[0m\n",
      "\u001b[32m2025-04-28 16:57:40\u001b[0m | \u001b[1mINFO    \u001b[0m | \u001b[36mpleiades.nuclear.manager\u001b[0m:\u001b[36m_get_data_from_direct\u001b[0m:\u001b[36m196\u001b[0m - \u001b[1mDownloading complete ENDF data from https://www-nds.iaea.org/public/download-endf/ENDF-B-VIII.0/n/n_9228_92-U-235.zip\u001b[0m\n",
      "\u001b[32m2025-04-28 16:57:40\u001b[0m | \u001b[1mINFO    \u001b[0m | \u001b[36mpleiades.nuclear.manager\u001b[0m:\u001b[36m_get_data_from_direct\u001b[0m:\u001b[36m197\u001b[0m - \u001b[1mThis will download and cache the entire ENDF file (all sections)\u001b[0m\n",
      "\u001b[32m2025-04-28 16:57:40\u001b[0m | \u001b[1mINFO    \u001b[0m | \u001b[36mpleiades.nuclear.manager\u001b[0m:\u001b[36m_get_data_from_direct\u001b[0m:\u001b[36m196\u001b[0m - \u001b[1mDownloading complete ENDF data from https://www-nds.iaea.org/public/download-endf/ENDF-B-VIII.0/n/n_9228_92-U-235.zip\u001b[0m\n",
      "\u001b[32m2025-04-28 16:57:40\u001b[0m | \u001b[1mINFO    \u001b[0m | \u001b[36mpleiades.nuclear.manager\u001b[0m:\u001b[36m_get_data_from_direct\u001b[0m:\u001b[36m197\u001b[0m - \u001b[1mThis will download and cache the entire ENDF file (all sections)\u001b[0m\n",
      "\u001b[32m2025-04-28 16:57:42\u001b[0m | \u001b[1mINFO    \u001b[0m | \u001b[36mpleiades.nuclear.manager\u001b[0m:\u001b[36mdownload_endf_resonance_file\u001b[0m:\u001b[36m376\u001b[0m - \u001b[1mExtracting resonance parameters from complete ENDF file\u001b[0m\n",
      "\u001b[32m2025-04-28 16:57:42\u001b[0m | \u001b[1mINFO    \u001b[0m | \u001b[36mpleiades.nuclear.manager\u001b[0m:\u001b[36mdownload_endf_resonance_file\u001b[0m:\u001b[36m385\u001b[0m - \u001b[1mResonance parameters extracted and written to endf_test/092-U-235.B-VIII.0.par\u001b[0m\n",
      "\u001b[32m2025-04-28 16:57:42\u001b[0m | \u001b[1mINFO    \u001b[0m | \u001b[36mpleiades.nuclear.manager\u001b[0m:\u001b[36mdownload_endf_resonance_file\u001b[0m:\u001b[36m398\u001b[0m - \u001b[1mNote: Complete ENDF file was downloaded and resonance data was extracted (DIRECT method)\u001b[0m\n",
      "\u001b[32m2025-04-28 16:57:42\u001b[0m | \u001b[1mINFO    \u001b[0m | \u001b[36m__main__\u001b[0m:\u001b[36m<module>\u001b[0m:\u001b[36m12\u001b[0m - \u001b[1mDIRECT method time: 1.83 seconds\u001b[0m\n",
      "\u001b[32m2025-04-28 16:57:42\u001b[0m | \u001b[1mINFO    \u001b[0m | \u001b[36m__main__\u001b[0m:\u001b[36m<module>\u001b[0m:\u001b[36m13\u001b[0m - \u001b[1mOutput file: endf_test/092-U-235.B-VIII.0.par\u001b[0m\n",
      "\u001b[32m2025-04-28 16:57:42\u001b[0m | \u001b[1mINFO    \u001b[0m | \u001b[36mpleiades.nuclear.manager\u001b[0m:\u001b[36mdownload_endf_resonance_file\u001b[0m:\u001b[36m376\u001b[0m - \u001b[1mExtracting resonance parameters from complete ENDF file\u001b[0m\n",
      "\u001b[32m2025-04-28 16:57:42\u001b[0m | \u001b[1mINFO    \u001b[0m | \u001b[36mpleiades.nuclear.manager\u001b[0m:\u001b[36mdownload_endf_resonance_file\u001b[0m:\u001b[36m385\u001b[0m - \u001b[1mResonance parameters extracted and written to endf_test/092-U-235.B-VIII.0.par\u001b[0m\n",
      "\u001b[32m2025-04-28 16:57:42\u001b[0m | \u001b[1mINFO    \u001b[0m | \u001b[36mpleiades.nuclear.manager\u001b[0m:\u001b[36mdownload_endf_resonance_file\u001b[0m:\u001b[36m398\u001b[0m - \u001b[1mNote: Complete ENDF file was downloaded and resonance data was extracted (DIRECT method)\u001b[0m\n",
      "\u001b[32m2025-04-28 16:57:42\u001b[0m | \u001b[1mINFO    \u001b[0m | \u001b[36m__main__\u001b[0m:\u001b[36m<module>\u001b[0m:\u001b[36m12\u001b[0m - \u001b[1mDIRECT method time: 1.83 seconds\u001b[0m\n",
      "\u001b[32m2025-04-28 16:57:42\u001b[0m | \u001b[1mINFO    \u001b[0m | \u001b[36m__main__\u001b[0m:\u001b[36m<module>\u001b[0m:\u001b[36m13\u001b[0m - \u001b[1mOutput file: endf_test/092-U-235.B-VIII.0.par\u001b[0m\n"
     ]
    },
    {
     "name": "stdout",
     "output_type": "stream",
     "text": [
      "CPU times: user 189 ms, sys: 144 ms, total: 333 ms\n",
      "Wall time: 1.84 s\n"
     ]
    }
   ],
   "source": [
    "%%time\n",
    "# Download U-235 data using DIRECT method\n",
    "logger.info(\"Downloading U-235 data using DIRECT method...\")\n",
    "start_time = time.time()\n",
    "output_direct_u235 = nuclear_manager.download_endf_resonance_file(\n",
    "    isotope=isotope_info2,\n",
    "    library=EndfLibrary.ENDF_B_VIII_0,\n",
    "    output_dir=str(output_dir),\n",
    "    method=DataRetrievalMethod.DIRECT,\n",
    "    use_cache=True\n",
    ")\n",
    "direct_time = time.time() - start_time\n",
    "logger.info(f\"DIRECT method time: {direct_time:.2f} seconds\")\n",
    "logger.info(f\"Output file: {output_direct_u235}\")"
   ]
  },
  {
   "cell_type": "code",
   "execution_count": 12,
   "metadata": {},
   "outputs": [
    {
     "name": "stderr",
     "output_type": "stream",
     "text": [
      "\u001b[32m2025-04-28 16:57:43\u001b[0m | \u001b[1mINFO    \u001b[0m | \u001b[36m__main__\u001b[0m:\u001b[36m<module>\u001b[0m:\u001b[36m2\u001b[0m - \u001b[1mDownloading U-235 data using API method...\u001b[0m\n",
      "\u001b[32m2025-04-28 16:57:43\u001b[0m | \u001b[1mINFO    \u001b[0m | \u001b[36mpleiades.nuclear.manager\u001b[0m:\u001b[36m_get_data_from_api\u001b[0m:\u001b[36m251\u001b[0m - \u001b[1mSearching for neutron resonance data for U-235 in ENDF/B-VIII.0 via IAEA EXFOR API\u001b[0m\n",
      "\u001b[32m2025-04-28 16:57:43\u001b[0m | \u001b[1mINFO    \u001b[0m | \u001b[36mpleiades.nuclear.manager\u001b[0m:\u001b[36m_get_data_from_api\u001b[0m:\u001b[36m252\u001b[0m - \u001b[1mNote: This will download ONLY the resonance section, not the complete ENDF file\u001b[0m\n",
      "\u001b[32m2025-04-28 16:57:43\u001b[0m | \u001b[1mINFO    \u001b[0m | \u001b[36mpleiades.nuclear.manager\u001b[0m:\u001b[36m_get_data_from_api\u001b[0m:\u001b[36m251\u001b[0m - \u001b[1mSearching for neutron resonance data for U-235 in ENDF/B-VIII.0 via IAEA EXFOR API\u001b[0m\n",
      "\u001b[32m2025-04-28 16:57:43\u001b[0m | \u001b[1mINFO    \u001b[0m | \u001b[36mpleiades.nuclear.manager\u001b[0m:\u001b[36m_get_data_from_api\u001b[0m:\u001b[36m252\u001b[0m - \u001b[1mNote: This will download ONLY the resonance section, not the complete ENDF file\u001b[0m\n",
      "\u001b[32m2025-04-28 16:57:44\u001b[0m | \u001b[1mINFO    \u001b[0m | \u001b[36mpleiades.nuclear.manager\u001b[0m:\u001b[36m_get_data_from_api\u001b[0m:\u001b[36m282\u001b[0m - \u001b[1mFound neutron resonance data (SectID: 19172584) for U-235 in INDEN-Aug2023\u001b[0m\n",
      "\u001b[32m2025-04-28 16:57:44\u001b[0m | \u001b[1mINFO    \u001b[0m | \u001b[36mpleiades.nuclear.manager\u001b[0m:\u001b[36m_get_data_from_api\u001b[0m:\u001b[36m282\u001b[0m - \u001b[1mFound neutron resonance data (SectID: 19172584) for U-235 in INDEN-Aug2023\u001b[0m\n",
      "\u001b[32m2025-04-28 16:57:45\u001b[0m | \u001b[1mINFO    \u001b[0m | \u001b[36mpleiades.nuclear.manager\u001b[0m:\u001b[36m_get_data_from_api\u001b[0m:\u001b[36m298\u001b[0m - \u001b[1mDownloaded neutron resonance data section for U-235\u001b[0m\n",
      "\u001b[32m2025-04-28 16:57:45\u001b[0m | \u001b[1mINFO    \u001b[0m | \u001b[36mpleiades.nuclear.manager\u001b[0m:\u001b[36m_get_data_from_api\u001b[0m:\u001b[36m299\u001b[0m - \u001b[1mCached as: /Users/8cz/.pleiades/nuclear_data/DataRetrievalMethod.API/EndfLibrary.ENDF_B_VIII_0/n_092-U-235_9228_resonance.dat\u001b[0m\n",
      "\u001b[32m2025-04-28 16:57:45\u001b[0m | \u001b[1mINFO    \u001b[0m | \u001b[36mpleiades.nuclear.manager\u001b[0m:\u001b[36mdownload_endf_resonance_file\u001b[0m:\u001b[36m390\u001b[0m - \u001b[1mAPI method returned resonance data directly, no extraction needed\u001b[0m\n",
      "\u001b[32m2025-04-28 16:57:45\u001b[0m | \u001b[1mINFO    \u001b[0m | \u001b[36mpleiades.nuclear.manager\u001b[0m:\u001b[36mdownload_endf_resonance_file\u001b[0m:\u001b[36m392\u001b[0m - \u001b[1mResonance parameters written to endf_test/092-U-235.B-VIII.0.par\u001b[0m\n",
      "\u001b[32m2025-04-28 16:57:45\u001b[0m | \u001b[1mINFO    \u001b[0m | \u001b[36mpleiades.nuclear.manager\u001b[0m:\u001b[36mdownload_endf_resonance_file\u001b[0m:\u001b[36m396\u001b[0m - \u001b[1mNote: Only resonance data was downloaded (API method)\u001b[0m\n",
      "\u001b[32m2025-04-28 16:57:45\u001b[0m | \u001b[1mINFO    \u001b[0m | \u001b[36mpleiades.nuclear.manager\u001b[0m:\u001b[36m_get_data_from_api\u001b[0m:\u001b[36m298\u001b[0m - \u001b[1mDownloaded neutron resonance data section for U-235\u001b[0m\n",
      "\u001b[32m2025-04-28 16:57:45\u001b[0m | \u001b[1mINFO    \u001b[0m | \u001b[36mpleiades.nuclear.manager\u001b[0m:\u001b[36m_get_data_from_api\u001b[0m:\u001b[36m299\u001b[0m - \u001b[1mCached as: /Users/8cz/.pleiades/nuclear_data/DataRetrievalMethod.API/EndfLibrary.ENDF_B_VIII_0/n_092-U-235_9228_resonance.dat\u001b[0m\n",
      "\u001b[32m2025-04-28 16:57:45\u001b[0m | \u001b[1mINFO    \u001b[0m | \u001b[36mpleiades.nuclear.manager\u001b[0m:\u001b[36mdownload_endf_resonance_file\u001b[0m:\u001b[36m390\u001b[0m - \u001b[1mAPI method returned resonance data directly, no extraction needed\u001b[0m\n",
      "\u001b[32m2025-04-28 16:57:45\u001b[0m | \u001b[1mINFO    \u001b[0m | \u001b[36mpleiades.nuclear.manager\u001b[0m:\u001b[36mdownload_endf_resonance_file\u001b[0m:\u001b[36m392\u001b[0m - \u001b[1mResonance parameters written to endf_test/092-U-235.B-VIII.0.par\u001b[0m\n",
      "\u001b[32m2025-04-28 16:57:45\u001b[0m | \u001b[1mINFO    \u001b[0m | \u001b[36mpleiades.nuclear.manager\u001b[0m:\u001b[36mdownload_endf_resonance_file\u001b[0m:\u001b[36m396\u001b[0m - \u001b[1mNote: Only resonance data was downloaded (API method)\u001b[0m\n",
      "\u001b[32m2025-04-28 16:57:45\u001b[0m | \u001b[1mINFO    \u001b[0m | \u001b[36m__main__\u001b[0m:\u001b[36m<module>\u001b[0m:\u001b[36m12\u001b[0m - \u001b[1mAPI method time: 1.53 seconds\u001b[0m\n",
      "\u001b[32m2025-04-28 16:57:45\u001b[0m | \u001b[1mINFO    \u001b[0m | \u001b[36m__main__\u001b[0m:\u001b[36m<module>\u001b[0m:\u001b[36m13\u001b[0m - \u001b[1mOutput file: endf_test/092-U-235.B-VIII.0.par\u001b[0m\n",
      "\u001b[32m2025-04-28 16:57:45\u001b[0m | \u001b[1mINFO    \u001b[0m | \u001b[36m__main__\u001b[0m:\u001b[36m<module>\u001b[0m:\u001b[36m17\u001b[0m - \u001b[1m\n",
      "Performance comparison:\u001b[0m\n",
      "\u001b[32m2025-04-28 16:57:45\u001b[0m | \u001b[1mINFO    \u001b[0m | \u001b[36m__main__\u001b[0m:\u001b[36m<module>\u001b[0m:\u001b[36m18\u001b[0m - \u001b[1mDIRECT method: 1.83 seconds\u001b[0m\n",
      "\u001b[32m2025-04-28 16:57:45\u001b[0m | \u001b[1mINFO    \u001b[0m | \u001b[36m__main__\u001b[0m:\u001b[36m<module>\u001b[0m:\u001b[36m19\u001b[0m - \u001b[1mAPI method: 1.53 seconds\u001b[0m\n",
      "\u001b[32m2025-04-28 16:57:45\u001b[0m | \u001b[1mINFO    \u001b[0m | \u001b[36m__main__\u001b[0m:\u001b[36m<module>\u001b[0m:\u001b[36m22\u001b[0m - \u001b[1mAPI method was 1.20x faster\u001b[0m\n",
      "\u001b[32m2025-04-28 16:57:45\u001b[0m | \u001b[1mINFO    \u001b[0m | \u001b[36m__main__\u001b[0m:\u001b[36m<module>\u001b[0m:\u001b[36m12\u001b[0m - \u001b[1mAPI method time: 1.53 seconds\u001b[0m\n",
      "\u001b[32m2025-04-28 16:57:45\u001b[0m | \u001b[1mINFO    \u001b[0m | \u001b[36m__main__\u001b[0m:\u001b[36m<module>\u001b[0m:\u001b[36m13\u001b[0m - \u001b[1mOutput file: endf_test/092-U-235.B-VIII.0.par\u001b[0m\n",
      "\u001b[32m2025-04-28 16:57:45\u001b[0m | \u001b[1mINFO    \u001b[0m | \u001b[36m__main__\u001b[0m:\u001b[36m<module>\u001b[0m:\u001b[36m17\u001b[0m - \u001b[1m\n",
      "Performance comparison:\u001b[0m\n",
      "\u001b[32m2025-04-28 16:57:45\u001b[0m | \u001b[1mINFO    \u001b[0m | \u001b[36m__main__\u001b[0m:\u001b[36m<module>\u001b[0m:\u001b[36m18\u001b[0m - \u001b[1mDIRECT method: 1.83 seconds\u001b[0m\n",
      "\u001b[32m2025-04-28 16:57:45\u001b[0m | \u001b[1mINFO    \u001b[0m | \u001b[36m__main__\u001b[0m:\u001b[36m<module>\u001b[0m:\u001b[36m19\u001b[0m - \u001b[1mAPI method: 1.53 seconds\u001b[0m\n",
      "\u001b[32m2025-04-28 16:57:45\u001b[0m | \u001b[1mINFO    \u001b[0m | \u001b[36m__main__\u001b[0m:\u001b[36m<module>\u001b[0m:\u001b[36m22\u001b[0m - \u001b[1mAPI method was 1.20x faster\u001b[0m\n"
     ]
    },
    {
     "name": "stdout",
     "output_type": "stream",
     "text": [
      "CPU times: user 30.1 ms, sys: 13.1 ms, total: 43.2 ms\n",
      "Wall time: 1.54 s\n"
     ]
    }
   ],
   "source": [
    "%%time\n",
    "# Download U-235 data using API method\n",
    "logger.info(\"Downloading U-235 data using API method...\")\n",
    "start_time = time.time()\n",
    "output_api_u235 = nuclear_manager.download_endf_resonance_file(\n",
    "    isotope=isotope_info2,\n",
    "    library=EndfLibrary.ENDF_B_VIII_0,\n",
    "    output_dir=str(output_dir),\n",
    "    method=DataRetrievalMethod.API,\n",
    "    use_cache=True\n",
    ")\n",
    "api_time = time.time() - start_time\n",
    "logger.info(f\"API method time: {api_time:.2f} seconds\")\n",
    "logger.info(f\"Output file: {output_api_u235}\")\n",
    "\n",
    "# Compare times\n",
    "if direct_time > 0 and api_time > 0:\n",
    "    logger.info(f\"\\nPerformance comparison:\")\n",
    "    logger.info(f\"DIRECT method: {direct_time:.2f} seconds\")\n",
    "    logger.info(f\"API method: {api_time:.2f} seconds\")\n",
    "    \n",
    "    if direct_time > api_time:\n",
    "        logger.info(f\"API method was {direct_time/api_time:.2f}x faster\")\n",
    "    else:\n",
    "        logger.info(f\"DIRECT method was {api_time/direct_time:.2f}x faster\")"
   ]
  },
  {
   "cell_type": "markdown",
   "metadata": {},
   "source": [
    "## Cache Structure Summary\n",
    "\n",
    "Let's examine the cache directory structure to see how files are organized and how the two methods compare in terms of storage requirements."
   ]
  },
  {
   "cell_type": "code",
   "execution_count": 13,
   "metadata": {},
   "outputs": [
    {
     "name": "stderr",
     "output_type": "stream",
     "text": [
      "\u001b[32m2025-04-28 16:57:47\u001b[0m | \u001b[1mINFO    \u001b[0m | \u001b[36m__main__\u001b[0m:\u001b[36m<module>\u001b[0m:\u001b[36m1\u001b[0m - \u001b[1mCache content summary with filename patterns:\u001b[0m\n",
      "\u001b[32m2025-04-28 16:57:47\u001b[0m | \u001b[1mINFO    \u001b[0m | \u001b[36m__main__\u001b[0m:\u001b[36m<module>\u001b[0m:\u001b[36m10\u001b[0m - \u001b[1m\n",
      "Method: DataRetrievalMethod.DIRECT\u001b[0m\n",
      "\u001b[32m2025-04-28 16:57:47\u001b[0m | \u001b[1mINFO    \u001b[0m | \u001b[36m__main__\u001b[0m:\u001b[36m<module>\u001b[0m:\u001b[36m18\u001b[0m - \u001b[1m  Library: EndfLibrary.ENDF_B_VIII_0\u001b[0m\n",
      "\u001b[32m2025-04-28 16:57:47\u001b[0m | \u001b[1mINFO    \u001b[0m | \u001b[36m__main__\u001b[0m:\u001b[36m<module>\u001b[0m:\u001b[36m19\u001b[0m - \u001b[1m  Total size: 54604.15 KB\u001b[0m\n",
      "\u001b[32m2025-04-28 16:57:47\u001b[0m | \u001b[1mINFO    \u001b[0m | \u001b[36m__main__\u001b[0m:\u001b[36m<module>\u001b[0m:\u001b[36m22\u001b[0m - \u001b[1m    - n_9228_92-U-235.dat (38863.12 KB)\u001b[0m\n",
      "\u001b[32m2025-04-28 16:57:47\u001b[0m | \u001b[1mINFO    \u001b[0m | \u001b[36m__main__\u001b[0m:\u001b[36m<module>\u001b[0m:\u001b[36m22\u001b[0m - \u001b[1m    - n_9237_92-U-238.dat (15741.04 KB)\u001b[0m\n",
      "\u001b[32m2025-04-28 16:57:47\u001b[0m | \u001b[1mINFO    \u001b[0m | \u001b[36m__main__\u001b[0m:\u001b[36m<module>\u001b[0m:\u001b[36m36\u001b[0m - \u001b[1m  Total DataRetrievalMethod.DIRECT cache size: 53.32 MB\u001b[0m\n",
      "\u001b[32m2025-04-28 16:57:47\u001b[0m | \u001b[1mINFO    \u001b[0m | \u001b[36m__main__\u001b[0m:\u001b[36m<module>\u001b[0m:\u001b[36m10\u001b[0m - \u001b[1m\n",
      "Method: DataRetrievalMethod.API\u001b[0m\n",
      "\u001b[32m2025-04-28 16:57:47\u001b[0m | \u001b[1mINFO    \u001b[0m | \u001b[36m__main__\u001b[0m:\u001b[36m<module>\u001b[0m:\u001b[36m18\u001b[0m - \u001b[1m  Library: EndfLibrary.ENDF_B_VIII_0\u001b[0m\n",
      "\u001b[32m2025-04-28 16:57:47\u001b[0m | \u001b[1mINFO    \u001b[0m | \u001b[36m__main__\u001b[0m:\u001b[36m<module>\u001b[0m:\u001b[36m19\u001b[0m - \u001b[1m  Total size: 539.63 KB\u001b[0m\n",
      "\u001b[32m2025-04-28 16:57:47\u001b[0m | \u001b[1mINFO    \u001b[0m | \u001b[36m__main__\u001b[0m:\u001b[36m<module>\u001b[0m:\u001b[36m22\u001b[0m - \u001b[1m    - n_092-U-235_9228_resonance.dat (261.04 KB)\u001b[0m\n",
      "\u001b[32m2025-04-28 16:57:47\u001b[0m | \u001b[1mINFO    \u001b[0m | \u001b[36m__main__\u001b[0m:\u001b[36m<module>\u001b[0m:\u001b[36m22\u001b[0m - \u001b[1m    - n_092-U-238_9237_resonance.dat (278.60 KB)\u001b[0m\n",
      "\u001b[32m2025-04-28 16:57:47\u001b[0m | \u001b[1mINFO    \u001b[0m | \u001b[36m__main__\u001b[0m:\u001b[36m<module>\u001b[0m:\u001b[36m10\u001b[0m - \u001b[1m\n",
      "Method: DataRetrievalMethod.DIRECT\u001b[0m\n",
      "\u001b[32m2025-04-28 16:57:47\u001b[0m | \u001b[1mINFO    \u001b[0m | \u001b[36m__main__\u001b[0m:\u001b[36m<module>\u001b[0m:\u001b[36m18\u001b[0m - \u001b[1m  Library: EndfLibrary.ENDF_B_VIII_0\u001b[0m\n",
      "\u001b[32m2025-04-28 16:57:47\u001b[0m | \u001b[1mINFO    \u001b[0m | \u001b[36m__main__\u001b[0m:\u001b[36m<module>\u001b[0m:\u001b[36m19\u001b[0m - \u001b[1m  Total size: 54604.15 KB\u001b[0m\n",
      "\u001b[32m2025-04-28 16:57:47\u001b[0m | \u001b[1mINFO    \u001b[0m | \u001b[36m__main__\u001b[0m:\u001b[36m<module>\u001b[0m:\u001b[36m22\u001b[0m - \u001b[1m    - n_9228_92-U-235.dat (38863.12 KB)\u001b[0m\n",
      "\u001b[32m2025-04-28 16:57:47\u001b[0m | \u001b[1mINFO    \u001b[0m | \u001b[36m__main__\u001b[0m:\u001b[36m<module>\u001b[0m:\u001b[36m22\u001b[0m - \u001b[1m    - n_9237_92-U-238.dat (15741.04 KB)\u001b[0m\n",
      "\u001b[32m2025-04-28 16:57:47\u001b[0m | \u001b[1mINFO    \u001b[0m | \u001b[36m__main__\u001b[0m:\u001b[36m<module>\u001b[0m:\u001b[36m36\u001b[0m - \u001b[1m  Total DataRetrievalMethod.DIRECT cache size: 53.32 MB\u001b[0m\n",
      "\u001b[32m2025-04-28 16:57:47\u001b[0m | \u001b[1mINFO    \u001b[0m | \u001b[36m__main__\u001b[0m:\u001b[36m<module>\u001b[0m:\u001b[36m10\u001b[0m - \u001b[1m\n",
      "Method: DataRetrievalMethod.API\u001b[0m\n",
      "\u001b[32m2025-04-28 16:57:47\u001b[0m | \u001b[1mINFO    \u001b[0m | \u001b[36m__main__\u001b[0m:\u001b[36m<module>\u001b[0m:\u001b[36m18\u001b[0m - \u001b[1m  Library: EndfLibrary.ENDF_B_VIII_0\u001b[0m\n",
      "\u001b[32m2025-04-28 16:57:47\u001b[0m | \u001b[1mINFO    \u001b[0m | \u001b[36m__main__\u001b[0m:\u001b[36m<module>\u001b[0m:\u001b[36m19\u001b[0m - \u001b[1m  Total size: 539.63 KB\u001b[0m\n",
      "\u001b[32m2025-04-28 16:57:47\u001b[0m | \u001b[1mINFO    \u001b[0m | \u001b[36m__main__\u001b[0m:\u001b[36m<module>\u001b[0m:\u001b[36m22\u001b[0m - \u001b[1m    - n_092-U-235_9228_resonance.dat (261.04 KB)\u001b[0m\n",
      "\u001b[32m2025-04-28 16:57:47\u001b[0m | \u001b[1mINFO    \u001b[0m | \u001b[36m__main__\u001b[0m:\u001b[36m<module>\u001b[0m:\u001b[36m22\u001b[0m - \u001b[1m    - n_092-U-238_9237_resonance.dat (278.60 KB)\u001b[0m\n",
      "\u001b[32m2025-04-28 16:57:47\u001b[0m | \u001b[1mINFO    \u001b[0m | \u001b[36m__main__\u001b[0m:\u001b[36m<module>\u001b[0m:\u001b[36m36\u001b[0m - \u001b[1m  Total DataRetrievalMethod.API cache size: 0.53 MB\u001b[0m\n",
      "\u001b[32m2025-04-28 16:57:47\u001b[0m | \u001b[1mINFO    \u001b[0m | \u001b[36m__main__\u001b[0m:\u001b[36m<module>\u001b[0m:\u001b[36m36\u001b[0m - \u001b[1m  Total DataRetrievalMethod.API cache size: 0.53 MB\u001b[0m\n"
     ]
    }
   ],
   "source": [
    "logger.info(\"Cache content summary with filename patterns:\")\n",
    "cache_root = config.nuclear_data_cache_dir\n",
    "total_direct_size = 0\n",
    "total_api_size = 0\n",
    "\n",
    "if cache_root.exists():\n",
    "    for method_dir in cache_root.iterdir():\n",
    "        if method_dir.is_dir():\n",
    "            method_size = 0\n",
    "            logger.info(f\"\\nMethod: {method_dir.name}\")\n",
    "            for library_dir in method_dir.iterdir():\n",
    "                if library_dir.is_dir():\n",
    "                    files = list(library_dir.glob(\"*.dat\"))\n",
    "                    lib_size = sum(f.stat().st_size for f in files)\n",
    "                    method_size += lib_size\n",
    "                    \n",
    "                    if files:\n",
    "                        logger.info(f\"  Library: {library_dir.name}\")\n",
    "                        logger.info(f\"  Total size: {lib_size / 1024:.2f} KB\")\n",
    "                        for file in files:\n",
    "                            file_size = file.stat().st_size\n",
    "                            logger.info(f\"    - {file.name} ({file_size / 1024:.2f} KB)\")\n",
    "                            \n",
    "                            # Check filename pattern\n",
    "                            if \"_\" in file.name and file.name.split(\"_\")[1].isdigit():\n",
    "                                logger.debug(f\"      Pattern: MAT_FIRST (non-zero-padded Z)\")\n",
    "                            else:\n",
    "                                logger.debug(f\"      Pattern: ELEMENT_FIRST (zero-padded Z)\")\n",
    "            \n",
    "            # Add to method totals\n",
    "            if method_dir.name == 'DIRECT':\n",
    "                total_direct_size = method_size\n",
    "            elif method_dir.name == 'API':\n",
    "                total_api_size = method_size\n",
    "            \n",
    "            logger.info(f\"  Total {method_dir.name} cache size: {method_size / (1024*1024):.2f} MB\")\n",
    "    \n",
    "    # Overall comparison\n",
    "    if total_direct_size > 0 and total_api_size > 0:\n",
    "        logger.info(f\"\\nOverall storage comparison:\")\n",
    "        logger.info(f\"Total DIRECT cache: {total_direct_size / (1024*1024):.2f} MB\")\n",
    "        logger.info(f\"Total API cache: {total_api_size / (1024*1024):.2f} MB\")\n",
    "        logger.info(f\"API method uses {total_api_size/total_direct_size*100:.2f}% of the DIRECT method's storage\")"
   ]
  },
  {
   "cell_type": "markdown",
   "metadata": {},
   "source": [
    "## Conclusion: Choosing the Right Method\n",
    "\n",
    "Both methods have their advantages:\n",
    "\n",
    "- **DIRECT Method**:\n",
    "  - Downloads the complete ENDF file\n",
    "  - Good when you need access to other sections beyond resonance data\n",
    "  - Higher storage requirements\n",
    "  - May take longer for initial download\n",
    "\n",
    "- **API Method**:\n",
    "  - Downloads only the resonance section\n",
    "  - Faster downloads and lower storage requirements\n",
    "  - Ideal when you only need resonance parameters for calculations\n",
    "  - Particularly useful for large-scale processing of many isotopes\n",
    "\n",
    "### Usage Guidelines:\n",
    "- Use **DIRECT** when you need complete ENDF files or multiple sections\n",
    "- Use **API** when you only need resonance parameters and want to optimize performance and storage\n",
    "\n",
    "Both methods benefit from caching, which significantly speeds up subsequent retrievals."
   ]
  },
  {
   "cell_type": "code",
   "execution_count": null,
   "metadata": {},
   "outputs": [],
   "source": []
  }
 ],
 "metadata": {
  "kernelspec": {
   "display_name": "default",
   "language": "python",
   "name": "python3"
  },
  "language_info": {
   "codemirror_mode": {
    "name": "ipython",
    "version": 3
   },
   "file_extension": ".py",
   "mimetype": "text/x-python",
   "name": "python",
   "nbconvert_exporter": "python",
   "pygments_lexer": "ipython3",
   "version": "3.11.12"
  }
 },
 "nbformat": 4,
 "nbformat_minor": 2
}
