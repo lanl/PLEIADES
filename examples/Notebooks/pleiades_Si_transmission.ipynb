{
 "cells": [
  {
   "cell_type": "markdown",
   "id": "66ca0d35",
   "metadata": {},
   "source": [
    "## PLEIADES Tutorial - SAMMY Exercise EX012: Treating Multiple Nuclides in a Sample\n",
    "\n",
    "### Overview\n",
    "\n",
    "This notebook provides a comprehensive guide to SAMMY Exercise EX012 from the PLEIADES examples. The exercise demonstrates how to handle samples containing multiple nuclides, a scenario frequently encountered in real-world experiments. By leveraging PLEIADES, users will learn to configure, execute, and analyze SAMMY runs for such complex cases.\n",
    "\n",
    "### Objectives\n",
    "\n",
    "- Understand how to use PLEIADES to manage SAMMY runs for samples with multiple nuclides.\n",
    "- Learn to define spin groups, resonance parameters, and nuclide abundances.\n",
    "- Explore the impact of individual isotopes or spin groups on the overall sample.\n",
    "- Refine resonance parameters and nuclide abundances to improve the fit to experimental data.\n",
    "\n",
    "### Key Details\n",
    "\n",
    "1. **Using PLEIADES**:\n",
    "    - This notebook demonstrates the step-by-step process of setting up and executing SAMMY runs using PLEIADES.\n",
    "    - It includes configuring the environment, linking necessary files, running SAMMY, and analyzing the results.\n",
    "\n",
    "2. **Handling Multiple Nuclides**:\n",
    "    - The exercise focuses on treating samples with multiple isotopes or contaminants.\n",
    "    - Users will learn to exclude specific spin groups and analyze their contributions to the overall sample.\n",
    "\n",
    "3. **Practical Insights**:\n",
    "    - Gain insights into how resonance parameters and spin groups influence experimental results.\n",
    "    - Experiment with different configurations to understand the behavior of the sample.\n",
    "\n",
    "### Instructions\n",
    "\n",
    "Follow the steps in this notebook to configure the SAMMY environment, link the required files, and execute the SAMMY runs. Analyze the results to refine nuclide abundances and resonance parameters. Experiment with excluding specific spin groups to observe their individual contributions and deepen your understanding of treating multiple nuclides in a sample."
   ]
  },
  {
   "cell_type": "markdown",
   "id": "9b72b2ee",
   "metadata": {},
   "source": [
    "### PRE-SETUP: Initializing Directories and Files for the Example\n",
    "\n",
    "To begin, we need to set up a temporary directory and link all the required SAMMY files to it. This ensures that the necessary files are organized and accessible for running the SAMMY exercise.\n",
    "\n",
    "In this step, we will create symbolic links for the required files from the `ex012` example into the designated `working_dir`. These files are essential for configuring and executing the SAMMY run.\n",
    "\n",
    "The directories are configured as follows:\n",
    "- **Working Directory**: `/tmp/sammy_run`\n",
    "- **Output Directory**: `/tmp/sammy_run/sammy_output`\n",
    "\n",
    "The following files should be available in the `working_dir`:\n",
    "- `ex012a.inp`: Input file defining spin groups for different isotopes.\n",
    "- `ex012a.par`: Parameter file containing resonance data grouped by nuclide.\n",
    "- `ex012a.dat`: Data file with \"real data\" for transmission through natural silicon.\n",
    "\n",
    "Ensure that these files are correctly linked to the `working_dir` before proceeding with the analysis."
   ]
  },
  {
   "cell_type": "code",
   "execution_count": null,
   "id": "b665a932",
   "metadata": {},
   "outputs": [],
   "source": [
    "from pathlib import Path\n",
    "import tempfile\n",
    "\n",
    "# Get current working directory (notebook location)\n",
    "current_dir = Path.cwd()\n",
    "\n",
    "# Create a dedicated sammy_workspaces folder for all runs\n",
    "sammy_base_dir = current_dir / \"workspaces\"\n",
    "sammy_base_dir.mkdir(exist_ok=True)\n",
    "\n",
    "# Create a timestamped working directory within our persistent folder\n",
    "base_dir_name = f\"Si_Transmission\"\n",
    "working_dir = sammy_base_dir / base_dir_name\n",
    "output_dir = working_dir / \"results\"\n",
    "\n",
    "# Create the directories if they do not exist\n",
    "working_dir.mkdir(parents=True, exist_ok=True)\n",
    "output_dir.mkdir(parents=True, exist_ok=True)\n",
    "\n",
    "# Copy the ex012a.inp, ex012a.par, and ex012a.dat files from \"../samexm/ex012/\" to the working directory\n",
    "# Define the source directory and the files to copy\n",
    "source_dir = Path(\"../samexm/ex012/\").resolve()\n",
    "files_to_link = [\"ex012a.inp\", \"ex012a.par\", \"ex012a.dat\"]\n",
    "\n",
    "# Create symbolic links for each file in the working directory\n",
    "for file_name in files_to_link:\n",
    "    source_file = source_dir / file_name\n",
    "    destination_file = working_dir / file_name\n",
    "    \n",
    "    # Check if symlink exists already and if so, remove it\n",
    "    if destination_file.exists():\n",
    "        if destination_file.is_symlink():\n",
    "            destination_file.unlink()  # Remove the existing symbolic link\n",
    "    destination_file.symlink_to(source_file)\n",
    "\n",
    "# Verify the files are in the working directory\n",
    "print(\"Files in working directory:\", list(working_dir.iterdir()))"
   ]
  },
  {
   "cell_type": "markdown",
   "id": "963b8e3b",
   "metadata": {},
   "source": [
    "### Loading Relevant Modules\n",
    "\n",
    "This section focuses on importing the necessary modules from PLEIADES and other libraries to configure and execute the SAMMY exercise. These modules are essential for managing SAMMY input/output files, setting up the working environment, and running SAMMY locally."
   ]
  },
  {
   "cell_type": "code",
   "execution_count": null,
   "id": "79597d15",
   "metadata": {},
   "outputs": [],
   "source": [
    "import subprocess\n",
    "\n",
    "from pleiades.sammy.config import LocalSammyConfig              # Needed for configuring the SAMMY run directory \n",
    "from pleiades.sammy.backends.local import LocalSammyRunner      # Needed for running SAMMY locally\n",
    "from pleiades.sammy.interface import SammyFiles                 # Needed for managing SAMMY input and output files "
   ]
  },
  {
   "cell_type": "markdown",
   "id": "00b37f01",
   "metadata": {},
   "source": [
    "### Configuring the SAMMY environment with PLEIADES\n",
    "\n",
    "In this step, we set up the SAMMY environment by specifying the executable path, working directory, and output directory. The `LocalSammyConfig` class is used to create a configuration object that holds these details. This configuration will be used to manage the SAMMY runs effectively."
   ]
  },
  {
   "cell_type": "code",
   "execution_count": null,
   "id": "1572999f",
   "metadata": {},
   "outputs": [],
   "source": [
    "# Grab the SAMMY executable \n",
    "sammy_executable = subprocess.run([\"which\", \"sammy\"], capture_output=True, text=True).stdout.strip()\n",
    "\n",
    "# Create SAMMY configuration class\n",
    "config = LocalSammyConfig(\n",
    "    sammy_executable=sammy_executable,\n",
    "    working_dir=working_dir,\n",
    "    output_dir=output_dir\n",
    ")\n",
    "\n",
    "print(f\"Using SAMMY executable: {config.sammy_executable}\")\n",
    "print(f\"Using working directory: {config.working_dir}\")\n",
    "print(f\"Using output directory: {config.output_dir}\")\n",
    "\n",
    "# Double check the success of configuration through PLEIADES validation\n",
    "if config.validate():\n",
    "    print(\"Configuration validated successfully.\")\n",
    "else:\n",
    "    print(\"Configuration validation failed.\")\n"
   ]
  },
  {
   "cell_type": "markdown",
   "id": "df2e7d0f",
   "metadata": {},
   "source": [
    "### Configuring SAMMY Files\n",
    "\n",
    "Now set the needed SAMMY files using the `SammyFiles` class. This class allows us to define the paths for the input, parameter, and data files required for the SAMMY run. These files are located in the `working_dir` and were linked earlier in the setup process.\n",
    "\n",
    "The following files are configured:\n",
    "- **Input File**: `ex012a.inp` - Defines spin groups for different isotopes.\n",
    "- **Parameter File**: `ex012a.par` - Contains resonance data grouped by nuclide.\n",
    "- **Data File**: `ex012a.dat` - Provides \"real data\" for transmission through natural silicon.\n",
    "\n",
    "These files are essential for running the SAMMY exercise and analyzing the results."
   ]
  },
  {
   "cell_type": "code",
   "execution_count": null,
   "id": "82cf4ff6",
   "metadata": {},
   "outputs": [],
   "source": [
    "# Define input files\n",
    "files = SammyFiles(\n",
    "    input_file=working_dir / \"ex012a.inp\",\n",
    "    parameter_file=working_dir / \"ex012a.par\",\n",
    "    data_file=working_dir / \"ex012a.dat\"\n",
    ")\n",
    "\n",
    "print(\"SAMMY FILES:\")\n",
    "print(f\"Input file: {files.input_file}\")\n",
    "print(f\"Parameter file: {files.parameter_file}\")\n",
    "print(f\"Data file: {files.data_file}\")"
   ]
  },
  {
   "cell_type": "markdown",
   "id": "f4424ff5",
   "metadata": {},
   "source": [
    "### Executing SAMMY with Configured Files\n",
    "\n",
    "In this step, we will execute SAMMY using the `SammyFiles` configuration within the `working_dir`. The `LocalSammyRunner` class will be utilized to run SAMMY locally, leveraging the previously defined `config` and `files` objects.\n",
    "\n",
    "The execution process involves:\n",
    "- Using the `LocalSammyRunner` to manage the SAMMY run.\n",
    "- Ensuring the input, parameter, and data files are correctly linked and accessible in the `working_dir`.\n",
    "- Running SAMMY with the specified configuration and files.\n",
    "\n",
    "This step is crucial for generating results based on the provided input and parameter files, which will be analyzed in subsequent steps."
   ]
  },
  {
   "cell_type": "code",
   "execution_count": null,
   "id": "79029333",
   "metadata": {},
   "outputs": [],
   "source": [
    "try:\n",
    "    # Create and use runner\n",
    "    runner = LocalSammyRunner(config)\n",
    "\n",
    "    # Prepare environment\n",
    "    print(\"Preparing environment...\")\n",
    "    runner.prepare_environment(files)\n",
    "\n",
    "    # Execute SAMMY\n",
    "    print(\"Executing SAMMY...\")\n",
    "    result = runner.execute_sammy(files)\n",
    "\n",
    "    # Process results\n",
    "    if result.success:\n",
    "        print(f\"SAMMY execution successful (runtime: {result.runtime_seconds:.2f}s)\")\n",
    "        runner.collect_outputs(result)\n",
    "\n",
    "    else:\n",
    "        print(\"SAMMY execution failed:\")\n",
    "        print(result.error_message)\n",
    "        print(\"\\nConsole output:\")\n",
    "        print(result.console_output)\n",
    "    \n",
    "\n",
    "except Exception as e:\n",
    "    print(f\"Error running SAMMY: {str(e)}\")\n",
    "\n",
    "finally:\n",
    "    # Cleanup\n",
    "    runner.cleanup()"
   ]
  },
  {
   "cell_type": "markdown",
   "id": "ff09f285",
   "metadata": {},
   "source": [
    "### Load the run results of the fit. \n",
    "\n",
    "The results of the SAMMY fit will always be written out to a `SAMMY.LST` and a `SAMMY.LPT` file. These files were collected and moved to the `output_dir` when `collect_outputs()` was called. \n",
    "\n",
    "Here we utilize a `ResultsManager` class to load all of the relevant results from the run into a `RunResults` class. The `ResultsManager` will then call a `LptManager` and a `LstManager` to readin the result data and process it into the `RunResults` class\n",
    "\n",
    "When a `ResultsManager` is initialized, you can either pass it the paths of the `SAMMY.LST` and `SAMMY.LPT` files\n",
    "```\n",
    "results_manager = ResultsManager(lpt_file_path=lpt_file_path, lst_file_path=lst_file_path)\n",
    "```\n",
    "\n",
    "Or if a ResultsManager already exists, then a `SAMMY.LST` and `SAMMY.LPT` file can be process with the utilizing process functions within `LptManager` and `LstManager`"
   ]
  },
  {
   "cell_type": "code",
   "execution_count": null,
   "id": "4a7bd219",
   "metadata": {},
   "outputs": [],
   "source": [
    "from pleiades.sammy.results.manager import ResultsManager\n",
    "\n",
    "# Define the paths to the LPT and LST files\n",
    "lpt_file_path = output_dir / \"SAMMY.LPT\"\n",
    "lst_file_path = output_dir / \"SAMMY.LST\"\n",
    "\n",
    "results_manager = ResultsManager(lpt_file_path=lpt_file_path, lst_file_path=lst_file_path)"
   ]
  },
  {
   "cell_type": "markdown",
   "id": "79322b0b",
   "metadata": {},
   "source": [
    "### Print some of the Results\n",
    "\n",
    "Here we can explore the `RunResults` class which aggregates multiple fit results and provides access to the data loaded from the `SAMMY.LST` file.\n",
    "\n",
    "The following attributes of `RunResults` can be explored:\n",
    "- **`fit_results`**: A list of `FitResults` objects containing the results of individual fits.\n",
    "- **`data`**: A `sammyData` object containing the LST data loaded from the SAMMY `.LST` file.\n"
   ]
  },
  {
   "cell_type": "code",
   "execution_count": null,
   "id": "e306cb31",
   "metadata": {},
   "outputs": [],
   "source": [
    "# Print the number of fits\n",
    "results_manager.print_number_of_fit_results()\n",
    "\n",
    "# Print the final fit results\n",
    "results_manager.print_fit_result(-1)"
   ]
  },
  {
   "cell_type": "markdown",
   "id": "6bdb2a1c",
   "metadata": {},
   "source": [
    "### Plot Results\n",
    "\n",
    "In this section, we visualize the results of the SAMMY fit by plotting the experimental and theoretical cross sections as a function of energy. Additionally, we compute and plot the residuals (difference between experimental and theoretical cross sections) to assess the quality of the fit.\n",
    "\n",
    "The main plot displays:\n",
    "- Experimental cross section (data points).\n",
    "- Final theoretical cross section (continuous line).\n",
    "\n",
    "The residuals plot shows:\n",
    "- The difference between experimental and theoretical cross sections.\n",
    "- A horizontal line at zero to indicate perfect agreement.\n",
    "\n",
    "These visualizations help evaluate the accuracy of the SAMMY fit and identify any discrepancies between the experimental data and the theoretical model."
   ]
  },
  {
   "cell_type": "code",
   "execution_count": null,
   "id": "ade59904",
   "metadata": {},
   "outputs": [],
   "source": [
    "# Plot the transmission data loaded from the LST file\n",
    "results_manager.plot_transmission(show_diff=True)"
   ]
  }
 ],
 "metadata": {
  "kernelspec": {
   "display_name": "pleiades",
   "language": "python",
   "name": "python3"
  },
  "language_info": {
   "codemirror_mode": {
    "name": "ipython",
    "version": 3
   },
   "file_extension": ".py",
   "mimetype": "text/x-python",
   "name": "python",
   "nbconvert_exporter": "python",
   "pygments_lexer": "ipython3",
   "version": "3.10.16"
  }
 },
 "nbformat": 4,
 "nbformat_minor": 5
}
