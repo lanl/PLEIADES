{
 "cells": [
  {
   "cell_type": "markdown",
   "id": "b2b3b211",
   "metadata": {},
   "source": [
    "# PLEIADES Tutorial - SAMMY Exercise EX012: Treating Multiple Nuclides in a Sample"
   ]
  },
  {
   "cell_type": "markdown",
   "id": "d8a13c31",
   "metadata": {},
   "source": [
    "## Overview\n",
    "\n",
    "This notebook provides a comprehensive guide to SAMMY Exercise EX012 from the PLEIADES examples.\n",
    "The exercise demonstrates how to handle samples containing multiple nuclides, a scenario frequently encountered in real-world experiments.\n",
    "By leveraging PLEIADES, users will learn to configure, execute, and analyze SAMMY runs for such complex cases.\n",
    "\n",
    "### Objectives\n",
    "\n",
    "- Understand how to use PLEIADES to manage SAMMY runs for samples with multiple nuclides.\n",
    "- Learn to define spin groups, resonance parameters, and nuclide abundances.\n",
    "- Explore the impact of individual isotopes or spin groups on the overall sample.\n",
    "- Refine resonance parameters and nuclide abundances to improve the fit to experimental data.\n",
    "\n",
    "### Key Details\n",
    "\n",
    "1. **Using PLEIADES**:\n",
    "    - This notebook demonstrates the step-by-step process of setting up and executing SAMMY runs using PLEIADES.\n",
    "    - It includes configuring the environment, setting up necessary files, running SAMMY, and analyzing the results.\n",
    "\n",
    "2. **Handling Multiple Nuclides**:\n",
    "    - The exercise focuses on treating samples with multiple isotopes or contaminants.\n",
    "    - Users will learn to exclude specific spin groups and analyze their contributions to the overall sample.\n",
    "\n",
    "3. **Practical Insights**:\n",
    "    - Gain insights into how resonance parameters and spin groups influence experimental results.\n",
    "    - Experiment with different configurations to understand the behavior of the sample.\n",
    "\n",
    "### Instructions\n",
    "\n",
    "Follow the steps in this notebook to configure the SAMMY environment, setup the required files, and execute the SAMMY runs.\n",
    "Analyze the results to refine nuclide abundances and resonance parameters.\n",
    "Experiment with excluding specific spin groups to observe their individual contributions and deepen your understanding of treating multiple nuclides in a sample."
   ]
  },
  {
   "cell_type": "markdown",
   "id": "7f6b5911",
   "metadata": {},
   "source": [
    "## Step 0: First pass\n",
    "\n",
    "We will create a workspace directory for the exercise and set up the necessary files."
   ]
  },
  {
   "cell_type": "code",
   "execution_count": 1,
   "id": "c6497eab",
   "metadata": {},
   "outputs": [],
   "source": [
    "from pathlib import Path\n",
    "\n",
    "# Get current working directory (notebook location)\n",
    "current_dir = Path.cwd()\n",
    "\n",
    "# Create a dedicated sammy_workspaces folder for all runs\n",
    "sammy_base_dir = current_dir / \"workspaces\"\n",
    "sammy_base_dir.mkdir(exist_ok=True)\n",
    "# Create a timestamped working directory within our persistent folder\n",
    "base_dir_name = \"Si_Transmission\"\n",
    "working_dir = sammy_base_dir / base_dir_name\n",
    "output_dir = working_dir / \"results\"\n",
    "\n",
    "# Create the directories if they do not exist\n",
    "working_dir.mkdir(parents=True, exist_ok=True)\n",
    "output_dir.mkdir(parents=True, exist_ok=True)"
   ]
  },
  {
   "cell_type": "markdown",
   "id": "319250da",
   "metadata": {},
   "source": [
    "We will be using the `ex012` example files for this tutorial, so let's specify the path to the source file directory"
   ]
  },
  {
   "cell_type": "code",
   "execution_count": 2,
   "id": "56d46619",
   "metadata": {},
   "outputs": [
    {
     "name": "stdout",
     "output_type": "stream",
     "text": [
      "Source directory tree:\n",
      "├── ex012a\n",
      "├── ex012a.dat\n",
      "├── ex012a.inp\n",
      "├── ex012a.par\n",
      "└── README.FIRST\n"
     ]
    }
   ],
   "source": [
    "source_dir = current_dir / \"../samexm/ex012/\"\n",
    "\n",
    "# let's list the tree of the source directory\n",
    "def list_tree(startpath: Path, prefix: str = \"\"):\n",
    "    \"\"\"Recursively print a tree structure of the directory like `tree` command.\"\"\"\n",
    "    entries = sorted(startpath.iterdir(), key=lambda x: (not x.is_dir(), x.name.lower()))\n",
    "    entries_count = len(entries)\n",
    "\n",
    "    for index, path in enumerate(entries):\n",
    "        connector = \"└── \" if index == entries_count - 1 else \"├── \"\n",
    "        print(prefix + connector + path.name)\n",
    "\n",
    "        if path.is_dir():\n",
    "            extension = \"    \" if index == entries_count - 1 else \"│   \"\n",
    "            list_tree(path, prefix + extension)\n",
    "\n",
    "print(\"Source directory tree:\")\n",
    "list_tree(source_dir)"
   ]
  },
  {
   "cell_type": "markdown",
   "id": "4759de7f",
   "metadata": {},
   "source": [
    "Now that we verify the files needed for the exercise are in place, we can proceed to setup a runner with `pleiades`."
   ]
  },
  {
   "cell_type": "code",
   "execution_count": 3,
   "id": "f81a7cdd",
   "metadata": {},
   "outputs": [
    {
     "name": "stderr",
     "output_type": "stream",
     "text": [
      "\u001b[32m2025-05-05 15:43:28\u001b[0m | \u001b[34m\u001b[1mDEBUG   \u001b[0m | \u001b[36mpleiades.sammy.factory\u001b[0m:\u001b[36mlist_available_backends\u001b[0m:\u001b[36m76\u001b[0m - \u001b[34m\u001b[1mLocal SAMMY found at: /Users/8cz/code.ornl.gov/SAMMY/build/bin/sammy\u001b[0m\n",
      "\u001b[32m2025-05-05 15:43:29\u001b[0m | \u001b[34m\u001b[1mDEBUG   \u001b[0m | \u001b[36mpleiades.sammy.factory\u001b[0m:\u001b[36mlist_available_backends\u001b[0m:\u001b[36m90\u001b[0m - \u001b[34m\u001b[1mDocker backend available\u001b[0m\n",
      "\u001b[32m2025-05-05 15:43:29\u001b[0m | \u001b[34m\u001b[1mDEBUG   \u001b[0m | \u001b[36mpleiades.sammy.factory\u001b[0m:\u001b[36mlist_available_backends\u001b[0m:\u001b[36m100\u001b[0m - \u001b[34m\u001b[1mNOVA credentials found\u001b[0m\n"
     ]
    },
    {
     "data": {
      "text/plain": [
       "<pleiades.sammy.backends.local.LocalSammyRunner at 0x110629d10>"
      ]
     },
     "execution_count": 3,
     "metadata": {},
     "output_type": "execute_result"
    }
   ],
   "source": [
    "from pleiades.sammy.factory import SammyFactory\n",
    "\n",
    "runner = SammyFactory.create_runner(\n",
    "    backend_type=\"local\",\n",
    "    working_dir=working_dir,\n",
    "    output_dir=output_dir,\n",
    ")\n",
    "\n",
    "runner"
   ]
  },
  {
   "cell_type": "markdown",
   "id": "5e2ef70b",
   "metadata": {},
   "source": [
    "Here we are using the local runner for the exercise, but you should be able to adapt this to use other runners as needed.\n",
    "\n",
    "The next step is to tell `pleiades` where the start input files are:\n",
    "\n",
    "- **Input File**: `ex012a.inp` - Defines spin groups for different isotopes.\n",
    "- **Parameter File**: `ex012a.par` - Contains resonance data grouped by nuclide.\n",
    "- **Data File**: `ex012a.dat` - Provides \"real data\" for transmission through natural silicon.\n",
    "\n",
    "These files are essential for running the SAMMY exercise and analyzing the results."
   ]
  },
  {
   "cell_type": "code",
   "execution_count": 4,
   "id": "7206df5f",
   "metadata": {},
   "outputs": [],
   "source": [
    "from pleiades.sammy.interface import SammyFiles\n",
    "\n",
    "files_step_0 = SammyFiles(\n",
    "    input_file=source_dir / \"ex012a.inp\",\n",
    "    parameter_file=source_dir / \"ex012a.par\",\n",
    "    data_file=source_dir / \"ex012a.dat\",\n",
    ")"
   ]
  },
  {
   "cell_type": "markdown",
   "id": "d97b1acc",
   "metadata": {},
   "source": [
    "Now let's pass the file to the runner to verify and setup."
   ]
  },
  {
   "cell_type": "code",
   "execution_count": 5,
   "id": "1efb7cd8",
   "metadata": {},
   "outputs": [
    {
     "name": "stderr",
     "output_type": "stream",
     "text": [
      "\u001b[32m2025-05-05 15:47:46\u001b[0m | \u001b[34m\u001b[1mDEBUG   \u001b[0m | \u001b[36mpleiades.sammy.backends.local\u001b[0m:\u001b[36mprepare_environment\u001b[0m:\u001b[36m44\u001b[0m - \u001b[34m\u001b[1mValidating input files\u001b[0m\n",
      "\u001b[32m2025-05-05 15:47:46\u001b[0m | \u001b[34m\u001b[1mDEBUG   \u001b[0m | \u001b[36mpleiades.sammy.backends.local\u001b[0m:\u001b[36mprepare_environment\u001b[0m:\u001b[36m48\u001b[0m - \u001b[34m\u001b[1mMoving files to working directory\u001b[0m\n",
      "\u001b[32m2025-05-05 15:47:46\u001b[0m | \u001b[34m\u001b[1mDEBUG   \u001b[0m | \u001b[36mpleiades.sammy.interface\u001b[0m:\u001b[36mmove_to_working_dir\u001b[0m:\u001b[36m84\u001b[0m - \u001b[34m\u001b[1mMoving files to working directory: /Users/8cz/github.com/PLEIADES/examples/Notebooks/workspaces/Si_Transmission\u001b[0m\n",
      "\u001b[32m2025-05-05 15:47:46\u001b[0m | \u001b[34m\u001b[1mDEBUG   \u001b[0m | \u001b[36mpleiades.sammy.interface\u001b[0m:\u001b[36mmove_to_working_dir\u001b[0m:\u001b[36m100\u001b[0m - \u001b[34m\u001b[1mCopying input file: /Users/8cz/github.com/PLEIADES/examples/Notebooks/../samexm/ex012/ex012a.inp -> /Users/8cz/github.com/PLEIADES/examples/Notebooks/workspaces/Si_Transmission/ex012a.inp\u001b[0m\n",
      "\u001b[32m2025-05-05 15:47:46\u001b[0m | \u001b[34m\u001b[1mDEBUG   \u001b[0m | \u001b[36mpleiades.sammy.interface\u001b[0m:\u001b[36mmove_to_working_dir\u001b[0m:\u001b[36m109\u001b[0m - \u001b[34m\u001b[1mCopying parameter file: /Users/8cz/github.com/PLEIADES/examples/Notebooks/../samexm/ex012/ex012a.par -> /Users/8cz/github.com/PLEIADES/examples/Notebooks/workspaces/Si_Transmission/ex012a.par\u001b[0m\n",
      "\u001b[32m2025-05-05 15:47:46\u001b[0m | \u001b[34m\u001b[1mDEBUG   \u001b[0m | \u001b[36mpleiades.sammy.interface\u001b[0m:\u001b[36mmove_to_working_dir\u001b[0m:\u001b[36m118\u001b[0m - \u001b[34m\u001b[1mCreating symlink for data file: /Users/8cz/github.com/PLEIADES/examples/Notebooks/../samexm/ex012/ex012a.dat -> /Users/8cz/github.com/PLEIADES/examples/Notebooks/workspaces/Si_Transmission/ex012a.dat\u001b[0m\n",
      "\u001b[32m2025-05-05 15:47:46\u001b[0m | \u001b[34m\u001b[1mDEBUG   \u001b[0m | \u001b[36mpleiades.sammy.backends.local\u001b[0m:\u001b[36mprepare_environment\u001b[0m:\u001b[36m52\u001b[0m - \u001b[34m\u001b[1mEnvironment preparation complete\u001b[0m\n"
     ]
    }
   ],
   "source": [
    "runner.prepare_environment(files=files_step_0)"
   ]
  },
  {
   "cell_type": "code",
   "execution_count": 7,
   "id": "8b399c3e",
   "metadata": {},
   "outputs": [
    {
     "name": "stdout",
     "output_type": "stream",
     "text": [
      "Runner configuration:\n",
      "Working directory: /Users/8cz/github.com/PLEIADES/examples/Notebooks/workspaces/Si_Transmission\n",
      "Output directory: /Users/8cz/github.com/PLEIADES/examples/Notebooks/workspaces/Si_Transmission/results\n",
      "SAMMY executable: /Users/8cz/code.ornl.gov/SAMMY/build/bin/sammy\n"
     ]
    }
   ],
   "source": [
    "# Print the configuration to verify\n",
    "print(\"Runner configuration:\")\n",
    "print(f\"Working directory: {runner.config.working_dir}\")\n",
    "print(f\"Output directory: {runner.config.output_dir}\")\n",
    "print(f\"SAMMY executable: {runner.config.sammy_executable}\")"
   ]
  },
  {
   "cell_type": "markdown",
   "id": "a7d5162d",
   "metadata": {},
   "source": [
    "The runner is configured and files are in place, time to run the first pass."
   ]
  },
  {
   "cell_type": "code",
   "execution_count": 8,
   "id": "57f9904f",
   "metadata": {},
   "outputs": [
    {
     "name": "stderr",
     "output_type": "stream",
     "text": [
      "\u001b[32m2025-05-05 15:50:27\u001b[0m | \u001b[1mINFO    \u001b[0m | \u001b[36mpleiades.sammy.backends.local\u001b[0m:\u001b[36mexecute_sammy\u001b[0m:\u001b[36m62\u001b[0m - \u001b[1mStarting SAMMY execution cce580ed-cc68-46ef-af65-69050331f116\u001b[0m\n",
      "\u001b[32m2025-05-05 15:50:27\u001b[0m | \u001b[34m\u001b[1mDEBUG   \u001b[0m | \u001b[36mpleiades.sammy.backends.local\u001b[0m:\u001b[36mexecute_sammy\u001b[0m:\u001b[36m63\u001b[0m - \u001b[34m\u001b[1mWorking directory: /Users/8cz/github.com/PLEIADES/examples/Notebooks/workspaces/Si_Transmission\u001b[0m\n",
      "\u001b[32m2025-05-05 15:50:30\u001b[0m | \u001b[1mINFO    \u001b[0m | \u001b[36mpleiades.sammy.backends.local\u001b[0m:\u001b[36mexecute_sammy\u001b[0m:\u001b[36m93\u001b[0m - \u001b[1mSAMMY execution completed successfully for cce580ed-cc68-46ef-af65-69050331f116\u001b[0m\n"
     ]
    }
   ],
   "source": [
    "result = runner.execute_sammy(files_step_0)"
   ]
  },
  {
   "cell_type": "markdown",
   "id": "7bb25a8b",
   "metadata": {},
   "source": [
    "Now let's examine the results of the first pass, and move files to the appropriate location."
   ]
  },
  {
   "cell_type": "code",
   "execution_count": 9,
   "id": "59c591d8",
   "metadata": {},
   "outputs": [
    {
     "name": "stderr",
     "output_type": "stream",
     "text": [
      "\u001b[32m2025-05-05 15:51:44\u001b[0m | \u001b[1mINFO    \u001b[0m | \u001b[36mpleiades.sammy.interface\u001b[0m:\u001b[36mcollect_outputs\u001b[0m:\u001b[36m306\u001b[0m - \u001b[1mCollecting outputs for execution cce580ed-cc68-46ef-af65-69050331f116\u001b[0m\n",
      "\u001b[32m2025-05-05 15:51:44\u001b[0m | \u001b[34m\u001b[1mDEBUG   \u001b[0m | \u001b[36mpleiades.sammy.interface\u001b[0m:\u001b[36mcollect_outputs\u001b[0m:\u001b[36m317\u001b[0m - \u001b[34m\u001b[1mFound known output file: SAMMY.LST\u001b[0m\n",
      "\u001b[32m2025-05-05 15:51:44\u001b[0m | \u001b[34m\u001b[1mDEBUG   \u001b[0m | \u001b[36mpleiades.sammy.interface\u001b[0m:\u001b[36mcollect_outputs\u001b[0m:\u001b[36m317\u001b[0m - \u001b[34m\u001b[1mFound known output file: SAMMY.LPT\u001b[0m\n",
      "\u001b[32m2025-05-05 15:51:44\u001b[0m | \u001b[34m\u001b[1mDEBUG   \u001b[0m | \u001b[36mpleiades.sammy.interface\u001b[0m:\u001b[36mcollect_outputs\u001b[0m:\u001b[36m317\u001b[0m - \u001b[34m\u001b[1mFound known output file: SAMMY.IO\u001b[0m\n",
      "\u001b[32m2025-05-05 15:51:44\u001b[0m | \u001b[34m\u001b[1mDEBUG   \u001b[0m | \u001b[36mpleiades.sammy.interface\u001b[0m:\u001b[36mcollect_outputs\u001b[0m:\u001b[36m323\u001b[0m - \u001b[34m\u001b[1mFound additional output file: SAM41.DAT\u001b[0m\n",
      "\u001b[32m2025-05-05 15:51:44\u001b[0m | \u001b[34m\u001b[1mDEBUG   \u001b[0m | \u001b[36mpleiades.sammy.interface\u001b[0m:\u001b[36mcollect_outputs\u001b[0m:\u001b[36m323\u001b[0m - \u001b[34m\u001b[1mFound additional output file: SAM46.DAT\u001b[0m\n",
      "\u001b[32m2025-05-05 15:51:44\u001b[0m | \u001b[34m\u001b[1mDEBUG   \u001b[0m | \u001b[36mpleiades.sammy.interface\u001b[0m:\u001b[36mcollect_outputs\u001b[0m:\u001b[36m323\u001b[0m - \u001b[34m\u001b[1mFound additional output file: SAMMY.ODF\u001b[0m\n",
      "\u001b[32m2025-05-05 15:51:44\u001b[0m | \u001b[34m\u001b[1mDEBUG   \u001b[0m | \u001b[36mpleiades.sammy.interface\u001b[0m:\u001b[36mcollect_outputs\u001b[0m:\u001b[36m323\u001b[0m - \u001b[34m\u001b[1mFound additional output file: SAMMY.PAR\u001b[0m\n",
      "\u001b[32m2025-05-05 15:51:44\u001b[0m | \u001b[34m\u001b[1mDEBUG   \u001b[0m | \u001b[36mpleiades.sammy.interface\u001b[0m:\u001b[36mcollect_outputs\u001b[0m:\u001b[36m323\u001b[0m - \u001b[34m\u001b[1mFound additional output file: SAMMY.COV\u001b[0m\n",
      "\u001b[32m2025-05-05 15:51:44\u001b[0m | \u001b[34m\u001b[1mDEBUG   \u001b[0m | \u001b[36mpleiades.sammy.interface\u001b[0m:\u001b[36mcollect_outputs\u001b[0m:\u001b[36m323\u001b[0m - \u001b[34m\u001b[1mFound additional output file: SAMMY.RED\u001b[0m\n",
      "\u001b[32m2025-05-05 15:51:44\u001b[0m | \u001b[34m\u001b[1mDEBUG   \u001b[0m | \u001b[36mpleiades.sammy.interface\u001b[0m:\u001b[36mcollect_outputs\u001b[0m:\u001b[36m323\u001b[0m - \u001b[34m\u001b[1mFound additional output file: SAMMY.PLT\u001b[0m\n",
      "\u001b[32m2025-05-05 15:51:44\u001b[0m | \u001b[34m\u001b[1mDEBUG   \u001b[0m | \u001b[36mpleiades.sammy.interface\u001b[0m:\u001b[36mcollect_outputs\u001b[0m:\u001b[36m340\u001b[0m - \u001b[34m\u001b[1mMoved /Users/8cz/github.com/PLEIADES/examples/Notebooks/workspaces/Si_Transmission/SAMMY.RED to /Users/8cz/github.com/PLEIADES/examples/Notebooks/workspaces/Si_Transmission/results/SAMMY.RED\u001b[0m\n",
      "\u001b[32m2025-05-05 15:51:44\u001b[0m | \u001b[34m\u001b[1mDEBUG   \u001b[0m | \u001b[36mpleiades.sammy.interface\u001b[0m:\u001b[36mcollect_outputs\u001b[0m:\u001b[36m340\u001b[0m - \u001b[34m\u001b[1mMoved /Users/8cz/github.com/PLEIADES/examples/Notebooks/workspaces/Si_Transmission/SAMMY.LST to /Users/8cz/github.com/PLEIADES/examples/Notebooks/workspaces/Si_Transmission/results/SAMMY.LST\u001b[0m\n",
      "\u001b[32m2025-05-05 15:51:44\u001b[0m | \u001b[34m\u001b[1mDEBUG   \u001b[0m | \u001b[36mpleiades.sammy.interface\u001b[0m:\u001b[36mcollect_outputs\u001b[0m:\u001b[36m340\u001b[0m - \u001b[34m\u001b[1mMoved /Users/8cz/github.com/PLEIADES/examples/Notebooks/workspaces/Si_Transmission/SAM41.DAT to /Users/8cz/github.com/PLEIADES/examples/Notebooks/workspaces/Si_Transmission/results/SAM41.DAT\u001b[0m\n",
      "\u001b[32m2025-05-05 15:51:44\u001b[0m | \u001b[34m\u001b[1mDEBUG   \u001b[0m | \u001b[36mpleiades.sammy.interface\u001b[0m:\u001b[36mcollect_outputs\u001b[0m:\u001b[36m340\u001b[0m - \u001b[34m\u001b[1mMoved /Users/8cz/github.com/PLEIADES/examples/Notebooks/workspaces/Si_Transmission/SAMMY.PAR to /Users/8cz/github.com/PLEIADES/examples/Notebooks/workspaces/Si_Transmission/results/SAMMY.PAR\u001b[0m\n",
      "\u001b[32m2025-05-05 15:51:44\u001b[0m | \u001b[34m\u001b[1mDEBUG   \u001b[0m | \u001b[36mpleiades.sammy.interface\u001b[0m:\u001b[36mcollect_outputs\u001b[0m:\u001b[36m340\u001b[0m - \u001b[34m\u001b[1mMoved /Users/8cz/github.com/PLEIADES/examples/Notebooks/workspaces/Si_Transmission/SAMMY.COV to /Users/8cz/github.com/PLEIADES/examples/Notebooks/workspaces/Si_Transmission/results/SAMMY.COV\u001b[0m\n",
      "\u001b[32m2025-05-05 15:51:44\u001b[0m | \u001b[34m\u001b[1mDEBUG   \u001b[0m | \u001b[36mpleiades.sammy.interface\u001b[0m:\u001b[36mcollect_outputs\u001b[0m:\u001b[36m340\u001b[0m - \u001b[34m\u001b[1mMoved /Users/8cz/github.com/PLEIADES/examples/Notebooks/workspaces/Si_Transmission/SAMMY.ODF to /Users/8cz/github.com/PLEIADES/examples/Notebooks/workspaces/Si_Transmission/results/SAMMY.ODF\u001b[0m\n",
      "\u001b[32m2025-05-05 15:51:44\u001b[0m | \u001b[34m\u001b[1mDEBUG   \u001b[0m | \u001b[36mpleiades.sammy.interface\u001b[0m:\u001b[36mcollect_outputs\u001b[0m:\u001b[36m340\u001b[0m - \u001b[34m\u001b[1mMoved /Users/8cz/github.com/PLEIADES/examples/Notebooks/workspaces/Si_Transmission/SAMMY.PLT to /Users/8cz/github.com/PLEIADES/examples/Notebooks/workspaces/Si_Transmission/results/SAMMY.PLT\u001b[0m\n",
      "\u001b[32m2025-05-05 15:51:44\u001b[0m | \u001b[34m\u001b[1mDEBUG   \u001b[0m | \u001b[36mpleiades.sammy.interface\u001b[0m:\u001b[36mcollect_outputs\u001b[0m:\u001b[36m340\u001b[0m - \u001b[34m\u001b[1mMoved /Users/8cz/github.com/PLEIADES/examples/Notebooks/workspaces/Si_Transmission/SAMMY.IO to /Users/8cz/github.com/PLEIADES/examples/Notebooks/workspaces/Si_Transmission/results/SAMMY.IO\u001b[0m\n",
      "\u001b[32m2025-05-05 15:51:44\u001b[0m | \u001b[34m\u001b[1mDEBUG   \u001b[0m | \u001b[36mpleiades.sammy.interface\u001b[0m:\u001b[36mcollect_outputs\u001b[0m:\u001b[36m340\u001b[0m - \u001b[34m\u001b[1mMoved /Users/8cz/github.com/PLEIADES/examples/Notebooks/workspaces/Si_Transmission/SAMMY.LPT to /Users/8cz/github.com/PLEIADES/examples/Notebooks/workspaces/Si_Transmission/results/SAMMY.LPT\u001b[0m\n",
      "\u001b[32m2025-05-05 15:51:44\u001b[0m | \u001b[34m\u001b[1mDEBUG   \u001b[0m | \u001b[36mpleiades.sammy.interface\u001b[0m:\u001b[36mcollect_outputs\u001b[0m:\u001b[36m340\u001b[0m - \u001b[34m\u001b[1mMoved /Users/8cz/github.com/PLEIADES/examples/Notebooks/workspaces/Si_Transmission/SAM46.DAT to /Users/8cz/github.com/PLEIADES/examples/Notebooks/workspaces/Si_Transmission/results/SAM46.DAT\u001b[0m\n",
      "\u001b[32m2025-05-05 15:51:44\u001b[0m | \u001b[1mINFO    \u001b[0m | \u001b[36mpleiades.sammy.interface\u001b[0m:\u001b[36mcollect_outputs\u001b[0m:\u001b[36m345\u001b[0m - \u001b[1mSuccessfully collected 10 output files in 0.02 seconds\u001b[0m\n"
     ]
    },
    {
     "name": "stdout",
     "output_type": "stream",
     "text": [
      "SAMMY execution successful (runtime: 2.12s)\n"
     ]
    }
   ],
   "source": [
    "# Process results\n",
    "if result.success:\n",
    "    print(f\"SAMMY execution successful (runtime: {result.runtime_seconds:.2f}s)\")\n",
    "    runner.collect_outputs(result)\n",
    "\n",
    "else:\n",
    "    print(\"SAMMY execution failed:\")\n",
    "    print(result.error_message)\n",
    "    print(\"\\nConsole output:\")\n",
    "    print(result.console_output)"
   ]
  },
  {
   "cell_type": "code",
   "execution_count": 10,
   "id": "cce77c11",
   "metadata": {},
   "outputs": [
    {
     "name": "stdout",
     "output_type": "stream",
     "text": [
      "├── results\n",
      "│   ├── SAM41.DAT\n",
      "│   ├── SAM46.DAT\n",
      "│   ├── SAMMY.COV\n",
      "│   ├── SAMMY.IO\n",
      "│   ├── SAMMY.LPT\n",
      "│   ├── SAMMY.LST\n",
      "│   ├── SAMMY.ODF\n",
      "│   ├── SAMMY.PAR\n",
      "│   ├── SAMMY.PLT\n",
      "│   └── SAMMY.RED\n",
      "├── ex012a.dat\n",
      "├── ex012a.inp\n",
      "└── ex012a.par\n"
     ]
    }
   ],
   "source": [
    "list_tree(working_dir)"
   ]
  },
  {
   "cell_type": "markdown",
   "id": "ff09f285",
   "metadata": {},
   "source": [
    "### Load the run results of the fit. \n",
    "\n",
    "The results of the SAMMY fit will always be written out to a `SAMMY.LST` and a `SAMMY.LPT` file. These files were collected and moved to the `output_dir` when `collect_outputs()` was called. \n",
    "\n",
    "Here we utilize a `ResultsManager` class to load all of the relevant results from the run into a `RunResults` class. The `ResultsManager` will then call a `LptManager` and a `LstManager` to readin the result data and process it into the `RunResults` class\n",
    "\n",
    "When a `ResultsManager` is initialized, you can either pass it the paths of the `SAMMY.LST` and `SAMMY.LPT` files\n",
    "```\n",
    "results_manager = ResultsManager(lpt_file_path=lpt_file_path, lst_file_path=lst_file_path)\n",
    "```\n",
    "\n",
    "Or if a ResultsManager already exists, then a `SAMMY.LST` and `SAMMY.LPT` file can be process with the utilizing process functions within `LptManager` and `LstManager`"
   ]
  },
  {
   "cell_type": "code",
   "execution_count": null,
   "id": "4a7bd219",
   "metadata": {},
   "outputs": [],
   "source": [
    "from pleiades.sammy.results.manager import ResultsManager\n",
    "\n",
    "# Define the paths to the LPT and LST files\n",
    "lpt_file_path = output_dir / \"SAMMY.LPT\"\n",
    "lst_file_path = output_dir / \"SAMMY.LST\"\n",
    "\n",
    "results_manager = ResultsManager(lpt_file_path=lpt_file_path, lst_file_path=lst_file_path)"
   ]
  },
  {
   "cell_type": "markdown",
   "id": "79322b0b",
   "metadata": {},
   "source": [
    "### Print some of the Results\n",
    "\n",
    "Here we can explore the `RunResults` class which aggregates multiple fit results and provides access to the data loaded from the `SAMMY.LST` file.\n",
    "\n",
    "The following attributes of `RunResults` can be explored:\n",
    "- **`fit_results`**: A list of `FitResults` objects containing the results of individual fits.\n",
    "- **`data`**: A `sammyData` object containing the LST data loaded from the SAMMY `.LST` file.\n"
   ]
  },
  {
   "cell_type": "code",
   "execution_count": null,
   "id": "e306cb31",
   "metadata": {},
   "outputs": [],
   "source": [
    "# Print the number of fits\n",
    "results_manager.print_number_of_fit_results()\n",
    "\n",
    "# Print the final fit results\n",
    "results_manager.print_fit_result(-1)"
   ]
  },
  {
   "cell_type": "markdown",
   "id": "6bdb2a1c",
   "metadata": {},
   "source": [
    "### Plot Results\n",
    "\n",
    "In this section, we visualize the results of the SAMMY fit by plotting the experimental and theoretical cross sections as a function of energy. Additionally, we compute and plot the residuals (difference between experimental and theoretical cross sections) to assess the quality of the fit.\n",
    "\n",
    "The main plot displays:\n",
    "- Experimental cross section (data points).\n",
    "- Final theoretical cross section (continuous line).\n",
    "\n",
    "The residuals plot shows:\n",
    "- The difference between experimental and theoretical cross sections.\n",
    "- A horizontal line at zero to indicate perfect agreement.\n",
    "\n",
    "These visualizations help evaluate the accuracy of the SAMMY fit and identify any discrepancies between the experimental data and the theoretical model."
   ]
  },
  {
   "cell_type": "code",
   "execution_count": null,
   "id": "ade59904",
   "metadata": {},
   "outputs": [],
   "source": [
    "# Plot the transmission data loaded from the LST file\n",
    "results_manager.plot_transmission(show_diff=True)"
   ]
  }
 ],
 "metadata": {
  "kernelspec": {
   "display_name": "default",
   "language": "python",
   "name": "python3"
  },
  "language_info": {
   "codemirror_mode": {
    "name": "ipython",
    "version": 3
   },
   "file_extension": ".py",
   "mimetype": "text/x-python",
   "name": "python",
   "nbconvert_exporter": "python",
   "pygments_lexer": "ipython3",
   "version": "3.11.12"
  }
 },
 "nbformat": 4,
 "nbformat_minor": 5
}
