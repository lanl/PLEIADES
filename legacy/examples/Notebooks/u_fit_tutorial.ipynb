{
 "cells": [
  {
   "cell_type": "markdown",
   "id": "3e525d24-ae11-4857-97f6-a6ffe7c8fc7e",
   "metadata": {},
   "source": [
    "# Tutorial for fitting uranium resonances using `pleiades`\n",
    "Tsviki Y. Hirsh and Alex Long\n",
    "\n",
    "July 9th 2024\n",
    "\n",
    "This is a notebook to guide a pleiades user to fitting a neutron transmission spectrum of uranium isotopes. For this tutorial we will be using the simulated data set `u235-u238.twenty` in `examples/data/`"
   ]
  },
  {
   "cell_type": "markdown",
   "id": "86a85721-ae0b-4db6-a53b-0fab1f223965",
   "metadata": {},
   "source": [
    "##### import the needed libraries from pleiades"
   ]
  },
  {
   "cell_type": "code",
   "execution_count": 1,
   "id": "03408b39-275b-495a-a7c1-11090dd60680",
   "metadata": {},
   "outputs": [],
   "source": [
    "from pleiades import sammyOutput, sammyPlotter, sammyRunner, sammyUtils"
   ]
  },
  {
   "cell_type": "markdown",
   "id": "3a587df4-28d7-4c74-97c7-af8c4df04cad",
   "metadata": {},
   "source": [
    "### Loading a config file for SAMMY fitting\n",
    "\n",
    "We have a uranium.ini file that contains many of the parameters that we "
   ]
  },
  {
   "cell_type": "code",
   "execution_count": 2,
   "id": "0cae1a40-50ed-44a2-8841-290aa6309951",
   "metadata": {},
   "outputs": [],
   "source": [
    "# Load the configuration file from the ini file in the parent directory\n",
    "uranium = sammyUtils.SammyFitConfig(\"../configFiles/uranium.ini\")"
   ]
  },
  {
   "cell_type": "markdown",
   "id": "7b7c6c5d-4f94-4854-9e86-d598333aec7f",
   "metadata": {},
   "source": [
    "#### <span style=\"color:orange\">What happend:</span> \n",
    "Pleiades has now created a couple of directories base on the keys and vlaues under ['directories'] in makeCompoundFit_Eu.in\n",
    "\n",
    "Given that sammy needs to use ascii files to run, and also generates additional files that need to be parsed. We have to create a directory that contains all the needed subfolders to configure, execute, and interpret sammy runs. This is done by creating a archive_dir, which can be set in the makeCompoundFit_Eu.ini config file. If none is given then it defualts to \".archive\"\n",
    "\n",
    "Currently nothing is stored in these directories, but we will start filling them with sammy files. i"
   ]
  },
  {
   "cell_type": "code",
   "execution_count": null,
   "id": "700f0d1f-b5ca-4cc9-a1f8-35ade9342af3",
   "metadata": {},
   "outputs": [],
   "source": [
    "!ls -lah\n",
    "!ls -lah analysis"
   ]
  },
  {
   "cell_type": "markdown",
   "id": "a5b3bb5d-7834-4b55-821c-d1b20898d93c",
   "metadata": {},
   "source": [
    "#### Now Create the needed parFiles from ENDF for the Eu isotopes\n",
    "\n",
    "Here we are using the create_parFile_from_endf() funtion with the natEu SammyFitConfig object to create the needed parFiles for each of the Eu isotopes list in the makeCompoundFit_Eu.ini file. \n",
    "\n",
    "Note: You can change the print verbose level to print out important variables and paths. "
   ]
  },
  {
   "cell_type": "code",
   "execution_count": null,
   "id": "8bf72da2-009f-4b96-92d7-367d8efb31ef",
   "metadata": {},
   "outputs": [],
   "source": [
    "# Create the needed parFiles from ENDF for the isotopes in the configuration file\n",
    "sammyUtils.create_parFile_from_endf(uranium, verbose_level=1)"
   ]
  },
  {
   "cell_type": "markdown",
   "id": "02ba2c3c-48bc-4ffa-96aa-1e8083eee50b",
   "metadata": {},
   "source": [
    "#### <span style=\"color:orange\">What happend:</span> \n",
    "\n",
    "Pleiades configured two SAMMY runs to generate the needed resonance parameters for the final SAMMY fit. These ENDF SAMMY runs are stored in the 'endf_dir' which is set in makeCompoundFit_Eu.ini\n",
    "\n",
    "If you `ls` the .archive/endf directory, you will see two sub-dirs: Eu151 & Eu153. Each of these folders contains the results for running SAMMY to generate SAMNDF.PAR files for each respective isotope."
   ]
  },
  {
   "cell_type": "code",
   "execution_count": null,
   "id": "eb791980-501a-4026-8f74-0971a0e5e274",
   "metadata": {},
   "outputs": [],
   "source": [
    "!ls -lah analysis/endf/\n",
    "!ls -lah analysis/endf/U-235/"
   ]
  },
  {
   "cell_type": "markdown",
   "id": "c8eb5fc4-3d84-4085-a6d3-b780a288c68b",
   "metadata": {},
   "source": [
    "#### Configure SAMMY for the fit of Uranium foil\n",
    "\n",
    "Now that we have the needed SAMNDF.PAR files for each isotope (stored in the .archive/endf/Eu15* folders) we can configure all the needed SAMMY files to fit a naterual Eu transmission spectrum. \n",
    "\n",
    "The data for this is stored in `examples/data` and the path is set in makeCompoundFit_Eu.ini as `data_dir = \"../data\"`"
   ]
  },
  {
   "cell_type": "code",
   "execution_count": null,
   "id": "e98c3f35-c800-4580-90b2-7210d00e5c82",
   "metadata": {},
   "outputs": [],
   "source": [
    "# Configure the sammy run, this will create a compound parFile.\n",
    "sammy_run = sammyUtils.configure_sammy_run(uranium, verbose_level=1)"
   ]
  },
  {
   "cell_type": "markdown",
   "id": "51d1ef23-b97f-4fde-a606-a5ce51bb1d03",
   "metadata": {},
   "source": [
    "#### <span style=\"color:orange\">What happend:</span> \n",
    "\n",
    "Here Pleiades has taken all the needed information from the two (Eu151, Eu153) `SAMNDF.PAR` files and combined them to form a `params.par` file. Additionally Pleiades has created the needed input.inp file to run the natEu SAMMY fit.  "
   ]
  },
  {
   "cell_type": "code",
   "execution_count": null,
   "id": "86240af4",
   "metadata": {},
   "outputs": [],
   "source": [
    "!ls -lah analysis/u235-u238/"
   ]
  },
  {
   "cell_type": "markdown",
   "id": "e5dd59be-27c0-4262-87bd-57d22d2eff63",
   "metadata": {},
   "source": [
    "#### Running the SAMMY fit on the Uranium foil data\n",
    "\n",
    "Now that everything is set we are prepared to run the actual fit on the natural Eu data. \n",
    "Note: You can change the print verbose level to print out important variables and paths. "
   ]
  },
  {
   "cell_type": "code",
   "execution_count": null,
   "id": "ac472354-2fba-4c54-bf1d-9706dae063df",
   "metadata": {},
   "outputs": [],
   "source": [
    "# Run a sammy fit.\n",
    "sammyRunner.run_sammy_fit(sammy_run, verbose_level=1)"
   ]
  },
  {
   "cell_type": "markdown",
   "id": "b7e5e458",
   "metadata": {},
   "source": [
    "#### <span style=\"color:orange\">What happend:</span> \n",
    "\n",
    "Here Pleiades should have successfully ran a SAMMY fit on the simulated Urainum transmission data. If is was not successful then we should have gotten an print statement telling us the SAMMY fit failed. "
   ]
  },
  {
   "cell_type": "markdown",
   "id": "7f3116a5",
   "metadata": {},
   "source": [
    "#### Parsing the output of the SAMMY run on uranium foil. \n",
    "\n",
    "Now we can use Pleiades to analyze the results of the SAMMY fit using the `sammyOutput` library"
   ]
  },
  {
   "cell_type": "code",
   "execution_count": null,
   "id": "0535922c",
   "metadata": {},
   "outputs": [],
   "source": [
    "# Grab the results from the SAMMY fit and plot the fit\n",
    "results_lpt = uranium.params[\"directories\"][\"sammy_fit_dir\"] / \"results/SAMMY.LPT\"\n",
    "uranium_fit = sammyOutput.lptResults(results_lpt)\n",
    "\n",
    "uranium_fit._print_iteration(-1)"
   ]
  },
  {
   "cell_type": "markdown",
   "id": "142fa1f0",
   "metadata": {},
   "source": [
    "Now we can plot the intial and final results, along with the data to see how well SAMMY was able to fit the data. "
   ]
  },
  {
   "cell_type": "code",
   "execution_count": null,
   "id": "118e9ae4-bfdc-4aac-8819-5e756a6b2cff",
   "metadata": {},
   "outputs": [],
   "source": [
    "# Plot the results\n",
    "results_lst = uranium.params[\"directories\"][\"sammy_fit_dir\"] / \"results/SAMMY.LST\"\n",
    "sammyPlotter.process_and_plot_lst_file(results_lst, residual=True, quantity=\"transmission\")"
   ]
  },
  {
   "cell_type": "markdown",
   "id": "f134363d",
   "metadata": {},
   "source": [
    "#### Something is missing!\n",
    "\n",
    "Looking at the plot it appears that we are not capturing all the isotopes! We should think about what isotopes we should add to get a better fit. \n",
    "\n",
    "* First list the isotopes and abundances, \n",
    "* Then we can update the abundances based on the lptresults\n",
    "* Finally we can add another isotope, like Ta (hint: its Ta)\n",
    "\n",
    "Additionally, we can change the name of the `sammy_fit_dir` in case we want to compare new fit results to the original. "
   ]
  },
  {
   "cell_type": "code",
   "execution_count": null,
   "id": "537592f3",
   "metadata": {},
   "outputs": [],
   "source": [
    "# Print out the initial parameters for the isotopes (names and abundances)\n",
    "print(f\"Isotopes: {uranium.params['isotopes']['names']}\")\n",
    "print(f\"Initial Abundance: {uranium.params['isotopes']['abundances']}\")\n",
    "print(f\"Initial Thickness: {uranium.params['broadening']['thickness']}\")\n",
    "\n",
    "# Update the isotope abundances with the new results from the SAMMY fit\n",
    "for i, isotope in enumerate(uranium.params[\"isotopes\"][\"names\"]):\n",
    "    uranium.params[\"isotopes\"][\"abundances\"][i] = float(uranium_fit._results[\"Iteration Results\"][-1][\"Nuclides\"][i][\"Abundance\"])\n",
    "\n",
    "# Update the sample thickness with the new results from the SAMMY fit\n",
    "uranium.params[\"broadening\"][\"thickness\"] = float(uranium_fit._results[\"Iteration Results\"][-1][\"Thickness\"])\n",
    "\n",
    "# check your work!\n",
    "print(f\"New Abundance: {uranium.params['isotopes']['abundances']}\")\n",
    "print(f\"New Thickness: {uranium.params['broadening']['thickness']}\")"
   ]
  },
  {
   "cell_type": "code",
   "execution_count": null,
   "id": "2ed528b0",
   "metadata": {},
   "outputs": [],
   "source": [
    "# Create new fit directory inside the working directory with the added isotope and its initial abundance\n",
    "uranium.params[\"directories\"][\"sammy_fit_dir\"] = uranium.params[\"directories\"][\"working_dir\"] / \"u235-u238-ta181\"\n",
    "\n",
    "# check your work!\n",
    "print(f\"New fit directory: {uranium.params['directories']['sammy_fit_dir']}\")\n",
    "\n",
    "# Add Ta to the isotopes names and set initial abundance to 0.01\n",
    "uranium.params[\"isotopes\"][\"names\"].append(\"Ta-181\")\n",
    "uranium.params[\"isotopes\"][\"abundances\"].append(0.01)\n",
    "\n",
    "# check your work!\n",
    "print(f\"Names: {uranium.params['isotopes']['names']}\")\n",
    "print(f\"Abundance: {uranium.params['isotopes']['abundances']}\")"
   ]
  },
  {
   "cell_type": "markdown",
   "id": "9a9b6805",
   "metadata": {},
   "source": [
    "### Create a SAMMY parameter file from ENDF for the newly added Ta-181 isotope.  \n",
    "\n",
    "Now that we have added the third isotope of Ta-181, we need to have Pleiades pull and create a parFile that we can pull resonance parameters from "
   ]
  },
  {
   "cell_type": "code",
   "execution_count": null,
   "id": "c1531978",
   "metadata": {},
   "outputs": [],
   "source": [
    "# Create a new par file for the additional isotope Ta-181\n",
    "if uranium.params[\"run_endf_for_par\"]:\n",
    "    sammyUtils.create_parFile_from_endf(uranium, verbose_level=1)"
   ]
  },
  {
   "cell_type": "markdown",
   "id": "6f5c5b0e",
   "metadata": {},
   "source": [
    "#### Check the archive file to see if a Ta181 sub-folder was created> "
   ]
  },
  {
   "cell_type": "code",
   "execution_count": null,
   "id": "072df3f1",
   "metadata": {},
   "outputs": [],
   "source": [
    "!ls -lah analysis/endf/"
   ]
  },
  {
   "cell_type": "markdown",
   "id": "084c1fad",
   "metadata": {},
   "source": [
    "### Configure SAMMY inputs and parameter files with new set of isotopes. \n",
    "\n",
    "Now that we have added the third isotope of Ta-181, we need to have Pleiades reconfigure the needed SAMMY files to execute a SAMMY fit using all three isotopes."
   ]
  },
  {
   "cell_type": "code",
   "execution_count": null,
   "id": "3c6bcc36",
   "metadata": {},
   "outputs": [],
   "source": [
    "# Configure the sammy run, this will create a compound parFile.\n",
    "sammy_run = sammyUtils.configure_sammy_run(uranium, verbose_level=1)"
   ]
  },
  {
   "cell_type": "markdown",
   "id": "40847c94",
   "metadata": {},
   "source": [
    "#### `ls` the directory to see if anything was updated. "
   ]
  },
  {
   "cell_type": "code",
   "execution_count": null,
   "id": "cec02279",
   "metadata": {},
   "outputs": [],
   "source": [
    "!ls -lah analysis/u235-u238-ta181/"
   ]
  },
  {
   "cell_type": "markdown",
   "id": "4b20bb33",
   "metadata": {},
   "source": [
    "### Execute a SAMMY fit with the updated inputs and parameter files \n",
    "\n",
    "Now that everything is set, we can run SAMMY with the updated input and parameter files (keeping the same data file).\n",
    "\n",
    "Again, we want to make sure that we get the \"SAMMY executed successfully.\" print out. Otherwise we need to check output.out\n"
   ]
  },
  {
   "cell_type": "code",
   "execution_count": null,
   "id": "882ae5d7",
   "metadata": {},
   "outputs": [],
   "source": [
    "# Run the new sammy fit.\n",
    "sammyRunner.run_sammy_fit(sammy_run, verbose_level=1)"
   ]
  },
  {
   "cell_type": "markdown",
   "id": "c2495de8",
   "metadata": {},
   "source": [
    "#### Grab the results of the SAMMY fit using the `lptResults` class "
   ]
  },
  {
   "cell_type": "code",
   "execution_count": null,
   "id": "583f22bb",
   "metadata": {},
   "outputs": [],
   "source": [
    "# Grab the results from the SAMMY fit and plot the fit\n",
    "updated_results_lpt = uranium.params[\"directories\"][\"sammy_fit_dir\"] / \"results/SAMMY.LPT\"\n",
    "updated_uranium_fit = sammyOutput.lptResults(updated_results_lpt)\n",
    "\n",
    "updated_uranium_fit._print_iteration(-1)"
   ]
  },
  {
   "cell_type": "markdown",
   "id": "e81eee65",
   "metadata": {},
   "source": [
    "#### <span style=\"color:red\">Bug:</span> Pleiades is only printing two isotopes. "
   ]
  },
  {
   "cell_type": "markdown",
   "id": "ddba4fd0",
   "metadata": {},
   "source": [
    "#### Plot the final results!"
   ]
  },
  {
   "cell_type": "code",
   "execution_count": null,
   "id": "697222b9",
   "metadata": {},
   "outputs": [],
   "source": [
    "# Plot the results\n",
    "updated_results_lst = uranium.params[\"directories\"][\"sammy_fit_dir\"] / \"results/SAMMY.LST\"\n",
    "sammyPlotter.process_and_plot_lst_file(updated_results_lst, residual=True, quantity=\"transmission\")"
   ]
  },
  {
   "cell_type": "code",
   "execution_count": null,
   "id": "42697245",
   "metadata": {},
   "outputs": [],
   "source": []
  }
 ],
 "metadata": {
  "kernelspec": {
   "display_name": "Python 3 (ipykernel)",
   "language": "python",
   "name": "python3"
  },
  "language_info": {
   "codemirror_mode": {
    "name": "ipython",
    "version": 3
   },
   "file_extension": ".py",
   "mimetype": "text/x-python",
   "name": "python",
   "nbconvert_exporter": "python",
   "pygments_lexer": "ipython3",
   "version": "3.11.8"
  }
 },
 "nbformat": 4,
 "nbformat_minor": 5
}
