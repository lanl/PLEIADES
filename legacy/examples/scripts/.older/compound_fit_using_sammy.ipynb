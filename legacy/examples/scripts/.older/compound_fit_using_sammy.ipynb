{
 "cells": [
  {
   "cell_type": "markdown",
   "metadata": {},
   "source": [
    "# Compound Fitting with `SAMMY`\n",
    "\n",
    "This Jupyter Notebook cell demonstrates the application of the `SAMMY` tool for fitting spectral transmission data using the `pleiades` utilities.\n",
    "\n",
    "The transmission data utilized in this analysis originates from the [RPI measurement](https://doi.org/10.1016/j.anucene.2014.01.041) of enriched samples of [Eu-nat](https://www-nds.iaea.org/exfor/servlet/X4sGetSubent?subID=14382008) and [Eu-153](https://www-nds.iaea.org/exfor/servlet/X4sGetSubent?subID=14382007), which are documented on [EXFOR](https://www-nds.iaea.org/index-meeting-crp/CM-RF-2013/).\n",
    "\n",
    "Europium comprises two stable isotopes, Eu-151 and Eu-153, with natural abundances of 47.8% and 52.2%, respectively. This example focuses on determining the abundances of these isotopes in both natural and enriched samples solely based on fitting the resonance transmission spectrum.\n",
    "\n",
    "The analysis involves two main steps:\n",
    "\n",
    "1. **Individual Isotope Fitting:** SAMMY is executed separately for each isotope. A simple configuration file is used to generate the resonance parameter file (.par file) employing resonance data directly sourced from ENDF8.\n",
    "\n",
    "2. **Compound Isotopic Fitting:** The resonance spectra of both isotopes are combined to form an isotopic compound. SAMMY is then run again to fit the resonance spectrum and determine the most probable abundances of the isotopes."
   ]
  },
  {
   "cell_type": "code",
   "execution_count": 23,
   "metadata": {},
   "outputs": [],
   "source": [
    "%matplotlib inline\n",
    "import pandas\n",
    "\n",
    "# add pleiades to PYTHONPATH\n",
    "import sys\n",
    "sys.path.append(\"/sammy/Pleiades\")\n",
    "\n",
    "# add sammy to PATH\n",
    "import os\n",
    "os.environ[\"PATH\"] += os.pathsep + \"/sammy/sammy/build/bin\""
   ]
  },
  {
   "cell_type": "markdown",
   "metadata": {},
   "source": [
    "## Configuration File for a Single Isotope\n",
    "\n",
    "In this section, we provide an overview of the essential parameters within the configuration file. The configuration file is structured according to SAMMY conventions and contains vital information for the conversion process. Below, we focus on the key parameters relevant to this example:\n",
    "\n",
    "- **ELMNT:** Specifies the element's name, denoted as 'Eu_151'. This identifier is crucial for SAMMY to recognize the isotope.\n",
    "\n",
    "- **AW:** Is the isotopic mass. If `pleiades` identifies the `ELMNT` name, it automatically retrieves the mass from the AME database. Therefore, this parameter can be  set as 'auto'.\n",
    "\n",
    "- **EMIN, EMAX:** Define the energy range for the analysis, indicating the minimum and maximum energies considered.\n",
    "\n",
    "- **Commands:** This section includes essential commands for the configuration and generation of the `.par` file. Of particular importance is the 'INPUT IS ENDF/B FILE' command, instructing SAMMY to locate the reference to resonance data in the ENDF file. A MAT number will be replaced during subsequent steps, based on the isotope name.\n",
    "\n",
    "- **Fit Parameters:** Defines crucial parameters for the fitting process:\n",
    "  - `TEMP:` Represents the temperature in Kelvin.\n",
    "  - `DIST:` Signifies the TOF (Time of Flight) distance in meters.\n",
    "  - `CRFN:` Indicates the channel radius (not crucial at this stage).\n",
    "  - `THICK:` Denotes the target thickness in units of atoms/barn.\n",
    "  - `CROSS:` Specifies the reaction type, set here to 'TRANSMISSION.'\n",
    "\n",
    "[comment]: # (- **Spin Groups:** This section is optional for this step. Here, two spin groups for the isotopes are specified. SAMMY automatically extracts this data from ENDF.)\n",
    "\n",
    "Below is an example of the configuration file structure:\n",
    "\n",
    "```ini\n",
    "[Card1]\n",
    "TITLE = input to convert ENDF8 file into a SAMMY par file\n",
    "\n",
    "[Card2]\n",
    "ELMNT = Eu-151\n",
    "AW = auto\n",
    "EMIN = 0.001\n",
    "EMAX = 98.8\n",
    "\n",
    "[Card3]\n",
    "commands = CHI_SQUARED,CSISRS,NO_SOLVE_BAYES,USE_ENDF_ENERGY,INPUT IS ENDF/B FILE\n",
    "\n",
    "[Card5]\n",
    "TEMP = 296.\n",
    "DIST = 25.584\n",
    "\n",
    "[Card7]\n",
    "CRFN = 1.0\n",
    "THICK = 0.0021\n",
    "\n",
    "[Card8]\n",
    "CROSS = TRANSMISSION \n",
    "\n",
    "\n",
    "we save this file as `config_Eu_151.ini` and use `pleiades` to parse the file"
   ]
  },
  {
   "cell_type": "code",
   "execution_count": 24,
   "metadata": {},
   "outputs": [
    {
     "data": {
      "text/plain": [
       "<pleiades.sammyInput.InputFile at 0x7fa925027c10>"
      ]
     },
     "execution_count": 24,
     "metadata": {},
     "output_type": "execute_result"
    }
   ],
   "source": [
    "\n",
    "from pleiades import sammyInput\n",
    "\n",
    "# read config files and write inp files\n",
    "saminp = sammyInput.InputFile(\"config_Eu_151.ini\").process().write(\"Eu_151.inp\")\n",
    "\n",
    "# update the element name to Eu_153 and write a new file. \n",
    "# The matnumber and atomic weight are updates automaically\n",
    "saminp.data[\"Card2\"][\"elmnt\"] = \"Eu-153\"\n",
    "saminp.data[\"Card2\"][\"aw\"] = \"auto\"\n",
    "saminp.process().write(\"Eu_153.inp\")\n"
   ]
  },
  {
   "cell_type": "code",
   "execution_count": 25,
   "metadata": {},
   "outputs": [
    {
     "name": "stdout",
     "output_type": "stream",
     "text": [
      "input to convert ENDF8 file into a SAMMY par file                               \n",
      "Eu-151      150.9199    0.0010   98.8000\n",
      "CHI SQUARED IS WANTEd\n",
      "CSISRS\n",
      "DO NOT SOLVE BAYES EQUATIONS\n",
      "QUANTUM NUMBERS ARE in parameter file\n",
      "USE ENERGY RANGE FROm endf/b file\n",
      "INPUT IS ENDF/B FILE MAT=6325\n",
      "\n",
      "  296.0000   25.5840\n",
      "    1.0000    0.0021\n",
      "TRANSMISSION                                                                    \n",
      "\n"
     ]
    }
   ],
   "source": [
    "!cat Eu_151.inp"
   ]
  },
  {
   "cell_type": "markdown",
   "metadata": {},
   "source": [
    "check the content of .inp files produced"
   ]
  },
  {
   "cell_type": "code",
   "execution_count": 26,
   "metadata": {},
   "outputs": [
    {
     "name": "stdout",
     "output_type": "stream",
     "text": [
      "input to convert ENDF8 file into a SAMMY par file                               \n",
      "Eu-153      152.9212    0.0010   98.8000\n",
      "CHI SQUARED IS WANTEd\n",
      "CSISRS\n",
      "DO NOT SOLVE BAYES EQUATIONS\n",
      "QUANTUM NUMBERS ARE in parameter file\n",
      "USE ENERGY RANGE FROm endf/b file\n",
      "INPUT IS ENDF/B FILE MAT=6331\n",
      "\n",
      "  296.0000   25.5840\n",
      "    1.0000    0.0021\n",
      "TRANSMISSION                                                                    \n",
      "\n"
     ]
    }
   ],
   "source": [
    "!cat Eu_153.inp"
   ]
  },
  {
   "cell_type": "markdown",
   "metadata": {},
   "source": [
    "## Run SAMMY with ENDF data to produce .par file\n",
    "For this step we use the `pleiades.sammyRunner` utility function `run_endf` which takes the inp files we have just created and run sammy to produce a par files using data from ENDF resonance tables.\n",
    "The data is stored under separate directories at the `archive` directory"
   ]
  },
  {
   "cell_type": "code",
   "execution_count": 27,
   "metadata": {},
   "outputs": [],
   "source": [
    "from pleiades import sammyRunner\n",
    "\n",
    "sammyRunner.run_endf(inpfile=\"Eu_151.inp\")\n",
    "sammyRunner.run_endf(inpfile=\"Eu_153.inp\")"
   ]
  },
  {
   "cell_type": "markdown",
   "metadata": {},
   "source": [
    "Check that the par files were indeed created"
   ]
  },
  {
   "cell_type": "code",
   "execution_count": 28,
   "metadata": {},
   "outputs": [
    {
     "name": "stdout",
     "output_type": "stream",
     "text": [
      "archive/Eu_151/results:\n",
      "Eu_151.inp  Eu_151.lpt  Eu_151.par\n",
      "\n",
      "archive/Eu_153/results:\n",
      "Eu_153.inp  Eu_153.lpt  Eu_153.par\n",
      "\n",
      "archive/Eu_nat/results:\n",
      "Eu_nat.io  Eu_nat.lpt  Eu_nat.lst  Eu_nat.par\n"
     ]
    }
   ],
   "source": [
    "ls archive/*/results"
   ]
  },
  {
   "cell_type": "markdown",
   "metadata": {},
   "source": [
    "## Combine isotopic files into a compound\n",
    "Now we want to take the two separate `.inp` and `.par` files that were created for each isotope of europium and create a compound that contains these two isotopes.\n",
    "\n",
    "For this we will use the `pleiades.sammyParFile` utilities to create a `ParFile` object for each of the isotopes, combine it into one compound and write a new file that we can later run through `SAMMY`\n",
    "\n",
    "For this example, we will set an equal weight (isotopic abundence) of 0.5 to each of the isotopes, and let `SAMMY` later deduce the correct weight according to fit over real data"
   ]
  },
  {
   "cell_type": "code",
   "execution_count": 66,
   "metadata": {},
   "outputs": [],
   "source": [
    "from pleiades import sammyParFile\n",
    "\n",
    "Eu_151 = sammyParFile.ParFile(\"archive/Eu_151/results/Eu_151.par\",weight=0.5).read()\n",
    "Eu_153 = sammyParFile.ParFile(\"archive/Eu_153/results/Eu_153.par\",weight=0.5).read()"
   ]
  },
  {
   "cell_type": "markdown",
   "metadata": {},
   "source": [
    "Now we form a compound by adding the two isotopes. `pleiades` will combine the resonance data from each isotope and create a new ParFile object that has all the neccasary data.\n",
    "\n",
    "Then we use the `write` method to write the new `.par` into file."
   ]
  },
  {
   "cell_type": "code",
   "execution_count": 67,
   "metadata": {},
   "outputs": [],
   "source": [
    "# create compound\n",
    "Eu_nat = Eu_151 + Eu_153\n",
    "\n",
    "# set all resonance parameters to \"vary\"\n",
    "# Eu_nat.update.toggle_vary_all_resonances(True)\n",
    "\n",
    "# write to file\n",
    "Eu_nat.write(\"Eu_nat.par\")"
   ]
  },
  {
   "cell_type": "markdown",
   "metadata": {},
   "source": [
    "Let's check the content of this par file. \n",
    "\n",
    "Notice that the resonance parameters are all vary, and also the abundances are set to **vary**. This is the default behaviour, later on, we will check what hapens when we vary different parameter, and check the effect of that change on the fit results"
   ]
  },
  {
   "cell_type": "code",
   "execution_count": 68,
   "metadata": {},
   "outputs": [
    {
     "name": "stdout",
     "output_type": "stream",
     "text": [
      "PARTICLE PAIR DEFINITIONS\n",
      "Name=Eu_151       Particle a=neutron       Particle b=Other   \n",
      "     Za= 0        Zb=63         Pent=1     Shift=0\n",
      "     Sa=  0.5     Sb=   2.5     Ma=   1.008664915780000     Mb= 150.916445000000010\n",
      "Name=Eu_153       Particle a=neutron       Particle b=Other   \n",
      "     Za= 0        Zb=63         Pent=1     Shift=0\n",
      "     Sa=  0.5     Sb=   2.5     Ma=   1.008664915780000     Mb= 152.921671000000003\n",
      " \n",
      "SPIN GROUP INFORMATION\n",
      "  1      1    0  2.0 0.5000000                                                  \n",
      "    1  Eu_151      0         2            7.90000000 7.34863269                 \n",
      "  2      1    0  3.0 0.5000000                                                  \n",
      "    1  Eu_151      0         3            7.90000000 7.34863269                 \n",
      "  3      1    0  2.0 0.5000000                                                  \n",
      "    1  Eu_153      0         2            8.20000000 7.37750905                 \n",
      "  4      1    0  3.0 0.5000000                                                  \n",
      "    1  Eu_153      0         3            8.20000000 7.37750905                 \n",
      " \n",
      "RESONANCE PARAMETERS\n",
      "1.815000000 91.0000100 4.080000-2                      0 0 0      1             \n",
      "3.368000000 93.0000000 2.19600000                      0 0 0      1             \n",
      "3.710000000 93.0000000 0.94800010                      0 0 0      1             \n",
      "4.790000000 91.0000100 0.18000000                      0 0 0      1             \n",
      "7.050000000 91.0000100 6.360000-2                      0 0 0      1             \n",
      "9.070000000 104.000000 1.24800000                      0 0 0      1             \n",
      "10.47000000 91.0000000 2.48400000                      0 0 0      1             \n",
      "12.23000000 88.0000000 1.12800000                      0 0 0      1             \n",
      "12.64000000 88.0000000 2.88000000                      0 0 0      1             \n",
      "14.76000000 76.0000000 2.30400000                      0 0 0      1             \n",
      "15.18000000 79.0000000 2.52000000                      0 0 0      1             \n",
      "17.75000000 104.000000 1.62000000                      0 0 0      1             \n",
      "25.17000000 91.0000100 0.72000010                      0 0 0      1             \n",
      "25.60000000 89.0000000 0.61200000                      0 0 0      1             \n",
      "26.72000000 78.0000000 8.40000100                      0 0 0      1             \n",
      "28.09000000 90.0000000 0.38400000                      0 0 0      1             \n",
      "29.23000000 79.0000000 5.44800000                      0 0 0      1             \n",
      "30.22000000 86.0000000 4.34400000                      0 0 0      1             \n",
      "31.59000000 97.0000000 2.04000000                      0 0 0      1             \n",
      "35.05000000 90.0000000 3.84000000                      0 0 0      1             \n",
      "37.01000000 78.0000000 6.72000000                      0 0 0      1             \n",
      "39.20000000 91.0000100 1.20000000                      0 0 0      1             \n",
      "41.35000000 80.0000000 32.4000000                      0 0 0      1             \n",
      "42.12000000 91.0000100 1.24800000                      0 0 0      1             \n",
      "44.43000000 89.0000000 4.32000000                      0 0 0      1             \n",
      "45.42000000 99.0000000 1.62000000                      0 0 0      1             \n",
      "46.41000000 85.0000000 12.4800000                      0 0 0      1             \n",
      "52.70000000 80.0000000 5.76000100                      0 0 0      1             \n",
      "53.94000000 88.0000000 5.52000000                      0 0 0      1             \n",
      "60.85000000 96.0000000 6.96000000                      0 0 0      1             \n",
      "69.09000000 91.0000100 1.20000000                      0 0 0      1             \n",
      "70.75000000 78.0000000 5.40000000                      0 0 0      1             \n",
      "71.41000000 84.0000000 7.32000000                      0 0 0      1             \n",
      "75.76000000 90.0000000 5.04000000                      0 0 0      1             \n",
      "80.29000000 81.0000000 9.84000000                      0 0 0      1             \n",
      "84.00000000 99.0000000 18.0000000                      0 0 0      1             \n",
      "87.70000000 91.0000100 1.56000000                      0 0 0      1             \n",
      "90.18000000 85.0000000 5.88000000                      0 0 0      1             \n",
      "91.13000000 94.0000000 5.76000100                      0 0 0      1             \n",
      "93.36000000 112.000000 33.6000000                      0 0 0      1             \n",
      "98.61000000 108.000000 19.2000000                      0 0 0      1             \n",
      "-6.090000-2 105.200000 7.677800-2                      0 0 0      2             \n",
      "0.321000000 79.5000000 7.140001-2                      0 0 0      2             \n",
      "0.460000000 87.0000000 0.66514280                      0 0 0      2             \n",
      "1.055000000 88.0000000 0.19320000                      0 0 0      2             \n",
      "2.717000000 94.0000000 0.20571430                      0 0 0      2             \n",
      "5.380000000 108.000000 0.15171430                      0 0 0      2             \n",
      "5.980000000 100.000000 0.30000000                      0 0 0      2             \n",
      "7.290000000 88.0000000 1.88571400                      0 0 0      2             \n",
      "7.440000000 85.0000000 1.62857200                      0 0 0      2             \n",
      "10.94000000 98.0000000 0.56571430                      0 0 0      2             \n",
      "13.66000000 115.000000 0.37714290                      0 0 0      2             \n",
      "19.10000000 133.000000 4.26857200                      0 0 0      2             \n",
      "21.69000000 82.0000000 1.68000000                      0 0 0      2             \n",
      "22.21000000 66.0000000 2.44285700                      0 0 0      2             \n",
      "22.75000000 89.0000000 1.31142900                      0 0 0      2             \n",
      "24.58000000 99.0000000 6.81428600                      0 0 0      2             \n",
      "27.43000000 97.0000000 0.54000000                      0 0 0      2             \n",
      "30.81000000 99.0000000 0.57428570                      0 0 0      2             \n",
      "33.51000000 91.0000100 0.39428570                      0 0 0      2             \n",
      "34.57000000 91.0000100 0.30000000                      0 0 0      2             \n",
      "36.09000000 78.0000000 4.32857100                      0 0 0      2             \n",
      "37.78000000 92.0000000 2.94857100                      0 0 0      2             \n",
      "39.37000000 79.0000000 3.44571400                      0 0 0      2             \n",
      "39.94000000 79.0000000 1.08000000                      0 0 0      2             \n",
      "43.19000000 84.0000000 4.84285700                      0 0 0      2             \n",
      "47.24000000 99.0000000 14.5714300                      0 0 0      2             \n",
      "50.04000000 91.0000100 0.84857140                      0 0 0      2             \n",
      "50.58000000 102.000000 19.7142900                      0 0 0      2             \n",
      "52.41000000 91.0000100 3.47142900                      0 0 0      2             \n",
      "53.25000000 91.0000100 0.75428570                      0 0 0      2             \n",
      "55.26000000 96.0000000 3.34285700                      0 0 0      2             \n",
      "56.18000000 98.0000000 3.00000000                      0 0 0      2             \n",
      "57.36000000 83.0000000 16.2857100                      0 0 0      2             \n",
      "58.85000000 108.000000 5.48571400                      0 0 0      2             \n",
      "62.41000000 86.0000000 3.42857200                      0 0 0      2             \n",
      "63.19000000 100.000000 2.14285700                      0 0 0      2             \n",
      "67.91000000 100.000000 15.4285700                      0 0 0      2             \n",
      "72.41000000 93.0000000 1.88571400                      0 0 0      2             \n",
      "73.33000000 91.0000100 1.02857200                      0 0 0      2             \n",
      "74.16000000 91.0000100 1.37142900                      0 0 0      2             \n",
      "77.45000000 99.0000000 7.54285700                      0 0 0      2             \n",
      "78.05000000 91.0000100 0.45428570                      0 0 0      2             \n",
      "78.66000000 73.0000000 14.5714300                      0 0 0      2             \n",
      "79.51000000 64.0000000 4.71428600                      0 0 0      2             \n",
      "81.08000000 101.000000 20.5714300                      0 0 0      2             \n",
      "83.07000000 95.0000000 2.82857100                      0 0 0      2             \n",
      "85.67000000 84.0000000 4.11428600                      0 0 0      2             \n",
      "88.63000000 91.0000100 0.94285720                      0 0 0      2             \n",
      "89.34000000 104.000000 12.8571400                      0 0 0      2             \n",
      "96.29000000 112.000000 16.2857100                      0 0 0      2             \n",
      "97.70000000 91.0000100 1.88571400                      0 0 0      2             \n",
      "-1.18900000 95.8550000 2.94000000                      0 0 0      3             \n",
      "1.727000000 90.0000000 6.840000-2                      0 0 0      3             \n",
      "3.294000000 98.0000000 1.09200000                      0 0 0      3             \n",
      "3.944000000 93.0000000 1.32000000                      0 0 0      3             \n",
      "8.850000000 101.000000 4.32000000                      0 0 0      3             \n",
      "13.22000000 90.0000000 0.38400000                      0 0 0      3             \n",
      "16.73000000 103.000000 1.63200000                      0 0 0      3             \n",
      "17.60000000 90.0000000 0.66000000                      0 0 0      3             \n",
      "18.73000000 110.000000 3.36000000                      0 0 0      3             \n",
      "20.02000000 109.000000 11.7600000                      0 0 0      3             \n",
      "22.54000000 88.0000000 3.00000000                      0 0 0      3             \n",
      "32.45000000 91.0000100 0.27600000                      0 0 0      3             \n",
      "34.53000000 90.0000000 6.24000000                      0 0 0      3             \n",
      "36.62000000 106.000000 5.04000000                      0 0 0      3             \n",
      "38.30000000 81.0000000 7.08000000                      0 0 0      3             \n",
      "41.15000000 69.0000000 1.68000000                      0 0 0      3             \n",
      "42.15000000 77.0000000 5.76000100                      0 0 0      3             \n",
      "44.82000000 91.0000100 0.80400000                      0 0 0      3             \n",
      "47.93000000 91.0000100 7.44000000                      0 0 0      3             \n",
      "49.50000000 91.0000100 0.33600000                      0 0 0      3             \n",
      "50.74000000 113.000000 8.88000100                      0 0 0      3             \n",
      "54.29000000 91.0000100 14.4000000                      0 0 0      3             \n",
      "55.19000000 95.0000000 0.36000000                      0 0 0      3             \n",
      "58.97000000 85.0000000 1.44000000                      0 0 0      3             \n",
      "59.72000000 102.000000 3.36000000                      0 0 0      3             \n",
      "60.92000000 78.0000000 38.4000000                      0 0 0      3             \n",
      "68.15000000 87.0000000 6.12000100                      0 0 0      3             \n",
      "71.35000000 91.0000100 1.44000000                      0 0 0      3             \n",
      "81.24000000 96.0000000 4.80000000                      0 0 0      3             \n",
      "89.34000000 91.0000100 1.56000000                      0 0 0      3             \n",
      "90.75000000 79.0000000 5.04000000                      0 0 0      3             \n",
      "95.15000000 91.0000100 2.76000000                      0 0 0      3             \n",
      "2.456000000 91.0000000 1.02857200                      0 0 0      4             \n",
      "4.750000000 91.0000000 3.171429-2                      0 0 0      4             \n",
      "6.160000000 104.000000 0.55714290                      0 0 0      4             \n",
      "11.61000000 94.0000000 3.38571400                      0 0 0      4             \n",
      "12.45000000 81.0000000 0.12000000                      0 0 0      4             \n",
      "15.26000000 110.000000 0.23142860                      0 0 0      4             \n",
      "16.33000000 90.0000000 2.057143-2                      0 0 0      4             \n",
      "18.01000000 90.0000000 3.94285700                      0 0 0      4             \n",
      "23.66000000 86.0000000 2.40000000                      0 0 0      4             \n",
      "26.19000000 90.0000000 0.22285720                      0 0 0      4             \n",
      "28.63000000 73.0000000 1.45714300                      0 0 0      4             \n",
      "29.90000000 90.0000000 0.23142860                      0 0 0      4             \n",
      "31.22000000 117.000000 1.97142900                      0 0 0      4             \n",
      "37.76000000 94.0000000 3.77142900                      0 0 0      4             \n",
      "43.16000000 96.0000000 2.74285700                      0 0 0      4             \n",
      "45.79000000 99.0000000 1.20000000                      0 0 0      4             \n",
      "47.11000000 94.0000000 1.80000000                      0 0 0      4             \n",
      "49.30000000 91.0000100 0.12000000                      0 0 0      4             \n",
      "50.00000000 92.0000000 2.57142900                      0 0 0      4             \n",
      "52.31000000 108.000000 10.2857100                      0 0 0      4             \n",
      "53.07000000 119.000000 2.40000000                      0 0 0      4             \n",
      "55.57000000 91.0000100 1.62857200                      0 0 0      4             \n",
      "62.55000000 105.000000 4.28571400                      0 0 0      4             \n",
      "63.70000000 93.0000000 6.25714300                      0 0 0      4             \n",
      "64.09000000 116.000000 12.0000000                      0 0 0      4             \n",
      "66.94000000 86.0000000 3.25714300                      0 0 0      4             \n",
      "70.04000000 100.000000 2.57142900                      0 0 0      4             \n",
      "73.68000000 91.0000100 0.29142860                      0 0 0      4             \n",
      "75.47000000 91.0000100 0.44571430                      0 0 0      4             \n",
      "76.93000000 105.000000 12.0000000                      0 0 0      4             \n",
      "80.29000000 103.000000 4.11428600                      0 0 0      4             \n",
      "82.99000000 86.0000000 3.08571400                      0 0 0      4             \n",
      "84.00000000 91.0000100 0.62571430                      0 0 0      4             \n",
      "86.99000000 68.0000000 10.2857100                      0 0 0      4             \n",
      "87.70000000 105.000000 4.20000000                      0 0 0      4             \n",
      "92.80000000 91.0000100 1.97142900                      0 0 0      4             \n",
      "93.26000000 88.0000000 36.0000000                      0 0 0      4             \n",
      "94.76000000 91.0000100 0.66857140                      0 0 0      4             \n",
      "96.86000000 91.0000100 2.57142900                      0 0 0      4             \n",
      "97.60000000 101.000000 22.2857100                      0 0 0      4             \n",
      "                                                                                \n",
      "                                                                                \n",
      "Channel radii in key-word format                                                \n",
      "Radii= 7.9, 7.34863    Flags= 0, 0                                              \n",
      "    Group=1 Chan=1,                                                             \n",
      "    Group=2 Chan=1,                                                             \n",
      "Radii= 8.2, 7.37751    Flags= 0, 0                                              \n",
      "    Group=3 Chan=1,                                                             \n",
      "    Group=4 Chan=1,                                                             \n",
      "                                                                                \n",
      "\n",
      "ISOTOPIC MASSES AND ABUNDANCES FOLLOW                                           \n",
      " 150.916440.5000000 0.0500000 1  1 2                                            \n",
      " 152.921670.5000000 0.0500000 1  3 4                                            \n",
      "                                                                                \n"
     ]
    }
   ],
   "source": [
    "!cat Eu_nat.par"
   ]
  },
  {
   "cell_type": "markdown",
   "metadata": {},
   "source": [
    "To run SAMMY on that new `.par` file we will need an `.inp` file as well. For that we can use the same `InpFile` object that we created for the `Eu_153` and just change the data a little bit"
   ]
  },
  {
   "cell_type": "code",
   "execution_count": 69,
   "metadata": {},
   "outputs": [
    {
     "data": {
      "text/plain": [
       "{'Card1': {'title': 'Run SAMMY to find abundence of europium isotopes'},\n",
       " 'Card2': {'elmnt': 'Eu_nat', 'aw': 151.96, 'emin': '0.001', 'emax': 20},\n",
       " 'Card3': {'commands': 'CHI_SQUARED,CSISRS,SOLVE_BAYES,QUANTUM_NUMBERS,REICH_MOORE_FORM,GENERATE ODF FILE AUTOMATICALLY,RPI TRANSMISSION RESOLUTION FUNCTION'},\n",
       " 'Card5': {'temp': '296.', 'dist': '25.584', 'deltal': 0.0055},\n",
       " 'Card7': {'crfn': '1.0', 'thick': 0.0021},\n",
       " 'Card8': {'cross': 'TRANSMISSION'}}"
      ]
     },
     "execution_count": 69,
     "metadata": {},
     "output_type": "execute_result"
    }
   ],
   "source": [
    "saminp.data"
   ]
  },
  {
   "cell_type": "code",
   "execution_count": 70,
   "metadata": {},
   "outputs": [],
   "source": [
    "# update a title\n",
    "saminp.data[\"Card1\"][\"title\"] = \"Run SAMMY to find abundence of europium isotopes\"\n",
    "\n",
    "# update compound name and assumed atomic weight\n",
    "saminp.data[\"Card2\"][\"elmnt\"] = \"Eu_nat\"\n",
    "saminp.data[\"Card2\"][\"aw\"] = 151.96\n",
    "saminp.data[\"Card2\"][\"emax\"] = 20\n",
    "\n",
    "# set the resolution width from flight path according to the RPI paper\n",
    "saminp.data[\"Card5\"][\"deltal\"] = 0.0055\n",
    "\n",
    "# update commands. We need to preform the REICH_MOORE and SOLVE_BAYES for this case\n",
    "saminp.data[\"Card3\"][\"commands\"] = 'CHI_SQUARED,CSISRS,SOLVE_BAYES,QUANTUM_NUMBERS,REICH_MOORE_FORM,GENERATE ODF FILE AUTOMATICALLY,RPI TRANSMISSION RESOLUTION FUNCTION'\n",
    "\n",
    "saminp.data[\"Card7\"][\"thick\"] = 0.0021 # atoms/barn\n"
   ]
  },
  {
   "cell_type": "markdown",
   "metadata": {},
   "source": [
    "Now process the data and write into file. Notice that this time we set ```auto_update=False```, since we don't want to replace \"auto\" values this time"
   ]
  },
  {
   "cell_type": "code",
   "execution_count": 71,
   "metadata": {},
   "outputs": [
    {
     "data": {
      "text/plain": [
       "<pleiades.sammyInput.InputFile at 0x7fa925027c10>"
      ]
     },
     "execution_count": 71,
     "metadata": {},
     "output_type": "execute_result"
    }
   ],
   "source": [
    "# write the new input to file\n",
    "saminp.process(auto_update=False).write(\"Eu_nat.inp\")"
   ]
  },
  {
   "cell_type": "markdown",
   "metadata": {},
   "source": [
    "## Run `SAMMY` with natural abundance data from RPI\n",
    "We will use the `run` method from `sammyRunner` to run the fit. All our files have the same initial, `Eu_nat` so we can run by simply specifing the archive name as `Eu_nat`"
   ]
  },
  {
   "cell_type": "code",
   "execution_count": 72,
   "metadata": {},
   "outputs": [
    {
     "name": "stdout",
     "output_type": "stream",
     "text": [
      "Eu_nat.dat  Eu_nat.inp  Eu_nat.par\n"
     ]
    }
   ],
   "source": [
    "ls Eu_nat*"
   ]
  },
  {
   "cell_type": "code",
   "execution_count": 73,
   "metadata": {},
   "outputs": [],
   "source": [
    "sammyRunner.run(archivename=\"Eu_nat\")"
   ]
  },
  {
   "cell_type": "markdown",
   "metadata": {},
   "source": [
    "Check the results using the `sammyOutput` utils"
   ]
  },
  {
   "cell_type": "code",
   "execution_count": 74,
   "metadata": {},
   "outputs": [
    {
     "data": {
      "text/plain": [
       "{'input_file': 'Eu_nat.inp',\n",
       " 'par_file': 'Eu_nat.par',\n",
       " 'Emin': 0.001,\n",
       " 'Emax': 20.0,\n",
       " 'thickness': 0.0021,\n",
       " 'varied_params': 2,\n",
       " 'reduced_chi2': 3.4061,\n",
       " 'weight_151': 0.46831608179752593,\n",
       " 'weight_153': 0.5316839182024742}"
      ]
     },
     "execution_count": 74,
     "metadata": {},
     "output_type": "execute_result"
    }
   ],
   "source": [
    "from pleiades import sammyOutput\n",
    "\n",
    "lpt = sammyOutput.LptFile(\"archive/Eu_nat/results/Eu_nat.lpt\")\n",
    "\n",
    "# register two new search patterns\n",
    "lpt.register_new_stats(keyname=\"weight_151\",start_text=\"  Isotopic abundance\",skipped_rows=2,line_format=\"float(line.split()[1])\")\n",
    "lpt.register_new_stats(keyname=\"weight_153\",start_text=\"  Isotopic abundance\",skipped_rows=3,line_format=\"float(line.split()[1])\")\n",
    "\n",
    "stats = lpt.stats()\n",
    "\n",
    "# renormalize weights\n",
    "total_weight = stats[\"weight_151\"] + stats[\"weight_153\"]\n",
    "stats[\"weight_151\"] /= total_weight\n",
    "stats[\"weight_153\"] /= total_weight\n",
    "\n",
    "stats"
   ]
  },
  {
   "cell_type": "markdown",
   "metadata": {},
   "source": [
    "The results are not very different from the natural abundance or europium as we would expect\n"
   ]
  },
  {
   "cell_type": "code",
   "execution_count": 79,
   "metadata": {},
   "outputs": [
    {
     "data": {
      "text/html": [
       "<div>\n",
       "<style scoped>\n",
       "    .dataframe tbody tr th:only-of-type {\n",
       "        vertical-align: middle;\n",
       "    }\n",
       "\n",
       "    .dataframe tbody tr th {\n",
       "        vertical-align: top;\n",
       "    }\n",
       "\n",
       "    .dataframe thead th {\n",
       "        text-align: right;\n",
       "    }\n",
       "</style>\n",
       "<table border=\"1\" class=\"dataframe\">\n",
       "  <thead>\n",
       "    <tr style=\"text-align: right;\">\n",
       "      <th></th>\n",
       "      <th>Eu_nat fit all res vary</th>\n",
       "    </tr>\n",
       "  </thead>\n",
       "  <tbody>\n",
       "    <tr>\n",
       "      <th>input_file</th>\n",
       "      <td>Eu_nat.inp</td>\n",
       "    </tr>\n",
       "    <tr>\n",
       "      <th>par_file</th>\n",
       "      <td>Eu_nat.par</td>\n",
       "    </tr>\n",
       "    <tr>\n",
       "      <th>Emin</th>\n",
       "      <td>0.001</td>\n",
       "    </tr>\n",
       "    <tr>\n",
       "      <th>Emax</th>\n",
       "      <td>20</td>\n",
       "    </tr>\n",
       "    <tr>\n",
       "      <th>thickness</th>\n",
       "      <td>0.0021</td>\n",
       "    </tr>\n",
       "    <tr>\n",
       "      <th>varied_params</th>\n",
       "      <td>2</td>\n",
       "    </tr>\n",
       "    <tr>\n",
       "      <th>reduced_chi2</th>\n",
       "      <td>3.4061</td>\n",
       "    </tr>\n",
       "    <tr>\n",
       "      <th>weight_151</th>\n",
       "      <td>0.468316</td>\n",
       "    </tr>\n",
       "    <tr>\n",
       "      <th>weight_153</th>\n",
       "      <td>0.531684</td>\n",
       "    </tr>\n",
       "    <tr>\n",
       "      <th>real_weight_151</th>\n",
       "      <td>0.4781</td>\n",
       "    </tr>\n",
       "    <tr>\n",
       "      <th>real_weight_153</th>\n",
       "      <td>0.5219</td>\n",
       "    </tr>\n",
       "    <tr>\n",
       "      <th>δw_151</th>\n",
       "      <td>-2.04642</td>\n",
       "    </tr>\n",
       "    <tr>\n",
       "      <th>δw_153</th>\n",
       "      <td>1.87467</td>\n",
       "    </tr>\n",
       "  </tbody>\n",
       "</table>\n",
       "</div>"
      ],
      "text/plain": [
       "                Eu_nat fit all res vary\n",
       "input_file                   Eu_nat.inp\n",
       "par_file                     Eu_nat.par\n",
       "Emin                              0.001\n",
       "Emax                                 20\n",
       "thickness                        0.0021\n",
       "varied_params                         2\n",
       "reduced_chi2                     3.4061\n",
       "weight_151                     0.468316\n",
       "weight_153                     0.531684\n",
       "real_weight_151                  0.4781\n",
       "real_weight_153                  0.5219\n",
       "δw_151                         -2.04642\n",
       "δw_153                          1.87467"
      ]
     },
     "execution_count": 79,
     "metadata": {},
     "output_type": "execute_result"
    }
   ],
   "source": [
    "import pandas \n",
    "stats_df = pandas.DataFrame(stats,index=[\"Eu_nat fit all res vary\"])\n",
    "stats_df[\"real_weight_151\"] = 0.4781\n",
    "stats_df[\"real_weight_153\"] = 0.5219\n",
    "\n",
    "stats_df[\"δw_151\"] = (stats_df[\"weight_151\"] - stats_df[\"real_weight_151\"])/stats_df[\"real_weight_151\"]*100\n",
    "stats_df[\"δw_153\"] = (stats_df[\"weight_153\"] - stats_df[\"real_weight_153\"])/stats_df[\"real_weight_153\"]*100\n",
    "\n",
    "stats_df.T"
   ]
  },
  {
   "cell_type": "code",
   "execution_count": 76,
   "metadata": {},
   "outputs": [],
   "source": [
    "df = pandas.read_csv(\"archive/Eu_nat/results/Eu_nat.lst\",\n",
    "                     delim_whitespace=True,header=None,\n",
    "                    names=[\"energy\",\"xs_data\",\"xs_data_err\",\"xs_initial\",\"xs_final\",\n",
    "                           \"trans_data\",\"trans_data_err\",\"trans_initial\",\"trans_final\"])"
   ]
  },
  {
   "cell_type": "code",
   "execution_count": 78,
   "metadata": {},
   "outputs": [
    {
     "data": {
      "image/png": "[encoded data removed]",
      "text/plain": [
       "<Figure size 800x600 with 4 Axes>"
      ]
     },
     "metadata": {},
     "output_type": "display_data"
    }
   ],
   "source": [
    "import matplotlib.pyplot as plt\n",
    "import numpy as np\n",
    "\n",
    "fig, ax = plt.subplots(2,2, sharey=False,\n",
    "                        figsize=(8,6),\n",
    "                        gridspec_kw={\"width_ratios\":[5,1],\n",
    "                                     \"height_ratios\":[5,2]})\n",
    "ax = np.ravel(ax)   \n",
    "\n",
    "df.plot(x=\"energy\",y=\"trans_data\",\n",
    "        ax=ax[0],\n",
    "        colors=[\"0.8\"],zorder=-1)\n",
    "df.plot(x=\"energy\",y=[\"trans_initial\",\"trans_final\"],\n",
    "        ax=ax[0],\n",
    "        colors=[\"royalblue\",\"tomato\"],alpha=0.8)\n",
    "ax[0].set_xlabel(\"\")\n",
    "ax[0].set_xticks([])\n",
    "ax[0].legend([\"data\",\"initial fit - χ2=2.69\",\"final fit - χ2=1.3\"])\n",
    "ax[0].set_ylabel(\"\")\n",
    "ax[0].set_ylabel(\"transmission\")\n",
    "# ax[0].set_title(\"fit Eu-153 data from RPI using SAMMY8.1 with ENDF8\")\n",
    "\n",
    "ax[1].spines['right'].set_visible(False)\n",
    "ax[1].spines['top'].set_visible(False)\n",
    "ax[1].spines['bottom'].set_visible(False)\n",
    "ax[1].spines['left'].set_visible(False)\n",
    "ax[1].set_xticks([])\n",
    "ax[1].set_yticks([],[])\n",
    "\n",
    "\n",
    "df[\"residual_initial\"] = (df[\"trans_initial\"] - df[\"trans_data\"])/df[\"trans_data_err\"]\n",
    "df[\"residual_final\"] = (df[\"trans_final\"] - df[\"trans_data\"])/df[\"trans_data_err\"]\n",
    "df.plot(x=\"energy\",y=[\"residual_initial\",\"residual_final\"],marker=\".\",\n",
    "        lw=0,ms=3,ylim=(-10,10),ax=ax[2],\n",
    "        alpha=0.8,colors=[\"royalblue\",\"tomato\"],legend=False)\n",
    "ax[2].set_ylabel(\"residuals\\n(fit-data)/err [σ]\")\n",
    "# ax[2].legend([\"initial fit\",\"final fit\"],loc=2,frameon=True)\n",
    "ax[2].set_xlabel(\"energy [eV]\")\n",
    "# ax[2].set_xlim(0,100)\n",
    "\n",
    "df.plot.hist(y=[\"residual_initial\",\"residual_final\"],bins=np.arange(-8,8,0.2),\n",
    "            ax=ax[3],orientation=\"horizontal\",\n",
    "            legend=False,alpha=0.8,\n",
    "            histtype=\"stepfilled\",colors=[\"royalblue\",\"tomato\"])\n",
    "ax[3].set_xlabel(\"\")\n",
    "ax[3].set_xticks([],[])\n",
    "ax[3].set_yticks([],[])\n",
    "ax[3].spines['right'].set_visible(False)\n",
    "ax[3].spines['top'].set_visible(False)\n",
    "ax[3].spines['bottom'].set_visible(False)\n",
    "ax[3].spines['left'].set_visible(False)\n",
    "ax[2].set_ylim(-10,10)\n",
    "# df.plot.hist(y=[\"res_initial\",\"residual\"],bins=arange(-8,8,0.2),\n",
    "#             ax=ax[1],orientation=\"horizontal\",\n",
    "#             histtype=\"step\",legend=False,)\n",
    "plt.subplots_adjust(wspace=0.003,hspace=0.03)\n"
   ]
  },
  {
   "cell_type": "markdown",
   "metadata": {},
   "source": [
    "## Enriched sample data\n",
    "We also have an enriched sample data, in that RPI experiment. Let's try to let SAMMY find the right abundence composition of that sample"
   ]
  },
  {
   "cell_type": "code",
   "execution_count": 81,
   "metadata": {},
   "outputs": [],
   "source": [
    "sammyRunner.run(archivename=\"Eu_enriched\",inpfile=\"Eu_nat.inp\",parfile=\"Eu_nat.par\",datafile=\"Eu_153.dat\")"
   ]
  },
  {
   "cell_type": "code",
   "execution_count": 85,
   "metadata": {},
   "outputs": [
    {
     "data": {
      "text/plain": [
       "{'input_file': 'Eu_enriched.inp',\n",
       " 'par_file': 'Eu_enriched.par',\n",
       " 'Emin': 0.001,\n",
       " 'Emax': 20.0,\n",
       " 'thickness': 0.0021,\n",
       " 'varied_params': 2,\n",
       " 'reduced_chi2': 2.74594,\n",
       " 'weight_151': -0.1319109611057538,\n",
       " 'weight_153': 0.8680890388942463}"
      ]
     },
     "execution_count": 85,
     "metadata": {},
     "output_type": "execute_result"
    }
   ],
   "source": [
    "from pleiades import sammyOutput\n",
    "\n",
    "lpt = sammyOutput.LptFile(\"archive/Eu_enriched/results/Eu_enriched.lpt\")\n",
    "\n",
    "# register two new search patterns\n",
    "lpt.register_new_stats(keyname=\"weight_151\",start_text=\"  Isotopic abundance\",skipped_rows=2,line_format=\"float(line.split()[1].replace('(',''))\")\n",
    "lpt.register_new_stats(keyname=\"weight_153\",start_text=\"  Isotopic abundance\",skipped_rows=3,line_format=\"float(line.split()[1].replace('(',''))\")\n",
    "\n",
    "stats = lpt.stats()\n",
    "\n",
    "# renormalize weights\n",
    "total_weight = abs(stats[\"weight_151\"]) + abs(stats[\"weight_153\"])\n",
    "stats[\"weight_151\"] /= total_weight\n",
    "stats[\"weight_153\"] /= total_weight\n",
    "\n",
    "stats"
   ]
  },
  {
   "cell_type": "code",
   "execution_count": null,
   "metadata": {},
   "outputs": [],
   "source": []
  },
  {
   "cell_type": "markdown",
   "metadata": {},
   "source": []
  }
 ],
 "metadata": {
  "kernelspec": {
   "display_name": "Python 3 (ipykernel)",
   "language": "python",
   "name": "python3"
  },
  "language_info": {
   "codemirror_mode": {
    "name": "ipython",
    "version": 3
   },
   "file_extension": ".py",
   "mimetype": "text/x-python",
   "name": "python",
   "nbconvert_exporter": "python",
   "pygments_lexer": "ipython3",
   "version": "3.8.10"
  }
 },
 "nbformat": 4,
 "nbformat_minor": 2
}
