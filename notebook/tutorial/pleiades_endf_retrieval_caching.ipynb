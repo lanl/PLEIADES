{
 "cells": [
  {
   "cell_type": "markdown",
   "metadata": {},
   "source": [
    "# ENDF Data Retrieval and Caching in PLEIADES"
   ]
  },
  {
   "cell_type": "code",
   "execution_count": 1,
   "metadata": {},
   "outputs": [],
   "source": [
    "import os\n",
    "from pathlib import Path\n",
    "from pleiades.nuclear.manager import NuclearDataManager, DataSource, EndfLibrary\n",
    "from pleiades.utils.config import get_config\n",
    "import logging\n",
    "\n",
    "# Configure logging to see debug information\n",
    "logging.basicConfig(level=logging.INFO)"
   ]
  },
  {
   "cell_type": "code",
   "execution_count": 2,
   "metadata": {},
   "outputs": [
    {
     "name": "stdout",
     "output_type": "stream",
     "text": [
      "Cache directory: /Users/8cz/.pleiades/nuclear_data\n",
      "Available data sources: {'IAEA': 'https://www-nds.iaea.org/public/download-endf', 'NNDC': 'https://www.nndc.bnl.gov/endf/b8.0/data'}\n",
      "Output directory: /Users/8cz/github.com/PLEIADES/notebook/tutorial/endf_test\n"
     ]
    }
   ],
   "source": [
    "config = get_config()\n",
    "print(f\"Cache directory: {config.nuclear_data_cache_dir}\")\n",
    "print(f\"Available data sources: {config.nuclear_data_sources}\")\n",
    "\n",
    "# Create output directory for parameter files\n",
    "output_dir = Path(\"./endf_test\")\n",
    "output_dir.mkdir(exist_ok=True)\n",
    "print(f\"Output directory: {output_dir.absolute()}\")"
   ]
  },
  {
   "cell_type": "code",
   "execution_count": 3,
   "metadata": {},
   "outputs": [
    {
     "name": "stdout",
     "output_type": "stream",
     "text": [
      "Default ENDF library: EndfLibrary.ENDF_B_VIII_0\n",
      "Cache structure:\n",
      "  Source: DataSource.NNDC\n",
      "    Library: EndfLibrary.JENDL_5 (0 files)\n",
      "    Library: EndfLibrary.TENDL_2021 (0 files)\n",
      "    Library: EndfLibrary.JEFF_3_3 (0 files)\n",
      "    Library: EndfLibrary.ENDF_B_VIII_1 (0 files)\n",
      "    Library: EndfLibrary.ENDF_B_VIII_0 (0 files)\n",
      "    Library: EndfLibrary.CENDL_3_2 (0 files)\n",
      "  Source: DataSource.IAEA\n",
      "    Library: EndfLibrary.JENDL_5 (0 files)\n",
      "    Library: EndfLibrary.TENDL_2021 (0 files)\n",
      "    Library: EndfLibrary.JEFF_3_3 (0 files)\n",
      "    Library: EndfLibrary.ENDF_B_VIII_1 (0 files)\n",
      "    Library: EndfLibrary.ENDF_B_VIII_0 (0 files)\n",
      "    Library: EndfLibrary.CENDL_3_2 (0 files)\n"
     ]
    }
   ],
   "source": [
    "nuclear_manager = NuclearDataManager()\n",
    "print(f\"Default ENDF library: {nuclear_manager.default_library}\")\n",
    "\n",
    "# List cache directories\n",
    "cache_root = config.nuclear_data_cache_dir\n",
    "print(\"Cache structure:\")\n",
    "if cache_root.exists():\n",
    "    for source in os.listdir(cache_root):\n",
    "        source_dir = cache_root / source\n",
    "        if source_dir.is_dir():\n",
    "            print(f\"  Source: {source}\")\n",
    "            for library in os.listdir(source_dir):\n",
    "                library_dir = source_dir / library\n",
    "                if library_dir.is_dir():\n",
    "                    file_count = len(list(library_dir.glob(\"*.dat\")))\n",
    "                    print(f\"    Library: {library} ({file_count} files)\")"
   ]
  },
  {
   "cell_type": "code",
   "execution_count": 4,
   "metadata": {},
   "outputs": [
    {
     "name": "stdout",
     "output_type": "stream",
     "text": [
      "Testing with isotope: U-238\n",
      "Searching for mass.mas20 in cached files for FileCategory.ISOTOPES: {PosixPath('/Users/8cz/github.com/PLEIADES/src/pleiades/nuclear/isotopes/files/neutrons.list'), PosixPath('/Users/8cz/github.com/PLEIADES/src/pleiades/nuclear/isotopes/files/mass.mas20'), PosixPath('/Users/8cz/github.com/PLEIADES/src/pleiades/nuclear/isotopes/files/isotopes.info')}\n",
      "Checking file: neutrons.list\n",
      "Checking file: mass.mas20\n",
      "Found file: /Users/8cz/github.com/PLEIADES/src/pleiades/nuclear/isotopes/files/mass.mas20\n",
      "Searching for isotopes.info in cached files for FileCategory.ISOTOPES: {PosixPath('/Users/8cz/github.com/PLEIADES/src/pleiades/nuclear/isotopes/files/neutrons.list'), PosixPath('/Users/8cz/github.com/PLEIADES/src/pleiades/nuclear/isotopes/files/mass.mas20'), PosixPath('/Users/8cz/github.com/PLEIADES/src/pleiades/nuclear/isotopes/files/isotopes.info')}\n",
      "Checking file: neutrons.list\n",
      "Checking file: mass.mas20\n",
      "Checking file: isotopes.info\n",
      "Found file: /Users/8cz/github.com/PLEIADES/src/pleiades/nuclear/isotopes/files/isotopes.info\n",
      "Searching for neutrons.list in cached files for FileCategory.ISOTOPES: {PosixPath('/Users/8cz/github.com/PLEIADES/src/pleiades/nuclear/isotopes/files/neutrons.list'), PosixPath('/Users/8cz/github.com/PLEIADES/src/pleiades/nuclear/isotopes/files/mass.mas20'), PosixPath('/Users/8cz/github.com/PLEIADES/src/pleiades/nuclear/isotopes/files/isotopes.info')}\n",
      "Checking file: neutrons.list\n",
      "Found file: /Users/8cz/github.com/PLEIADES/src/pleiades/nuclear/isotopes/files/neutrons.list\n",
      "Isotope details: IsotopeInfo class for: U-238\n"
     ]
    }
   ],
   "source": [
    "isotope_str = \"U-238\"  # Test with U-238\n",
    "print(f\"Testing with isotope: {isotope_str}\")\n",
    "\n",
    "# Get isotope info\n",
    "isotope_info = nuclear_manager.isotope_manager.get_isotope_info(isotope_str)\n",
    "print(f\"Isotope details: {isotope_info}\")"
   ]
  },
  {
   "cell_type": "code",
   "execution_count": 5,
   "metadata": {},
   "outputs": [
    {
     "name": "stderr",
     "output_type": "stream",
     "text": [
      "INFO:pleiades.nuclear.manager:Downloading ENDF data from https://www-nds.iaea.org/public/download-endf/ENDF-B-VIII.0/n/n_9237_92-U-238.zip\n"
     ]
    },
    {
     "name": "stdout",
     "output_type": "stream",
     "text": [
      "\n",
      "First download (should fetch from remote):\n"
     ]
    },
    {
     "name": "stderr",
     "output_type": "stream",
     "text": [
      "INFO:pleiades.nuclear.manager:Resonance parameters written to endf_test/092-U-238.B-VIII.0.par\n"
     ]
    },
    {
     "name": "stdout",
     "output_type": "stream",
     "text": [
      "Output file: endf_test/092-U-238.B-VIII.0.par\n",
      "CPU times: user 106 ms, sys: 67.1 ms, total: 173 ms\n",
      "Wall time: 2.06 s\n"
     ]
    }
   ],
   "source": [
    "%%time\n",
    "# Download and extract resonance file (first time should download)\n",
    "print(\"\\nFirst download (should fetch from remote):\")\n",
    "output_path = nuclear_manager.download_endf_resonance_file(\n",
    "    isotope=isotope_info,\n",
    "    library=EndfLibrary.ENDF_B_VIII_0,\n",
    "    output_dir=str(output_dir),\n",
    "    source=DataSource.IAEA,\n",
    "    use_cache=True\n",
    ")\n",
    "print(f\"Output file: {output_path}\")"
   ]
  },
  {
   "cell_type": "code",
   "execution_count": 6,
   "metadata": {},
   "outputs": [
    {
     "name": "stdout",
     "output_type": "stream",
     "text": [
      "Cache file path: /Users/8cz/.pleiades/nuclear_data/DataSource.IAEA/EndfLibrary.ENDF_B_VIII_0/n_9237_92-U-238.dat\n",
      "Exists in cache: True\n",
      "Cache file size: 15741.04 KB\n",
      "\n",
      "First 5 lines of cached file:\n",
      "Retrieved by E4-util: 2018/02/07,18:09:12                            1 0  0    0\n",
      "9.223800+4 2.360058+2          1          1          0          19237 1451    1\n",
      "0.000000+0 0.000000+0          0          0          0          69237 1451    2\n",
      "1.000000+0 3.000000+7          0          0         10          89237 1451    3\n",
      "0.000000+0 0.000000+0          0          0        566        2469237 1451    4\n"
     ]
    }
   ],
   "source": [
    "cache_file_path = nuclear_manager._get_cache_file_path(\n",
    "      source=DataSource.IAEA,\n",
    "      library=EndfLibrary.ENDF_B_VIII_0,\n",
    "      isotope=isotope_info,\n",
    "      mat=isotope_info.material_number\n",
    "  )\n",
    "print(f\"Cache file path: {cache_file_path}\")\n",
    "print(f\"Exists in cache: {cache_file_path.exists()}\")\n",
    "\n",
    "if cache_file_path.exists():\n",
    "    # Get file size\n",
    "    file_size = cache_file_path.stat().st_size\n",
    "    print(f\"Cache file size: {file_size / 1024:.2f} KB\")\n",
    "\n",
    "    # Preview first few lines\n",
    "    print(\"\\nFirst 5 lines of cached file:\")\n",
    "    with open(cache_file_path, 'r') as f:\n",
    "        for i, line in enumerate(f):\n",
    "            if i >= 5:\n",
    "                break\n",
    "            print(line.strip())"
   ]
  },
  {
   "cell_type": "code",
   "execution_count": 7,
   "metadata": {},
   "outputs": [
    {
     "name": "stderr",
     "output_type": "stream",
     "text": [
      "INFO:pleiades.nuclear.manager:Using cached ENDF data from /Users/8cz/.pleiades/nuclear_data/DataSource.IAEA/EndfLibrary.ENDF_B_VIII_0/n_9237_92-U-238.dat\n",
      "INFO:pleiades.nuclear.manager:Resonance parameters written to endf_test/092-U-238.B-VIII.0.par\n"
     ]
    },
    {
     "name": "stdout",
     "output_type": "stream",
     "text": [
      "\n",
      "Second download (should use cache):\n",
      "Output file: endf_test/092-U-238.B-VIII.0.par\n",
      "CPU times: user 25.3 ms, sys: 8.78 ms, total: 34.1 ms\n",
      "Wall time: 35.5 ms\n"
     ]
    }
   ],
   "source": [
    "%%time\n",
    "\n",
    "print(\"\\nSecond download (should use cache):\")\n",
    "output_path2 = nuclear_manager.download_endf_resonance_file(\n",
    "    isotope=isotope_info,\n",
    "    library=EndfLibrary.ENDF_B_VIII_0,\n",
    "    output_dir=str(output_dir),\n",
    "    source=DataSource.IAEA,\n",
    "    use_cache=True\n",
    ")\n",
    "print(f\"Output file: {output_path2}\")"
   ]
  },
  {
   "cell_type": "code",
   "execution_count": 8,
   "metadata": {},
   "outputs": [
    {
     "name": "stderr",
     "output_type": "stream",
     "text": [
      "INFO:pleiades.nuclear.manager:Downloading ENDF data from https://www-nds.iaea.org/public/download-endf/ENDF-B-VIII.1/n/n_092-U-238_9237.zip\n"
     ]
    },
    {
     "name": "stdout",
     "output_type": "stream",
     "text": [
      "\n",
      "Testing with ENDF-B-VIII.1 (different filename format):\n"
     ]
    },
    {
     "name": "stderr",
     "output_type": "stream",
     "text": [
      "INFO:pleiades.nuclear.manager:Resonance parameters written to endf_test/092-U-238.B-VIII.1.par\n"
     ]
    },
    {
     "name": "stdout",
     "output_type": "stream",
     "text": [
      "Output file: endf_test/092-U-238.B-VIII.1.par\n",
      "VIII.1 cache file path: /Users/8cz/.pleiades/nuclear_data/DataSource.IAEA/EndfLibrary.ENDF_B_VIII_1/n_092-U-238_9237.dat\n",
      "VIII.1 exists in cache: True\n",
      "CPU times: user 93.1 ms, sys: 55.4 ms, total: 148 ms\n",
      "Wall time: 1.51 s\n"
     ]
    }
   ],
   "source": [
    "%%time\n",
    "print(\"\\nTesting with ENDF-B-VIII.1 (different filename format):\")\n",
    "\n",
    "output_path3 = nuclear_manager.download_endf_resonance_file(\n",
    "    isotope=isotope_info,\n",
    "    library=EndfLibrary.ENDF_B_VIII_1,\n",
    "    output_dir=str(output_dir),\n",
    "    source=DataSource.IAEA,\n",
    "    use_cache=True\n",
    ")\n",
    "print(f\"Output file: {output_path3}\")\n",
    "\n",
    "# Check the cache file path for VIII.1\n",
    "cache_file_path2 = nuclear_manager._get_cache_file_path(\n",
    "    source=DataSource.IAEA,\n",
    "    library=EndfLibrary.ENDF_B_VIII_1,\n",
    "    isotope=isotope_info,\n",
    "    mat=isotope_info.material_number\n",
    ")\n",
    "print(f\"VIII.1 cache file path: {cache_file_path2}\")\n",
    "print(f\"VIII.1 exists in cache: {cache_file_path2.exists()}\")"
   ]
  },
  {
   "cell_type": "code",
   "execution_count": 9,
   "metadata": {},
   "outputs": [
    {
     "name": "stderr",
     "output_type": "stream",
     "text": [
      "INFO:pleiades.nuclear.manager:Downloading ENDF data from https://www-nds.iaea.org/public/download-endf/ENDF-B-VIII.0/n/n_9228_92-U-235.zip\n"
     ]
    },
    {
     "name": "stdout",
     "output_type": "stream",
     "text": [
      "\n",
      "Testing with another isotope: U-235\n",
      "Isotope details: IsotopeInfo class for: U-235\n"
     ]
    },
    {
     "name": "stderr",
     "output_type": "stream",
     "text": [
      "INFO:pleiades.nuclear.manager:Resonance parameters written to endf_test/092-U-235.B-VIII.0.par\n"
     ]
    },
    {
     "name": "stdout",
     "output_type": "stream",
     "text": [
      "Output file: endf_test/092-U-235.B-VIII.0.par\n",
      "CPU times: user 227 ms, sys: 189 ms, total: 416 ms\n",
      "Wall time: 2.71 s\n"
     ]
    }
   ],
   "source": [
    "%%time\n",
    "\n",
    "isotope_str2 = \"U-235\"\n",
    "print(f\"\\nTesting with another isotope: {isotope_str2}\")\n",
    "\n",
    "isotope_info2 = nuclear_manager.isotope_manager.get_isotope_info(isotope_str2)\n",
    "print(f\"Isotope details: {isotope_info2}\")\n",
    "\n",
    "# Download and extract resonance file\n",
    "output_path4 = nuclear_manager.download_endf_resonance_file(\n",
    "    isotope=isotope_info2,\n",
    "    library=EndfLibrary.ENDF_B_VIII_0,\n",
    "    output_dir=str(output_dir),\n",
    "    source=DataSource.IAEA,\n",
    "    use_cache=True\n",
    ")\n",
    "print(f\"Output file: {output_path4}\")"
   ]
  },
  {
   "cell_type": "code",
   "execution_count": 10,
   "metadata": {},
   "outputs": [
    {
     "name": "stdout",
     "output_type": "stream",
     "text": [
      "Cache content summary with filename patterns:\n",
      "\n",
      "Source: DataSource.NNDC\n",
      "\n",
      "Source: DataSource.IAEA\n",
      "  Library: EndfLibrary.ENDF_B_VIII_1\n",
      "    - n_092-U-238_9237.dat (14016.15 KB)\n",
      "      Pattern: ELEMENT_FIRST (zero-padded Z)\n",
      "  Library: EndfLibrary.ENDF_B_VIII_0\n",
      "    - n_9228_92-U-235.dat (38863.12 KB)\n",
      "      Pattern: MAT_FIRST (non-zero-padded Z)\n",
      "    - n_9237_92-U-238.dat (15741.04 KB)\n",
      "      Pattern: MAT_FIRST (non-zero-padded Z)\n"
     ]
    }
   ],
   "source": [
    "print(\"Cache content summary with filename patterns:\")\n",
    "cache_root = config.nuclear_data_cache_dir\n",
    "if cache_root.exists():\n",
    "    for source_dir in cache_root.iterdir():\n",
    "        if source_dir.is_dir():\n",
    "            print(f\"\\nSource: {source_dir.name}\")\n",
    "            for library_dir in source_dir.iterdir():\n",
    "                if library_dir.is_dir():\n",
    "                    files = list(library_dir.glob(\"*.dat\"))\n",
    "                    if files:\n",
    "                        print(f\"  Library: {library_dir.name}\")\n",
    "                        for file in files:\n",
    "                            file_size = file.stat().st_size\n",
    "                            print(f\"    - {file.name} ({file_size / 1024:.2f} KB)\")\n",
    "                            # Highlight the pattern type\n",
    "                            if \"_\" in file.name and file.name.split(\"_\")[1].isdigit():\n",
    "                                print(f\"      Pattern: MAT_FIRST (non-zero-padded Z)\")\n",
    "                            else:\n",
    "                                print(f\"      Pattern: ELEMENT_FIRST (zero-padded Z)\")"
   ]
  },
  {
   "cell_type": "code",
   "execution_count": null,
   "metadata": {},
   "outputs": [],
   "source": []
  }
 ],
 "metadata": {
  "kernelspec": {
   "display_name": "default",
   "language": "python",
   "name": "python3"
  },
  "language_info": {
   "codemirror_mode": {
    "name": "ipython",
    "version": 3
   },
   "file_extension": ".py",
   "mimetype": "text/x-python",
   "name": "python",
   "nbconvert_exporter": "python",
   "pygments_lexer": "ipython3",
   "version": "3.11.12"
  }
 },
 "nbformat": 4,
 "nbformat_minor": 2
}
