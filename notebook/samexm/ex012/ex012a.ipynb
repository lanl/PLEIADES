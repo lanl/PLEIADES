{
 "cells": [
  {
   "cell_type": "markdown",
   "metadata": {},
   "source": [
    "Example # 12 from sammy code:  \n",
    "In a real experiment, the sample usually contains more than one nuclide. There may be several isotopes of the same element, the sample may be an oxide or other chemical compound, or there may be contaminants. The treatment for all of these is the same: Include spin groups and resonance parameters for any and all nuclides. Assign the appropriate abundances for each nuclide; search for the correct values of the abundances if needed."
   ]
  },
  {
   "cell_type": "code",
   "execution_count": null,
   "metadata": {},
   "outputs": [],
   "source": [
    "import pathlib  # Importing pathlib to work with file system paths\n",
    "import tempfile # Importing tempfile to create temporary files and directories\n",
    "\n",
    "# Importing specific classes from the pleiades.sammy module\n",
    "from pleiades.sammy.parfile import SammyParameterFile\n",
    "\n",
    "# reading in SAMMY parameters from a parameter file \"./ex012a.par\"\n",
    "sammy_params = SammyParameterFile.from_file(\"./ex012a.par\")\n",
    "sammy_params.print_parameters()"
   ]
  },
  {
   "cell_type": "code",
   "execution_count": null,
   "metadata": {},
   "outputs": [],
   "source": []
  }
 ],
 "metadata": {
  "kernelspec": {
   "display_name": "pleiades",
   "language": "python",
   "name": "python3"
  },
  "language_info": {
   "codemirror_mode": {
    "name": "ipython",
    "version": 3
   },
   "file_extension": ".py",
   "mimetype": "text/x-python",
   "name": "python",
   "nbconvert_exporter": "python",
   "pygments_lexer": "ipython3",
   "version": "3.12.9"
  }
 },
 "nbformat": 4,
 "nbformat_minor": 2
}
